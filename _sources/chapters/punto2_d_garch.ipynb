{
 "cells": [
  {
   "cell_type": "markdown",
   "metadata": {},
   "source": [
    "# IMPLEMENTACION GARCH PARA VOLATILIDAD"
   ]
  },
  {
   "cell_type": "markdown",
   "metadata": {},
   "source": [
    "## LIBRERIAS Y FUNCIONES"
   ]
  },
  {
   "cell_type": "code",
   "execution_count": 114,
   "metadata": {},
   "outputs": [],
   "source": [
    "import warnings\n",
    "import itertools\n",
    "import numpy as np\n",
    "import pandas as pd\n",
    "\n",
    "# Evaluación de modelos\n",
    "from sklearn.metrics import mean_absolute_error, mean_absolute_percentage_error, mean_squared_error, r2_score\n",
    "\n",
    "# Modelos de series de tiempo y estadística\n",
    "from statsmodels.tsa.holtwinters import SimpleExpSmoothing, ExponentialSmoothing, Holt\n",
    "from statsmodels.tsa.arima.model import ARIMA\n",
    "from statsmodels.tsa import stattools\n",
    "from statsmodels.stats.stattools import jarque_bera\n",
    "from statsmodels.stats.diagnostic import acorr_ljungbox\n",
    "from statsmodels.graphics.tsaplots import plot_predict, plot_acf\n",
    "from pandas.plotting import autocorrelation_plot\n",
    "import statsmodels.api as sm\n",
    "\n",
    "# Modelos ARCH/GARCH\n",
    "from arch import arch_model\n",
    "\n",
    "# Visualización\n",
    "from matplotlib import pyplot as plt\n",
    "import plotly.express as px\n",
    "import seaborn as sns\n",
    "from IPython.display import display, HTML\n",
    "\n",
    "# Barra de progreso\n",
    "from tqdm import tqdm\n",
    "\n",
    "# Ignorar advertencias de convergencia y otros warnings\n",
    "warnings.filterwarnings(\"ignore\")\n",
    "\n",
    "\n",
    "def forecast_accuracy(forecast, actual, str_name, str_model, lj_lags = [10], window_str = ''):\n",
    "    mape = np.mean(np.abs(forecast - actual) / np.abs(actual))    # MAPE\n",
    "    mae = np.mean(np.abs(forecast - actual))                      # MAE\n",
    "    mse = np.mean((forecast - actual) ** 2)                       # MSE\n",
    "    rmse = np.sqrt(mse)                                           # RMSE\n",
    "\n",
    "    # Cálculo del R²\n",
    "    ss_res = np.sum((actual - forecast) ** 2)\n",
    "    ss_tot = np.sum((actual - np.mean(actual)) ** 2)\n",
    "    r2 = 1 - (ss_res / ss_tot)\n",
    "\n",
    "    # Cálculo de los residuales\n",
    "    residuals = actual - forecast\n",
    "\n",
    "    # Prueba de Ljung-Box\n",
    "    lb_test = acorr_ljungbox(residuals, lags=lj_lags, return_df=True)\n",
    "    lb_pvalue = lb_test['lb_pvalue'].iloc[-1]  # p-valor en el lag máximo especificado (10 en este caso)\n",
    "\n",
    "    # Prueba de Jarque-Bera\n",
    "    jb_stat, jb_pvalue, skew, kurtosis = jarque_bera(residuals)\n",
    "\n",
    "    df_acc = pd.DataFrame({\n",
    "        'model': str_model,\n",
    "        'window': window_str,\n",
    "        'MAE': [mae],\n",
    "        'MSE': [mse],\n",
    "        'MAPE': [mape],\n",
    "        'RMSE': [rmse],\n",
    "        'R2': [r2],\n",
    "        'Ljung-Box p-value': [lb_pvalue],\n",
    "        'Jarque-Bera p-value': [jb_pvalue]\n",
    "    }, index=[str_name])\n",
    "\n",
    "    return df_acc\n",
    "\n",
    "\n",
    "def train_val_test(df, window):\n",
    "  size = len(df)\n",
    "  train_len = size - 56 # El profesor indicó que este siempre era el tamano del training (28+28)\n",
    "  val_set_end = train_len + window\n",
    "  test_set_end = val_set_end + window\n",
    "  \n",
    "\n",
    "  train_set = df[:train_len]\n",
    "  val_set = df[train_len: val_set_end]\n",
    "  test_set = df[val_set_end: test_set_end]\n",
    "\n",
    "  return train_set, val_set, test_set\n",
    "\n",
    "#Implemementacion de retorno\n",
    "# retorno acumulado\n",
    "def retorno_acumulado(df, columna):\n",
    "    retorno_diario = (df[columna].diff() / df[columna].shift(1))\n",
    "    return retorno_diario.cumsum()\n",
    "\n",
    "def volatilidad(retorno_acum, ventana):\n",
    "    std_w = retorno_acum.rolling(window=ventana).std()\n",
    "    return std_w\n",
    "\n",
    "def plot_model(train, val, test, y_pred, title):\n",
    "\n",
    "    # Prepare the data\n",
    "    train_df = pd.DataFrame({\n",
    "        'Time': train[-300:].index,\n",
    "        'Value': train[-300:].values,\n",
    "        'Category': 'Train'\n",
    "    })\n",
    "    val_df = pd.DataFrame({\n",
    "        'Time': val.index,\n",
    "        'Value': val.values,\n",
    "        'Category': 'Validation'\n",
    "    })\n",
    "    test_df = pd.DataFrame({\n",
    "        'Time': test.index,\n",
    "        'Value': test.values,\n",
    "        'Category': 'Test'\n",
    "    })\n",
    "    y_pred_df = pd.DataFrame({\n",
    "        'Time': y_pred.index,\n",
    "        'Value': y_pred.values,\n",
    "        'Category': 'Prediction'\n",
    "    })\n",
    "\n",
    "    # Combine the data\n",
    "    df = pd.concat([train_df, val_df, test_df, y_pred_df], axis=0)\n",
    "\n",
    "    # Add line dash style\n",
    "    df['Dash'] = df['Category'].map({\n",
    "        'Train': 'solid',\n",
    "        'Validation': 'solid',\n",
    "        'Test': 'solid',\n",
    "        'Prediction': 'dash'\n",
    "    })\n",
    "\n",
    "    # Compute MAE\n",
    "    mae = mean_absolute_error(test, y_pred)\n",
    "\n",
    "    # Plot using Plotly Express\n",
    "    fig = px.line(\n",
    "        df,\n",
    "        x='Time',\n",
    "        y='Value',\n",
    "        color='Category',\n",
    "        line_dash='Dash',\n",
    "        title=f\"{title}, MAE: {round(mae, 2)}\",\n",
    "        color_discrete_map={\n",
    "            'Train': 'blue',\n",
    "            'Validation': 'orange',\n",
    "            'Test': 'green',\n",
    "            'Prediction': 'red'\n",
    "        }\n",
    "    )\n",
    "\n",
    "    fig.update_layout(\n",
    "        xaxis_title='Time',\n",
    "        yaxis_title='Value',\n",
    "        legend_title='',\n",
    "        template='plotly_white'\n",
    "    )\n",
    "\n",
    "    fig.show()\n",
    "\n"
   ]
  },
  {
   "cell_type": "markdown",
   "metadata": {},
   "source": [
    "## DATOS"
   ]
  },
  {
   "cell_type": "code",
   "execution_count": null,
   "metadata": {},
   "outputs": [],
   "source": [
    "# Data Original\n",
    "data_init = pd.read_csv('https://raw.githubusercontent.com/lihkir/Data/refs/heads/main/Bitcoin%20Historical%20Data.csv', sep=',')\n",
    "# Se crea una copia de la data para manipulación\n",
    "df = data_init.copy(deep= True)\n",
    "\n",
    "# Solo nos quedamos con las columnas Date y Price\n",
    "df = df[['Date', 'Price']]\n",
    "\n",
    "# Se elimina las comas de Price para poder convertirlo a números\n",
    "df['Price'] = df['Price'].str.replace(',','')\n",
    "\n",
    "#Convertimos las columnas price en números y date en fecha\n",
    "df['Price'] = pd.to_numeric(df['Price'])\n",
    "df['Date'] = pd.to_datetime(df['Date'])\n",
    "\n",
    "#Creo la nueva columna\n",
    "df[\"DailyReturn\"] = retorno_acumulado(df, \"Price\")\n",
    "df[\"Volatility\"] =  volatilidad(df[\"DailyReturn\"], 7)\n",
    "\n",
    "# Se hace que el indice sea la columna Date\n",
    "df.index = df['Date']\n",
    "df.drop('Date', axis=1, inplace=True)\n",
    "\n",
    "df = df.sort_index(ascending= True)\n",
    "df_copy = df.copy(deep= True)\n",
    "df.reset_index(drop=True, inplace=True)\n",
    "\n",
    "timeserie = df[\"Volatility\"]\n",
    "timeserie = timeserie.dropna()"
   ]
  },
  {
   "cell_type": "markdown",
   "metadata": {},
   "source": [
    "### GARCH SIN ROLLING"
   ]
  },
  {
   "cell_type": "markdown",
   "metadata": {},
   "source": [
    "#### IMPLEMENTACIÓN"
   ]
  },
  {
   "cell_type": "code",
   "execution_count": 110,
   "metadata": {},
   "outputs": [],
   "source": [
    "windows = [7,14,21,28]\n",
    "\n",
    "# Función para ajustar un modelo GARCH y generar pronósticos de la varianza\n",
    "def garch_forecast_variance(train, test, p, o, q, mean_model='HAR', lags=7, dist='Normal', rescale=False):\n",
    "    \"\"\"\n",
    "    Ajusta un modelo GARCH con los parámetros especificados y genera pronósticos de la varianza para el conjunto de prueba.\n",
    "    \n",
    "    Parámetros:\n",
    "    - train (pd.Series): Serie temporal de entrenamiento.\n",
    "    - test (pd.Series): Serie temporal de prueba (debe contener las varianzas reales).\n",
    "    - p (int): Orden ARCH.\n",
    "    - o (int): Orden de términos asimétricos (Leverage term).\n",
    "    - q (int): Orden GARCH.\n",
    "    - mean_model (str): Modelo para la media ('Constant', 'AR', 'HAR', etc.).\n",
    "    - lags (int): Número de lags para el modelo HAR.\n",
    "    - dist (str): Distribución de los residuos ('Normal', 't', etc.).\n",
    "    - rescale (bool): Si se debe reescalar los datos.\n",
    "    \n",
    "    Retorna:\n",
    "    - predicted_variance (np.ndarray): Pronósticos de la varianza condicional.\n",
    "    - mae (float): Error Absoluto Medio entre las varianzas pronosticadas y las reales.\n",
    "    \"\"\"\n",
    "    try:\n",
    "        # Configurar el modelo GARCH\n",
    "        am = arch_model(\n",
    "            train,\n",
    "            mean=mean_model,\n",
    "            vol='Garch',\n",
    "            p=p,\n",
    "            o=o,\n",
    "            q=q,\n",
    "            dist=dist,\n",
    "            lags=lags,\n",
    "            rescale=rescale\n",
    "        )\n",
    "        \n",
    "        # Ajustar el modelo\n",
    "        res = am.fit(disp=\"off\")\n",
    "        \n",
    "        # Generar pronósticos para el horizonte igual al tamaño del conjunto de prueba\n",
    "        forecasts = res.forecast(horizon=len(test))\n",
    "        \n",
    "        # Extraer las predicciones de la varianza condicional\n",
    "        # forecasts.variance tiene un MultiIndex: (variable, horizon)\n",
    "        # Para obtener las varianzas a un paso adelante, usamos 'h.1'\n",
    "        # Sin embargo, para múltiples pasos, necesitamos extraer adecuadamente\n",
    "        # Aquí, extraemos la varianza para cada paso desde h.1 hasta h.n\n",
    "        predicted_variance = forecasts.variance.values[-1, :]\n",
    "        \n",
    "        # Asegurarse de que el número de predicciones coincida con el conjunto de prueba\n",
    "        if len(predicted_variance) != len(test):\n",
    "            predicted_variance = forecasts.variance.iloc[-1].values[:len(test)]\n",
    "        \n",
    "        # Calcular el MAE\n",
    "        mae = mean_absolute_error(test, predicted_variance)\n",
    "        \n",
    "        return predicted_variance, mae\n",
    "    except Exception as e:\n",
    "        print(f\"Error con p={p}, o={o}, q={q}: {e}\")\n",
    "        return None, np.inf\n",
    "\n",
    "# Función para optimizar los hiperparámetros GARCH\n",
    "def garch_optimizer_variance(train, test, p_range, o_range, q_range, mean_model='HAR', lags=7, dist='Normal', rescale=False):\n",
    "    \"\"\"\n",
    "    Optimiza los parámetros p, o, q del modelo GARCH buscando minimizar el MAE de las varianzas.\n",
    "    \n",
    "    Parámetros:\n",
    "    - train (pd.Series): Serie temporal de entrenamiento.\n",
    "    - test (pd.Series): Serie temporal de prueba (debe contener las varianzas reales).\n",
    "    - p_range (iterable): Rango de valores para el parámetro p.\n",
    "    - o_range (iterable): Rango de valores para el parámetro o.\n",
    "    - q_range (iterable): Rango de valores para el parámetro q.\n",
    "    - mean_model (str): Modelo para la media ('Constant', 'AR', 'HAR', etc.).\n",
    "    - lags (int): Número de lags para el modelo HAR.\n",
    "    - dist (str): Distribución de los residuos ('Normal', 't', etc.).\n",
    "    - rescale (bool): Si se debe reescalar los datos.\n",
    "    \n",
    "    Retorna:\n",
    "    - best_order (tuple): Mejor combinación de (p, o, q).\n",
    "    - best_mae (float): Mejor MAE obtenido.\n",
    "    - best_predicted_variance (np.ndarray): Pronósticos de la varianza condicional del mejor modelo.\n",
    "    \"\"\"\n",
    "    best_mae = np.inf\n",
    "    best_order = None\n",
    "    best_predicted_variance = None\n",
    "    \n",
    "    # Iterar sobre todas las combinaciones posibles de (p, o, q)\n",
    "    for p, o, q in itertools.product(p_range, o_range, q_range):\n",
    "        # Evitar combinaciones no válidas donde p + o + q == 0\n",
    "        if p == 0 and o == 0 and q == 0:\n",
    "            continue\n",
    "        predicted_variance, mae = garch_forecast_variance(\n",
    "            train, test, p, o, q,\n",
    "            mean_model=mean_model,\n",
    "            lags=lags,\n",
    "            dist=dist,\n",
    "            rescale=rescale\n",
    "        )\n",
    "        \n",
    "        # Actualizar el mejor modelo si se encuentra un MAE menor\n",
    "        if mae < best_mae:\n",
    "            best_mae = mae\n",
    "            best_order = (p, o, q)\n",
    "            best_predicted_variance = predicted_variance\n",
    "            \n",
    "    return best_order, best_mae, best_predicted_variance\n",
    "\n",
    "# Función para realizar el tuning del modelo GARCH\n",
    "def garch_model_tuning_variance(train, test, p_max=4, o_max=4, q_max=4, mean_model='HAR', lags=7, dist='Normal', rescale=False):\n",
    "    \"\"\"\n",
    "    Realiza el tuning de hiperparámetros para el modelo GARCH buscando minimizar el MAE de las varianzas.\n",
    "    \n",
    "    Parámetros:\n",
    "    - train (pd.Series): Serie temporal de entrenamiento.\n",
    "    - test (pd.Series): Serie temporal de prueba (debe contener las varianzas reales).\n",
    "    - p_max (int): Valor máximo para el parámetro p.\n",
    "    - o_max (int): Valor máximo para el parámetro o.\n",
    "    - q_max (int): Valor máximo para el parámetro q.\n",
    "    - mean_model (str): Modelo para la media ('Constant', 'AR', 'HAR', etc.).\n",
    "    - lags (int): Número de lags para el modelo HAR.\n",
    "    - dist (str): Distribución de los residuos ('Normal', 't', etc.).\n",
    "    - rescale (bool): Si se debe reescalar los datos.\n",
    "    \n",
    "    Retorna:\n",
    "    - best_order (tuple): Mejor combinación de (p, o, q).\n",
    "    - best_mae (float): Mejor MAE obtenido.\n",
    "    - best_predicted_variance (np.ndarray): Pronósticos de la varianza condicional del mejor modelo.\n",
    "    \"\"\"\n",
    "    p_range = range(0, p_max + 1)\n",
    "    o_range = range(0, o_max + 1)\n",
    "    q_range = range(0, q_max + 1)\n",
    "    \n",
    "    best_order, best_mae, best_predicted_variance = garch_optimizer_variance(\n",
    "        train, test, p_range, o_range, q_range,\n",
    "        mean_model=mean_model,\n",
    "        lags=lags,\n",
    "        dist=dist,\n",
    "        rescale=rescale\n",
    "    )\n",
    "    \n",
    "    return best_order, best_mae, best_predicted_variance"
   ]
  },
  {
   "cell_type": "code",
   "execution_count": null,
   "metadata": {},
   "outputs": [],
   "source": [
    "\n",
    "best_params = []\n",
    "\n",
    "for window in windows:\n",
    "    train, val, test = train_val_test(timeserie, window)\n",
    "    best_order, best_mae, best_predicted_mean = garch_model_tuning_variance(\n",
    "        train, test,\n",
    "        p_max=5, \n",
    "        o_max=5,\n",
    "        q_max=5,\n",
    "        mean_model='HAR',\n",
    "        lags=7,\n",
    "        dist='Normal',\n",
    "        rescale=False\n",
    "    )\n",
    "    best_params.append({'window': window, 'order' : best_order})\n",
    "best_params"
   ]
  },
  {
   "cell_type": "code",
   "execution_count": 103,
   "metadata": {},
   "outputs": [
    {
     "data": {
      "text/plain": [
       "[{'window': 7, 'order': (0, 2, 3)},\n",
       " {'window': 14, 'order': (3, 1, 3)},\n",
       " {'window': 21, 'order': (0, 1, 5)},\n",
       " {'window': 28, 'order': (1, 3, 0)}]"
      ]
     },
     "execution_count": 103,
     "metadata": {},
     "output_type": "execute_result"
    }
   ],
   "source": [
    "best_params"
   ]
  },
  {
   "cell_type": "markdown",
   "metadata": {},
   "source": [
    "#### TESTING"
   ]
  },
  {
   "cell_type": "code",
   "execution_count": 116,
   "metadata": {},
   "outputs": [
    {
     "data": {
      "text/html": [
       "<p style=\"color: red; font-size: 20px;\">Resultados de Testing para ventana de: 7</p>"
      ],
      "text/plain": [
       "<IPython.core.display.HTML object>"
      ]
     },
     "metadata": {},
     "output_type": "display_data"
    },
    {
     "data": {
      "text/html": [
       "<p style=\"color: red; font-size: 15px;\">Metricas</p>"
      ],
      "text/plain": [
       "<IPython.core.display.HTML object>"
      ]
     },
     "metadata": {},
     "output_type": "display_data"
    },
    {
     "name": "stdout",
     "output_type": "stream",
     "text": [
      "               model  window       MAE       MSE      MAPE      RMSE  \\\n",
      "train  ARIMA_ROLLING       7  0.007971  0.000126  0.372941  0.011235   \n",
      "\n",
      "             R2  Ljung-Box p-value  Jarque-Bera p-value  \n",
      "train  0.452529           0.069855             0.630616  \n"
     ]
    },
    {
     "data": {
      "application/vnd.plotly.v1+json": {
       "config": {
        "plotlyServerURL": "https://plot.ly"
       },
       "data": [
        {
         "hovertemplate": "Category=Train<br>Dash=solid<br>Time=%{x}<br>Value=%{y}<extra></extra>",
         "legendgroup": "Train, solid",
         "line": {
          "color": "blue",
          "dash": "solid"
         },
         "marker": {
          "symbol": "circle"
         },
         "mode": "lines",
         "name": "Train, solid",
         "orientation": "v",
         "showlegend": true,
         "type": "scatter",
         "x": [
          4636,
          4637,
          4638,
          4639,
          4640,
          4641,
          4642,
          4643,
          4644,
          4645,
          4646,
          4647,
          4648,
          4649,
          4650,
          4651,
          4652,
          4653,
          4654,
          4655,
          4656,
          4657,
          4658,
          4659,
          4660,
          4661,
          4662,
          4663,
          4664,
          4665,
          4666,
          4667,
          4668,
          4669,
          4670,
          4671,
          4672,
          4673,
          4674,
          4675,
          4676,
          4677,
          4678,
          4679,
          4680,
          4681,
          4682,
          4683,
          4684,
          4685,
          4686,
          4687,
          4688,
          4689,
          4690,
          4691,
          4692,
          4693,
          4694,
          4695,
          4696,
          4697,
          4698,
          4699,
          4700,
          4701,
          4702,
          4703,
          4704,
          4705,
          4706,
          4707,
          4708,
          4709,
          4710,
          4711,
          4712,
          4713,
          4714,
          4715,
          4716,
          4717,
          4718,
          4719,
          4720,
          4721,
          4722,
          4723,
          4724,
          4725,
          4726,
          4727,
          4728,
          4729,
          4730,
          4731,
          4732,
          4733,
          4734,
          4735,
          4736,
          4737,
          4738,
          4739,
          4740,
          4741,
          4742,
          4743,
          4744,
          4745,
          4746,
          4747,
          4748,
          4749,
          4750,
          4751,
          4752,
          4753,
          4754,
          4755,
          4756,
          4757,
          4758,
          4759,
          4760,
          4761,
          4762,
          4763,
          4764,
          4765,
          4766,
          4767,
          4768,
          4769,
          4770,
          4771,
          4772,
          4773,
          4774,
          4775,
          4776,
          4777,
          4778,
          4779,
          4780,
          4781,
          4782,
          4783,
          4784,
          4785,
          4786,
          4787,
          4788,
          4789,
          4790,
          4791,
          4792,
          4793,
          4794,
          4795,
          4796,
          4797,
          4798,
          4799,
          4800,
          4801,
          4802,
          4803,
          4804,
          4805,
          4806,
          4807,
          4808,
          4809,
          4810,
          4811,
          4812,
          4813,
          4814,
          4815,
          4816,
          4817,
          4818,
          4819,
          4820,
          4821,
          4822,
          4823,
          4824,
          4825,
          4826,
          4827,
          4828,
          4829,
          4830,
          4831,
          4832,
          4833,
          4834,
          4835,
          4836,
          4837,
          4838,
          4839,
          4840,
          4841,
          4842,
          4843,
          4844,
          4845,
          4846,
          4847,
          4848,
          4849,
          4850,
          4851,
          4852,
          4853,
          4854,
          4855,
          4856,
          4857,
          4858,
          4859,
          4860,
          4861,
          4862,
          4863,
          4864,
          4865,
          4866,
          4867,
          4868,
          4869,
          4870,
          4871,
          4872,
          4873,
          4874,
          4875,
          4876,
          4877,
          4878,
          4879,
          4880,
          4881,
          4882,
          4883,
          4884,
          4885,
          4886,
          4887,
          4888,
          4889,
          4890,
          4891,
          4892,
          4893,
          4894,
          4895,
          4896,
          4897,
          4898,
          4899,
          4900,
          4901,
          4902,
          4903,
          4904,
          4905,
          4906,
          4907,
          4908,
          4909,
          4910,
          4911,
          4912,
          4913,
          4914,
          4915,
          4916,
          4917,
          4918,
          4919,
          4920,
          4921,
          4922,
          4923,
          4924,
          4925,
          4926,
          4927,
          4928,
          4929,
          4930,
          4931,
          4932,
          4933,
          4934,
          4935
         ],
         "xaxis": "x",
         "y": [
          0.015312581016100777,
          0.00864206110320323,
          0.008338725149210966,
          0.00834984846643245,
          0.007665363023895029,
          0.005492232062767007,
          0.0064271143661438265,
          0.02052479514364847,
          0.03138391505820716,
          0.03439452446257432,
          0.03674414184562301,
          0.03417452372356237,
          0.024998395513818297,
          0.009824420885957608,
          0.012272809143506806,
          0.012544297897058763,
          0.022187873180293076,
          0.03135594777019659,
          0.04283166393811094,
          0.0430980243417362,
          0.03969160152030896,
          0.038386471070372574,
          0.019608731215748725,
          0.016006980495802358,
          0.02615478635643206,
          0.027416944521263146,
          0.028184926757933604,
          0.025072514349510626,
          0.020082893347646378,
          0.018693951710993823,
          0.01724541604185706,
          0.015676425857539804,
          0.01655732643406277,
          0.01586493140898991,
          0.015696863388332608,
          0.020230646173567412,
          0.025023334152776744,
          0.02677104643182425,
          0.031229928785318307,
          0.02655699686637101,
          0.02193608074398014,
          0.015416654946531614,
          0.013382062482282114,
          0.010517961951766597,
          0.008096362268231624,
          0.008557165441385331,
          0.008239314446390818,
          0.007453406187500604,
          0.008542174267206605,
          0.00842667448072972,
          0.009031308334838601,
          0.010893358551172695,
          0.012249854645151827,
          0.012226413237467966,
          0.010950802610089166,
          0.02100161219761342,
          0.02354999984752817,
          0.025038115079708028,
          0.021518614162937672,
          0.019343540657155416,
          0.017161357242353237,
          0.016165664783561427,
          0.012385331419574952,
          0.023376463587913517,
          0.020608372270212845,
          0.02167427129108024,
          0.022197113525732386,
          0.020608012653905414,
          0.021881275846589054,
          0.019358244067683064,
          0.01878362583639523,
          0.011376887438536985,
          0.01807049512943336,
          0.016082193408421555,
          0.014458197098966114,
          0.017581700315929656,
          0.018623854043470257,
          0.02232665056845682,
          0.03711107832386705,
          0.05298946539294893,
          0.05703949440293079,
          0.06301126634920064,
          0.06112028561222847,
          0.0483570025244617,
          0.02670168092741273,
          0.01037648218138744,
          0.010014271108336331,
          0.007292189316191858,
          0.006504803250323165,
          0.0066552781662484566,
          0.007035328141097175,
          0.01045330605257,
          0.010611630771211885,
          0.00793245023463432,
          0.012230901367023006,
          0.012557527093120364,
          0.01298296603995878,
          0.013529928604587264,
          0.008955094610281957,
          0.007730966589796103,
          0.007272812796375496,
          0.013897268188683181,
          0.014086550872302445,
          0.014208065284954049,
          0.014096204233469588,
          0.015007429283287792,
          0.016711238866088884,
          0.017741790751520114,
          0.007225853190395629,
          0.006565670268042664,
          0.0057387257451977465,
          0.004519497290212495,
          0.009890506776991529,
          0.012165930398137612,
          0.012431280549312003,
          0.013019217098205318,
          0.011941630108539367,
          0.010766781513144344,
          0.0023285031062114277,
          0.0019671163686491395,
          0.005611991137310335,
          0.006109608990913935,
          0.006270586517269043,
          0.006902674623090132,
          0.007389748458381767,
          0.007681463383902483,
          0.007680734958498593,
          0.008350731875504443,
          0.00936684574377221,
          0.009440692966918901,
          0.008903253293105583,
          0.0077056464474563055,
          0.0062729816372531595,
          0.005189822669457481,
          0.004137352573489012,
          0.009008328816254234,
          0.037531923845723784,
          0.05307154217096636,
          0.05861968338312808,
          0.05810481977698737,
          0.050820032779916126,
          0.03697112039412577,
          0.008604538967875702,
          0.005071791500508992,
          0.005076513276489557,
          0.005468315396229608,
          0.0054527674190898495,
          0.0054591458318653755,
          0.022044613036334232,
          0.02538404731924428,
          0.02671191977911579,
          0.02827381341321345,
          0.029188686885239484,
          0.02978877190935069,
          0.030899346617009986,
          0.021058486707407963,
          0.00307030985319406,
          0.0065146442703788495,
          0.0063309503174792895,
          0.00630488101700424,
          0.006302409249721826,
          0.012749089371954615,
          0.012750632503379628,
          0.013944349357826251,
          0.01593503858898823,
          0.018688708525458068,
          0.02010558089595484,
          0.020404461771501684,
          0.011699206430463767,
          0.011201916512527431,
          0.010751598455597557,
          0.010585666841420049,
          0.010698886720225526,
          0.010670513653914894,
          0.012751634869052382,
          0.014056761541289603,
          0.011824146659791665,
          0.006202261564921749,
          0.010529371372706287,
          0.01214519520869528,
          0.013649222065198321,
          0.022221497618999428,
          0.022092856698008187,
          0.01862262660825083,
          0.014979818760715271,
          0.013981183048504384,
          0.012730280031252606,
          0.009294148718207745,
          0.008922205825023094,
          0.008653119183813009,
          0.009032826750067327,
          0.01456475228512365,
          0.018602976987151864,
          0.018794371936158464,
          0.01672197472300414,
          0.011686232412761665,
          0.021904344109698954,
          0.027212529239552957,
          0.028814863711392514,
          0.02940541635262673,
          0.03329446039297776,
          0.03150885012551376,
          0.025292591105287823,
          0.05125880822960226,
          0.06614158318453077,
          0.07148017570216111,
          0.06655482866844285,
          0.05945382428987869,
          0.046687218664900845,
          0.01454516176125806,
          0.007972704018513951,
          0.008102731290111262,
          0.014385077946313453,
          0.014572375111799556,
          0.01183828755943493,
          0.009508065749936769,
          0.008872228523406137,
          0.007219786100501671,
          0.0073141349966681785,
          0.008758250723387408,
          0.01820359882372307,
          0.0248590252700099,
          0.026999048713330972,
          0.025546792353175054,
          0.02020454243693881,
          0.019612168406844335,
          0.019663714057416563,
          0.021447886892563835,
          0.02053848353288816,
          0.019633949299565752,
          0.02016920210390314,
          0.021526038845170434,
          0.02080091924290989,
          0.01773484104216006,
          0.01674688549474035,
          0.017809310560884153,
          0.017900883285928603,
          0.017921676534590036,
          0.01769082030283042,
          0.006328001101499176,
          0.006855429774734436,
          0.005919644966460517,
          0.01174472450652515,
          0.019925675595490147,
          0.025807061786921118,
          0.03852412862336085,
          0.0559773865667152,
          0.05970766552856451,
          0.052402665876363094,
          0.04604036880245842,
          0.03526842878456787,
          0.016797329273121296,
          0.024276144130771872,
          0.02885953037685491,
          0.02785252676365635,
          0.027554016555073148,
          0.025058185375476195,
          0.021817843238142287,
          0.017033707548615995,
          0.015646472427678866,
          0.01380419201896899,
          0.017352226778521215,
          0.02073025535973038,
          0.02263234245761162,
          0.022834687252165916,
          0.015218862999877915,
          0.01390610301996143,
          0.01237608298052985,
          0.012204132500853424,
          0.01342101705478413,
          0.014755376665012707,
          0.014221960250147629,
          0.01456653704440643,
          0.01791249924140574,
          0.025529775247915738,
          0.02532470105387005,
          0.02650333497677597,
          0.024650571951830104,
          0.020632006774302863,
          0.014566472275167067,
          0.027751542770399113,
          0.030661915535478326,
          0.02904361727105772,
          0.028844178939456403,
          0.036625842207430356,
          0.041896641869258865,
          0.05144873290246734,
          0.04948725208277818,
          0.045383252824183956,
          0.03446327072120375,
          0.016265770653964756,
          0.017139604186846066,
          0.016594795133975448,
          0.017091184876246935,
          0.028584121770382054,
          0.02795954110847411,
          0.023699647770923732,
          0.024330225874649215,
          0.024609188452397016,
          0.026140340364235556
         ],
         "yaxis": "y"
        },
        {
         "hovertemplate": "Category=Validation<br>Dash=solid<br>Time=%{x}<br>Value=%{y}<extra></extra>",
         "legendgroup": "Validation, solid",
         "line": {
          "color": "orange",
          "dash": "solid"
         },
         "marker": {
          "symbol": "circle"
         },
         "mode": "lines",
         "name": "Validation, solid",
         "orientation": "v",
         "showlegend": true,
         "type": "scatter",
         "x": [
          4936,
          4937,
          4938,
          4939,
          4940,
          4941,
          4942
         ],
         "xaxis": "x",
         "y": [
          0.027507385095884077,
          0.031783247112300364,
          0.03066317006310428,
          0.02576687347772278,
          0.013329660776163068,
          0.011847478677326412,
          0.010081861738138883
         ],
         "yaxis": "y"
        },
        {
         "hovertemplate": "Category=Test<br>Dash=solid<br>Time=%{x}<br>Value=%{y}<extra></extra>",
         "legendgroup": "Test, solid",
         "line": {
          "color": "green",
          "dash": "solid"
         },
         "marker": {
          "symbol": "circle"
         },
         "mode": "lines",
         "name": "Test, solid",
         "orientation": "v",
         "showlegend": true,
         "type": "scatter",
         "x": [
          4943,
          4944,
          4945,
          4946,
          4947,
          4948,
          4949
         ],
         "xaxis": "x",
         "y": [
          0.006582464298913406,
          0.005814325959187736,
          0.006091703754081897,
          0.013030198775785044,
          0.022308339836237225,
          0.03720909840757646,
          0.046272054273852614
         ],
         "yaxis": "y"
        },
        {
         "hovertemplate": "Category=Prediction<br>Dash=dash<br>Time=%{x}<br>Value=%{y}<extra></extra>",
         "legendgroup": "Prediction, dash",
         "line": {
          "color": "red",
          "dash": "dot"
         },
         "marker": {
          "symbol": "circle"
         },
         "mode": "lines",
         "name": "Prediction, dash",
         "orientation": "v",
         "showlegend": true,
         "type": "scatter",
         "x": [
          4943,
          4944,
          4945,
          4946,
          4947,
          4948,
          4949
         ],
         "xaxis": "x",
         "y": [
          0.0016689529367503806,
          0.0045875352949549175,
          0.007927348459706267,
          0.011669892198411495,
          0.01576539332558542,
          0.019829375085315258,
          0.023736333358497015
         ],
         "yaxis": "y"
        }
       ],
       "layout": {
        "legend": {
         "title": {
          "text": ""
         },
         "tracegroupgap": 0
        },
        "template": {
         "data": {
          "bar": [
           {
            "error_x": {
             "color": "#2a3f5f"
            },
            "error_y": {
             "color": "#2a3f5f"
            },
            "marker": {
             "line": {
              "color": "white",
              "width": 0.5
             },
             "pattern": {
              "fillmode": "overlay",
              "size": 10,
              "solidity": 0.2
             }
            },
            "type": "bar"
           }
          ],
          "barpolar": [
           {
            "marker": {
             "line": {
              "color": "white",
              "width": 0.5
             },
             "pattern": {
              "fillmode": "overlay",
              "size": 10,
              "solidity": 0.2
             }
            },
            "type": "barpolar"
           }
          ],
          "carpet": [
           {
            "aaxis": {
             "endlinecolor": "#2a3f5f",
             "gridcolor": "#C8D4E3",
             "linecolor": "#C8D4E3",
             "minorgridcolor": "#C8D4E3",
             "startlinecolor": "#2a3f5f"
            },
            "baxis": {
             "endlinecolor": "#2a3f5f",
             "gridcolor": "#C8D4E3",
             "linecolor": "#C8D4E3",
             "minorgridcolor": "#C8D4E3",
             "startlinecolor": "#2a3f5f"
            },
            "type": "carpet"
           }
          ],
          "choropleth": [
           {
            "colorbar": {
             "outlinewidth": 0,
             "ticks": ""
            },
            "type": "choropleth"
           }
          ],
          "contour": [
           {
            "colorbar": {
             "outlinewidth": 0,
             "ticks": ""
            },
            "colorscale": [
             [
              0,
              "#0d0887"
             ],
             [
              0.1111111111111111,
              "#46039f"
             ],
             [
              0.2222222222222222,
              "#7201a8"
             ],
             [
              0.3333333333333333,
              "#9c179e"
             ],
             [
              0.4444444444444444,
              "#bd3786"
             ],
             [
              0.5555555555555556,
              "#d8576b"
             ],
             [
              0.6666666666666666,
              "#ed7953"
             ],
             [
              0.7777777777777778,
              "#fb9f3a"
             ],
             [
              0.8888888888888888,
              "#fdca26"
             ],
             [
              1,
              "#f0f921"
             ]
            ],
            "type": "contour"
           }
          ],
          "contourcarpet": [
           {
            "colorbar": {
             "outlinewidth": 0,
             "ticks": ""
            },
            "type": "contourcarpet"
           }
          ],
          "heatmap": [
           {
            "colorbar": {
             "outlinewidth": 0,
             "ticks": ""
            },
            "colorscale": [
             [
              0,
              "#0d0887"
             ],
             [
              0.1111111111111111,
              "#46039f"
             ],
             [
              0.2222222222222222,
              "#7201a8"
             ],
             [
              0.3333333333333333,
              "#9c179e"
             ],
             [
              0.4444444444444444,
              "#bd3786"
             ],
             [
              0.5555555555555556,
              "#d8576b"
             ],
             [
              0.6666666666666666,
              "#ed7953"
             ],
             [
              0.7777777777777778,
              "#fb9f3a"
             ],
             [
              0.8888888888888888,
              "#fdca26"
             ],
             [
              1,
              "#f0f921"
             ]
            ],
            "type": "heatmap"
           }
          ],
          "heatmapgl": [
           {
            "colorbar": {
             "outlinewidth": 0,
             "ticks": ""
            },
            "colorscale": [
             [
              0,
              "#0d0887"
             ],
             [
              0.1111111111111111,
              "#46039f"
             ],
             [
              0.2222222222222222,
              "#7201a8"
             ],
             [
              0.3333333333333333,
              "#9c179e"
             ],
             [
              0.4444444444444444,
              "#bd3786"
             ],
             [
              0.5555555555555556,
              "#d8576b"
             ],
             [
              0.6666666666666666,
              "#ed7953"
             ],
             [
              0.7777777777777778,
              "#fb9f3a"
             ],
             [
              0.8888888888888888,
              "#fdca26"
             ],
             [
              1,
              "#f0f921"
             ]
            ],
            "type": "heatmapgl"
           }
          ],
          "histogram": [
           {
            "marker": {
             "pattern": {
              "fillmode": "overlay",
              "size": 10,
              "solidity": 0.2
             }
            },
            "type": "histogram"
           }
          ],
          "histogram2d": [
           {
            "colorbar": {
             "outlinewidth": 0,
             "ticks": ""
            },
            "colorscale": [
             [
              0,
              "#0d0887"
             ],
             [
              0.1111111111111111,
              "#46039f"
             ],
             [
              0.2222222222222222,
              "#7201a8"
             ],
             [
              0.3333333333333333,
              "#9c179e"
             ],
             [
              0.4444444444444444,
              "#bd3786"
             ],
             [
              0.5555555555555556,
              "#d8576b"
             ],
             [
              0.6666666666666666,
              "#ed7953"
             ],
             [
              0.7777777777777778,
              "#fb9f3a"
             ],
             [
              0.8888888888888888,
              "#fdca26"
             ],
             [
              1,
              "#f0f921"
             ]
            ],
            "type": "histogram2d"
           }
          ],
          "histogram2dcontour": [
           {
            "colorbar": {
             "outlinewidth": 0,
             "ticks": ""
            },
            "colorscale": [
             [
              0,
              "#0d0887"
             ],
             [
              0.1111111111111111,
              "#46039f"
             ],
             [
              0.2222222222222222,
              "#7201a8"
             ],
             [
              0.3333333333333333,
              "#9c179e"
             ],
             [
              0.4444444444444444,
              "#bd3786"
             ],
             [
              0.5555555555555556,
              "#d8576b"
             ],
             [
              0.6666666666666666,
              "#ed7953"
             ],
             [
              0.7777777777777778,
              "#fb9f3a"
             ],
             [
              0.8888888888888888,
              "#fdca26"
             ],
             [
              1,
              "#f0f921"
             ]
            ],
            "type": "histogram2dcontour"
           }
          ],
          "mesh3d": [
           {
            "colorbar": {
             "outlinewidth": 0,
             "ticks": ""
            },
            "type": "mesh3d"
           }
          ],
          "parcoords": [
           {
            "line": {
             "colorbar": {
              "outlinewidth": 0,
              "ticks": ""
             }
            },
            "type": "parcoords"
           }
          ],
          "pie": [
           {
            "automargin": true,
            "type": "pie"
           }
          ],
          "scatter": [
           {
            "fillpattern": {
             "fillmode": "overlay",
             "size": 10,
             "solidity": 0.2
            },
            "type": "scatter"
           }
          ],
          "scatter3d": [
           {
            "line": {
             "colorbar": {
              "outlinewidth": 0,
              "ticks": ""
             }
            },
            "marker": {
             "colorbar": {
              "outlinewidth": 0,
              "ticks": ""
             }
            },
            "type": "scatter3d"
           }
          ],
          "scattercarpet": [
           {
            "marker": {
             "colorbar": {
              "outlinewidth": 0,
              "ticks": ""
             }
            },
            "type": "scattercarpet"
           }
          ],
          "scattergeo": [
           {
            "marker": {
             "colorbar": {
              "outlinewidth": 0,
              "ticks": ""
             }
            },
            "type": "scattergeo"
           }
          ],
          "scattergl": [
           {
            "marker": {
             "colorbar": {
              "outlinewidth": 0,
              "ticks": ""
             }
            },
            "type": "scattergl"
           }
          ],
          "scattermapbox": [
           {
            "marker": {
             "colorbar": {
              "outlinewidth": 0,
              "ticks": ""
             }
            },
            "type": "scattermapbox"
           }
          ],
          "scatterpolar": [
           {
            "marker": {
             "colorbar": {
              "outlinewidth": 0,
              "ticks": ""
             }
            },
            "type": "scatterpolar"
           }
          ],
          "scatterpolargl": [
           {
            "marker": {
             "colorbar": {
              "outlinewidth": 0,
              "ticks": ""
             }
            },
            "type": "scatterpolargl"
           }
          ],
          "scatterternary": [
           {
            "marker": {
             "colorbar": {
              "outlinewidth": 0,
              "ticks": ""
             }
            },
            "type": "scatterternary"
           }
          ],
          "surface": [
           {
            "colorbar": {
             "outlinewidth": 0,
             "ticks": ""
            },
            "colorscale": [
             [
              0,
              "#0d0887"
             ],
             [
              0.1111111111111111,
              "#46039f"
             ],
             [
              0.2222222222222222,
              "#7201a8"
             ],
             [
              0.3333333333333333,
              "#9c179e"
             ],
             [
              0.4444444444444444,
              "#bd3786"
             ],
             [
              0.5555555555555556,
              "#d8576b"
             ],
             [
              0.6666666666666666,
              "#ed7953"
             ],
             [
              0.7777777777777778,
              "#fb9f3a"
             ],
             [
              0.8888888888888888,
              "#fdca26"
             ],
             [
              1,
              "#f0f921"
             ]
            ],
            "type": "surface"
           }
          ],
          "table": [
           {
            "cells": {
             "fill": {
              "color": "#EBF0F8"
             },
             "line": {
              "color": "white"
             }
            },
            "header": {
             "fill": {
              "color": "#C8D4E3"
             },
             "line": {
              "color": "white"
             }
            },
            "type": "table"
           }
          ]
         },
         "layout": {
          "annotationdefaults": {
           "arrowcolor": "#2a3f5f",
           "arrowhead": 0,
           "arrowwidth": 1
          },
          "autotypenumbers": "strict",
          "coloraxis": {
           "colorbar": {
            "outlinewidth": 0,
            "ticks": ""
           }
          },
          "colorscale": {
           "diverging": [
            [
             0,
             "#8e0152"
            ],
            [
             0.1,
             "#c51b7d"
            ],
            [
             0.2,
             "#de77ae"
            ],
            [
             0.3,
             "#f1b6da"
            ],
            [
             0.4,
             "#fde0ef"
            ],
            [
             0.5,
             "#f7f7f7"
            ],
            [
             0.6,
             "#e6f5d0"
            ],
            [
             0.7,
             "#b8e186"
            ],
            [
             0.8,
             "#7fbc41"
            ],
            [
             0.9,
             "#4d9221"
            ],
            [
             1,
             "#276419"
            ]
           ],
           "sequential": [
            [
             0,
             "#0d0887"
            ],
            [
             0.1111111111111111,
             "#46039f"
            ],
            [
             0.2222222222222222,
             "#7201a8"
            ],
            [
             0.3333333333333333,
             "#9c179e"
            ],
            [
             0.4444444444444444,
             "#bd3786"
            ],
            [
             0.5555555555555556,
             "#d8576b"
            ],
            [
             0.6666666666666666,
             "#ed7953"
            ],
            [
             0.7777777777777778,
             "#fb9f3a"
            ],
            [
             0.8888888888888888,
             "#fdca26"
            ],
            [
             1,
             "#f0f921"
            ]
           ],
           "sequentialminus": [
            [
             0,
             "#0d0887"
            ],
            [
             0.1111111111111111,
             "#46039f"
            ],
            [
             0.2222222222222222,
             "#7201a8"
            ],
            [
             0.3333333333333333,
             "#9c179e"
            ],
            [
             0.4444444444444444,
             "#bd3786"
            ],
            [
             0.5555555555555556,
             "#d8576b"
            ],
            [
             0.6666666666666666,
             "#ed7953"
            ],
            [
             0.7777777777777778,
             "#fb9f3a"
            ],
            [
             0.8888888888888888,
             "#fdca26"
            ],
            [
             1,
             "#f0f921"
            ]
           ]
          },
          "colorway": [
           "#636efa",
           "#EF553B",
           "#00cc96",
           "#ab63fa",
           "#FFA15A",
           "#19d3f3",
           "#FF6692",
           "#B6E880",
           "#FF97FF",
           "#FECB52"
          ],
          "font": {
           "color": "#2a3f5f"
          },
          "geo": {
           "bgcolor": "white",
           "lakecolor": "white",
           "landcolor": "white",
           "showlakes": true,
           "showland": true,
           "subunitcolor": "#C8D4E3"
          },
          "hoverlabel": {
           "align": "left"
          },
          "hovermode": "closest",
          "mapbox": {
           "style": "light"
          },
          "paper_bgcolor": "white",
          "plot_bgcolor": "white",
          "polar": {
           "angularaxis": {
            "gridcolor": "#EBF0F8",
            "linecolor": "#EBF0F8",
            "ticks": ""
           },
           "bgcolor": "white",
           "radialaxis": {
            "gridcolor": "#EBF0F8",
            "linecolor": "#EBF0F8",
            "ticks": ""
           }
          },
          "scene": {
           "xaxis": {
            "backgroundcolor": "white",
            "gridcolor": "#DFE8F3",
            "gridwidth": 2,
            "linecolor": "#EBF0F8",
            "showbackground": true,
            "ticks": "",
            "zerolinecolor": "#EBF0F8"
           },
           "yaxis": {
            "backgroundcolor": "white",
            "gridcolor": "#DFE8F3",
            "gridwidth": 2,
            "linecolor": "#EBF0F8",
            "showbackground": true,
            "ticks": "",
            "zerolinecolor": "#EBF0F8"
           },
           "zaxis": {
            "backgroundcolor": "white",
            "gridcolor": "#DFE8F3",
            "gridwidth": 2,
            "linecolor": "#EBF0F8",
            "showbackground": true,
            "ticks": "",
            "zerolinecolor": "#EBF0F8"
           }
          },
          "shapedefaults": {
           "line": {
            "color": "#2a3f5f"
           }
          },
          "ternary": {
           "aaxis": {
            "gridcolor": "#DFE8F3",
            "linecolor": "#A2B1C6",
            "ticks": ""
           },
           "baxis": {
            "gridcolor": "#DFE8F3",
            "linecolor": "#A2B1C6",
            "ticks": ""
           },
           "bgcolor": "white",
           "caxis": {
            "gridcolor": "#DFE8F3",
            "linecolor": "#A2B1C6",
            "ticks": ""
           }
          },
          "title": {
           "x": 0.05
          },
          "xaxis": {
           "automargin": true,
           "gridcolor": "#EBF0F8",
           "linecolor": "#EBF0F8",
           "ticks": "",
           "title": {
            "standoff": 15
           },
           "zerolinecolor": "#EBF0F8",
           "zerolinewidth": 2
          },
          "yaxis": {
           "automargin": true,
           "gridcolor": "#EBF0F8",
           "linecolor": "#EBF0F8",
           "ticks": "",
           "title": {
            "standoff": 15
           },
           "zerolinecolor": "#EBF0F8",
           "zerolinewidth": 2
          }
         }
        },
        "title": {
         "text": "SSE, MAE: 0.01"
        },
        "xaxis": {
         "anchor": "y",
         "domain": [
          0,
          1
         ],
         "title": {
          "text": "Time"
         }
        },
        "yaxis": {
         "anchor": "x",
         "domain": [
          0,
          1
         ],
         "title": {
          "text": "Value"
         }
        }
       }
      }
     },
     "metadata": {},
     "output_type": "display_data"
    },
    {
     "data": {
      "text/html": [
       "<p style=\"color: red; font-size: 20px;\">Resultados de Testing para ventana de: 14</p>"
      ],
      "text/plain": [
       "<IPython.core.display.HTML object>"
      ]
     },
     "metadata": {},
     "output_type": "display_data"
    },
    {
     "data": {
      "text/html": [
       "<p style=\"color: red; font-size: 15px;\">Metricas</p>"
      ],
      "text/plain": [
       "<IPython.core.display.HTML object>"
      ]
     },
     "metadata": {},
     "output_type": "display_data"
    },
    {
     "name": "stdout",
     "output_type": "stream",
     "text": [
      "               model  window       MAE       MSE      MAPE      RMSE  \\\n",
      "train  ARIMA_ROLLING      14  0.018126  0.000567  0.686467  0.023806   \n",
      "\n",
      "             R2  Ljung-Box p-value  Jarque-Bera p-value  \n",
      "train -1.004941           0.000381             0.543264  \n"
     ]
    },
    {
     "data": {
      "application/vnd.plotly.v1+json": {
       "config": {
        "plotlyServerURL": "https://plot.ly"
       },
       "data": [
        {
         "hovertemplate": "Category=Train<br>Dash=solid<br>Time=%{x}<br>Value=%{y}<extra></extra>",
         "legendgroup": "Train, solid",
         "line": {
          "color": "blue",
          "dash": "solid"
         },
         "marker": {
          "symbol": "circle"
         },
         "mode": "lines",
         "name": "Train, solid",
         "orientation": "v",
         "showlegend": true,
         "type": "scatter",
         "x": [
          4636,
          4637,
          4638,
          4639,
          4640,
          4641,
          4642,
          4643,
          4644,
          4645,
          4646,
          4647,
          4648,
          4649,
          4650,
          4651,
          4652,
          4653,
          4654,
          4655,
          4656,
          4657,
          4658,
          4659,
          4660,
          4661,
          4662,
          4663,
          4664,
          4665,
          4666,
          4667,
          4668,
          4669,
          4670,
          4671,
          4672,
          4673,
          4674,
          4675,
          4676,
          4677,
          4678,
          4679,
          4680,
          4681,
          4682,
          4683,
          4684,
          4685,
          4686,
          4687,
          4688,
          4689,
          4690,
          4691,
          4692,
          4693,
          4694,
          4695,
          4696,
          4697,
          4698,
          4699,
          4700,
          4701,
          4702,
          4703,
          4704,
          4705,
          4706,
          4707,
          4708,
          4709,
          4710,
          4711,
          4712,
          4713,
          4714,
          4715,
          4716,
          4717,
          4718,
          4719,
          4720,
          4721,
          4722,
          4723,
          4724,
          4725,
          4726,
          4727,
          4728,
          4729,
          4730,
          4731,
          4732,
          4733,
          4734,
          4735,
          4736,
          4737,
          4738,
          4739,
          4740,
          4741,
          4742,
          4743,
          4744,
          4745,
          4746,
          4747,
          4748,
          4749,
          4750,
          4751,
          4752,
          4753,
          4754,
          4755,
          4756,
          4757,
          4758,
          4759,
          4760,
          4761,
          4762,
          4763,
          4764,
          4765,
          4766,
          4767,
          4768,
          4769,
          4770,
          4771,
          4772,
          4773,
          4774,
          4775,
          4776,
          4777,
          4778,
          4779,
          4780,
          4781,
          4782,
          4783,
          4784,
          4785,
          4786,
          4787,
          4788,
          4789,
          4790,
          4791,
          4792,
          4793,
          4794,
          4795,
          4796,
          4797,
          4798,
          4799,
          4800,
          4801,
          4802,
          4803,
          4804,
          4805,
          4806,
          4807,
          4808,
          4809,
          4810,
          4811,
          4812,
          4813,
          4814,
          4815,
          4816,
          4817,
          4818,
          4819,
          4820,
          4821,
          4822,
          4823,
          4824,
          4825,
          4826,
          4827,
          4828,
          4829,
          4830,
          4831,
          4832,
          4833,
          4834,
          4835,
          4836,
          4837,
          4838,
          4839,
          4840,
          4841,
          4842,
          4843,
          4844,
          4845,
          4846,
          4847,
          4848,
          4849,
          4850,
          4851,
          4852,
          4853,
          4854,
          4855,
          4856,
          4857,
          4858,
          4859,
          4860,
          4861,
          4862,
          4863,
          4864,
          4865,
          4866,
          4867,
          4868,
          4869,
          4870,
          4871,
          4872,
          4873,
          4874,
          4875,
          4876,
          4877,
          4878,
          4879,
          4880,
          4881,
          4882,
          4883,
          4884,
          4885,
          4886,
          4887,
          4888,
          4889,
          4890,
          4891,
          4892,
          4893,
          4894,
          4895,
          4896,
          4897,
          4898,
          4899,
          4900,
          4901,
          4902,
          4903,
          4904,
          4905,
          4906,
          4907,
          4908,
          4909,
          4910,
          4911,
          4912,
          4913,
          4914,
          4915,
          4916,
          4917,
          4918,
          4919,
          4920,
          4921,
          4922,
          4923,
          4924,
          4925,
          4926,
          4927,
          4928,
          4929,
          4930,
          4931,
          4932,
          4933,
          4934,
          4935
         ],
         "xaxis": "x",
         "y": [
          0.015312581016100777,
          0.00864206110320323,
          0.008338725149210966,
          0.00834984846643245,
          0.007665363023895029,
          0.005492232062767007,
          0.0064271143661438265,
          0.02052479514364847,
          0.03138391505820716,
          0.03439452446257432,
          0.03674414184562301,
          0.03417452372356237,
          0.024998395513818297,
          0.009824420885957608,
          0.012272809143506806,
          0.012544297897058763,
          0.022187873180293076,
          0.03135594777019659,
          0.04283166393811094,
          0.0430980243417362,
          0.03969160152030896,
          0.038386471070372574,
          0.019608731215748725,
          0.016006980495802358,
          0.02615478635643206,
          0.027416944521263146,
          0.028184926757933604,
          0.025072514349510626,
          0.020082893347646378,
          0.018693951710993823,
          0.01724541604185706,
          0.015676425857539804,
          0.01655732643406277,
          0.01586493140898991,
          0.015696863388332608,
          0.020230646173567412,
          0.025023334152776744,
          0.02677104643182425,
          0.031229928785318307,
          0.02655699686637101,
          0.02193608074398014,
          0.015416654946531614,
          0.013382062482282114,
          0.010517961951766597,
          0.008096362268231624,
          0.008557165441385331,
          0.008239314446390818,
          0.007453406187500604,
          0.008542174267206605,
          0.00842667448072972,
          0.009031308334838601,
          0.010893358551172695,
          0.012249854645151827,
          0.012226413237467966,
          0.010950802610089166,
          0.02100161219761342,
          0.02354999984752817,
          0.025038115079708028,
          0.021518614162937672,
          0.019343540657155416,
          0.017161357242353237,
          0.016165664783561427,
          0.012385331419574952,
          0.023376463587913517,
          0.020608372270212845,
          0.02167427129108024,
          0.022197113525732386,
          0.020608012653905414,
          0.021881275846589054,
          0.019358244067683064,
          0.01878362583639523,
          0.011376887438536985,
          0.01807049512943336,
          0.016082193408421555,
          0.014458197098966114,
          0.017581700315929656,
          0.018623854043470257,
          0.02232665056845682,
          0.03711107832386705,
          0.05298946539294893,
          0.05703949440293079,
          0.06301126634920064,
          0.06112028561222847,
          0.0483570025244617,
          0.02670168092741273,
          0.01037648218138744,
          0.010014271108336331,
          0.007292189316191858,
          0.006504803250323165,
          0.0066552781662484566,
          0.007035328141097175,
          0.01045330605257,
          0.010611630771211885,
          0.00793245023463432,
          0.012230901367023006,
          0.012557527093120364,
          0.01298296603995878,
          0.013529928604587264,
          0.008955094610281957,
          0.007730966589796103,
          0.007272812796375496,
          0.013897268188683181,
          0.014086550872302445,
          0.014208065284954049,
          0.014096204233469588,
          0.015007429283287792,
          0.016711238866088884,
          0.017741790751520114,
          0.007225853190395629,
          0.006565670268042664,
          0.0057387257451977465,
          0.004519497290212495,
          0.009890506776991529,
          0.012165930398137612,
          0.012431280549312003,
          0.013019217098205318,
          0.011941630108539367,
          0.010766781513144344,
          0.0023285031062114277,
          0.0019671163686491395,
          0.005611991137310335,
          0.006109608990913935,
          0.006270586517269043,
          0.006902674623090132,
          0.007389748458381767,
          0.007681463383902483,
          0.007680734958498593,
          0.008350731875504443,
          0.00936684574377221,
          0.009440692966918901,
          0.008903253293105583,
          0.0077056464474563055,
          0.0062729816372531595,
          0.005189822669457481,
          0.004137352573489012,
          0.009008328816254234,
          0.037531923845723784,
          0.05307154217096636,
          0.05861968338312808,
          0.05810481977698737,
          0.050820032779916126,
          0.03697112039412577,
          0.008604538967875702,
          0.005071791500508992,
          0.005076513276489557,
          0.005468315396229608,
          0.0054527674190898495,
          0.0054591458318653755,
          0.022044613036334232,
          0.02538404731924428,
          0.02671191977911579,
          0.02827381341321345,
          0.029188686885239484,
          0.02978877190935069,
          0.030899346617009986,
          0.021058486707407963,
          0.00307030985319406,
          0.0065146442703788495,
          0.0063309503174792895,
          0.00630488101700424,
          0.006302409249721826,
          0.012749089371954615,
          0.012750632503379628,
          0.013944349357826251,
          0.01593503858898823,
          0.018688708525458068,
          0.02010558089595484,
          0.020404461771501684,
          0.011699206430463767,
          0.011201916512527431,
          0.010751598455597557,
          0.010585666841420049,
          0.010698886720225526,
          0.010670513653914894,
          0.012751634869052382,
          0.014056761541289603,
          0.011824146659791665,
          0.006202261564921749,
          0.010529371372706287,
          0.01214519520869528,
          0.013649222065198321,
          0.022221497618999428,
          0.022092856698008187,
          0.01862262660825083,
          0.014979818760715271,
          0.013981183048504384,
          0.012730280031252606,
          0.009294148718207745,
          0.008922205825023094,
          0.008653119183813009,
          0.009032826750067327,
          0.01456475228512365,
          0.018602976987151864,
          0.018794371936158464,
          0.01672197472300414,
          0.011686232412761665,
          0.021904344109698954,
          0.027212529239552957,
          0.028814863711392514,
          0.02940541635262673,
          0.03329446039297776,
          0.03150885012551376,
          0.025292591105287823,
          0.05125880822960226,
          0.06614158318453077,
          0.07148017570216111,
          0.06655482866844285,
          0.05945382428987869,
          0.046687218664900845,
          0.01454516176125806,
          0.007972704018513951,
          0.008102731290111262,
          0.014385077946313453,
          0.014572375111799556,
          0.01183828755943493,
          0.009508065749936769,
          0.008872228523406137,
          0.007219786100501671,
          0.0073141349966681785,
          0.008758250723387408,
          0.01820359882372307,
          0.0248590252700099,
          0.026999048713330972,
          0.025546792353175054,
          0.02020454243693881,
          0.019612168406844335,
          0.019663714057416563,
          0.021447886892563835,
          0.02053848353288816,
          0.019633949299565752,
          0.02016920210390314,
          0.021526038845170434,
          0.02080091924290989,
          0.01773484104216006,
          0.01674688549474035,
          0.017809310560884153,
          0.017900883285928603,
          0.017921676534590036,
          0.01769082030283042,
          0.006328001101499176,
          0.006855429774734436,
          0.005919644966460517,
          0.01174472450652515,
          0.019925675595490147,
          0.025807061786921118,
          0.03852412862336085,
          0.0559773865667152,
          0.05970766552856451,
          0.052402665876363094,
          0.04604036880245842,
          0.03526842878456787,
          0.016797329273121296,
          0.024276144130771872,
          0.02885953037685491,
          0.02785252676365635,
          0.027554016555073148,
          0.025058185375476195,
          0.021817843238142287,
          0.017033707548615995,
          0.015646472427678866,
          0.01380419201896899,
          0.017352226778521215,
          0.02073025535973038,
          0.02263234245761162,
          0.022834687252165916,
          0.015218862999877915,
          0.01390610301996143,
          0.01237608298052985,
          0.012204132500853424,
          0.01342101705478413,
          0.014755376665012707,
          0.014221960250147629,
          0.01456653704440643,
          0.01791249924140574,
          0.025529775247915738,
          0.02532470105387005,
          0.02650333497677597,
          0.024650571951830104,
          0.020632006774302863,
          0.014566472275167067,
          0.027751542770399113,
          0.030661915535478326,
          0.02904361727105772,
          0.028844178939456403,
          0.036625842207430356,
          0.041896641869258865,
          0.05144873290246734,
          0.04948725208277818,
          0.045383252824183956,
          0.03446327072120375,
          0.016265770653964756,
          0.017139604186846066,
          0.016594795133975448,
          0.017091184876246935,
          0.028584121770382054,
          0.02795954110847411,
          0.023699647770923732,
          0.024330225874649215,
          0.024609188452397016,
          0.026140340364235556
         ],
         "yaxis": "y"
        },
        {
         "hovertemplate": "Category=Validation<br>Dash=solid<br>Time=%{x}<br>Value=%{y}<extra></extra>",
         "legendgroup": "Validation, solid",
         "line": {
          "color": "orange",
          "dash": "solid"
         },
         "marker": {
          "symbol": "circle"
         },
         "mode": "lines",
         "name": "Validation, solid",
         "orientation": "v",
         "showlegend": true,
         "type": "scatter",
         "x": [
          4936,
          4937,
          4938,
          4939,
          4940,
          4941,
          4942,
          4943,
          4944,
          4945,
          4946,
          4947,
          4948,
          4949
         ],
         "xaxis": "x",
         "y": [
          0.027507385095884077,
          0.031783247112300364,
          0.03066317006310428,
          0.02576687347772278,
          0.013329660776163068,
          0.011847478677326412,
          0.010081861738138883,
          0.006582464298913406,
          0.005814325959187736,
          0.006091703754081897,
          0.013030198775785044,
          0.022308339836237225,
          0.03720909840757646,
          0.046272054273852614
         ],
         "yaxis": "y"
        },
        {
         "hovertemplate": "Category=Test<br>Dash=solid<br>Time=%{x}<br>Value=%{y}<extra></extra>",
         "legendgroup": "Test, solid",
         "line": {
          "color": "green",
          "dash": "solid"
         },
         "marker": {
          "symbol": "circle"
         },
         "mode": "lines",
         "name": "Test, solid",
         "orientation": "v",
         "showlegend": true,
         "type": "scatter",
         "x": [
          4950,
          4951,
          4952,
          4953,
          4954,
          4955,
          4956,
          4957,
          4958,
          4959,
          4960,
          4961,
          4962,
          4963
         ],
         "xaxis": "x",
         "y": [
          0.04894298943574626,
          0.051145273745035566,
          0.043949626045711385,
          0.04309555941131344,
          0.03741282917921657,
          0.03502405729326893,
          0.028621437346219043,
          0.019928823996741167,
          0.01625095390420427,
          0.004356100787565312,
          0.0042300286851000716,
          0.006370173047353218,
          0.010051915820708744,
          0.010088274116875488
         ],
         "yaxis": "y"
        },
        {
         "hovertemplate": "Category=Prediction<br>Dash=dash<br>Time=%{x}<br>Value=%{y}<extra></extra>",
         "legendgroup": "Prediction, dash",
         "line": {
          "color": "red",
          "dash": "dot"
         },
         "marker": {
          "symbol": "circle"
         },
         "mode": "lines",
         "name": "Prediction, dash",
         "orientation": "v",
         "showlegend": true,
         "type": "scatter",
         "x": [
          4950,
          4951,
          4952,
          4953,
          4954,
          4955,
          4956,
          4957,
          4958,
          4959,
          4960,
          4961,
          4962,
          4963
         ],
         "xaxis": "x",
         "y": [
          0.0031946102188788908,
          0.007592606248973722,
          0.01039446680982241,
          0.011307156117255447,
          0.01103510541327985,
          0.010583294484273963,
          0.010745138237552777,
          0.011159631483953898,
          0.011212443486057933,
          0.010830501103448804,
          0.010346785439487744,
          0.010067749258465526,
          0.00997549029403351,
          0.009833450227193775
         ],
         "yaxis": "y"
        }
       ],
       "layout": {
        "legend": {
         "title": {
          "text": ""
         },
         "tracegroupgap": 0
        },
        "template": {
         "data": {
          "bar": [
           {
            "error_x": {
             "color": "#2a3f5f"
            },
            "error_y": {
             "color": "#2a3f5f"
            },
            "marker": {
             "line": {
              "color": "white",
              "width": 0.5
             },
             "pattern": {
              "fillmode": "overlay",
              "size": 10,
              "solidity": 0.2
             }
            },
            "type": "bar"
           }
          ],
          "barpolar": [
           {
            "marker": {
             "line": {
              "color": "white",
              "width": 0.5
             },
             "pattern": {
              "fillmode": "overlay",
              "size": 10,
              "solidity": 0.2
             }
            },
            "type": "barpolar"
           }
          ],
          "carpet": [
           {
            "aaxis": {
             "endlinecolor": "#2a3f5f",
             "gridcolor": "#C8D4E3",
             "linecolor": "#C8D4E3",
             "minorgridcolor": "#C8D4E3",
             "startlinecolor": "#2a3f5f"
            },
            "baxis": {
             "endlinecolor": "#2a3f5f",
             "gridcolor": "#C8D4E3",
             "linecolor": "#C8D4E3",
             "minorgridcolor": "#C8D4E3",
             "startlinecolor": "#2a3f5f"
            },
            "type": "carpet"
           }
          ],
          "choropleth": [
           {
            "colorbar": {
             "outlinewidth": 0,
             "ticks": ""
            },
            "type": "choropleth"
           }
          ],
          "contour": [
           {
            "colorbar": {
             "outlinewidth": 0,
             "ticks": ""
            },
            "colorscale": [
             [
              0,
              "#0d0887"
             ],
             [
              0.1111111111111111,
              "#46039f"
             ],
             [
              0.2222222222222222,
              "#7201a8"
             ],
             [
              0.3333333333333333,
              "#9c179e"
             ],
             [
              0.4444444444444444,
              "#bd3786"
             ],
             [
              0.5555555555555556,
              "#d8576b"
             ],
             [
              0.6666666666666666,
              "#ed7953"
             ],
             [
              0.7777777777777778,
              "#fb9f3a"
             ],
             [
              0.8888888888888888,
              "#fdca26"
             ],
             [
              1,
              "#f0f921"
             ]
            ],
            "type": "contour"
           }
          ],
          "contourcarpet": [
           {
            "colorbar": {
             "outlinewidth": 0,
             "ticks": ""
            },
            "type": "contourcarpet"
           }
          ],
          "heatmap": [
           {
            "colorbar": {
             "outlinewidth": 0,
             "ticks": ""
            },
            "colorscale": [
             [
              0,
              "#0d0887"
             ],
             [
              0.1111111111111111,
              "#46039f"
             ],
             [
              0.2222222222222222,
              "#7201a8"
             ],
             [
              0.3333333333333333,
              "#9c179e"
             ],
             [
              0.4444444444444444,
              "#bd3786"
             ],
             [
              0.5555555555555556,
              "#d8576b"
             ],
             [
              0.6666666666666666,
              "#ed7953"
             ],
             [
              0.7777777777777778,
              "#fb9f3a"
             ],
             [
              0.8888888888888888,
              "#fdca26"
             ],
             [
              1,
              "#f0f921"
             ]
            ],
            "type": "heatmap"
           }
          ],
          "heatmapgl": [
           {
            "colorbar": {
             "outlinewidth": 0,
             "ticks": ""
            },
            "colorscale": [
             [
              0,
              "#0d0887"
             ],
             [
              0.1111111111111111,
              "#46039f"
             ],
             [
              0.2222222222222222,
              "#7201a8"
             ],
             [
              0.3333333333333333,
              "#9c179e"
             ],
             [
              0.4444444444444444,
              "#bd3786"
             ],
             [
              0.5555555555555556,
              "#d8576b"
             ],
             [
              0.6666666666666666,
              "#ed7953"
             ],
             [
              0.7777777777777778,
              "#fb9f3a"
             ],
             [
              0.8888888888888888,
              "#fdca26"
             ],
             [
              1,
              "#f0f921"
             ]
            ],
            "type": "heatmapgl"
           }
          ],
          "histogram": [
           {
            "marker": {
             "pattern": {
              "fillmode": "overlay",
              "size": 10,
              "solidity": 0.2
             }
            },
            "type": "histogram"
           }
          ],
          "histogram2d": [
           {
            "colorbar": {
             "outlinewidth": 0,
             "ticks": ""
            },
            "colorscale": [
             [
              0,
              "#0d0887"
             ],
             [
              0.1111111111111111,
              "#46039f"
             ],
             [
              0.2222222222222222,
              "#7201a8"
             ],
             [
              0.3333333333333333,
              "#9c179e"
             ],
             [
              0.4444444444444444,
              "#bd3786"
             ],
             [
              0.5555555555555556,
              "#d8576b"
             ],
             [
              0.6666666666666666,
              "#ed7953"
             ],
             [
              0.7777777777777778,
              "#fb9f3a"
             ],
             [
              0.8888888888888888,
              "#fdca26"
             ],
             [
              1,
              "#f0f921"
             ]
            ],
            "type": "histogram2d"
           }
          ],
          "histogram2dcontour": [
           {
            "colorbar": {
             "outlinewidth": 0,
             "ticks": ""
            },
            "colorscale": [
             [
              0,
              "#0d0887"
             ],
             [
              0.1111111111111111,
              "#46039f"
             ],
             [
              0.2222222222222222,
              "#7201a8"
             ],
             [
              0.3333333333333333,
              "#9c179e"
             ],
             [
              0.4444444444444444,
              "#bd3786"
             ],
             [
              0.5555555555555556,
              "#d8576b"
             ],
             [
              0.6666666666666666,
              "#ed7953"
             ],
             [
              0.7777777777777778,
              "#fb9f3a"
             ],
             [
              0.8888888888888888,
              "#fdca26"
             ],
             [
              1,
              "#f0f921"
             ]
            ],
            "type": "histogram2dcontour"
           }
          ],
          "mesh3d": [
           {
            "colorbar": {
             "outlinewidth": 0,
             "ticks": ""
            },
            "type": "mesh3d"
           }
          ],
          "parcoords": [
           {
            "line": {
             "colorbar": {
              "outlinewidth": 0,
              "ticks": ""
             }
            },
            "type": "parcoords"
           }
          ],
          "pie": [
           {
            "automargin": true,
            "type": "pie"
           }
          ],
          "scatter": [
           {
            "fillpattern": {
             "fillmode": "overlay",
             "size": 10,
             "solidity": 0.2
            },
            "type": "scatter"
           }
          ],
          "scatter3d": [
           {
            "line": {
             "colorbar": {
              "outlinewidth": 0,
              "ticks": ""
             }
            },
            "marker": {
             "colorbar": {
              "outlinewidth": 0,
              "ticks": ""
             }
            },
            "type": "scatter3d"
           }
          ],
          "scattercarpet": [
           {
            "marker": {
             "colorbar": {
              "outlinewidth": 0,
              "ticks": ""
             }
            },
            "type": "scattercarpet"
           }
          ],
          "scattergeo": [
           {
            "marker": {
             "colorbar": {
              "outlinewidth": 0,
              "ticks": ""
             }
            },
            "type": "scattergeo"
           }
          ],
          "scattergl": [
           {
            "marker": {
             "colorbar": {
              "outlinewidth": 0,
              "ticks": ""
             }
            },
            "type": "scattergl"
           }
          ],
          "scattermapbox": [
           {
            "marker": {
             "colorbar": {
              "outlinewidth": 0,
              "ticks": ""
             }
            },
            "type": "scattermapbox"
           }
          ],
          "scatterpolar": [
           {
            "marker": {
             "colorbar": {
              "outlinewidth": 0,
              "ticks": ""
             }
            },
            "type": "scatterpolar"
           }
          ],
          "scatterpolargl": [
           {
            "marker": {
             "colorbar": {
              "outlinewidth": 0,
              "ticks": ""
             }
            },
            "type": "scatterpolargl"
           }
          ],
          "scatterternary": [
           {
            "marker": {
             "colorbar": {
              "outlinewidth": 0,
              "ticks": ""
             }
            },
            "type": "scatterternary"
           }
          ],
          "surface": [
           {
            "colorbar": {
             "outlinewidth": 0,
             "ticks": ""
            },
            "colorscale": [
             [
              0,
              "#0d0887"
             ],
             [
              0.1111111111111111,
              "#46039f"
             ],
             [
              0.2222222222222222,
              "#7201a8"
             ],
             [
              0.3333333333333333,
              "#9c179e"
             ],
             [
              0.4444444444444444,
              "#bd3786"
             ],
             [
              0.5555555555555556,
              "#d8576b"
             ],
             [
              0.6666666666666666,
              "#ed7953"
             ],
             [
              0.7777777777777778,
              "#fb9f3a"
             ],
             [
              0.8888888888888888,
              "#fdca26"
             ],
             [
              1,
              "#f0f921"
             ]
            ],
            "type": "surface"
           }
          ],
          "table": [
           {
            "cells": {
             "fill": {
              "color": "#EBF0F8"
             },
             "line": {
              "color": "white"
             }
            },
            "header": {
             "fill": {
              "color": "#C8D4E3"
             },
             "line": {
              "color": "white"
             }
            },
            "type": "table"
           }
          ]
         },
         "layout": {
          "annotationdefaults": {
           "arrowcolor": "#2a3f5f",
           "arrowhead": 0,
           "arrowwidth": 1
          },
          "autotypenumbers": "strict",
          "coloraxis": {
           "colorbar": {
            "outlinewidth": 0,
            "ticks": ""
           }
          },
          "colorscale": {
           "diverging": [
            [
             0,
             "#8e0152"
            ],
            [
             0.1,
             "#c51b7d"
            ],
            [
             0.2,
             "#de77ae"
            ],
            [
             0.3,
             "#f1b6da"
            ],
            [
             0.4,
             "#fde0ef"
            ],
            [
             0.5,
             "#f7f7f7"
            ],
            [
             0.6,
             "#e6f5d0"
            ],
            [
             0.7,
             "#b8e186"
            ],
            [
             0.8,
             "#7fbc41"
            ],
            [
             0.9,
             "#4d9221"
            ],
            [
             1,
             "#276419"
            ]
           ],
           "sequential": [
            [
             0,
             "#0d0887"
            ],
            [
             0.1111111111111111,
             "#46039f"
            ],
            [
             0.2222222222222222,
             "#7201a8"
            ],
            [
             0.3333333333333333,
             "#9c179e"
            ],
            [
             0.4444444444444444,
             "#bd3786"
            ],
            [
             0.5555555555555556,
             "#d8576b"
            ],
            [
             0.6666666666666666,
             "#ed7953"
            ],
            [
             0.7777777777777778,
             "#fb9f3a"
            ],
            [
             0.8888888888888888,
             "#fdca26"
            ],
            [
             1,
             "#f0f921"
            ]
           ],
           "sequentialminus": [
            [
             0,
             "#0d0887"
            ],
            [
             0.1111111111111111,
             "#46039f"
            ],
            [
             0.2222222222222222,
             "#7201a8"
            ],
            [
             0.3333333333333333,
             "#9c179e"
            ],
            [
             0.4444444444444444,
             "#bd3786"
            ],
            [
             0.5555555555555556,
             "#d8576b"
            ],
            [
             0.6666666666666666,
             "#ed7953"
            ],
            [
             0.7777777777777778,
             "#fb9f3a"
            ],
            [
             0.8888888888888888,
             "#fdca26"
            ],
            [
             1,
             "#f0f921"
            ]
           ]
          },
          "colorway": [
           "#636efa",
           "#EF553B",
           "#00cc96",
           "#ab63fa",
           "#FFA15A",
           "#19d3f3",
           "#FF6692",
           "#B6E880",
           "#FF97FF",
           "#FECB52"
          ],
          "font": {
           "color": "#2a3f5f"
          },
          "geo": {
           "bgcolor": "white",
           "lakecolor": "white",
           "landcolor": "white",
           "showlakes": true,
           "showland": true,
           "subunitcolor": "#C8D4E3"
          },
          "hoverlabel": {
           "align": "left"
          },
          "hovermode": "closest",
          "mapbox": {
           "style": "light"
          },
          "paper_bgcolor": "white",
          "plot_bgcolor": "white",
          "polar": {
           "angularaxis": {
            "gridcolor": "#EBF0F8",
            "linecolor": "#EBF0F8",
            "ticks": ""
           },
           "bgcolor": "white",
           "radialaxis": {
            "gridcolor": "#EBF0F8",
            "linecolor": "#EBF0F8",
            "ticks": ""
           }
          },
          "scene": {
           "xaxis": {
            "backgroundcolor": "white",
            "gridcolor": "#DFE8F3",
            "gridwidth": 2,
            "linecolor": "#EBF0F8",
            "showbackground": true,
            "ticks": "",
            "zerolinecolor": "#EBF0F8"
           },
           "yaxis": {
            "backgroundcolor": "white",
            "gridcolor": "#DFE8F3",
            "gridwidth": 2,
            "linecolor": "#EBF0F8",
            "showbackground": true,
            "ticks": "",
            "zerolinecolor": "#EBF0F8"
           },
           "zaxis": {
            "backgroundcolor": "white",
            "gridcolor": "#DFE8F3",
            "gridwidth": 2,
            "linecolor": "#EBF0F8",
            "showbackground": true,
            "ticks": "",
            "zerolinecolor": "#EBF0F8"
           }
          },
          "shapedefaults": {
           "line": {
            "color": "#2a3f5f"
           }
          },
          "ternary": {
           "aaxis": {
            "gridcolor": "#DFE8F3",
            "linecolor": "#A2B1C6",
            "ticks": ""
           },
           "baxis": {
            "gridcolor": "#DFE8F3",
            "linecolor": "#A2B1C6",
            "ticks": ""
           },
           "bgcolor": "white",
           "caxis": {
            "gridcolor": "#DFE8F3",
            "linecolor": "#A2B1C6",
            "ticks": ""
           }
          },
          "title": {
           "x": 0.05
          },
          "xaxis": {
           "automargin": true,
           "gridcolor": "#EBF0F8",
           "linecolor": "#EBF0F8",
           "ticks": "",
           "title": {
            "standoff": 15
           },
           "zerolinecolor": "#EBF0F8",
           "zerolinewidth": 2
          },
          "yaxis": {
           "automargin": true,
           "gridcolor": "#EBF0F8",
           "linecolor": "#EBF0F8",
           "ticks": "",
           "title": {
            "standoff": 15
           },
           "zerolinecolor": "#EBF0F8",
           "zerolinewidth": 2
          }
         }
        },
        "title": {
         "text": "SSE, MAE: 0.02"
        },
        "xaxis": {
         "anchor": "y",
         "domain": [
          0,
          1
         ],
         "title": {
          "text": "Time"
         }
        },
        "yaxis": {
         "anchor": "x",
         "domain": [
          0,
          1
         ],
         "title": {
          "text": "Value"
         }
        }
       }
      }
     },
     "metadata": {},
     "output_type": "display_data"
    },
    {
     "data": {
      "text/html": [
       "<p style=\"color: red; font-size: 20px;\">Resultados de Testing para ventana de: 21</p>"
      ],
      "text/plain": [
       "<IPython.core.display.HTML object>"
      ]
     },
     "metadata": {},
     "output_type": "display_data"
    },
    {
     "name": "stderr",
     "output_type": "stream",
     "text": [
      "c:\\Users\\andre\\miniconda3\\envs\\ml_env\\lib\\site-packages\\arch\\univariate\\base.py:766: ConvergenceWarning:\n",
      "\n",
      "The optimizer returned code 4. The message is:\n",
      "Inequality constraints incompatible\n",
      "See scipy.optimize.fmin_slsqp for code meaning.\n",
      "\n",
      "\n"
     ]
    },
    {
     "data": {
      "text/html": [
       "<p style=\"color: red; font-size: 15px;\">Metricas</p>"
      ],
      "text/plain": [
       "<IPython.core.display.HTML object>"
      ]
     },
     "metadata": {},
     "output_type": "display_data"
    },
    {
     "name": "stdout",
     "output_type": "stream",
     "text": [
      "               model  window       MAE       MSE    MAPE      RMSE        R2  \\\n",
      "train  ARIMA_ROLLING      21  0.024711  0.001187  0.6932  0.034447 -0.874639   \n",
      "\n",
      "       Ljung-Box p-value  Jarque-Bera p-value  \n",
      "train           0.000013             0.263367  \n"
     ]
    },
    {
     "data": {
      "application/vnd.plotly.v1+json": {
       "config": {
        "plotlyServerURL": "https://plot.ly"
       },
       "data": [
        {
         "hovertemplate": "Category=Train<br>Dash=solid<br>Time=%{x}<br>Value=%{y}<extra></extra>",
         "legendgroup": "Train, solid",
         "line": {
          "color": "blue",
          "dash": "solid"
         },
         "marker": {
          "symbol": "circle"
         },
         "mode": "lines",
         "name": "Train, solid",
         "orientation": "v",
         "showlegend": true,
         "type": "scatter",
         "x": [
          4636,
          4637,
          4638,
          4639,
          4640,
          4641,
          4642,
          4643,
          4644,
          4645,
          4646,
          4647,
          4648,
          4649,
          4650,
          4651,
          4652,
          4653,
          4654,
          4655,
          4656,
          4657,
          4658,
          4659,
          4660,
          4661,
          4662,
          4663,
          4664,
          4665,
          4666,
          4667,
          4668,
          4669,
          4670,
          4671,
          4672,
          4673,
          4674,
          4675,
          4676,
          4677,
          4678,
          4679,
          4680,
          4681,
          4682,
          4683,
          4684,
          4685,
          4686,
          4687,
          4688,
          4689,
          4690,
          4691,
          4692,
          4693,
          4694,
          4695,
          4696,
          4697,
          4698,
          4699,
          4700,
          4701,
          4702,
          4703,
          4704,
          4705,
          4706,
          4707,
          4708,
          4709,
          4710,
          4711,
          4712,
          4713,
          4714,
          4715,
          4716,
          4717,
          4718,
          4719,
          4720,
          4721,
          4722,
          4723,
          4724,
          4725,
          4726,
          4727,
          4728,
          4729,
          4730,
          4731,
          4732,
          4733,
          4734,
          4735,
          4736,
          4737,
          4738,
          4739,
          4740,
          4741,
          4742,
          4743,
          4744,
          4745,
          4746,
          4747,
          4748,
          4749,
          4750,
          4751,
          4752,
          4753,
          4754,
          4755,
          4756,
          4757,
          4758,
          4759,
          4760,
          4761,
          4762,
          4763,
          4764,
          4765,
          4766,
          4767,
          4768,
          4769,
          4770,
          4771,
          4772,
          4773,
          4774,
          4775,
          4776,
          4777,
          4778,
          4779,
          4780,
          4781,
          4782,
          4783,
          4784,
          4785,
          4786,
          4787,
          4788,
          4789,
          4790,
          4791,
          4792,
          4793,
          4794,
          4795,
          4796,
          4797,
          4798,
          4799,
          4800,
          4801,
          4802,
          4803,
          4804,
          4805,
          4806,
          4807,
          4808,
          4809,
          4810,
          4811,
          4812,
          4813,
          4814,
          4815,
          4816,
          4817,
          4818,
          4819,
          4820,
          4821,
          4822,
          4823,
          4824,
          4825,
          4826,
          4827,
          4828,
          4829,
          4830,
          4831,
          4832,
          4833,
          4834,
          4835,
          4836,
          4837,
          4838,
          4839,
          4840,
          4841,
          4842,
          4843,
          4844,
          4845,
          4846,
          4847,
          4848,
          4849,
          4850,
          4851,
          4852,
          4853,
          4854,
          4855,
          4856,
          4857,
          4858,
          4859,
          4860,
          4861,
          4862,
          4863,
          4864,
          4865,
          4866,
          4867,
          4868,
          4869,
          4870,
          4871,
          4872,
          4873,
          4874,
          4875,
          4876,
          4877,
          4878,
          4879,
          4880,
          4881,
          4882,
          4883,
          4884,
          4885,
          4886,
          4887,
          4888,
          4889,
          4890,
          4891,
          4892,
          4893,
          4894,
          4895,
          4896,
          4897,
          4898,
          4899,
          4900,
          4901,
          4902,
          4903,
          4904,
          4905,
          4906,
          4907,
          4908,
          4909,
          4910,
          4911,
          4912,
          4913,
          4914,
          4915,
          4916,
          4917,
          4918,
          4919,
          4920,
          4921,
          4922,
          4923,
          4924,
          4925,
          4926,
          4927,
          4928,
          4929,
          4930,
          4931,
          4932,
          4933,
          4934,
          4935
         ],
         "xaxis": "x",
         "y": [
          0.015312581016100777,
          0.00864206110320323,
          0.008338725149210966,
          0.00834984846643245,
          0.007665363023895029,
          0.005492232062767007,
          0.0064271143661438265,
          0.02052479514364847,
          0.03138391505820716,
          0.03439452446257432,
          0.03674414184562301,
          0.03417452372356237,
          0.024998395513818297,
          0.009824420885957608,
          0.012272809143506806,
          0.012544297897058763,
          0.022187873180293076,
          0.03135594777019659,
          0.04283166393811094,
          0.0430980243417362,
          0.03969160152030896,
          0.038386471070372574,
          0.019608731215748725,
          0.016006980495802358,
          0.02615478635643206,
          0.027416944521263146,
          0.028184926757933604,
          0.025072514349510626,
          0.020082893347646378,
          0.018693951710993823,
          0.01724541604185706,
          0.015676425857539804,
          0.01655732643406277,
          0.01586493140898991,
          0.015696863388332608,
          0.020230646173567412,
          0.025023334152776744,
          0.02677104643182425,
          0.031229928785318307,
          0.02655699686637101,
          0.02193608074398014,
          0.015416654946531614,
          0.013382062482282114,
          0.010517961951766597,
          0.008096362268231624,
          0.008557165441385331,
          0.008239314446390818,
          0.007453406187500604,
          0.008542174267206605,
          0.00842667448072972,
          0.009031308334838601,
          0.010893358551172695,
          0.012249854645151827,
          0.012226413237467966,
          0.010950802610089166,
          0.02100161219761342,
          0.02354999984752817,
          0.025038115079708028,
          0.021518614162937672,
          0.019343540657155416,
          0.017161357242353237,
          0.016165664783561427,
          0.012385331419574952,
          0.023376463587913517,
          0.020608372270212845,
          0.02167427129108024,
          0.022197113525732386,
          0.020608012653905414,
          0.021881275846589054,
          0.019358244067683064,
          0.01878362583639523,
          0.011376887438536985,
          0.01807049512943336,
          0.016082193408421555,
          0.014458197098966114,
          0.017581700315929656,
          0.018623854043470257,
          0.02232665056845682,
          0.03711107832386705,
          0.05298946539294893,
          0.05703949440293079,
          0.06301126634920064,
          0.06112028561222847,
          0.0483570025244617,
          0.02670168092741273,
          0.01037648218138744,
          0.010014271108336331,
          0.007292189316191858,
          0.006504803250323165,
          0.0066552781662484566,
          0.007035328141097175,
          0.01045330605257,
          0.010611630771211885,
          0.00793245023463432,
          0.012230901367023006,
          0.012557527093120364,
          0.01298296603995878,
          0.013529928604587264,
          0.008955094610281957,
          0.007730966589796103,
          0.007272812796375496,
          0.013897268188683181,
          0.014086550872302445,
          0.014208065284954049,
          0.014096204233469588,
          0.015007429283287792,
          0.016711238866088884,
          0.017741790751520114,
          0.007225853190395629,
          0.006565670268042664,
          0.0057387257451977465,
          0.004519497290212495,
          0.009890506776991529,
          0.012165930398137612,
          0.012431280549312003,
          0.013019217098205318,
          0.011941630108539367,
          0.010766781513144344,
          0.0023285031062114277,
          0.0019671163686491395,
          0.005611991137310335,
          0.006109608990913935,
          0.006270586517269043,
          0.006902674623090132,
          0.007389748458381767,
          0.007681463383902483,
          0.007680734958498593,
          0.008350731875504443,
          0.00936684574377221,
          0.009440692966918901,
          0.008903253293105583,
          0.0077056464474563055,
          0.0062729816372531595,
          0.005189822669457481,
          0.004137352573489012,
          0.009008328816254234,
          0.037531923845723784,
          0.05307154217096636,
          0.05861968338312808,
          0.05810481977698737,
          0.050820032779916126,
          0.03697112039412577,
          0.008604538967875702,
          0.005071791500508992,
          0.005076513276489557,
          0.005468315396229608,
          0.0054527674190898495,
          0.0054591458318653755,
          0.022044613036334232,
          0.02538404731924428,
          0.02671191977911579,
          0.02827381341321345,
          0.029188686885239484,
          0.02978877190935069,
          0.030899346617009986,
          0.021058486707407963,
          0.00307030985319406,
          0.0065146442703788495,
          0.0063309503174792895,
          0.00630488101700424,
          0.006302409249721826,
          0.012749089371954615,
          0.012750632503379628,
          0.013944349357826251,
          0.01593503858898823,
          0.018688708525458068,
          0.02010558089595484,
          0.020404461771501684,
          0.011699206430463767,
          0.011201916512527431,
          0.010751598455597557,
          0.010585666841420049,
          0.010698886720225526,
          0.010670513653914894,
          0.012751634869052382,
          0.014056761541289603,
          0.011824146659791665,
          0.006202261564921749,
          0.010529371372706287,
          0.01214519520869528,
          0.013649222065198321,
          0.022221497618999428,
          0.022092856698008187,
          0.01862262660825083,
          0.014979818760715271,
          0.013981183048504384,
          0.012730280031252606,
          0.009294148718207745,
          0.008922205825023094,
          0.008653119183813009,
          0.009032826750067327,
          0.01456475228512365,
          0.018602976987151864,
          0.018794371936158464,
          0.01672197472300414,
          0.011686232412761665,
          0.021904344109698954,
          0.027212529239552957,
          0.028814863711392514,
          0.02940541635262673,
          0.03329446039297776,
          0.03150885012551376,
          0.025292591105287823,
          0.05125880822960226,
          0.06614158318453077,
          0.07148017570216111,
          0.06655482866844285,
          0.05945382428987869,
          0.046687218664900845,
          0.01454516176125806,
          0.007972704018513951,
          0.008102731290111262,
          0.014385077946313453,
          0.014572375111799556,
          0.01183828755943493,
          0.009508065749936769,
          0.008872228523406137,
          0.007219786100501671,
          0.0073141349966681785,
          0.008758250723387408,
          0.01820359882372307,
          0.0248590252700099,
          0.026999048713330972,
          0.025546792353175054,
          0.02020454243693881,
          0.019612168406844335,
          0.019663714057416563,
          0.021447886892563835,
          0.02053848353288816,
          0.019633949299565752,
          0.02016920210390314,
          0.021526038845170434,
          0.02080091924290989,
          0.01773484104216006,
          0.01674688549474035,
          0.017809310560884153,
          0.017900883285928603,
          0.017921676534590036,
          0.01769082030283042,
          0.006328001101499176,
          0.006855429774734436,
          0.005919644966460517,
          0.01174472450652515,
          0.019925675595490147,
          0.025807061786921118,
          0.03852412862336085,
          0.0559773865667152,
          0.05970766552856451,
          0.052402665876363094,
          0.04604036880245842,
          0.03526842878456787,
          0.016797329273121296,
          0.024276144130771872,
          0.02885953037685491,
          0.02785252676365635,
          0.027554016555073148,
          0.025058185375476195,
          0.021817843238142287,
          0.017033707548615995,
          0.015646472427678866,
          0.01380419201896899,
          0.017352226778521215,
          0.02073025535973038,
          0.02263234245761162,
          0.022834687252165916,
          0.015218862999877915,
          0.01390610301996143,
          0.01237608298052985,
          0.012204132500853424,
          0.01342101705478413,
          0.014755376665012707,
          0.014221960250147629,
          0.01456653704440643,
          0.01791249924140574,
          0.025529775247915738,
          0.02532470105387005,
          0.02650333497677597,
          0.024650571951830104,
          0.020632006774302863,
          0.014566472275167067,
          0.027751542770399113,
          0.030661915535478326,
          0.02904361727105772,
          0.028844178939456403,
          0.036625842207430356,
          0.041896641869258865,
          0.05144873290246734,
          0.04948725208277818,
          0.045383252824183956,
          0.03446327072120375,
          0.016265770653964756,
          0.017139604186846066,
          0.016594795133975448,
          0.017091184876246935,
          0.028584121770382054,
          0.02795954110847411,
          0.023699647770923732,
          0.024330225874649215,
          0.024609188452397016,
          0.026140340364235556
         ],
         "yaxis": "y"
        },
        {
         "hovertemplate": "Category=Validation<br>Dash=solid<br>Time=%{x}<br>Value=%{y}<extra></extra>",
         "legendgroup": "Validation, solid",
         "line": {
          "color": "orange",
          "dash": "solid"
         },
         "marker": {
          "symbol": "circle"
         },
         "mode": "lines",
         "name": "Validation, solid",
         "orientation": "v",
         "showlegend": true,
         "type": "scatter",
         "x": [
          4936,
          4937,
          4938,
          4939,
          4940,
          4941,
          4942,
          4943,
          4944,
          4945,
          4946,
          4947,
          4948,
          4949,
          4950,
          4951,
          4952,
          4953,
          4954,
          4955,
          4956
         ],
         "xaxis": "x",
         "y": [
          0.027507385095884077,
          0.031783247112300364,
          0.03066317006310428,
          0.02576687347772278,
          0.013329660776163068,
          0.011847478677326412,
          0.010081861738138883,
          0.006582464298913406,
          0.005814325959187736,
          0.006091703754081897,
          0.013030198775785044,
          0.022308339836237225,
          0.03720909840757646,
          0.046272054273852614,
          0.04894298943574626,
          0.051145273745035566,
          0.043949626045711385,
          0.04309555941131344,
          0.03741282917921657,
          0.03502405729326893,
          0.028621437346219043
         ],
         "yaxis": "y"
        },
        {
         "hovertemplate": "Category=Test<br>Dash=solid<br>Time=%{x}<br>Value=%{y}<extra></extra>",
         "legendgroup": "Test, solid",
         "line": {
          "color": "green",
          "dash": "solid"
         },
         "marker": {
          "symbol": "circle"
         },
         "mode": "lines",
         "name": "Test, solid",
         "orientation": "v",
         "showlegend": true,
         "type": "scatter",
         "x": [
          4957,
          4958,
          4959,
          4960,
          4961,
          4962,
          4963,
          4964,
          4965,
          4966,
          4967,
          4968,
          4969,
          4970,
          4971,
          4972,
          4973,
          4974,
          4975,
          4976,
          4977
         ],
         "xaxis": "x",
         "y": [
          0.019928823996741167,
          0.01625095390420427,
          0.004356100787565312,
          0.0042300286851000716,
          0.006370173047353218,
          0.010051915820708744,
          0.010088274116875488,
          0.009340581146578307,
          0.02223285374226149,
          0.04111047321028297,
          0.07375888532910911,
          0.0816996717993888,
          0.0815932566913748,
          0.07303539772345678,
          0.053641573223047787,
          0.05052782963180867,
          0.03465870480255565,
          0.03695426282665235,
          0.03530704591924683,
          0.03660650562452209,
          0.031785640069811535
         ],
         "yaxis": "y"
        },
        {
         "hovertemplate": "Category=Prediction<br>Dash=dash<br>Time=%{x}<br>Value=%{y}<extra></extra>",
         "legendgroup": "Prediction, dash",
         "line": {
          "color": "red",
          "dash": "dot"
         },
         "marker": {
          "symbol": "circle"
         },
         "mode": "lines",
         "name": "Prediction, dash",
         "orientation": "v",
         "showlegend": true,
         "type": "scatter",
         "x": [
          4957,
          4958,
          4959,
          4960,
          4961,
          4962,
          4963,
          4964,
          4965,
          4966,
          4967,
          4968,
          4969,
          4970,
          4971,
          4972,
          4973,
          4974,
          4975,
          4976,
          4977
         ],
         "xaxis": "x",
         "y": [
          0.0001260452482880425,
          0.00036836075508641736,
          0.000674782713674964,
          0.0010462291453846673,
          0.0014880929708827048,
          0.00197964329536975,
          0.002514933232195927,
          0.0031407527083299985,
          0.0039020141033645787,
          0.004836940337123948,
          0.00599065341907429,
          0.007418382867329855,
          0.009177985209293941,
          0.011331466047272651,
          0.013956535699018792,
          0.017151800482817718,
          0.021038968748510602,
          0.025768285406515566,
          0.03152584137688486,
          0.038539770406443075,
          0.04708717285609419
         ],
         "yaxis": "y"
        }
       ],
       "layout": {
        "legend": {
         "title": {
          "text": ""
         },
         "tracegroupgap": 0
        },
        "template": {
         "data": {
          "bar": [
           {
            "error_x": {
             "color": "#2a3f5f"
            },
            "error_y": {
             "color": "#2a3f5f"
            },
            "marker": {
             "line": {
              "color": "white",
              "width": 0.5
             },
             "pattern": {
              "fillmode": "overlay",
              "size": 10,
              "solidity": 0.2
             }
            },
            "type": "bar"
           }
          ],
          "barpolar": [
           {
            "marker": {
             "line": {
              "color": "white",
              "width": 0.5
             },
             "pattern": {
              "fillmode": "overlay",
              "size": 10,
              "solidity": 0.2
             }
            },
            "type": "barpolar"
           }
          ],
          "carpet": [
           {
            "aaxis": {
             "endlinecolor": "#2a3f5f",
             "gridcolor": "#C8D4E3",
             "linecolor": "#C8D4E3",
             "minorgridcolor": "#C8D4E3",
             "startlinecolor": "#2a3f5f"
            },
            "baxis": {
             "endlinecolor": "#2a3f5f",
             "gridcolor": "#C8D4E3",
             "linecolor": "#C8D4E3",
             "minorgridcolor": "#C8D4E3",
             "startlinecolor": "#2a3f5f"
            },
            "type": "carpet"
           }
          ],
          "choropleth": [
           {
            "colorbar": {
             "outlinewidth": 0,
             "ticks": ""
            },
            "type": "choropleth"
           }
          ],
          "contour": [
           {
            "colorbar": {
             "outlinewidth": 0,
             "ticks": ""
            },
            "colorscale": [
             [
              0,
              "#0d0887"
             ],
             [
              0.1111111111111111,
              "#46039f"
             ],
             [
              0.2222222222222222,
              "#7201a8"
             ],
             [
              0.3333333333333333,
              "#9c179e"
             ],
             [
              0.4444444444444444,
              "#bd3786"
             ],
             [
              0.5555555555555556,
              "#d8576b"
             ],
             [
              0.6666666666666666,
              "#ed7953"
             ],
             [
              0.7777777777777778,
              "#fb9f3a"
             ],
             [
              0.8888888888888888,
              "#fdca26"
             ],
             [
              1,
              "#f0f921"
             ]
            ],
            "type": "contour"
           }
          ],
          "contourcarpet": [
           {
            "colorbar": {
             "outlinewidth": 0,
             "ticks": ""
            },
            "type": "contourcarpet"
           }
          ],
          "heatmap": [
           {
            "colorbar": {
             "outlinewidth": 0,
             "ticks": ""
            },
            "colorscale": [
             [
              0,
              "#0d0887"
             ],
             [
              0.1111111111111111,
              "#46039f"
             ],
             [
              0.2222222222222222,
              "#7201a8"
             ],
             [
              0.3333333333333333,
              "#9c179e"
             ],
             [
              0.4444444444444444,
              "#bd3786"
             ],
             [
              0.5555555555555556,
              "#d8576b"
             ],
             [
              0.6666666666666666,
              "#ed7953"
             ],
             [
              0.7777777777777778,
              "#fb9f3a"
             ],
             [
              0.8888888888888888,
              "#fdca26"
             ],
             [
              1,
              "#f0f921"
             ]
            ],
            "type": "heatmap"
           }
          ],
          "heatmapgl": [
           {
            "colorbar": {
             "outlinewidth": 0,
             "ticks": ""
            },
            "colorscale": [
             [
              0,
              "#0d0887"
             ],
             [
              0.1111111111111111,
              "#46039f"
             ],
             [
              0.2222222222222222,
              "#7201a8"
             ],
             [
              0.3333333333333333,
              "#9c179e"
             ],
             [
              0.4444444444444444,
              "#bd3786"
             ],
             [
              0.5555555555555556,
              "#d8576b"
             ],
             [
              0.6666666666666666,
              "#ed7953"
             ],
             [
              0.7777777777777778,
              "#fb9f3a"
             ],
             [
              0.8888888888888888,
              "#fdca26"
             ],
             [
              1,
              "#f0f921"
             ]
            ],
            "type": "heatmapgl"
           }
          ],
          "histogram": [
           {
            "marker": {
             "pattern": {
              "fillmode": "overlay",
              "size": 10,
              "solidity": 0.2
             }
            },
            "type": "histogram"
           }
          ],
          "histogram2d": [
           {
            "colorbar": {
             "outlinewidth": 0,
             "ticks": ""
            },
            "colorscale": [
             [
              0,
              "#0d0887"
             ],
             [
              0.1111111111111111,
              "#46039f"
             ],
             [
              0.2222222222222222,
              "#7201a8"
             ],
             [
              0.3333333333333333,
              "#9c179e"
             ],
             [
              0.4444444444444444,
              "#bd3786"
             ],
             [
              0.5555555555555556,
              "#d8576b"
             ],
             [
              0.6666666666666666,
              "#ed7953"
             ],
             [
              0.7777777777777778,
              "#fb9f3a"
             ],
             [
              0.8888888888888888,
              "#fdca26"
             ],
             [
              1,
              "#f0f921"
             ]
            ],
            "type": "histogram2d"
           }
          ],
          "histogram2dcontour": [
           {
            "colorbar": {
             "outlinewidth": 0,
             "ticks": ""
            },
            "colorscale": [
             [
              0,
              "#0d0887"
             ],
             [
              0.1111111111111111,
              "#46039f"
             ],
             [
              0.2222222222222222,
              "#7201a8"
             ],
             [
              0.3333333333333333,
              "#9c179e"
             ],
             [
              0.4444444444444444,
              "#bd3786"
             ],
             [
              0.5555555555555556,
              "#d8576b"
             ],
             [
              0.6666666666666666,
              "#ed7953"
             ],
             [
              0.7777777777777778,
              "#fb9f3a"
             ],
             [
              0.8888888888888888,
              "#fdca26"
             ],
             [
              1,
              "#f0f921"
             ]
            ],
            "type": "histogram2dcontour"
           }
          ],
          "mesh3d": [
           {
            "colorbar": {
             "outlinewidth": 0,
             "ticks": ""
            },
            "type": "mesh3d"
           }
          ],
          "parcoords": [
           {
            "line": {
             "colorbar": {
              "outlinewidth": 0,
              "ticks": ""
             }
            },
            "type": "parcoords"
           }
          ],
          "pie": [
           {
            "automargin": true,
            "type": "pie"
           }
          ],
          "scatter": [
           {
            "fillpattern": {
             "fillmode": "overlay",
             "size": 10,
             "solidity": 0.2
            },
            "type": "scatter"
           }
          ],
          "scatter3d": [
           {
            "line": {
             "colorbar": {
              "outlinewidth": 0,
              "ticks": ""
             }
            },
            "marker": {
             "colorbar": {
              "outlinewidth": 0,
              "ticks": ""
             }
            },
            "type": "scatter3d"
           }
          ],
          "scattercarpet": [
           {
            "marker": {
             "colorbar": {
              "outlinewidth": 0,
              "ticks": ""
             }
            },
            "type": "scattercarpet"
           }
          ],
          "scattergeo": [
           {
            "marker": {
             "colorbar": {
              "outlinewidth": 0,
              "ticks": ""
             }
            },
            "type": "scattergeo"
           }
          ],
          "scattergl": [
           {
            "marker": {
             "colorbar": {
              "outlinewidth": 0,
              "ticks": ""
             }
            },
            "type": "scattergl"
           }
          ],
          "scattermapbox": [
           {
            "marker": {
             "colorbar": {
              "outlinewidth": 0,
              "ticks": ""
             }
            },
            "type": "scattermapbox"
           }
          ],
          "scatterpolar": [
           {
            "marker": {
             "colorbar": {
              "outlinewidth": 0,
              "ticks": ""
             }
            },
            "type": "scatterpolar"
           }
          ],
          "scatterpolargl": [
           {
            "marker": {
             "colorbar": {
              "outlinewidth": 0,
              "ticks": ""
             }
            },
            "type": "scatterpolargl"
           }
          ],
          "scatterternary": [
           {
            "marker": {
             "colorbar": {
              "outlinewidth": 0,
              "ticks": ""
             }
            },
            "type": "scatterternary"
           }
          ],
          "surface": [
           {
            "colorbar": {
             "outlinewidth": 0,
             "ticks": ""
            },
            "colorscale": [
             [
              0,
              "#0d0887"
             ],
             [
              0.1111111111111111,
              "#46039f"
             ],
             [
              0.2222222222222222,
              "#7201a8"
             ],
             [
              0.3333333333333333,
              "#9c179e"
             ],
             [
              0.4444444444444444,
              "#bd3786"
             ],
             [
              0.5555555555555556,
              "#d8576b"
             ],
             [
              0.6666666666666666,
              "#ed7953"
             ],
             [
              0.7777777777777778,
              "#fb9f3a"
             ],
             [
              0.8888888888888888,
              "#fdca26"
             ],
             [
              1,
              "#f0f921"
             ]
            ],
            "type": "surface"
           }
          ],
          "table": [
           {
            "cells": {
             "fill": {
              "color": "#EBF0F8"
             },
             "line": {
              "color": "white"
             }
            },
            "header": {
             "fill": {
              "color": "#C8D4E3"
             },
             "line": {
              "color": "white"
             }
            },
            "type": "table"
           }
          ]
         },
         "layout": {
          "annotationdefaults": {
           "arrowcolor": "#2a3f5f",
           "arrowhead": 0,
           "arrowwidth": 1
          },
          "autotypenumbers": "strict",
          "coloraxis": {
           "colorbar": {
            "outlinewidth": 0,
            "ticks": ""
           }
          },
          "colorscale": {
           "diverging": [
            [
             0,
             "#8e0152"
            ],
            [
             0.1,
             "#c51b7d"
            ],
            [
             0.2,
             "#de77ae"
            ],
            [
             0.3,
             "#f1b6da"
            ],
            [
             0.4,
             "#fde0ef"
            ],
            [
             0.5,
             "#f7f7f7"
            ],
            [
             0.6,
             "#e6f5d0"
            ],
            [
             0.7,
             "#b8e186"
            ],
            [
             0.8,
             "#7fbc41"
            ],
            [
             0.9,
             "#4d9221"
            ],
            [
             1,
             "#276419"
            ]
           ],
           "sequential": [
            [
             0,
             "#0d0887"
            ],
            [
             0.1111111111111111,
             "#46039f"
            ],
            [
             0.2222222222222222,
             "#7201a8"
            ],
            [
             0.3333333333333333,
             "#9c179e"
            ],
            [
             0.4444444444444444,
             "#bd3786"
            ],
            [
             0.5555555555555556,
             "#d8576b"
            ],
            [
             0.6666666666666666,
             "#ed7953"
            ],
            [
             0.7777777777777778,
             "#fb9f3a"
            ],
            [
             0.8888888888888888,
             "#fdca26"
            ],
            [
             1,
             "#f0f921"
            ]
           ],
           "sequentialminus": [
            [
             0,
             "#0d0887"
            ],
            [
             0.1111111111111111,
             "#46039f"
            ],
            [
             0.2222222222222222,
             "#7201a8"
            ],
            [
             0.3333333333333333,
             "#9c179e"
            ],
            [
             0.4444444444444444,
             "#bd3786"
            ],
            [
             0.5555555555555556,
             "#d8576b"
            ],
            [
             0.6666666666666666,
             "#ed7953"
            ],
            [
             0.7777777777777778,
             "#fb9f3a"
            ],
            [
             0.8888888888888888,
             "#fdca26"
            ],
            [
             1,
             "#f0f921"
            ]
           ]
          },
          "colorway": [
           "#636efa",
           "#EF553B",
           "#00cc96",
           "#ab63fa",
           "#FFA15A",
           "#19d3f3",
           "#FF6692",
           "#B6E880",
           "#FF97FF",
           "#FECB52"
          ],
          "font": {
           "color": "#2a3f5f"
          },
          "geo": {
           "bgcolor": "white",
           "lakecolor": "white",
           "landcolor": "white",
           "showlakes": true,
           "showland": true,
           "subunitcolor": "#C8D4E3"
          },
          "hoverlabel": {
           "align": "left"
          },
          "hovermode": "closest",
          "mapbox": {
           "style": "light"
          },
          "paper_bgcolor": "white",
          "plot_bgcolor": "white",
          "polar": {
           "angularaxis": {
            "gridcolor": "#EBF0F8",
            "linecolor": "#EBF0F8",
            "ticks": ""
           },
           "bgcolor": "white",
           "radialaxis": {
            "gridcolor": "#EBF0F8",
            "linecolor": "#EBF0F8",
            "ticks": ""
           }
          },
          "scene": {
           "xaxis": {
            "backgroundcolor": "white",
            "gridcolor": "#DFE8F3",
            "gridwidth": 2,
            "linecolor": "#EBF0F8",
            "showbackground": true,
            "ticks": "",
            "zerolinecolor": "#EBF0F8"
           },
           "yaxis": {
            "backgroundcolor": "white",
            "gridcolor": "#DFE8F3",
            "gridwidth": 2,
            "linecolor": "#EBF0F8",
            "showbackground": true,
            "ticks": "",
            "zerolinecolor": "#EBF0F8"
           },
           "zaxis": {
            "backgroundcolor": "white",
            "gridcolor": "#DFE8F3",
            "gridwidth": 2,
            "linecolor": "#EBF0F8",
            "showbackground": true,
            "ticks": "",
            "zerolinecolor": "#EBF0F8"
           }
          },
          "shapedefaults": {
           "line": {
            "color": "#2a3f5f"
           }
          },
          "ternary": {
           "aaxis": {
            "gridcolor": "#DFE8F3",
            "linecolor": "#A2B1C6",
            "ticks": ""
           },
           "baxis": {
            "gridcolor": "#DFE8F3",
            "linecolor": "#A2B1C6",
            "ticks": ""
           },
           "bgcolor": "white",
           "caxis": {
            "gridcolor": "#DFE8F3",
            "linecolor": "#A2B1C6",
            "ticks": ""
           }
          },
          "title": {
           "x": 0.05
          },
          "xaxis": {
           "automargin": true,
           "gridcolor": "#EBF0F8",
           "linecolor": "#EBF0F8",
           "ticks": "",
           "title": {
            "standoff": 15
           },
           "zerolinecolor": "#EBF0F8",
           "zerolinewidth": 2
          },
          "yaxis": {
           "automargin": true,
           "gridcolor": "#EBF0F8",
           "linecolor": "#EBF0F8",
           "ticks": "",
           "title": {
            "standoff": 15
           },
           "zerolinecolor": "#EBF0F8",
           "zerolinewidth": 2
          }
         }
        },
        "title": {
         "text": "SSE, MAE: 0.02"
        },
        "xaxis": {
         "anchor": "y",
         "domain": [
          0,
          1
         ],
         "title": {
          "text": "Time"
         }
        },
        "yaxis": {
         "anchor": "x",
         "domain": [
          0,
          1
         ],
         "title": {
          "text": "Value"
         }
        }
       }
      }
     },
     "metadata": {},
     "output_type": "display_data"
    },
    {
     "data": {
      "text/html": [
       "<p style=\"color: red; font-size: 20px;\">Resultados de Testing para ventana de: 28</p>"
      ],
      "text/plain": [
       "<IPython.core.display.HTML object>"
      ]
     },
     "metadata": {},
     "output_type": "display_data"
    },
    {
     "data": {
      "text/html": [
       "<p style=\"color: red; font-size: 15px;\">Metricas</p>"
      ],
      "text/plain": [
       "<IPython.core.display.HTML object>"
      ]
     },
     "metadata": {},
     "output_type": "display_data"
    },
    {
     "name": "stdout",
     "output_type": "stream",
     "text": [
      "               model  window       MAE       MSE      MAPE      RMSE       R2  \\\n",
      "train  ARIMA_ROLLING      28  0.029318  0.001342  0.659943  0.036633 -3.52389   \n",
      "\n",
      "       Ljung-Box p-value  Jarque-Bera p-value  \n",
      "train       1.516195e-07             0.236185  \n"
     ]
    },
    {
     "data": {
      "application/vnd.plotly.v1+json": {
       "config": {
        "plotlyServerURL": "https://plot.ly"
       },
       "data": [
        {
         "hovertemplate": "Category=Train<br>Dash=solid<br>Time=%{x}<br>Value=%{y}<extra></extra>",
         "legendgroup": "Train, solid",
         "line": {
          "color": "blue",
          "dash": "solid"
         },
         "marker": {
          "symbol": "circle"
         },
         "mode": "lines",
         "name": "Train, solid",
         "orientation": "v",
         "showlegend": true,
         "type": "scatter",
         "x": [
          4636,
          4637,
          4638,
          4639,
          4640,
          4641,
          4642,
          4643,
          4644,
          4645,
          4646,
          4647,
          4648,
          4649,
          4650,
          4651,
          4652,
          4653,
          4654,
          4655,
          4656,
          4657,
          4658,
          4659,
          4660,
          4661,
          4662,
          4663,
          4664,
          4665,
          4666,
          4667,
          4668,
          4669,
          4670,
          4671,
          4672,
          4673,
          4674,
          4675,
          4676,
          4677,
          4678,
          4679,
          4680,
          4681,
          4682,
          4683,
          4684,
          4685,
          4686,
          4687,
          4688,
          4689,
          4690,
          4691,
          4692,
          4693,
          4694,
          4695,
          4696,
          4697,
          4698,
          4699,
          4700,
          4701,
          4702,
          4703,
          4704,
          4705,
          4706,
          4707,
          4708,
          4709,
          4710,
          4711,
          4712,
          4713,
          4714,
          4715,
          4716,
          4717,
          4718,
          4719,
          4720,
          4721,
          4722,
          4723,
          4724,
          4725,
          4726,
          4727,
          4728,
          4729,
          4730,
          4731,
          4732,
          4733,
          4734,
          4735,
          4736,
          4737,
          4738,
          4739,
          4740,
          4741,
          4742,
          4743,
          4744,
          4745,
          4746,
          4747,
          4748,
          4749,
          4750,
          4751,
          4752,
          4753,
          4754,
          4755,
          4756,
          4757,
          4758,
          4759,
          4760,
          4761,
          4762,
          4763,
          4764,
          4765,
          4766,
          4767,
          4768,
          4769,
          4770,
          4771,
          4772,
          4773,
          4774,
          4775,
          4776,
          4777,
          4778,
          4779,
          4780,
          4781,
          4782,
          4783,
          4784,
          4785,
          4786,
          4787,
          4788,
          4789,
          4790,
          4791,
          4792,
          4793,
          4794,
          4795,
          4796,
          4797,
          4798,
          4799,
          4800,
          4801,
          4802,
          4803,
          4804,
          4805,
          4806,
          4807,
          4808,
          4809,
          4810,
          4811,
          4812,
          4813,
          4814,
          4815,
          4816,
          4817,
          4818,
          4819,
          4820,
          4821,
          4822,
          4823,
          4824,
          4825,
          4826,
          4827,
          4828,
          4829,
          4830,
          4831,
          4832,
          4833,
          4834,
          4835,
          4836,
          4837,
          4838,
          4839,
          4840,
          4841,
          4842,
          4843,
          4844,
          4845,
          4846,
          4847,
          4848,
          4849,
          4850,
          4851,
          4852,
          4853,
          4854,
          4855,
          4856,
          4857,
          4858,
          4859,
          4860,
          4861,
          4862,
          4863,
          4864,
          4865,
          4866,
          4867,
          4868,
          4869,
          4870,
          4871,
          4872,
          4873,
          4874,
          4875,
          4876,
          4877,
          4878,
          4879,
          4880,
          4881,
          4882,
          4883,
          4884,
          4885,
          4886,
          4887,
          4888,
          4889,
          4890,
          4891,
          4892,
          4893,
          4894,
          4895,
          4896,
          4897,
          4898,
          4899,
          4900,
          4901,
          4902,
          4903,
          4904,
          4905,
          4906,
          4907,
          4908,
          4909,
          4910,
          4911,
          4912,
          4913,
          4914,
          4915,
          4916,
          4917,
          4918,
          4919,
          4920,
          4921,
          4922,
          4923,
          4924,
          4925,
          4926,
          4927,
          4928,
          4929,
          4930,
          4931,
          4932,
          4933,
          4934,
          4935
         ],
         "xaxis": "x",
         "y": [
          0.015312581016100777,
          0.00864206110320323,
          0.008338725149210966,
          0.00834984846643245,
          0.007665363023895029,
          0.005492232062767007,
          0.0064271143661438265,
          0.02052479514364847,
          0.03138391505820716,
          0.03439452446257432,
          0.03674414184562301,
          0.03417452372356237,
          0.024998395513818297,
          0.009824420885957608,
          0.012272809143506806,
          0.012544297897058763,
          0.022187873180293076,
          0.03135594777019659,
          0.04283166393811094,
          0.0430980243417362,
          0.03969160152030896,
          0.038386471070372574,
          0.019608731215748725,
          0.016006980495802358,
          0.02615478635643206,
          0.027416944521263146,
          0.028184926757933604,
          0.025072514349510626,
          0.020082893347646378,
          0.018693951710993823,
          0.01724541604185706,
          0.015676425857539804,
          0.01655732643406277,
          0.01586493140898991,
          0.015696863388332608,
          0.020230646173567412,
          0.025023334152776744,
          0.02677104643182425,
          0.031229928785318307,
          0.02655699686637101,
          0.02193608074398014,
          0.015416654946531614,
          0.013382062482282114,
          0.010517961951766597,
          0.008096362268231624,
          0.008557165441385331,
          0.008239314446390818,
          0.007453406187500604,
          0.008542174267206605,
          0.00842667448072972,
          0.009031308334838601,
          0.010893358551172695,
          0.012249854645151827,
          0.012226413237467966,
          0.010950802610089166,
          0.02100161219761342,
          0.02354999984752817,
          0.025038115079708028,
          0.021518614162937672,
          0.019343540657155416,
          0.017161357242353237,
          0.016165664783561427,
          0.012385331419574952,
          0.023376463587913517,
          0.020608372270212845,
          0.02167427129108024,
          0.022197113525732386,
          0.020608012653905414,
          0.021881275846589054,
          0.019358244067683064,
          0.01878362583639523,
          0.011376887438536985,
          0.01807049512943336,
          0.016082193408421555,
          0.014458197098966114,
          0.017581700315929656,
          0.018623854043470257,
          0.02232665056845682,
          0.03711107832386705,
          0.05298946539294893,
          0.05703949440293079,
          0.06301126634920064,
          0.06112028561222847,
          0.0483570025244617,
          0.02670168092741273,
          0.01037648218138744,
          0.010014271108336331,
          0.007292189316191858,
          0.006504803250323165,
          0.0066552781662484566,
          0.007035328141097175,
          0.01045330605257,
          0.010611630771211885,
          0.00793245023463432,
          0.012230901367023006,
          0.012557527093120364,
          0.01298296603995878,
          0.013529928604587264,
          0.008955094610281957,
          0.007730966589796103,
          0.007272812796375496,
          0.013897268188683181,
          0.014086550872302445,
          0.014208065284954049,
          0.014096204233469588,
          0.015007429283287792,
          0.016711238866088884,
          0.017741790751520114,
          0.007225853190395629,
          0.006565670268042664,
          0.0057387257451977465,
          0.004519497290212495,
          0.009890506776991529,
          0.012165930398137612,
          0.012431280549312003,
          0.013019217098205318,
          0.011941630108539367,
          0.010766781513144344,
          0.0023285031062114277,
          0.0019671163686491395,
          0.005611991137310335,
          0.006109608990913935,
          0.006270586517269043,
          0.006902674623090132,
          0.007389748458381767,
          0.007681463383902483,
          0.007680734958498593,
          0.008350731875504443,
          0.00936684574377221,
          0.009440692966918901,
          0.008903253293105583,
          0.0077056464474563055,
          0.0062729816372531595,
          0.005189822669457481,
          0.004137352573489012,
          0.009008328816254234,
          0.037531923845723784,
          0.05307154217096636,
          0.05861968338312808,
          0.05810481977698737,
          0.050820032779916126,
          0.03697112039412577,
          0.008604538967875702,
          0.005071791500508992,
          0.005076513276489557,
          0.005468315396229608,
          0.0054527674190898495,
          0.0054591458318653755,
          0.022044613036334232,
          0.02538404731924428,
          0.02671191977911579,
          0.02827381341321345,
          0.029188686885239484,
          0.02978877190935069,
          0.030899346617009986,
          0.021058486707407963,
          0.00307030985319406,
          0.0065146442703788495,
          0.0063309503174792895,
          0.00630488101700424,
          0.006302409249721826,
          0.012749089371954615,
          0.012750632503379628,
          0.013944349357826251,
          0.01593503858898823,
          0.018688708525458068,
          0.02010558089595484,
          0.020404461771501684,
          0.011699206430463767,
          0.011201916512527431,
          0.010751598455597557,
          0.010585666841420049,
          0.010698886720225526,
          0.010670513653914894,
          0.012751634869052382,
          0.014056761541289603,
          0.011824146659791665,
          0.006202261564921749,
          0.010529371372706287,
          0.01214519520869528,
          0.013649222065198321,
          0.022221497618999428,
          0.022092856698008187,
          0.01862262660825083,
          0.014979818760715271,
          0.013981183048504384,
          0.012730280031252606,
          0.009294148718207745,
          0.008922205825023094,
          0.008653119183813009,
          0.009032826750067327,
          0.01456475228512365,
          0.018602976987151864,
          0.018794371936158464,
          0.01672197472300414,
          0.011686232412761665,
          0.021904344109698954,
          0.027212529239552957,
          0.028814863711392514,
          0.02940541635262673,
          0.03329446039297776,
          0.03150885012551376,
          0.025292591105287823,
          0.05125880822960226,
          0.06614158318453077,
          0.07148017570216111,
          0.06655482866844285,
          0.05945382428987869,
          0.046687218664900845,
          0.01454516176125806,
          0.007972704018513951,
          0.008102731290111262,
          0.014385077946313453,
          0.014572375111799556,
          0.01183828755943493,
          0.009508065749936769,
          0.008872228523406137,
          0.007219786100501671,
          0.0073141349966681785,
          0.008758250723387408,
          0.01820359882372307,
          0.0248590252700099,
          0.026999048713330972,
          0.025546792353175054,
          0.02020454243693881,
          0.019612168406844335,
          0.019663714057416563,
          0.021447886892563835,
          0.02053848353288816,
          0.019633949299565752,
          0.02016920210390314,
          0.021526038845170434,
          0.02080091924290989,
          0.01773484104216006,
          0.01674688549474035,
          0.017809310560884153,
          0.017900883285928603,
          0.017921676534590036,
          0.01769082030283042,
          0.006328001101499176,
          0.006855429774734436,
          0.005919644966460517,
          0.01174472450652515,
          0.019925675595490147,
          0.025807061786921118,
          0.03852412862336085,
          0.0559773865667152,
          0.05970766552856451,
          0.052402665876363094,
          0.04604036880245842,
          0.03526842878456787,
          0.016797329273121296,
          0.024276144130771872,
          0.02885953037685491,
          0.02785252676365635,
          0.027554016555073148,
          0.025058185375476195,
          0.021817843238142287,
          0.017033707548615995,
          0.015646472427678866,
          0.01380419201896899,
          0.017352226778521215,
          0.02073025535973038,
          0.02263234245761162,
          0.022834687252165916,
          0.015218862999877915,
          0.01390610301996143,
          0.01237608298052985,
          0.012204132500853424,
          0.01342101705478413,
          0.014755376665012707,
          0.014221960250147629,
          0.01456653704440643,
          0.01791249924140574,
          0.025529775247915738,
          0.02532470105387005,
          0.02650333497677597,
          0.024650571951830104,
          0.020632006774302863,
          0.014566472275167067,
          0.027751542770399113,
          0.030661915535478326,
          0.02904361727105772,
          0.028844178939456403,
          0.036625842207430356,
          0.041896641869258865,
          0.05144873290246734,
          0.04948725208277818,
          0.045383252824183956,
          0.03446327072120375,
          0.016265770653964756,
          0.017139604186846066,
          0.016594795133975448,
          0.017091184876246935,
          0.028584121770382054,
          0.02795954110847411,
          0.023699647770923732,
          0.024330225874649215,
          0.024609188452397016,
          0.026140340364235556
         ],
         "yaxis": "y"
        },
        {
         "hovertemplate": "Category=Validation<br>Dash=solid<br>Time=%{x}<br>Value=%{y}<extra></extra>",
         "legendgroup": "Validation, solid",
         "line": {
          "color": "orange",
          "dash": "solid"
         },
         "marker": {
          "symbol": "circle"
         },
         "mode": "lines",
         "name": "Validation, solid",
         "orientation": "v",
         "showlegend": true,
         "type": "scatter",
         "x": [
          4936,
          4937,
          4938,
          4939,
          4940,
          4941,
          4942,
          4943,
          4944,
          4945,
          4946,
          4947,
          4948,
          4949,
          4950,
          4951,
          4952,
          4953,
          4954,
          4955,
          4956,
          4957,
          4958,
          4959,
          4960,
          4961,
          4962,
          4963
         ],
         "xaxis": "x",
         "y": [
          0.027507385095884077,
          0.031783247112300364,
          0.03066317006310428,
          0.02576687347772278,
          0.013329660776163068,
          0.011847478677326412,
          0.010081861738138883,
          0.006582464298913406,
          0.005814325959187736,
          0.006091703754081897,
          0.013030198775785044,
          0.022308339836237225,
          0.03720909840757646,
          0.046272054273852614,
          0.04894298943574626,
          0.051145273745035566,
          0.043949626045711385,
          0.04309555941131344,
          0.03741282917921657,
          0.03502405729326893,
          0.028621437346219043,
          0.019928823996741167,
          0.01625095390420427,
          0.004356100787565312,
          0.0042300286851000716,
          0.006370173047353218,
          0.010051915820708744,
          0.010088274116875488
         ],
         "yaxis": "y"
        },
        {
         "hovertemplate": "Category=Test<br>Dash=solid<br>Time=%{x}<br>Value=%{y}<extra></extra>",
         "legendgroup": "Test, solid",
         "line": {
          "color": "green",
          "dash": "solid"
         },
         "marker": {
          "symbol": "circle"
         },
         "mode": "lines",
         "name": "Test, solid",
         "orientation": "v",
         "showlegend": true,
         "type": "scatter",
         "x": [
          4964,
          4965,
          4966,
          4967,
          4968,
          4969,
          4970,
          4971,
          4972,
          4973,
          4974,
          4975,
          4976,
          4977,
          4978,
          4979,
          4980,
          4981,
          4982,
          4983,
          4984,
          4985,
          4986,
          4987,
          4988,
          4989,
          4990,
          4991
         ],
         "xaxis": "x",
         "y": [
          0.009340581146578307,
          0.02223285374226149,
          0.04111047321028297,
          0.07375888532910911,
          0.0816996717993888,
          0.0815932566913748,
          0.07303539772345678,
          0.053641573223047787,
          0.05052782963180867,
          0.03465870480255565,
          0.03695426282665235,
          0.03530704591924683,
          0.03660650562452209,
          0.031785640069811535,
          0.02722769143723482,
          0.037593171102296145,
          0.031668106034374394,
          0.03277652605160781,
          0.027314816369996296,
          0.024571839031728153,
          0.03854182227757814,
          0.039784522935221216,
          0.03989506704275505,
          0.05724422247421482,
          0.0473077568803631,
          0.03987581671929571,
          0.03715655590015023,
          0.03900014424446078
         ],
         "yaxis": "y"
        },
        {
         "hovertemplate": "Category=Prediction<br>Dash=dash<br>Time=%{x}<br>Value=%{y}<extra></extra>",
         "legendgroup": "Prediction, dash",
         "line": {
          "color": "red",
          "dash": "dot"
         },
         "marker": {
          "symbol": "circle"
         },
         "mode": "lines",
         "name": "Prediction, dash",
         "orientation": "v",
         "showlegend": true,
         "type": "scatter",
         "x": [
          4964,
          4965,
          4966,
          4967,
          4968,
          4969,
          4970,
          4971,
          4972,
          4973,
          4974,
          4975,
          4976,
          4977,
          4978,
          4979,
          4980,
          4981,
          4982,
          4983,
          4984,
          4985,
          4986,
          4987,
          4988,
          4989,
          4990,
          4991
         ],
         "xaxis": "x",
         "y": [
          0.0002567402008462235,
          0.0006859025101485282,
          0.0011406368755898638,
          0.0016079703980524111,
          0.002087090267606096,
          0.002530876441189151,
          0.002929162411505989,
          0.0033573347237500248,
          0.0038607712664211866,
          0.0044563045112241155,
          0.005158934609914963,
          0.005986500866777362,
          0.00694601550437947,
          0.008036123621371979,
          0.009262553753461482,
          0.010639649975346312,
          0.012186645100619198,
          0.013927780311373941,
          0.015893491197268256,
          0.018118655508064366,
          0.020640550318539626,
          0.02349922924437893,
          0.026738744963886812,
          0.030408022709884026,
          0.03456192816021367,
          0.03926281631053313,
          0.04458199285092141,
          0.050600837527293094
         ],
         "yaxis": "y"
        }
       ],
       "layout": {
        "legend": {
         "title": {
          "text": ""
         },
         "tracegroupgap": 0
        },
        "template": {
         "data": {
          "bar": [
           {
            "error_x": {
             "color": "#2a3f5f"
            },
            "error_y": {
             "color": "#2a3f5f"
            },
            "marker": {
             "line": {
              "color": "white",
              "width": 0.5
             },
             "pattern": {
              "fillmode": "overlay",
              "size": 10,
              "solidity": 0.2
             }
            },
            "type": "bar"
           }
          ],
          "barpolar": [
           {
            "marker": {
             "line": {
              "color": "white",
              "width": 0.5
             },
             "pattern": {
              "fillmode": "overlay",
              "size": 10,
              "solidity": 0.2
             }
            },
            "type": "barpolar"
           }
          ],
          "carpet": [
           {
            "aaxis": {
             "endlinecolor": "#2a3f5f",
             "gridcolor": "#C8D4E3",
             "linecolor": "#C8D4E3",
             "minorgridcolor": "#C8D4E3",
             "startlinecolor": "#2a3f5f"
            },
            "baxis": {
             "endlinecolor": "#2a3f5f",
             "gridcolor": "#C8D4E3",
             "linecolor": "#C8D4E3",
             "minorgridcolor": "#C8D4E3",
             "startlinecolor": "#2a3f5f"
            },
            "type": "carpet"
           }
          ],
          "choropleth": [
           {
            "colorbar": {
             "outlinewidth": 0,
             "ticks": ""
            },
            "type": "choropleth"
           }
          ],
          "contour": [
           {
            "colorbar": {
             "outlinewidth": 0,
             "ticks": ""
            },
            "colorscale": [
             [
              0,
              "#0d0887"
             ],
             [
              0.1111111111111111,
              "#46039f"
             ],
             [
              0.2222222222222222,
              "#7201a8"
             ],
             [
              0.3333333333333333,
              "#9c179e"
             ],
             [
              0.4444444444444444,
              "#bd3786"
             ],
             [
              0.5555555555555556,
              "#d8576b"
             ],
             [
              0.6666666666666666,
              "#ed7953"
             ],
             [
              0.7777777777777778,
              "#fb9f3a"
             ],
             [
              0.8888888888888888,
              "#fdca26"
             ],
             [
              1,
              "#f0f921"
             ]
            ],
            "type": "contour"
           }
          ],
          "contourcarpet": [
           {
            "colorbar": {
             "outlinewidth": 0,
             "ticks": ""
            },
            "type": "contourcarpet"
           }
          ],
          "heatmap": [
           {
            "colorbar": {
             "outlinewidth": 0,
             "ticks": ""
            },
            "colorscale": [
             [
              0,
              "#0d0887"
             ],
             [
              0.1111111111111111,
              "#46039f"
             ],
             [
              0.2222222222222222,
              "#7201a8"
             ],
             [
              0.3333333333333333,
              "#9c179e"
             ],
             [
              0.4444444444444444,
              "#bd3786"
             ],
             [
              0.5555555555555556,
              "#d8576b"
             ],
             [
              0.6666666666666666,
              "#ed7953"
             ],
             [
              0.7777777777777778,
              "#fb9f3a"
             ],
             [
              0.8888888888888888,
              "#fdca26"
             ],
             [
              1,
              "#f0f921"
             ]
            ],
            "type": "heatmap"
           }
          ],
          "heatmapgl": [
           {
            "colorbar": {
             "outlinewidth": 0,
             "ticks": ""
            },
            "colorscale": [
             [
              0,
              "#0d0887"
             ],
             [
              0.1111111111111111,
              "#46039f"
             ],
             [
              0.2222222222222222,
              "#7201a8"
             ],
             [
              0.3333333333333333,
              "#9c179e"
             ],
             [
              0.4444444444444444,
              "#bd3786"
             ],
             [
              0.5555555555555556,
              "#d8576b"
             ],
             [
              0.6666666666666666,
              "#ed7953"
             ],
             [
              0.7777777777777778,
              "#fb9f3a"
             ],
             [
              0.8888888888888888,
              "#fdca26"
             ],
             [
              1,
              "#f0f921"
             ]
            ],
            "type": "heatmapgl"
           }
          ],
          "histogram": [
           {
            "marker": {
             "pattern": {
              "fillmode": "overlay",
              "size": 10,
              "solidity": 0.2
             }
            },
            "type": "histogram"
           }
          ],
          "histogram2d": [
           {
            "colorbar": {
             "outlinewidth": 0,
             "ticks": ""
            },
            "colorscale": [
             [
              0,
              "#0d0887"
             ],
             [
              0.1111111111111111,
              "#46039f"
             ],
             [
              0.2222222222222222,
              "#7201a8"
             ],
             [
              0.3333333333333333,
              "#9c179e"
             ],
             [
              0.4444444444444444,
              "#bd3786"
             ],
             [
              0.5555555555555556,
              "#d8576b"
             ],
             [
              0.6666666666666666,
              "#ed7953"
             ],
             [
              0.7777777777777778,
              "#fb9f3a"
             ],
             [
              0.8888888888888888,
              "#fdca26"
             ],
             [
              1,
              "#f0f921"
             ]
            ],
            "type": "histogram2d"
           }
          ],
          "histogram2dcontour": [
           {
            "colorbar": {
             "outlinewidth": 0,
             "ticks": ""
            },
            "colorscale": [
             [
              0,
              "#0d0887"
             ],
             [
              0.1111111111111111,
              "#46039f"
             ],
             [
              0.2222222222222222,
              "#7201a8"
             ],
             [
              0.3333333333333333,
              "#9c179e"
             ],
             [
              0.4444444444444444,
              "#bd3786"
             ],
             [
              0.5555555555555556,
              "#d8576b"
             ],
             [
              0.6666666666666666,
              "#ed7953"
             ],
             [
              0.7777777777777778,
              "#fb9f3a"
             ],
             [
              0.8888888888888888,
              "#fdca26"
             ],
             [
              1,
              "#f0f921"
             ]
            ],
            "type": "histogram2dcontour"
           }
          ],
          "mesh3d": [
           {
            "colorbar": {
             "outlinewidth": 0,
             "ticks": ""
            },
            "type": "mesh3d"
           }
          ],
          "parcoords": [
           {
            "line": {
             "colorbar": {
              "outlinewidth": 0,
              "ticks": ""
             }
            },
            "type": "parcoords"
           }
          ],
          "pie": [
           {
            "automargin": true,
            "type": "pie"
           }
          ],
          "scatter": [
           {
            "fillpattern": {
             "fillmode": "overlay",
             "size": 10,
             "solidity": 0.2
            },
            "type": "scatter"
           }
          ],
          "scatter3d": [
           {
            "line": {
             "colorbar": {
              "outlinewidth": 0,
              "ticks": ""
             }
            },
            "marker": {
             "colorbar": {
              "outlinewidth": 0,
              "ticks": ""
             }
            },
            "type": "scatter3d"
           }
          ],
          "scattercarpet": [
           {
            "marker": {
             "colorbar": {
              "outlinewidth": 0,
              "ticks": ""
             }
            },
            "type": "scattercarpet"
           }
          ],
          "scattergeo": [
           {
            "marker": {
             "colorbar": {
              "outlinewidth": 0,
              "ticks": ""
             }
            },
            "type": "scattergeo"
           }
          ],
          "scattergl": [
           {
            "marker": {
             "colorbar": {
              "outlinewidth": 0,
              "ticks": ""
             }
            },
            "type": "scattergl"
           }
          ],
          "scattermapbox": [
           {
            "marker": {
             "colorbar": {
              "outlinewidth": 0,
              "ticks": ""
             }
            },
            "type": "scattermapbox"
           }
          ],
          "scatterpolar": [
           {
            "marker": {
             "colorbar": {
              "outlinewidth": 0,
              "ticks": ""
             }
            },
            "type": "scatterpolar"
           }
          ],
          "scatterpolargl": [
           {
            "marker": {
             "colorbar": {
              "outlinewidth": 0,
              "ticks": ""
             }
            },
            "type": "scatterpolargl"
           }
          ],
          "scatterternary": [
           {
            "marker": {
             "colorbar": {
              "outlinewidth": 0,
              "ticks": ""
             }
            },
            "type": "scatterternary"
           }
          ],
          "surface": [
           {
            "colorbar": {
             "outlinewidth": 0,
             "ticks": ""
            },
            "colorscale": [
             [
              0,
              "#0d0887"
             ],
             [
              0.1111111111111111,
              "#46039f"
             ],
             [
              0.2222222222222222,
              "#7201a8"
             ],
             [
              0.3333333333333333,
              "#9c179e"
             ],
             [
              0.4444444444444444,
              "#bd3786"
             ],
             [
              0.5555555555555556,
              "#d8576b"
             ],
             [
              0.6666666666666666,
              "#ed7953"
             ],
             [
              0.7777777777777778,
              "#fb9f3a"
             ],
             [
              0.8888888888888888,
              "#fdca26"
             ],
             [
              1,
              "#f0f921"
             ]
            ],
            "type": "surface"
           }
          ],
          "table": [
           {
            "cells": {
             "fill": {
              "color": "#EBF0F8"
             },
             "line": {
              "color": "white"
             }
            },
            "header": {
             "fill": {
              "color": "#C8D4E3"
             },
             "line": {
              "color": "white"
             }
            },
            "type": "table"
           }
          ]
         },
         "layout": {
          "annotationdefaults": {
           "arrowcolor": "#2a3f5f",
           "arrowhead": 0,
           "arrowwidth": 1
          },
          "autotypenumbers": "strict",
          "coloraxis": {
           "colorbar": {
            "outlinewidth": 0,
            "ticks": ""
           }
          },
          "colorscale": {
           "diverging": [
            [
             0,
             "#8e0152"
            ],
            [
             0.1,
             "#c51b7d"
            ],
            [
             0.2,
             "#de77ae"
            ],
            [
             0.3,
             "#f1b6da"
            ],
            [
             0.4,
             "#fde0ef"
            ],
            [
             0.5,
             "#f7f7f7"
            ],
            [
             0.6,
             "#e6f5d0"
            ],
            [
             0.7,
             "#b8e186"
            ],
            [
             0.8,
             "#7fbc41"
            ],
            [
             0.9,
             "#4d9221"
            ],
            [
             1,
             "#276419"
            ]
           ],
           "sequential": [
            [
             0,
             "#0d0887"
            ],
            [
             0.1111111111111111,
             "#46039f"
            ],
            [
             0.2222222222222222,
             "#7201a8"
            ],
            [
             0.3333333333333333,
             "#9c179e"
            ],
            [
             0.4444444444444444,
             "#bd3786"
            ],
            [
             0.5555555555555556,
             "#d8576b"
            ],
            [
             0.6666666666666666,
             "#ed7953"
            ],
            [
             0.7777777777777778,
             "#fb9f3a"
            ],
            [
             0.8888888888888888,
             "#fdca26"
            ],
            [
             1,
             "#f0f921"
            ]
           ],
           "sequentialminus": [
            [
             0,
             "#0d0887"
            ],
            [
             0.1111111111111111,
             "#46039f"
            ],
            [
             0.2222222222222222,
             "#7201a8"
            ],
            [
             0.3333333333333333,
             "#9c179e"
            ],
            [
             0.4444444444444444,
             "#bd3786"
            ],
            [
             0.5555555555555556,
             "#d8576b"
            ],
            [
             0.6666666666666666,
             "#ed7953"
            ],
            [
             0.7777777777777778,
             "#fb9f3a"
            ],
            [
             0.8888888888888888,
             "#fdca26"
            ],
            [
             1,
             "#f0f921"
            ]
           ]
          },
          "colorway": [
           "#636efa",
           "#EF553B",
           "#00cc96",
           "#ab63fa",
           "#FFA15A",
           "#19d3f3",
           "#FF6692",
           "#B6E880",
           "#FF97FF",
           "#FECB52"
          ],
          "font": {
           "color": "#2a3f5f"
          },
          "geo": {
           "bgcolor": "white",
           "lakecolor": "white",
           "landcolor": "white",
           "showlakes": true,
           "showland": true,
           "subunitcolor": "#C8D4E3"
          },
          "hoverlabel": {
           "align": "left"
          },
          "hovermode": "closest",
          "mapbox": {
           "style": "light"
          },
          "paper_bgcolor": "white",
          "plot_bgcolor": "white",
          "polar": {
           "angularaxis": {
            "gridcolor": "#EBF0F8",
            "linecolor": "#EBF0F8",
            "ticks": ""
           },
           "bgcolor": "white",
           "radialaxis": {
            "gridcolor": "#EBF0F8",
            "linecolor": "#EBF0F8",
            "ticks": ""
           }
          },
          "scene": {
           "xaxis": {
            "backgroundcolor": "white",
            "gridcolor": "#DFE8F3",
            "gridwidth": 2,
            "linecolor": "#EBF0F8",
            "showbackground": true,
            "ticks": "",
            "zerolinecolor": "#EBF0F8"
           },
           "yaxis": {
            "backgroundcolor": "white",
            "gridcolor": "#DFE8F3",
            "gridwidth": 2,
            "linecolor": "#EBF0F8",
            "showbackground": true,
            "ticks": "",
            "zerolinecolor": "#EBF0F8"
           },
           "zaxis": {
            "backgroundcolor": "white",
            "gridcolor": "#DFE8F3",
            "gridwidth": 2,
            "linecolor": "#EBF0F8",
            "showbackground": true,
            "ticks": "",
            "zerolinecolor": "#EBF0F8"
           }
          },
          "shapedefaults": {
           "line": {
            "color": "#2a3f5f"
           }
          },
          "ternary": {
           "aaxis": {
            "gridcolor": "#DFE8F3",
            "linecolor": "#A2B1C6",
            "ticks": ""
           },
           "baxis": {
            "gridcolor": "#DFE8F3",
            "linecolor": "#A2B1C6",
            "ticks": ""
           },
           "bgcolor": "white",
           "caxis": {
            "gridcolor": "#DFE8F3",
            "linecolor": "#A2B1C6",
            "ticks": ""
           }
          },
          "title": {
           "x": 0.05
          },
          "xaxis": {
           "automargin": true,
           "gridcolor": "#EBF0F8",
           "linecolor": "#EBF0F8",
           "ticks": "",
           "title": {
            "standoff": 15
           },
           "zerolinecolor": "#EBF0F8",
           "zerolinewidth": 2
          },
          "yaxis": {
           "automargin": true,
           "gridcolor": "#EBF0F8",
           "linecolor": "#EBF0F8",
           "ticks": "",
           "title": {
            "standoff": 15
           },
           "zerolinecolor": "#EBF0F8",
           "zerolinewidth": 2
          }
         }
        },
        "title": {
         "text": "SSE, MAE: 0.03"
        },
        "xaxis": {
         "anchor": "y",
         "domain": [
          0,
          1
         ],
         "title": {
          "text": "Time"
         }
        },
        "yaxis": {
         "anchor": "x",
         "domain": [
          0,
          1
         ],
         "title": {
          "text": "Value"
         }
        }
       }
      }
     },
     "metadata": {},
     "output_type": "display_data"
    }
   ],
   "source": [
    "for param in best_params:\n",
    "    train, val, test = train_val_test(timeserie, param[\"window\"])\n",
    "    order = param[\"order\"]\n",
    "    display(HTML(f'<p style=\"color: red; font-size: 20px;\">Resultados de Testing para ventana de: {param[\"window\"]}</p>'))\n",
    "    to_train = pd.concat([train, val])\n",
    "    #to_train = to_train.to_list()\n",
    "    to_pred = test\n",
    "    # to_pred = to_pred.tolist()\n",
    "\n",
    "    p, o, q = order\n",
    "    am_best = arch_model(\n",
    "    train,\n",
    "    mean='HAR',\n",
    "    vol='Garch',\n",
    "    p=p,\n",
    "    o=o,\n",
    "    q=q,\n",
    "    dist='Normal',\n",
    "    lags=7,\n",
    "    rescale=False\n",
    "    )\n",
    "    res_best = am_best.fit(disp=\"off\")\n",
    "    forecasts_best = res_best.forecast(horizon=len(to_pred))\n",
    "\n",
    "    # Extraer las predicciones de la varianza condicional\n",
    "    predicted_variance_best = forecasts_best.variance.values[-1, :]\n",
    "    pred = predicted_variance_best\n",
    "\n",
    "    residuals = np.array(pred) - np.array(to_pred)\n",
    "    metrics = forecast_accuracy(np.array(pred),np.array(to_pred), 'train', 'ARIMA_ROLLING',[5],window_str= param['window'])\n",
    "    #model_summary = pd.concat([model_summary, metrics])\n",
    "    display(HTML(f'<p style=\"color: red; font-size: 15px;\">Metricas</p>'))\n",
    "    print(metrics)\n",
    "    pred = pd.DataFrame(pred, index=range(len(pred)))\n",
    "    pred.index = test.index\n",
    "    plot_model(train,val,test,pred[0],title='SSE')"
   ]
  },
  {
   "cell_type": "markdown",
   "metadata": {},
   "source": [
    "- **Ventana de 7**:\n",
    "  - **Métricas de Error**: El modelo GARCH muestra un bajo error en MAE y MSE, indicando una buena precisión en la captura de la volatilidad a corto plazo.\n",
    "  - **Pruebas de Diagnóstico**: La prueba de Ljung-Box muestra que persisten algunas autocorrelaciones, mientras que la prueba de Jarque-Bera indica normalidad en los residuos, lo que sugiere una buena modelación de la estructura de los datos volátiles.\n",
    "\n",
    "- **Ventana de 14**:\n",
    "  - **Métricas de Error**: Se observa un ligero incremento en MAE y MSE, pero la precisión sigue siendo adecuada para periodos de volatilidad de mediano alcance.\n",
    "  - **Pruebas de Diagnóstico**: Se mantienen algunas autocorrelaciones significativas, y Jarque-Bera confirma que los residuos siguen una distribución normal.\n",
    "\n",
    "- **Ventana de 21**:\n",
    "  - **Métricas de Error**: Incremento en los errores MAE y MSE, indicando una ligera pérdida de precisión a medida que se extiende el horizonte de predicción.\n",
    "  - **Pruebas de Diagnóstico**: Ljung-Box detecta autocorrelaciones residuales, mientras que Jarque-Bera no rechaza la normalidad.\n",
    "\n",
    "- **Ventana de 28**:\n",
    "  - **Métricas de Error**: Los errores aumentan aún más, reflejando una menor precisión en la predicción de la volatilidad a largo plazo.\n",
    "  - **Pruebas de Diagnóstico**: Las autocorrelaciones residuales persisten y la normalidad es aceptada en los residuos.\n",
    "\n",
    "**Conclusión**:\n",
    "- El modelo GARCH es efectivo en capturar la volatilidad a corto y mediano plazo, con buena precisión en ventanas más cortas (7 y 14).\n",
    "- Para ventanas largas, el desempeño decrece ligeramente, pero el modelo sigue capturando los picos de volatilidad. Las autocorrelaciones residuales sugieren que podría mejorarse el ajuste para capturar completamente la estructura de volatilidad.\n"
   ]
  },
  {
   "cell_type": "markdown",
   "metadata": {},
   "source": [
    "### GARCH CON ROLLING"
   ]
  },
  {
   "cell_type": "code",
   "execution_count": 119,
   "metadata": {},
   "outputs": [],
   "source": [
    "# Ignorar advertencias de convergencia y otros warnings de arch\n",
    "warnings.filterwarnings(\"ignore\")\n",
    "\n",
    "def garch_forecast_variance(train, p, o, q, mean_model='HAR', lags=7, dist='Normal', rescale=False):\n",
    "    \"\"\"\n",
    "    Ajusta un modelo GARCH con los parámetros especificados y genera un pronóstico de la varianza para el siguiente paso.\n",
    "    \n",
    "    Parámetros:\n",
    "    - train (pd.Series): Serie temporal de entrenamiento (varianzas reales).\n",
    "    - p (int): Orden ARCH.\n",
    "    - o (int): Orden de términos asimétricos (Leverage term).\n",
    "    - q (int): Orden GARCH.\n",
    "    - mean_model (str): Modelo para la media ('Constant', 'AR', 'HAR', etc.).\n",
    "    - lags (int): Número de lags para el modelo HAR.\n",
    "    - dist (str): Distribución de los residuos ('Normal', 't', etc.).\n",
    "    - rescale (bool): Si se debe reescalar los datos.\n",
    "    \n",
    "    Retorna:\n",
    "    - predicted_variance (float): Pronóstico de la varianza condicional para el siguiente paso.\n",
    "    \"\"\"\n",
    "    try:\n",
    "        # Configurar el modelo GARCH\n",
    "        am = arch_model(\n",
    "            train,\n",
    "            mean=mean_model,\n",
    "            vol='Garch',\n",
    "            p=p,\n",
    "            o=o,\n",
    "            q=q,\n",
    "            dist=dist,\n",
    "            lags=lags,\n",
    "            rescale=rescale\n",
    "        )\n",
    "        \n",
    "        # Ajustar el modelo\n",
    "        res = am.fit(disp=\"off\")\n",
    "        \n",
    "        # Generar pronóstico para el siguiente paso\n",
    "        forecasts = res.forecast(horizon=1)\n",
    "        \n",
    "        # Extraer la varianza condicional pronosticada para el siguiente paso\n",
    "        predicted_variance = forecasts.variance.iloc[-1, 0]\n",
    "        \n",
    "        return predicted_variance\n",
    "    except Exception as e:\n",
    "        print(f\"Error con p={p}, o={o}, q={q}: {e}\")\n",
    "        return np.nan  # Retornar NaN para manejar en la evaluación\n",
    "\n",
    "def garch_rolling_window_evaluation_best_order(\n",
    "    returns,\n",
    "    window_size=500,\n",
    "    p_max=3,\n",
    "    o_max=3,\n",
    "    q_max=3,\n",
    "    mean_model='HAR',\n",
    "    lags=7,\n",
    "    dist='Normal',\n",
    "    rescale=False\n",
    "):\n",
    "    \"\"\"\n",
    "    Realiza una evaluación utilizando una ventana de rolling para modelos GARCH, optimizando p, o, q en cada ventana\n",
    "    y acumulando el MAE para cada combinación. Finalmente, selecciona el best_order con el MAE acumulado más bajo.\n",
    "    \n",
    "    Parámetros:\n",
    "    - returns (pd.Series): Serie temporal de retornos.\n",
    "    - window_size (int): Tamaño de la ventana de entrenamiento.\n",
    "    - p_max (int): Valor máximo para el parámetro p.\n",
    "    - o_max (int): Valor máximo para el parámetro o.\n",
    "    - q_max (int): Valor máximo para el parámetro q.\n",
    "    - mean_model (str): Modelo para la media ('Constant', 'AR', 'HAR', etc.).\n",
    "    - lags (int): Número de lags para el modelo HAR.\n",
    "    - dist (str): Distribución de los residuos ('Normal', 't', etc.).\n",
    "    - rescale (bool): Si se debe reescalar los datos.\n",
    "    \n",
    "    Retorna:\n",
    "    - best_order (tuple): Mejor combinación de (p, o, q) basada en MAE acumulado.\n",
    "    - best_mae (float): MAE acumulado asociado al best_order.\n",
    "    \"\"\"\n",
    "    # Convertir retornos a varianzas (puedes usar el cuadrado de los retornos o usar varianzas reales si las tienes)\n",
    "    # Aquí, usamos el cuadrado de los retornos como proxy\n",
    "    variances = returns**2\n",
    "    \n",
    "    # Definir rangos de p, o, q\n",
    "    p_range = range(0, p_max + 1)\n",
    "    o_range = range(0, o_max + 1)\n",
    "    q_range = range(0, q_max + 1)\n",
    "    \n",
    "    # Inicializar diccionarios para acumular MAE por combinación\n",
    "    mae_accumulated = {}\n",
    "    count_accumulated = {}\n",
    "    for p, o, q in itertools.product(p_range, o_range, q_range):\n",
    "        if p == 0 and o == 0 and q == 0:\n",
    "            continue  # Evitar combinaciones inválidas\n",
    "        mae_accumulated[(p, o, q)] = 0.0\n",
    "        count_accumulated[(p, o, q)] = 0\n",
    "    \n",
    "    # Número de pasos en el conjunto de rolling\n",
    "    n_steps = len(variances) - window_size\n",
    "    \n",
    "    print(\"Iniciando la evaluación con ventana de rolling...\")\n",
    "    for i in tqdm(range(n_steps)):\n",
    "        # Definir la ventana de entrenamiento\n",
    "        train_window = variances[i : i + window_size]\n",
    "        \n",
    "        # Definir el valor real de varianza para el siguiente paso\n",
    "        true_variance = variances[i + window_size]\n",
    "        \n",
    "        # Iterar sobre todas las combinaciones posibles de (p, o, q)\n",
    "        for p, o, q in itertools.product(p_range, o_range, q_range):\n",
    "            if p == 0 and o == 0 and q == 0:\n",
    "                continue  # Evitar combinaciones inválidas\n",
    "            \n",
    "            # Generar el pronóstico de la varianza\n",
    "            predicted_variance = garch_forecast_variance(\n",
    "                train_window, p, o, q,\n",
    "                mean_model=mean_model,\n",
    "                lags=lags,\n",
    "                dist=dist,\n",
    "                rescale=rescale\n",
    "            )\n",
    "            \n",
    "            if not np.isnan(predicted_variance):\n",
    "                # Calcular el MAE para este paso y combinación\n",
    "                mae = mean_absolute_error([true_variance], [predicted_variance])\n",
    "                \n",
    "                # Acumular el MAE\n",
    "                mae_accumulated[(p, o, q)] += mae\n",
    "                count_accumulated[(p, o, q)] += 1\n",
    "            else:\n",
    "                # Si el pronóstico falló, no se acumula el MAE\n",
    "                continue\n",
    "    \n",
    "    # Calcular el MAE promedio por combinación\n",
    "    mae_average = {}\n",
    "    for key in mae_accumulated.keys():\n",
    "        if count_accumulated[key] > 0:\n",
    "            mae_average[key] = mae_accumulated[key] / count_accumulated[key]\n",
    "        else:\n",
    "            mae_average[key] = np.inf  # Asignar infinito si no se evaluó ninguna vez\n",
    "    \n",
    "    # Seleccionar la combinación con el MAE promedio más bajo\n",
    "    best_order = min(mae_average, key=mae_average.get)\n",
    "    best_mae = mae_average[best_order]\n",
    "    \n",
    "    return best_order, best_mae"
   ]
  },
  {
   "cell_type": "code",
   "execution_count": null,
   "metadata": {},
   "outputs": [],
   "source": [
    "best_params = []\n",
    "\n",
    "for window in windows:\n",
    "    train, val, test = train_val_test(timeserie, window)\n",
    "    # Parámetros de la ventana de rolling\n",
    "    window_size = 3000  # Tamaño de la ventana de entrenamiento\n",
    "    p_max = 3\n",
    "    o_max = 3\n",
    "    q_max = 3\n",
    "    mean_model = 'HAR'\n",
    "    lags = 7\n",
    "    dist = 'Normal'\n",
    "    rescale = False\n",
    "    best_order, best_mae = garch_rolling_window_evaluation_best_order(\n",
    "        train,\n",
    "        window_size=window_size,\n",
    "        p_max=p_max,\n",
    "        o_max=o_max,\n",
    "        q_max=q_max,\n",
    "        mean_model=mean_model,\n",
    "        lags=lags,\n",
    "        dist=dist,\n",
    "        rescale=rescale\n",
    "    )\n",
    "    best_params.append({'window': window, 'order' : best_order})"
   ]
  },
  {
   "cell_type": "code",
   "execution_count": null,
   "metadata": {},
   "outputs": [],
   "source": [
    "best_params"
   ]
  }
 ],
 "metadata": {
  "kernelspec": {
   "display_name": "ml_env",
   "language": "python",
   "name": "python3"
  },
  "language_info": {
   "codemirror_mode": {
    "name": "ipython",
    "version": 3
   },
   "file_extension": ".py",
   "mimetype": "text/x-python",
   "name": "python",
   "nbconvert_exporter": "python",
   "pygments_lexer": "ipython3",
   "version": "3.9.19"
  },
  "widgets": {
   "application/vnd.jupyter.widget-state+json": {
    "state": {},
    "version_major": 2,
    "version_minor": 0
   }
  }
 },
 "nbformat": 4,
 "nbformat_minor": 4
}
