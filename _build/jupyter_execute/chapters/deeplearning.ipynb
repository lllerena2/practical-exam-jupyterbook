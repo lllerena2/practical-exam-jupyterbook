{
 "cells": [
  {
   "cell_type": "markdown",
   "metadata": {},
   "source": [
    "# Modelos de Deep Learning"
   ]
  },
  {
   "cell_type": "code",
   "execution_count": 1,
   "metadata": {},
   "outputs": [],
   "source": [
    "import numpy as np\n",
    "import pandas as pd\n",
    "import matplotlib.pyplot as plt\n",
    "import seaborn as sns"
   ]
  },
  {
   "cell_type": "code",
   "execution_count": 2,
   "metadata": {},
   "outputs": [
    {
     "data": {
      "text/html": [
       "<div>\n",
       "<style scoped>\n",
       "    .dataframe tbody tr th:only-of-type {\n",
       "        vertical-align: middle;\n",
       "    }\n",
       "\n",
       "    .dataframe tbody tr th {\n",
       "        vertical-align: top;\n",
       "    }\n",
       "\n",
       "    .dataframe thead th {\n",
       "        text-align: right;\n",
       "    }\n",
       "</style>\n",
       "<table border=\"1\" class=\"dataframe\">\n",
       "  <thead>\n",
       "    <tr style=\"text-align: right;\">\n",
       "      <th></th>\n",
       "      <th>Price</th>\n",
       "      <th>Open</th>\n",
       "      <th>High</th>\n",
       "      <th>Low</th>\n",
       "      <th>Vol.</th>\n",
       "      <th>Change %</th>\n",
       "    </tr>\n",
       "    <tr>\n",
       "      <th>Date</th>\n",
       "      <th></th>\n",
       "      <th></th>\n",
       "      <th></th>\n",
       "      <th></th>\n",
       "      <th></th>\n",
       "      <th></th>\n",
       "    </tr>\n",
       "  </thead>\n",
       "  <tbody>\n",
       "    <tr>\n",
       "      <th>2010-07-18</th>\n",
       "      <td>0.1</td>\n",
       "      <td>0.0</td>\n",
       "      <td>0.1</td>\n",
       "      <td>0.1</td>\n",
       "      <td>0.08K</td>\n",
       "      <td>0.00%</td>\n",
       "    </tr>\n",
       "    <tr>\n",
       "      <th>2010-07-19</th>\n",
       "      <td>0.1</td>\n",
       "      <td>0.1</td>\n",
       "      <td>0.1</td>\n",
       "      <td>0.1</td>\n",
       "      <td>0.57K</td>\n",
       "      <td>0.00%</td>\n",
       "    </tr>\n",
       "    <tr>\n",
       "      <th>2010-07-20</th>\n",
       "      <td>0.1</td>\n",
       "      <td>0.1</td>\n",
       "      <td>0.1</td>\n",
       "      <td>0.1</td>\n",
       "      <td>0.26K</td>\n",
       "      <td>0.00%</td>\n",
       "    </tr>\n",
       "    <tr>\n",
       "      <th>2010-07-21</th>\n",
       "      <td>0.1</td>\n",
       "      <td>0.1</td>\n",
       "      <td>0.1</td>\n",
       "      <td>0.1</td>\n",
       "      <td>0.58K</td>\n",
       "      <td>0.00%</td>\n",
       "    </tr>\n",
       "    <tr>\n",
       "      <th>2010-07-22</th>\n",
       "      <td>0.1</td>\n",
       "      <td>0.1</td>\n",
       "      <td>0.1</td>\n",
       "      <td>0.1</td>\n",
       "      <td>2.16K</td>\n",
       "      <td>0.00%</td>\n",
       "    </tr>\n",
       "    <tr>\n",
       "      <th>...</th>\n",
       "      <td>...</td>\n",
       "      <td>...</td>\n",
       "      <td>...</td>\n",
       "      <td>...</td>\n",
       "      <td>...</td>\n",
       "      <td>...</td>\n",
       "    </tr>\n",
       "    <tr>\n",
       "      <th>2024-03-20</th>\n",
       "      <td>67854.0</td>\n",
       "      <td>62046.8</td>\n",
       "      <td>68029.5</td>\n",
       "      <td>60850.9</td>\n",
       "      <td>133.53K</td>\n",
       "      <td>9.35%</td>\n",
       "    </tr>\n",
       "    <tr>\n",
       "      <th>2024-03-21</th>\n",
       "      <td>65503.8</td>\n",
       "      <td>67860.0</td>\n",
       "      <td>68161.7</td>\n",
       "      <td>64616.1</td>\n",
       "      <td>75.26K</td>\n",
       "      <td>-3.46%</td>\n",
       "    </tr>\n",
       "    <tr>\n",
       "      <th>2024-03-22</th>\n",
       "      <td>63785.5</td>\n",
       "      <td>65501.5</td>\n",
       "      <td>66633.3</td>\n",
       "      <td>62328.3</td>\n",
       "      <td>72.43K</td>\n",
       "      <td>-2.62%</td>\n",
       "    </tr>\n",
       "    <tr>\n",
       "      <th>2024-03-23</th>\n",
       "      <td>64037.8</td>\n",
       "      <td>63785.6</td>\n",
       "      <td>65972.4</td>\n",
       "      <td>63074.9</td>\n",
       "      <td>35.11K</td>\n",
       "      <td>0.40%</td>\n",
       "    </tr>\n",
       "    <tr>\n",
       "      <th>2024-03-24</th>\n",
       "      <td>67211.9</td>\n",
       "      <td>64036.5</td>\n",
       "      <td>67587.8</td>\n",
       "      <td>63812.9</td>\n",
       "      <td>65.59K</td>\n",
       "      <td>4.96%</td>\n",
       "    </tr>\n",
       "  </tbody>\n",
       "</table>\n",
       "<p>4999 rows × 6 columns</p>\n",
       "</div>"
      ],
      "text/plain": [
       "              Price     Open     High      Low     Vol. Change %\n",
       "Date                                                            \n",
       "2010-07-18      0.1      0.0      0.1      0.1    0.08K    0.00%\n",
       "2010-07-19      0.1      0.1      0.1      0.1    0.57K    0.00%\n",
       "2010-07-20      0.1      0.1      0.1      0.1    0.26K    0.00%\n",
       "2010-07-21      0.1      0.1      0.1      0.1    0.58K    0.00%\n",
       "2010-07-22      0.1      0.1      0.1      0.1    2.16K    0.00%\n",
       "...             ...      ...      ...      ...      ...      ...\n",
       "2024-03-20  67854.0  62046.8  68029.5  60850.9  133.53K    9.35%\n",
       "2024-03-21  65503.8  67860.0  68161.7  64616.1   75.26K   -3.46%\n",
       "2024-03-22  63785.5  65501.5  66633.3  62328.3   72.43K   -2.62%\n",
       "2024-03-23  64037.8  63785.6  65972.4  63074.9   35.11K    0.40%\n",
       "2024-03-24  67211.9  64036.5  67587.8  63812.9   65.59K    4.96%\n",
       "\n",
       "[4999 rows x 6 columns]"
      ]
     },
     "execution_count": 2,
     "metadata": {},
     "output_type": "execute_result"
    }
   ],
   "source": [
    "df = pd.read_csv(\"https://raw.githubusercontent.com/lihkir/Data/refs/heads/main/Bitcoin%20Historical%20Data.csv\", thousands=',', decimal='.')\n",
    "df[\"Date\"] = pd.to_datetime(df[\"Date\"])\n",
    "df = df.set_index(\"Date\")\n",
    "df.sort_index(inplace=True)\n",
    "\n",
    "df"
   ]
  },
  {
   "cell_type": "code",
   "execution_count": 3,
   "metadata": {},
   "outputs": [
    {
     "data": {
      "text/html": [
       "<div>\n",
       "<style scoped>\n",
       "    .dataframe tbody tr th:only-of-type {\n",
       "        vertical-align: middle;\n",
       "    }\n",
       "\n",
       "    .dataframe tbody tr th {\n",
       "        vertical-align: top;\n",
       "    }\n",
       "\n",
       "    .dataframe thead th {\n",
       "        text-align: right;\n",
       "    }\n",
       "</style>\n",
       "<table border=\"1\" class=\"dataframe\">\n",
       "  <thead>\n",
       "    <tr style=\"text-align: right;\">\n",
       "      <th></th>\n",
       "      <th>Price</th>\n",
       "      <th>Open</th>\n",
       "      <th>High</th>\n",
       "      <th>Low</th>\n",
       "      <th>Vol.</th>\n",
       "      <th>Change %</th>\n",
       "      <th>DailyReturn</th>\n",
       "      <th>Volatility</th>\n",
       "    </tr>\n",
       "    <tr>\n",
       "      <th>Date</th>\n",
       "      <th></th>\n",
       "      <th></th>\n",
       "      <th></th>\n",
       "      <th></th>\n",
       "      <th></th>\n",
       "      <th></th>\n",
       "      <th></th>\n",
       "      <th></th>\n",
       "    </tr>\n",
       "  </thead>\n",
       "  <tbody>\n",
       "    <tr>\n",
       "      <th>2010-07-18</th>\n",
       "      <td>0.1</td>\n",
       "      <td>0.0</td>\n",
       "      <td>0.1</td>\n",
       "      <td>0.1</td>\n",
       "      <td>0.08K</td>\n",
       "      <td>0.00%</td>\n",
       "      <td>NaN</td>\n",
       "      <td>NaN</td>\n",
       "    </tr>\n",
       "    <tr>\n",
       "      <th>2010-07-19</th>\n",
       "      <td>0.1</td>\n",
       "      <td>0.1</td>\n",
       "      <td>0.1</td>\n",
       "      <td>0.1</td>\n",
       "      <td>0.57K</td>\n",
       "      <td>0.00%</td>\n",
       "      <td>0.000000</td>\n",
       "      <td>NaN</td>\n",
       "    </tr>\n",
       "    <tr>\n",
       "      <th>2010-07-20</th>\n",
       "      <td>0.1</td>\n",
       "      <td>0.1</td>\n",
       "      <td>0.1</td>\n",
       "      <td>0.1</td>\n",
       "      <td>0.26K</td>\n",
       "      <td>0.00%</td>\n",
       "      <td>0.000000</td>\n",
       "      <td>NaN</td>\n",
       "    </tr>\n",
       "    <tr>\n",
       "      <th>2010-07-21</th>\n",
       "      <td>0.1</td>\n",
       "      <td>0.1</td>\n",
       "      <td>0.1</td>\n",
       "      <td>0.1</td>\n",
       "      <td>0.58K</td>\n",
       "      <td>0.00%</td>\n",
       "      <td>0.000000</td>\n",
       "      <td>NaN</td>\n",
       "    </tr>\n",
       "    <tr>\n",
       "      <th>2010-07-22</th>\n",
       "      <td>0.1</td>\n",
       "      <td>0.1</td>\n",
       "      <td>0.1</td>\n",
       "      <td>0.1</td>\n",
       "      <td>2.16K</td>\n",
       "      <td>0.00%</td>\n",
       "      <td>0.000000</td>\n",
       "      <td>NaN</td>\n",
       "    </tr>\n",
       "    <tr>\n",
       "      <th>...</th>\n",
       "      <td>...</td>\n",
       "      <td>...</td>\n",
       "      <td>...</td>\n",
       "      <td>...</td>\n",
       "      <td>...</td>\n",
       "      <td>...</td>\n",
       "      <td>...</td>\n",
       "      <td>...</td>\n",
       "    </tr>\n",
       "    <tr>\n",
       "      <th>2024-03-20</th>\n",
       "      <td>67854.0</td>\n",
       "      <td>62046.8</td>\n",
       "      <td>68029.5</td>\n",
       "      <td>60850.9</td>\n",
       "      <td>133.53K</td>\n",
       "      <td>9.35%</td>\n",
       "      <td>23.719802</td>\n",
       "      <td>0.043620</td>\n",
       "    </tr>\n",
       "    <tr>\n",
       "      <th>2024-03-21</th>\n",
       "      <td>65503.8</td>\n",
       "      <td>67860.0</td>\n",
       "      <td>68161.7</td>\n",
       "      <td>64616.1</td>\n",
       "      <td>75.26K</td>\n",
       "      <td>-3.46%</td>\n",
       "      <td>23.685166</td>\n",
       "      <td>0.036828</td>\n",
       "    </tr>\n",
       "    <tr>\n",
       "      <th>2024-03-22</th>\n",
       "      <td>63785.5</td>\n",
       "      <td>65501.5</td>\n",
       "      <td>66633.3</td>\n",
       "      <td>62328.3</td>\n",
       "      <td>72.43K</td>\n",
       "      <td>-2.62%</td>\n",
       "      <td>23.658934</td>\n",
       "      <td>0.034760</td>\n",
       "    </tr>\n",
       "    <tr>\n",
       "      <th>2024-03-23</th>\n",
       "      <td>64037.8</td>\n",
       "      <td>63785.6</td>\n",
       "      <td>65972.4</td>\n",
       "      <td>63074.9</td>\n",
       "      <td>35.11K</td>\n",
       "      <td>0.40%</td>\n",
       "      <td>23.662889</td>\n",
       "      <td>0.035509</td>\n",
       "    </tr>\n",
       "    <tr>\n",
       "      <th>2024-03-24</th>\n",
       "      <td>67211.9</td>\n",
       "      <td>64036.5</td>\n",
       "      <td>67587.8</td>\n",
       "      <td>63812.9</td>\n",
       "      <td>65.59K</td>\n",
       "      <td>4.96%</td>\n",
       "      <td>23.712455</td>\n",
       "      <td>0.034305</td>\n",
       "    </tr>\n",
       "  </tbody>\n",
       "</table>\n",
       "<p>4999 rows × 8 columns</p>\n",
       "</div>"
      ],
      "text/plain": [
       "              Price     Open     High      Low     Vol. Change %  DailyReturn  \\\n",
       "Date                                                                            \n",
       "2010-07-18      0.1      0.0      0.1      0.1    0.08K    0.00%          NaN   \n",
       "2010-07-19      0.1      0.1      0.1      0.1    0.57K    0.00%     0.000000   \n",
       "2010-07-20      0.1      0.1      0.1      0.1    0.26K    0.00%     0.000000   \n",
       "2010-07-21      0.1      0.1      0.1      0.1    0.58K    0.00%     0.000000   \n",
       "2010-07-22      0.1      0.1      0.1      0.1    2.16K    0.00%     0.000000   \n",
       "...             ...      ...      ...      ...      ...      ...          ...   \n",
       "2024-03-20  67854.0  62046.8  68029.5  60850.9  133.53K    9.35%    23.719802   \n",
       "2024-03-21  65503.8  67860.0  68161.7  64616.1   75.26K   -3.46%    23.685166   \n",
       "2024-03-22  63785.5  65501.5  66633.3  62328.3   72.43K   -2.62%    23.658934   \n",
       "2024-03-23  64037.8  63785.6  65972.4  63074.9   35.11K    0.40%    23.662889   \n",
       "2024-03-24  67211.9  64036.5  67587.8  63812.9   65.59K    4.96%    23.712455   \n",
       "\n",
       "            Volatility  \n",
       "Date                    \n",
       "2010-07-18         NaN  \n",
       "2010-07-19         NaN  \n",
       "2010-07-20         NaN  \n",
       "2010-07-21         NaN  \n",
       "2010-07-22         NaN  \n",
       "...                ...  \n",
       "2024-03-20    0.043620  \n",
       "2024-03-21    0.036828  \n",
       "2024-03-22    0.034760  \n",
       "2024-03-23    0.035509  \n",
       "2024-03-24    0.034305  \n",
       "\n",
       "[4999 rows x 8 columns]"
      ]
     },
     "execution_count": 3,
     "metadata": {},
     "output_type": "execute_result"
    }
   ],
   "source": [
    "# retorno acumulado\n",
    "def retorno_acumulado(df, columna):\n",
    "    retorno_diario = (df[columna].diff() / df[columna].shift(1))\n",
    "    return retorno_diario.cumsum()\n",
    "\n",
    "def volatilidad(retorno_acum, ventana):\n",
    "    std_w = retorno_acum.rolling(window=ventana).std()\n",
    "    return std_w\n",
    "\n",
    "\n",
    "df[\"DailyReturn\"] = retorno_acumulado(df, \"Price\")\n",
    "df[\"Volatility\"] =  volatilidad(df[\"DailyReturn\"], 7)\n",
    "\n",
    "df"
   ]
  },
  {
   "cell_type": "code",
   "execution_count": 4,
   "metadata": {},
   "outputs": [],
   "source": [
    "timeserie  = df[\"Price\"]"
   ]
  },
  {
   "cell_type": "markdown",
   "metadata": {},
   "source": [
    "## Split de datos"
   ]
  },
  {
   "cell_type": "code",
   "execution_count": 5,
   "metadata": {},
   "outputs": [],
   "source": [
    "def split_time_series(data, tau, train_size=7, jump=0):\n",
    "    \"\"\"\n",
    "    train_size:\n",
    "    tau:\n",
    "    \"\"\"\n",
    "    n_samples = len(data)\n",
    "    \n",
    "    dim_train_size = 14\n",
    "    dim_tau_size = 7\n",
    "    total_dim = dim_train_size + dim_tau_size * 2\n",
    "\n",
    "    splits = []\n",
    "    id_counter = 1\n",
    "    dim = 1\n",
    "    split_counter = 0\n",
    "\n",
    "    for start in range(0, n_samples - train_size - tau*2 + jump, 1):\n",
    "        if split_counter == 0:\n",
    "            if start + total_dim > n_samples - train_size - tau * 2 + jump:\n",
    "                break  # No hay suficientes datos\n",
    "\n",
    "        x_train_end = start + train_size + jump\n",
    "        y_tain = x_train_end + tau\n",
    "\n",
    "        if split_counter < dim_train_size:\n",
    "            split_type  = \"train\"\n",
    "        elif split_counter < dim_train_size + dim_tau_size:\n",
    "            split_type  = \"val\"\n",
    "        elif split_counter < dim_train_size + dim_tau_size*2:\n",
    "            split_type  = \"test\"\n",
    "        else:\n",
    "            # Reset\n",
    "            dim += 1\n",
    "            split_counter = 0\n",
    "            split_type = \"train\"\n",
    "        \n",
    "        split_dict = {\n",
    "            \"id\": id_counter,\n",
    "            \"dim\": dim,\n",
    "            \"split\": split_type,\n",
    "            \"X\": [data.iloc[start:x_train_end]],  \n",
    "            \"y\": [data.iloc[x_train_end:y_tain]]\n",
    "        }\n",
    "\n",
    "        splits.append(split_dict)\n",
    "\n",
    "        # Incrementar los contadores\n",
    "        id_counter += 1\n",
    "        split_counter += 1\n",
    "\n",
    "        if split_counter >= total_dim:\n",
    "            dim += 1\n",
    "            split_counter = 0\n",
    "\n",
    "    return splits\n",
    "\n",
    "array = split_time_series(data=timeserie, tau=1)\n",
    "df_model = pd.DataFrame(array)"
   ]
  },
  {
   "cell_type": "code",
   "execution_count": 6,
   "metadata": {},
   "outputs": [
    {
     "data": {
      "text/html": [
       "<div>\n",
       "<style scoped>\n",
       "    .dataframe tbody tr th:only-of-type {\n",
       "        vertical-align: middle;\n",
       "    }\n",
       "\n",
       "    .dataframe tbody tr th {\n",
       "        vertical-align: top;\n",
       "    }\n",
       "\n",
       "    .dataframe thead th {\n",
       "        text-align: right;\n",
       "    }\n",
       "</style>\n",
       "<table border=\"1\" class=\"dataframe\">\n",
       "  <thead>\n",
       "    <tr style=\"text-align: right;\">\n",
       "      <th></th>\n",
       "      <th>id</th>\n",
       "      <th>dim</th>\n",
       "      <th>split</th>\n",
       "      <th>X</th>\n",
       "      <th>y</th>\n",
       "    </tr>\n",
       "  </thead>\n",
       "  <tbody>\n",
       "    <tr>\n",
       "      <th>0</th>\n",
       "      <td>1</td>\n",
       "      <td>1</td>\n",
       "      <td>train</td>\n",
       "      <td>[[0.1, 0.1, 0.1, 0.1, 0.1, 0.1, 0.1]]</td>\n",
       "      <td>[[0.1]]</td>\n",
       "    </tr>\n",
       "    <tr>\n",
       "      <th>1</th>\n",
       "      <td>2</td>\n",
       "      <td>1</td>\n",
       "      <td>train</td>\n",
       "      <td>[[0.1, 0.1, 0.1, 0.1, 0.1, 0.1, 0.1]]</td>\n",
       "      <td>[[0.1]]</td>\n",
       "    </tr>\n",
       "    <tr>\n",
       "      <th>2</th>\n",
       "      <td>3</td>\n",
       "      <td>1</td>\n",
       "      <td>train</td>\n",
       "      <td>[[0.1, 0.1, 0.1, 0.1, 0.1, 0.1, 0.1]]</td>\n",
       "      <td>[[0.1]]</td>\n",
       "    </tr>\n",
       "    <tr>\n",
       "      <th>3</th>\n",
       "      <td>4</td>\n",
       "      <td>1</td>\n",
       "      <td>train</td>\n",
       "      <td>[[0.1, 0.1, 0.1, 0.1, 0.1, 0.1, 0.1]]</td>\n",
       "      <td>[[0.1]]</td>\n",
       "    </tr>\n",
       "    <tr>\n",
       "      <th>4</th>\n",
       "      <td>5</td>\n",
       "      <td>1</td>\n",
       "      <td>train</td>\n",
       "      <td>[[0.1, 0.1, 0.1, 0.1, 0.1, 0.1, 0.1]]</td>\n",
       "      <td>[[0.1]]</td>\n",
       "    </tr>\n",
       "    <tr>\n",
       "      <th>...</th>\n",
       "      <td>...</td>\n",
       "      <td>...</td>\n",
       "      <td>...</td>\n",
       "      <td>...</td>\n",
       "      <td>...</td>\n",
       "    </tr>\n",
       "    <tr>\n",
       "      <th>4974</th>\n",
       "      <td>4975</td>\n",
       "      <td>178</td>\n",
       "      <td>val</td>\n",
       "      <td>[[61169.3, 62397.7, 61994.5, 63135.8, 68270.1,...</td>\n",
       "      <td>[[66855.3]]</td>\n",
       "    </tr>\n",
       "    <tr>\n",
       "      <th>4975</th>\n",
       "      <td>4976</td>\n",
       "      <td>178</td>\n",
       "      <td>val</td>\n",
       "      <td>[[62397.7, 61994.5, 63135.8, 68270.1, 63792.6,...</td>\n",
       "      <td>[[68172.0]]</td>\n",
       "    </tr>\n",
       "    <tr>\n",
       "      <th>4976</th>\n",
       "      <td>4977</td>\n",
       "      <td>178</td>\n",
       "      <td>val</td>\n",
       "      <td>[[61994.5, 63135.8, 68270.1, 63792.6, 66080.4,...</td>\n",
       "      <td>[[68366.5]]</td>\n",
       "    </tr>\n",
       "    <tr>\n",
       "      <th>4977</th>\n",
       "      <td>4978</td>\n",
       "      <td>178</td>\n",
       "      <td>test</td>\n",
       "      <td>[[63135.8, 68270.1, 63792.6, 66080.4, 66855.3,...</td>\n",
       "      <td>[[68964.8]]</td>\n",
       "    </tr>\n",
       "    <tr>\n",
       "      <th>4978</th>\n",
       "      <td>4979</td>\n",
       "      <td>178</td>\n",
       "      <td>test</td>\n",
       "      <td>[[68270.1, 63792.6, 66080.4, 66855.3, 68172.0,...</td>\n",
       "      <td>[[72099.1]]</td>\n",
       "    </tr>\n",
       "  </tbody>\n",
       "</table>\n",
       "<p>4979 rows × 5 columns</p>\n",
       "</div>"
      ],
      "text/plain": [
       "        id  dim  split                                                  X  \\\n",
       "0        1    1  train              [[0.1, 0.1, 0.1, 0.1, 0.1, 0.1, 0.1]]   \n",
       "1        2    1  train              [[0.1, 0.1, 0.1, 0.1, 0.1, 0.1, 0.1]]   \n",
       "2        3    1  train              [[0.1, 0.1, 0.1, 0.1, 0.1, 0.1, 0.1]]   \n",
       "3        4    1  train              [[0.1, 0.1, 0.1, 0.1, 0.1, 0.1, 0.1]]   \n",
       "4        5    1  train              [[0.1, 0.1, 0.1, 0.1, 0.1, 0.1, 0.1]]   \n",
       "...    ...  ...    ...                                                ...   \n",
       "4974  4975  178    val  [[61169.3, 62397.7, 61994.5, 63135.8, 68270.1,...   \n",
       "4975  4976  178    val  [[62397.7, 61994.5, 63135.8, 68270.1, 63792.6,...   \n",
       "4976  4977  178    val  [[61994.5, 63135.8, 68270.1, 63792.6, 66080.4,...   \n",
       "4977  4978  178   test  [[63135.8, 68270.1, 63792.6, 66080.4, 66855.3,...   \n",
       "4978  4979  178   test  [[68270.1, 63792.6, 66080.4, 66855.3, 68172.0,...   \n",
       "\n",
       "                y  \n",
       "0         [[0.1]]  \n",
       "1         [[0.1]]  \n",
       "2         [[0.1]]  \n",
       "3         [[0.1]]  \n",
       "4         [[0.1]]  \n",
       "...           ...  \n",
       "4974  [[66855.3]]  \n",
       "4975  [[68172.0]]  \n",
       "4976  [[68366.5]]  \n",
       "4977  [[68964.8]]  \n",
       "4978  [[72099.1]]  \n",
       "\n",
       "[4979 rows x 5 columns]"
      ]
     },
     "execution_count": 6,
     "metadata": {},
     "output_type": "execute_result"
    }
   ],
   "source": [
    "df_model.head(-5)"
   ]
  },
  {
   "cell_type": "code",
   "execution_count": 7,
   "metadata": {},
   "outputs": [],
   "source": [
    "## PENDIENTE\n",
    "def plot_splits(data, splits, horizon, dim=1):\n",
    "    return 1"
   ]
  },
  {
   "cell_type": "markdown",
   "metadata": {},
   "source": [
    "## Entrenamiento y validación"
   ]
  },
  {
   "cell_type": "code",
   "execution_count": 8,
   "metadata": {},
   "outputs": [],
   "source": [
    "from sklearn.metrics import mean_absolute_percentage_error, mean_absolute_error, root_mean_squared_error, r2_score\n",
    "import tensorflow as tf\n",
    "from tensorflow.keras.models import Sequential\n",
    "from tensorflow.keras.layers import Dense, SimpleRNN, LSTM, Dropout\n",
    "from tensorflow.keras.optimizers import Adam\n",
    "from tensorflow.keras.callbacks import EarlyStopping, ModelCheckpoint"
   ]
  },
  {
   "cell_type": "code",
   "execution_count": 9,
   "metadata": {},
   "outputs": [
    {
     "name": "stdout",
     "output_type": "stream",
     "text": [
      "Available devices:\n",
      "PhysicalDevice(name='/physical_device:CPU:0', device_type='CPU')\n",
      "PhysicalDevice(name='/physical_device:GPU:0', device_type='GPU')\n",
      "TensorFlow is using GPU.\n",
      "GPU details: {'device_name': 'NVIDIA GeForce RTX 2060 SUPER', 'compute_capability': (7, 5)}\n"
     ]
    }
   ],
   "source": [
    "devices = tf.config.list_physical_devices()\n",
    "print(\"Available devices:\")\n",
    "for device in devices:\n",
    "    print(device)\n",
    "\n",
    "gpus = tf.config.list_physical_devices('GPU')\n",
    "if gpus:\n",
    "    print(\"TensorFlow is using GPU.\")\n",
    "    for gpu in gpus:\n",
    "        gpu_details = tf.config.experimental.get_device_details(gpu)\n",
    "        print(f\"GPU details: {gpu_details}\")\n",
    "else:\n",
    "    print(\"TensorFlow is not using GPU.\")"
   ]
  },
  {
   "cell_type": "code",
   "execution_count": 10,
   "metadata": {},
   "outputs": [
    {
     "data": {
      "text/plain": [
       "array([[252.1, 269.2, 263.3, 236.2, 234. , 231.8, 218.5],\n",
       "       [269.2, 263.3, 236.2, 234. , 231.8, 218.5, 225.3],\n",
       "       [263.3, 236.2, 234. , 231.8, 218.5, 225.3, 238.9],\n",
       "       [236.2, 234. , 231.8, 218.5, 225.3, 238.9, 227.4],\n",
       "       [234. , 231.8, 218.5, 225.3, 238.9, 227.4, 226.6],\n",
       "       [231.8, 218.5, 225.3, 238.9, 227.4, 226.6, 216.5],\n",
       "       [218.5, 225.3, 238.9, 227.4, 226.6, 216.5, 223. ],\n",
       "       [225.3, 238.9, 227.4, 226.6, 216.5, 223. , 227.7],\n",
       "       [238.9, 227.4, 226.6, 216.5, 223. , 227.7, 223.7],\n",
       "       [227.4, 226.6, 216.5, 223. , 227.7, 223.7, 220.3],\n",
       "       [226.6, 216.5, 223. , 227.7, 223.7, 220.3, 219.7],\n",
       "       [216.5, 223. , 227.7, 223.7, 220.3, 219.7, 218.8],\n",
       "       [223. , 227.7, 223.7, 220.3, 219.7, 218.8, 221.8],\n",
       "       [227.7, 223.7, 220.3, 219.7, 218.8, 221.8, 236.2]])"
      ]
     },
     "execution_count": 10,
     "metadata": {},
     "output_type": "execute_result"
    }
   ],
   "source": [
    "dim = 60\n",
    "\n",
    "df_dim = df_model.loc[df_model[\"dim\"] == dim]\n",
    "\n",
    "split = \"train\"\n",
    "X_train, y_train = df_dim.loc[df_dim[\"split\"] == split, \"X\"].tolist(), df_dim.loc[df_dim[\"split\"] == split, \"y\"].tolist()\n",
    "X_train, y_train = np.array([np.array(xi).flatten() for xi in X_train]), np.array([np.array(yi).flatten() for yi in y_train])\n",
    "\n",
    "\n",
    "split = \"val\"\n",
    "X_val, y_val = df_dim.loc[df_dim[\"split\"] == split, \"X\"].tolist(), df_dim.loc[df_dim[\"split\"] == split, \"y\"].tolist()\n",
    "X_val, y_val = np.array([np.array(xi).flatten() for xi in X_val]), np.array([np.array(yi).flatten() for yi in y_val])\n",
    "\n",
    "split = \"test\"\n",
    "X_test, y_test = df_dim.loc[df_dim[\"split\"] == split, \"X\"].tolist(), df_dim.loc[df_dim[\"split\"] == split, \"y\"].tolist()\n",
    "X_test, y_test = np.array([np.array(xi).flatten() for xi in X_test]), np.array([np.array(yi).flatten() for yi in y_test])\n",
    "\n",
    "# Re-dimensionar los datos para RNN/LSTM\n",
    "X_train_rnn = X_train.reshape((X_train.shape[0], X_train.shape[1], 1))\n",
    "X_val_rnn = X_val.reshape((X_val.shape[0], X_val.shape[1], 1))\n",
    "X_test_rnn = X_test.reshape((X_test.shape[0], X_test.shape[1], 1))\n",
    "\n",
    "\n",
    "#pendiente llevarlo a función\n",
    "def get_batch(df, dim):\n",
    "    dim_df = df_model.loc[df_model[\"dim\"] == 100]\n",
    "\n",
    "    # return X_train, y_train, X_val, y_val\n",
    "\n",
    "X_train"
   ]
  },
  {
   "cell_type": "code",
   "execution_count": 11,
   "metadata": {},
   "outputs": [],
   "source": [
    "def calculate_metrics(y_true, y_pred):\n",
    "    rmse = root_mean_squared_error(y_true, y_pred)\n",
    "    metrics = {\n",
    "        \"MAPE\": mean_absolute_percentage_error(y_true, y_pred),\n",
    "        \"MAE\": mean_absolute_error(y_true, y_pred),\n",
    "        \"RMSE\": rmse,\n",
    "        \"MSE\": rmse**2,\n",
    "        \"R2\": r2_score(y_true, y_pred)\n",
    "    }\n",
    "    return metrics\n",
    "\n",
    "\n",
    "def create_and_train_model(model_type, neurons, dropout_rate, batch_size, X_train, y_train, X_val, y_val):\n",
    "    \n",
    "    \n",
    "    model = Sequential()\n",
    "    if model_type == 'MLP':\n",
    "        # (samples, features)\n",
    "        model.add(Dense(neurons, activation='relu', input_shape=(X_train.shape[1],)))\n",
    "        model.add(Dropout(dropout_rate))\n",
    "        model.add(Dense(1))\n",
    "\n",
    "    elif model_type == 'RNN':\n",
    "        #(samples, timesteps, features)\n",
    "        model.add(SimpleRNN(neurons, activation='tanh', input_shape=(X_train.shape[1], X_train.shape[2])))\n",
    "        model.add(Dropout(dropout_rate))\n",
    "        model.add(Dense(1))\n",
    "\n",
    "    elif model_type == 'LSTM':\n",
    "        #(samples, timesteps, features)\n",
    "        model.add(LSTM(neurons, activation='tanh', input_shape=(X_train.shape[1], X_train.shape[2])))\n",
    "        model.add(Dropout(dropout_rate))\n",
    "        model.add(Dense(1))\n",
    "\n",
    "    else:\n",
    "        raise ValueError(\"Modeo inválido\")\n",
    "\n",
    "    model.compile(optimizer=Adam(), loss='mse', metrics=['mape','mae', 'mse'])\n",
    "\n",
    "    early_stopping = EarlyStopping(monitor='val_loss', patience=10, restore_best_weights=True)\n",
    "    model_checkpoint = ModelCheckpoint(f'models/best_model_{model_type}.h5', save_best_only=True, monitor='val_loss')\n",
    "\n",
    "    history = model.fit(X_train, y_train, epochs=500, batch_size=batch_size,\n",
    "                        validation_data=(X_val, y_val), verbose=1,\n",
    "                        callbacks=[early_stopping, model_checkpoint])\n",
    "    return model, history"
   ]
  },
  {
   "cell_type": "code",
   "execution_count": 12,
   "metadata": {},
   "outputs": [
    {
     "name": "stdout",
     "output_type": "stream",
     "text": [
      "Epoch 1/500\n"
     ]
    },
    {
     "name": "stdout",
     "output_type": "stream",
     "text": [
      "\r",
      "1/1 [==============================] - ETA: 0s - loss: 56863.1211 - mape: 104.6141 - mae: 237.9391 - mse: 56863.1211"
     ]
    },
    {
     "name": "stdout",
     "output_type": "stream",
     "text": [
      "\b\b\b\b\b\b\b\b\b\b\b\b\b\b\b\b\b\b\b\b\b\b\b\b\b\b\b\b\b\b\b\b\b\b\b\b\b\b\b\b\b\b\b\b\b\b\b\b\b\b\b\b\b\b\b\b\b\b\b\b\b\b\b\b\b\b\b\b\b\b\b\b\b\b\b\b\b\b\b\b\b\b\b\b\b\b\b\b\b\b\b\b\b\b\b\b\b\b\b\b\b\b\b\b\b\b\b\b\b\b\b\b\b\b\b\b\r",
      "1/1 [==============================] - 5s 5s/step - loss: 56863.1211 - mape: 104.6141 - mae: 237.9391 - mse: 56863.1211 - val_loss: 42629.8672 - val_mape: 86.1034 - val_mae: 206.4361 - val_mse: 42629.8672\n"
     ]
    },
    {
     "name": "stdout",
     "output_type": "stream",
     "text": [
      "Epoch 2/500\n"
     ]
    },
    {
     "name": "stdout",
     "output_type": "stream",
     "text": [
      "\r",
      "1/1 [==============================] - ETA: 0s - loss: 38638.3125 - mape: 86.1932 - mae: 196.0620 - mse: 38638.3125"
     ]
    },
    {
     "name": "stdout",
     "output_type": "stream",
     "text": [
      "\b\b\b\b\b\b\b\b\b\b\b\b\b\b\b\b\b\b\b\b\b\b\b\b\b\b\b\b\b\b\b\b\b\b\b\b\b\b\b\b\b\b\b\b\b\b\b\b\b\b\b\b\b\b\b\b\b\b\b\b\b\b\b\b\b\b\b\b\b\b\b\b\b\b\b\b\b\b\b\b\b\b\b\b\b\b\b\b\b\b\b\b\b\b\b\b\b\b\b\b\b\b\b\b\b\b\b\b\b\b\b\b\b\b\b\r",
      "1/1 [==============================] - 0s 91ms/step - loss: 38638.3125 - mape: 86.1932 - mae: 196.0620 - mse: 38638.3125 - val_loss: 26225.9727 - val_mape: 67.5320 - val_mae: 161.9130 - val_mse: 26225.9727\n"
     ]
    },
    {
     "name": "stdout",
     "output_type": "stream",
     "text": [
      "Epoch 3/500\n"
     ]
    },
    {
     "name": "stdout",
     "output_type": "stream",
     "text": [
      "\r",
      "1/1 [==============================] - ETA: 0s - loss: 23819.2500 - mape: 67.4768 - mae: 153.6041 - mse: 23819.2500"
     ]
    },
    {
     "name": "stdout",
     "output_type": "stream",
     "text": [
      "\b\b\b\b\b\b\b\b\b\b\b\b\b\b\b\b\b\b\b\b\b\b\b\b\b\b\b\b\b\b\b\b\b\b\b\b\b\b\b\b\b\b\b\b\b\b\b\b\b\b\b\b\b\b\b\b\b\b\b\b\b\b\b\b\b\b\b\b\b\b\b\b\b\b\b\b\b\b\b\b\b\b\b\b\b\b\b\b\b\b\b\b\b\b\b\b\b\b\b\b\b\b\b\b\b\b\b\b\b\b\b\b\b\b\b\r",
      "1/1 [==============================] - 0s 71ms/step - loss: 23819.2500 - mape: 67.4768 - mae: 153.6041 - mse: 23819.2500 - val_loss: 14054.2051 - val_mape: 49.4312 - val_mae: 118.5173 - val_mse: 14054.2051\n"
     ]
    },
    {
     "name": "stdout",
     "output_type": "stream",
     "text": [
      "Epoch 4/500\n"
     ]
    },
    {
     "name": "stdout",
     "output_type": "stream",
     "text": [
      "\r",
      "1/1 [==============================] - ETA: 0s - loss: 13841.0791 - mape: 51.1354 - mae: 116.5662 - mse: 13841.0791"
     ]
    },
    {
     "name": "stdout",
     "output_type": "stream",
     "text": [
      "\b\b\b\b\b\b\b\b\b\b\b\b\b\b\b\b\b\b\b\b\b\b\b\b\b\b\b\b\b\b\b\b\b\b\b\b\b\b\b\b\b\b\b\b\b\b\b\b\b\b\b\b\b\b\b\b\b\b\b\b\b\b\b\b\b\b\b\b\b\b\b\b\b\b\b\b\b\b\b\b\b\b\b\b\b\b\b\b\b\b\b\b\b\b\b\b\b\b\b\b\b\b\b\b\b\b\b\b\b\b\b\b\b\b\b\r",
      "1/1 [==============================] - 0s 121ms/step - loss: 13841.0791 - mape: 51.1354 - mae: 116.5662 - mse: 13841.0791 - val_loss: 5925.5288 - val_mape: 32.0845 - val_mae: 76.9290 - val_mse: 5925.5288\n"
     ]
    },
    {
     "name": "stdout",
     "output_type": "stream",
     "text": [
      "Epoch 5/500\n"
     ]
    },
    {
     "name": "stdout",
     "output_type": "stream",
     "text": [
      "\r",
      "1/1 [==============================] - ETA: 0s - loss: 5406.4775 - mape: 31.4361 - mae: 71.6225 - mse: 5406.4775"
     ]
    },
    {
     "name": "stdout",
     "output_type": "stream",
     "text": [
      "\b\b\b\b\b\b\b\b\b\b\b\b\b\b\b\b\b\b\b\b\b\b\b\b\b\b\b\b\b\b\b\b\b\b\b\b\b\b\b\b\b\b\b\b\b\b\b\b\b\b\b\b\b\b\b\b\b\b\b\b\b\b\b\b\b\b\b\b\b\b\b\b\b\b\b\b\b\b\b\b\b\b\b\b\b\b\b\b\b\b\b\b\b\b\b\b\b\b\b\b\b\b\b\b\b\b\b\b\b\b\b\b\r",
      "1/1 [==============================] - 0s 86ms/step - loss: 5406.4775 - mape: 31.4361 - mae: 71.6225 - mse: 5406.4775 - val_loss: 1471.3859 - val_mape: 15.9483 - val_mae: 38.2430 - val_mse: 1471.3859\n"
     ]
    },
    {
     "name": "stdout",
     "output_type": "stream",
     "text": [
      "Epoch 6/500\n"
     ]
    },
    {
     "name": "stdout",
     "output_type": "stream",
     "text": [
      "\r",
      "1/1 [==============================] - ETA: 0s - loss: 1377.0458 - mape: 12.5294 - mae: 29.2290 - mse: 1377.0458"
     ]
    },
    {
     "name": "stdout",
     "output_type": "stream",
     "text": [
      "\b\b\b\b\b\b\b\b\b\b\b\b\b\b\b\b\b\b\b\b\b\b\b\b\b\b\b\b\b\b\b\b\b\b\b\b\b\b\b\b\b\b\b\b\b\b\b\b\b\b\b\b\b\b\b\b\b\b\b\b\b\b\b\b\b\b\b\b\b\b\b\b\b\b\b\b\b\b\b\b\b\b\b\b\b\b\b\b\b\b\b\b\b\b\b\b\b\b\b\b\b\b\b\b\b\b\b\b\b\b\b\b\r",
      "1/1 [==============================] - 0s 83ms/step - loss: 1377.0458 - mape: 12.5294 - mae: 29.2290 - mse: 1377.0458 - val_loss: 23.4154 - val_mape: 1.5009 - val_mae: 3.6037 - val_mse: 23.4154\n"
     ]
    },
    {
     "name": "stdout",
     "output_type": "stream",
     "text": [
      "Epoch 7/500\n"
     ]
    },
    {
     "name": "stdout",
     "output_type": "stream",
     "text": [
      "\r",
      "1/1 [==============================] - ETA: 0s - loss: 311.9446 - mape: 6.2087 - mae: 14.2871 - mse: 311.9446"
     ]
    },
    {
     "name": "stdout",
     "output_type": "stream",
     "text": [
      "\b\b\b\b\b\b\b\b\b\b\b\b\b\b\b\b\b\b\b\b\b\b\b\b\b\b\b\b\b\b\b\b\b\b\b\b\b\b\b\b\b\b\b\b\b\b\b\b\b\b\b\b\b\b\b\b\b\b\b\b\b\b\b\b\b\b\b\b\b\b\b\b\b\b\b\b\b\b\b\b\b\b\b\b\b\b\b\b\b\b\b\b\b\b\b\b\b\b\b\b\b\b\b\b\b\b\b\b\b\r",
      "1/1 [==============================] - 0s 35ms/step - loss: 311.9446 - mape: 6.2087 - mae: 14.2871 - mse: 311.9446 - val_loss: 709.8582 - val_mape: 11.0093 - val_mae: 26.3859 - val_mse: 709.8582\n"
     ]
    },
    {
     "name": "stdout",
     "output_type": "stream",
     "text": [
      "Epoch 8/500\n"
     ]
    },
    {
     "name": "stdout",
     "output_type": "stream",
     "text": [
      "\r",
      "1/1 [==============================] - ETA: 0s - loss: 1444.9911 - mape: 14.4687 - mae: 32.5700 - mse: 1444.9911"
     ]
    },
    {
     "name": "stdout",
     "output_type": "stream",
     "text": [
      "\b\b\b\b\b\b\b\b\b\b\b\b\b\b\b\b\b\b\b\b\b\b\b\b\b\b\b\b\b\b\b\b\b\b\b\b\b\b\b\b\b\b\b\b\b\b\b\b\b\b\b\b\b\b\b\b\b\b\b\b\b\b\b\b\b\b\b\b\b\b\b\b\b\b\b\b\b\b\b\b\b\b\b\b\b\b\b\b\b\b\b\b\b\b\b\b\b\b\b\b\b\b\b\b\b\b\b\b\b\b\b\b\r",
      "1/1 [==============================] - 0s 39ms/step - loss: 1444.9911 - mape: 14.4687 - mae: 32.5700 - mse: 1444.9911 - val_loss: 2553.1926 - val_mape: 21.0144 - val_mae: 50.3708 - val_mse: 2553.1926\n"
     ]
    },
    {
     "name": "stdout",
     "output_type": "stream",
     "text": [
      "Epoch 9/500\n"
     ]
    },
    {
     "name": "stdout",
     "output_type": "stream",
     "text": [
      "\r",
      "1/1 [==============================] - ETA: 0s - loss: 2726.3875 - mape: 21.7740 - mae: 49.1816 - mse: 2726.3875"
     ]
    },
    {
     "name": "stdout",
     "output_type": "stream",
     "text": [
      "\b\b\b\b\b\b\b\b\b\b\b\b\b\b\b\b\b\b\b\b\b\b\b\b\b\b\b\b\b\b\b\b\b\b\b\b\b\b\b\b\b\b\b\b\b\b\b\b\b\b\b\b\b\b\b\b\b\b\b\b\b\b\b\b\b\b\b\b\b\b\b\b\b\b\b\b\b\b\b\b\b\b\b\b\b\b\b\b\b\b\b\b\b\b\b\b\b\b\b\b\b\b\b\b\b\b\b\b\b\b\b\b\r",
      "1/1 [==============================] - 0s 39ms/step - loss: 2726.3875 - mape: 21.7740 - mae: 49.1816 - mse: 2726.3875 - val_loss: 4665.1084 - val_mape: 28.4395 - val_mae: 68.1712 - val_mse: 4665.1084\n"
     ]
    },
    {
     "name": "stdout",
     "output_type": "stream",
     "text": [
      "Epoch 10/500\n"
     ]
    },
    {
     "name": "stdout",
     "output_type": "stream",
     "text": [
      "\r",
      "1/1 [==============================] - ETA: 0s - loss: 5450.4106 - mape: 31.4658 - mae: 70.7957 - mse: 5450.4106"
     ]
    },
    {
     "name": "stdout",
     "output_type": "stream",
     "text": [
      "\b\b\b\b\b\b\b\b\b\b\b\b\b\b\b\b\b\b\b\b\b\b\b\b\b\b\b\b\b\b\b\b\b\b\b\b\b\b\b\b\b\b\b\b\b\b\b\b\b\b\b\b\b\b\b\b\b\b\b\b\b\b\b\b\b\b\b\b\b\b\b\b\b\b\b\b\b\b\b\b\b\b\b\b\b\b\b\b\b\b\b\b\b\b\b\b\b\b\b\b\b\b\b\b\b\b\b\b\b\b\b\b\r",
      "1/1 [==============================] - 0s 36ms/step - loss: 5450.4106 - mape: 31.4658 - mae: 70.7957 - mse: 5450.4106 - val_loss: 6305.3281 - val_mape: 33.0755 - val_mae: 79.2855 - val_mse: 6305.3281\n"
     ]
    },
    {
     "name": "stdout",
     "output_type": "stream",
     "text": [
      "Epoch 11/500\n"
     ]
    },
    {
     "name": "stdout",
     "output_type": "stream",
     "text": [
      "\r",
      "1/1 [==============================] - ETA: 0s - loss: 7355.8213 - mape: 36.7867 - mae: 83.1841 - mse: 7355.8213"
     ]
    },
    {
     "name": "stdout",
     "output_type": "stream",
     "text": [
      "\b\b\b\b\b\b\b\b\b\b\b\b\b\b\b\b\b\b\b\b\b\b\b\b\b\b\b\b\b\b\b\b\b\b\b\b\b\b\b\b\b\b\b\b\b\b\b\b\b\b\b\b\b\b\b\b\b\b\b\b\b\b\b\b\b\b\b\b\b\b\b\b\b\b\b\b\b\b\b\b\b\b\b\b\b\b\b\b\b\b\b\b\b\b\b\b\b\b\b\b\b\b\b\b\b\b\b\b\b\b\b\b\r",
      "1/1 [==============================] - 0s 38ms/step - loss: 7355.8213 - mape: 36.7867 - mae: 83.1841 - mse: 7355.8213 - val_loss: 7082.8584 - val_mape: 35.0597 - val_mae: 84.0422 - val_mse: 7082.8584\n"
     ]
    },
    {
     "name": "stdout",
     "output_type": "stream",
     "text": [
      "Epoch 12/500\n"
     ]
    },
    {
     "name": "stdout",
     "output_type": "stream",
     "text": [
      "\r",
      "1/1 [==============================] - ETA: 0s - loss: 6739.2466 - mape: 35.0494 - mae: 79.4621 - mse: 6739.2466"
     ]
    },
    {
     "name": "stdout",
     "output_type": "stream",
     "text": [
      "\b\b\b\b\b\b\b\b\b\b\b\b\b\b\b\b\b\b\b\b\b\b\b\b\b\b\b\b\b\b\b\b\b\b\b\b\b\b\b\b\b\b\b\b\b\b\b\b\b\b\b\b\b\b\b\b\b\b\b\b\b\b\b\b\b\b\b\b\b\b\b\b\b\b\b\b\b\b\b\b\b\b\b\b\b\b\b\b\b\b\b\b\b\b\b\b\b\b\b\b\b\b\b\b\b\b\b\b\b\b\b\b\r",
      "1/1 [==============================] - 0s 32ms/step - loss: 6739.2466 - mape: 35.0494 - mae: 79.4621 - mse: 6739.2466 - val_loss: 7041.5913 - val_mape: 34.9573 - val_mae: 83.7966 - val_mse: 7041.5913\n"
     ]
    },
    {
     "name": "stdout",
     "output_type": "stream",
     "text": [
      "Epoch 13/500\n"
     ]
    },
    {
     "name": "stdout",
     "output_type": "stream",
     "text": [
      "\r",
      "1/1 [==============================] - ETA: 0s - loss: 7175.5962 - mape: 36.2914 - mae: 82.1201 - mse: 7175.5962"
     ]
    },
    {
     "name": "stdout",
     "output_type": "stream",
     "text": [
      "\b\b\b\b\b\b\b\b\b\b\b\b\b\b\b\b\b\b\b\b\b\b\b\b\b\b\b\b\b\b\b\b\b\b\b\b\b\b\b\b\b\b\b\b\b\b\b\b\b\b\b\b\b\b\b\b\b\b\b\b\b\b\b\b\b\b\b\b\b\b\b\b\b\b\b\b\b\b\b\b\b\b\b\b\b\b\b\b\b\b\b\b\b\b\b\b\b\b\b\b\b\b\b\b\b\b\b\b\b\b\b\b\r",
      "1/1 [==============================] - 0s 41ms/step - loss: 7175.5962 - mape: 36.2914 - mae: 82.1201 - mse: 7175.5962 - val_loss: 6299.0366 - val_mape: 33.0593 - val_mae: 79.2462 - val_mse: 6299.0366\n"
     ]
    },
    {
     "name": "stdout",
     "output_type": "stream",
     "text": [
      "Epoch 14/500\n"
     ]
    },
    {
     "name": "stdout",
     "output_type": "stream",
     "text": [
      "\r",
      "1/1 [==============================] - ETA: 0s - loss: 7503.1685 - mape: 37.0536 - mae: 83.4288 - mse: 7503.1685"
     ]
    },
    {
     "name": "stdout",
     "output_type": "stream",
     "text": [
      "\b\b\b\b\b\b\b\b\b\b\b\b\b\b\b\b\b\b\b\b\b\b\b\b\b\b\b\b\b\b\b\b\b\b\b\b\b\b\b\b\b\b\b\b\b\b\b\b\b\b\b\b\b\b\b\b\b\b\b\b\b\b\b\b\b\b\b\b\b\b\b\b\b\b\b\b\b\b\b\b\b\b\b\b\b\b\b\b\b\b\b\b\b\b\b\b\b\b\b\b\b\b\b\b\b\b\b\b\b\b\b\b\r",
      "1/1 [==============================] - 0s 37ms/step - loss: 7503.1685 - mape: 37.0536 - mae: 83.4288 - mse: 7503.1685 - val_loss: 5063.6772 - val_mape: 29.6338 - val_mae: 71.0333 - val_mse: 5063.6772\n"
     ]
    },
    {
     "name": "stdout",
     "output_type": "stream",
     "text": [
      "Epoch 15/500\n"
     ]
    },
    {
     "name": "stdout",
     "output_type": "stream",
     "text": [
      "\r",
      "1/1 [==============================] - ETA: 0s - loss: 5372.5747 - mape: 31.2525 - mae: 70.4689 - mse: 5372.5747"
     ]
    },
    {
     "name": "stdout",
     "output_type": "stream",
     "text": [
      "\b\b\b\b\b\b\b\b\b\b\b\b\b\b\b\b\b\b\b\b\b\b\b\b\b\b\b\b\b\b\b\b\b\b\b\b\b\b\b\b\b\b\b\b\b\b\b\b\b\b\b\b\b\b\b\b\b\b\b\b\b\b\b\b\b\b\b\b\b\b\b\b\b\b\b\b\b\b\b\b\b\b\b\b\b\b\b\b\b\b\b\b\b\b\b\b\b\b\b\b\b\b\b\b\b\b\b\b\b\b\b\b\r",
      "1/1 [==============================] - 0s 38ms/step - loss: 5372.5747 - mape: 31.2525 - mae: 70.4689 - mse: 5372.5747 - val_loss: 3658.7534 - val_mape: 25.1776 - val_mae: 60.3495 - val_mse: 3658.7534\n"
     ]
    },
    {
     "name": "stdout",
     "output_type": "stream",
     "text": [
      "Epoch 16/500\n"
     ]
    },
    {
     "name": "stdout",
     "output_type": "stream",
     "text": [
      "\r",
      "1/1 [==============================] - ETA: 0s - loss: 3398.7026 - mape: 23.4596 - mae: 52.5546 - mse: 3398.7026"
     ]
    },
    {
     "name": "stdout",
     "output_type": "stream",
     "text": [
      "\b\b\b\b\b\b\b\b\b\b\b\b\b\b\b\b\b\b\b\b\b\b\b\b\b\b\b\b\b\b\b\b\b\b\b\b\b\b\b\b\b\b\b\b\b\b\b\b\b\b\b\b\b\b\b\b\b\b\b\b\b\b\b\b\b\b\b\b\b\b\b\b\b\b\b\b\b\b\b\b\b\b\b\b\b\b\b\b\b\b\b\b\b\b\b\b\b\b\b\b\b\b\b\b\b\b\b\b\b\b\b\b\r",
      "1/1 [==============================] - 0s 42ms/step - loss: 3398.7026 - mape: 23.4596 - mae: 52.5546 - mse: 3398.7026 - val_loss: 2355.6697 - val_mape: 20.1831 - val_mae: 48.3753 - val_mse: 2355.6697\n"
     ]
    }
   ],
   "source": [
    "model_type = 'MLP'\n",
    "neurons = 1000\n",
    "dropout_rate = 0.2\n",
    "batch_size = 16\n",
    "\n",
    "model_mlp, history_mlp = create_and_train_model(model_type, neurons, dropout_rate, batch_size,\n",
    "                                                X_train, y_train, X_val, y_val)\n"
   ]
  },
  {
   "cell_type": "code",
   "execution_count": 13,
   "metadata": {},
   "outputs": [
    {
     "name": "stdout",
     "output_type": "stream",
     "text": [
      "Epoch 1/500\n"
     ]
    },
    {
     "name": "stdout",
     "output_type": "stream",
     "text": [
      "\r",
      "1/1 [==============================] - ETA: 0s - loss: 52445.4766 - mape: 100.5695 - mae: 228.7608 - mse: 52445.4766"
     ]
    },
    {
     "name": "stdout",
     "output_type": "stream",
     "text": [
      "\b\b\b\b\b\b\b\b\b\b\b\b\b\b\b\b\b\b\b\b\b\b\b\b\b\b\b\b\b\b\b\b\b\b\b\b\b\b\b\b\b\b\b\b\b\b\b\b\b\b\b\b\b\b\b\b\b\b\b\b\b\b\b\b\b\b\b\b\b\b\b\b\b\b\b\b\b\b\b\b\b\b\b\b\b\b\b\b\b\b\b\b\b\b\b\b\b\b\b\b\b\b\b\b\b\b\b\b\b\b\b\b\b\b\b\b\r",
      "1/1 [==============================] - 1s 1s/step - loss: 52445.4766 - mape: 100.5695 - mae: 228.7608 - mse: 52445.4766 - val_loss: 56429.3242 - val_mape: 99.0615 - val_mae: 237.5073 - val_mse: 56429.3242\n"
     ]
    },
    {
     "name": "stdout",
     "output_type": "stream",
     "text": [
      "Epoch 2/500\n"
     ]
    },
    {
     "name": "stdout",
     "output_type": "stream",
     "text": [
      "\r",
      "1/1 [==============================] - ETA: 0s - loss: 50737.9648 - mape: 98.9240 - mae: 225.0130 - mse: 50737.9648"
     ]
    },
    {
     "name": "stdout",
     "output_type": "stream",
     "text": [
      "\b\b\b\b\b\b\b\b\b\b\b\b\b\b\b\b\b\b\b\b\b\b\b\b\b\b\b\b\b\b\b\b\b\b\b\b\b\b\b\b\b\b\b\b\b\b\b\b\b\b\b\b\b\b\b\b\b\b\b\b\b\b\b\b\b\b\b\b\b\b\b\b\b\b\b\b\b\b\b\b\b\b\b\b\b\b\b\b\b\b\b\b\b\b\b\b\b\b\b\b\b\b\b\b\b\b\b\b\b\b\b\b\b\b\b\r",
      "1/1 [==============================] - 0s 296ms/step - loss: 50737.9648 - mape: 98.9240 - mae: 225.0130 - mse: 50737.9648 - val_loss: 55148.0430 - val_mape: 97.9296 - val_mae: 234.7945 - val_mse: 55148.0430\n"
     ]
    },
    {
     "name": "stdout",
     "output_type": "stream",
     "text": [
      "Epoch 3/500\n"
     ]
    },
    {
     "name": "stdout",
     "output_type": "stream",
     "text": [
      "\r",
      "1/1 [==============================] - ETA: 0s - loss: 49661.8477 - mape: 97.8546 - mae: 222.5969 - mse: 49661.8477"
     ]
    },
    {
     "name": "stdout",
     "output_type": "stream",
     "text": [
      "\b\b\b\b\b\b\b\b\b\b\b\b\b\b\b\b\b\b\b\b\b\b\b\b\b\b\b\b\b\b\b\b\b\b\b\b\b\b\b\b\b\b\b\b\b\b\b\b\b\b\b\b\b\b\b\b\b\b\b\b\b\b\b\b\b\b\b\b\b\b\b\b\b\b\b\b\b\b\b\b\b\b\b\b\b\b\b\b\b\b\b\b\b\b\b\b\b\b\b\b\b\b\b\b\b\b\b\b\b\b\b\b\b\b\b\r",
      "1/1 [==============================] - 0s 120ms/step - loss: 49661.8477 - mape: 97.8546 - mae: 222.5969 - mse: 49661.8477 - val_loss: 54106.2500 - val_mape: 96.9997 - val_mae: 232.5656 - val_mse: 54106.2500\n"
     ]
    },
    {
     "name": "stdout",
     "output_type": "stream",
     "text": [
      "Epoch 4/500\n"
     ]
    },
    {
     "name": "stdout",
     "output_type": "stream",
     "text": [
      "\r",
      "1/1 [==============================] - ETA: 0s - loss: 48520.9883 - mape: 96.7210 - mae: 220.0210 - mse: 48520.9883"
     ]
    },
    {
     "name": "stdout",
     "output_type": "stream",
     "text": [
      "\b\b\b\b\b\b\b\b\b\b\b\b\b\b\b\b\b\b\b\b\b\b\b\b\b\b\b\b\b\b\b\b\b\b\b\b\b\b\b\b\b\b\b\b\b\b\b\b\b\b\b\b\b\b\b\b\b\b\b\b\b\b\b\b\b\b\b\b\b\b\b\b\b\b\b\b\b\b\b\b\b\b\b\b\b\b\b\b\b\b\b\b\b\b\b\b\b\b\b\b\b\b\b\b\b\b\b\b\b\b\b\b\b\b\b\r",
      "1/1 [==============================] - 0s 167ms/step - loss: 48520.9883 - mape: 96.7210 - mae: 220.0210 - mse: 48520.9883 - val_loss: 53104.6445 - val_mape: 96.0972 - val_mae: 230.4023 - val_mse: 53104.6445\n"
     ]
    },
    {
     "name": "stdout",
     "output_type": "stream",
     "text": [
      "Epoch 5/500\n"
     ]
    },
    {
     "name": "stdout",
     "output_type": "stream",
     "text": [
      "\r",
      "1/1 [==============================] - ETA: 0s - loss: 47659.8828 - mape: 95.8372 - mae: 218.0330 - mse: 47659.8828"
     ]
    },
    {
     "name": "stdout",
     "output_type": "stream",
     "text": [
      "\b\b\b\b\b\b\b\b\b\b\b\b\b\b\b\b\b\b\b\b\b\b\b\b\b\b\b\b\b\b\b\b\b\b\b\b\b\b\b\b\b\b\b\b\b\b\b\b\b\b\b\b\b\b\b\b\b\b\b\b\b\b\b\b\b\b\b\b\b\b\b\b\b\b\b\b\b\b\b\b\b\b\b\b\b\b\b\b\b\b\b\b\b\b\b\b\b\b\b\b\b\b\b\b\b\b\b\b\b\b\b\b\b\b\b\r",
      "1/1 [==============================] - 0s 196ms/step - loss: 47659.8828 - mape: 95.8372 - mae: 218.0330 - mse: 47659.8828 - val_loss: 52131.3359 - val_mape: 95.2120 - val_mae: 228.2805 - val_mse: 52131.3359\n"
     ]
    },
    {
     "name": "stdout",
     "output_type": "stream",
     "text": [
      "Epoch 6/500\n"
     ]
    },
    {
     "name": "stdout",
     "output_type": "stream",
     "text": [
      "\r",
      "1/1 [==============================] - ETA: 0s - loss: 46609.0039 - mape: 94.7813 - mae: 215.6246 - mse: 46609.0039"
     ]
    },
    {
     "name": "stdout",
     "output_type": "stream",
     "text": [
      "\b\b\b\b\b\b\b\b\b\b\b\b\b\b\b\b\b\b\b\b\b\b\b\b\b\b\b\b\b\b\b\b\b\b\b\b\b\b\b\b\b\b\b\b\b\b\b\b\b\b\b\b\b\b\b\b\b\b\b\b\b\b\b\b\b\b\b\b\b\b\b\b\b\b\b\b\b\b\b\b\b\b\b\b\b\b\b\b\b\b\b\b\b\b\b\b\b\b\b\b\b\b\b\b\b\b\b\b\b\b\b\b\b\b\b\r",
      "1/1 [==============================] - 0s 107ms/step - loss: 46609.0039 - mape: 94.7813 - mae: 215.6246 - mse: 46609.0039 - val_loss: 51199.7695 - val_mape: 94.3569 - val_mae: 226.2310 - val_mse: 51199.7695\n"
     ]
    },
    {
     "name": "stdout",
     "output_type": "stream",
     "text": [
      "Epoch 7/500\n"
     ]
    },
    {
     "name": "stdout",
     "output_type": "stream",
     "text": [
      "\r",
      "1/1 [==============================] - ETA: 0s - loss: 45801.0430 - mape: 93.9517 - mae: 213.7418 - mse: 45801.0430"
     ]
    },
    {
     "name": "stdout",
     "output_type": "stream",
     "text": [
      "\b\b\b\b\b\b\b\b\b\b\b\b\b\b\b\b\b\b\b\b\b\b\b\b\b\b\b\b\b\b\b\b\b\b\b\b\b\b\b\b\b\b\b\b\b\b\b\b\b\b\b\b\b\b\b\b\b\b\b\b\b\b\b\b\b\b\b\b\b\b\b\b\b\b\b\b\b\b\b\b\b\b\b\b\b\b\b\b\b\b\b\b\b\b\b\b\b\b\b\b\b\b\b\b\b\b\b\b\b\b\b\b\b\b\b\r",
      "1/1 [==============================] - 0s 104ms/step - loss: 45801.0430 - mape: 93.9517 - mae: 213.7418 - mse: 45801.0430 - val_loss: 50316.8555 - val_mape: 93.5393 - val_mae: 224.2712 - val_mse: 50316.8555\n"
     ]
    },
    {
     "name": "stdout",
     "output_type": "stream",
     "text": [
      "Epoch 8/500\n"
     ]
    },
    {
     "name": "stdout",
     "output_type": "stream",
     "text": [
      "\r",
      "1/1 [==============================] - ETA: 0s - loss: 44912.7852 - mape: 93.0440 - mae: 211.6687 - mse: 44912.7852"
     ]
    },
    {
     "name": "stdout",
     "output_type": "stream",
     "text": [
      "\b\b\b\b\b\b\b\b\b\b\b\b\b\b\b\b\b\b\b\b\b\b\b\b\b\b\b\b\b\b\b\b\b\b\b\b\b\b\b\b\b\b\b\b\b\b\b\b\b\b\b\b\b\b\b\b\b\b\b\b\b\b\b\b\b\b\b\b\b\b\b\b\b\b\b\b\b\b\b\b\b\b\b\b\b\b\b\b\b\b\b\b\b\b\b\b\b\b\b\b\b\b\b\b\b\b\b\b\b\b\b\b\b\b\b\r",
      "1/1 [==============================] - 0s 144ms/step - loss: 44912.7852 - mape: 93.0440 - mae: 211.6687 - mse: 44912.7852 - val_loss: 49523.2109 - val_mape: 92.7980 - val_mae: 222.4946 - val_mse: 49523.2109\n"
     ]
    },
    {
     "name": "stdout",
     "output_type": "stream",
     "text": [
      "Epoch 9/500\n"
     ]
    },
    {
     "name": "stdout",
     "output_type": "stream",
     "text": [
      "\r",
      "1/1 [==============================] - ETA: 0s - loss: 44201.0859 - mape: 92.2709 - mae: 209.9436 - mse: 44201.0859"
     ]
    },
    {
     "name": "stdout",
     "output_type": "stream",
     "text": [
      "\b\b\b\b\b\b\b\b\b\b\b\b\b\b\b\b\b\b\b\b\b\b\b\b\b\b\b\b\b\b\b\b\b\b\b\b\b\b\b\b\b\b\b\b\b\b\b\b\b\b\b\b\b\b\b\b\b\b\b\b\b\b\b\b\b\b\b\b\b\b\b\b\b\b\b\b\b\b\b\b\b\b\b\b\b\b\b\b\b\b\b\b\b\b\b\b\b\b\b\b\b\b\b\b\b\b\b\b\b\b\b\b\b\b\b\r",
      "1/1 [==============================] - 0s 278ms/step - loss: 44201.0859 - mape: 92.2709 - mae: 209.9436 - mse: 44201.0859 - val_loss: 48817.2852 - val_mape: 92.1336 - val_mae: 220.9025 - val_mse: 48817.2852\n"
     ]
    },
    {
     "name": "stdout",
     "output_type": "stream",
     "text": [
      "Epoch 10/500\n"
     ]
    },
    {
     "name": "stdout",
     "output_type": "stream",
     "text": [
      "\r",
      "1/1 [==============================] - ETA: 0s - loss: 43517.8125 - mape: 91.5687 - mae: 208.3321 - mse: 43517.8125"
     ]
    },
    {
     "name": "stdout",
     "output_type": "stream",
     "text": [
      "\b\b\b\b\b\b\b\b\b\b\b\b\b\b\b\b\b\b\b\b\b\b\b\b\b\b\b\b\b\b\b\b\b\b\b\b\b\b\b\b\b\b\b\b\b\b\b\b\b\b\b\b\b\b\b\b\b\b\b\b\b\b\b\b\b\b\b\b\b\b\b\b\b\b\b\b\b\b\b\b\b\b\b\b\b\b\b\b\b\b\b\b\b\b\b\b\b\b\b\b\b\b\b\b\b\b\b\b\b\b\b\b\b\b\b\r",
      "1/1 [==============================] - 0s 111ms/step - loss: 43517.8125 - mape: 91.5687 - mae: 208.3321 - mse: 43517.8125 - val_loss: 48184.9180 - val_mape: 91.5344 - val_mae: 219.4664 - val_mse: 48184.9180\n"
     ]
    },
    {
     "name": "stdout",
     "output_type": "stream",
     "text": [
      "Epoch 11/500\n"
     ]
    },
    {
     "name": "stdout",
     "output_type": "stream",
     "text": [
      "\r",
      "1/1 [==============================] - ETA: 0s - loss: 42977.8555 - mape: 91.0113 - mae: 207.0512 - mse: 42977.8555"
     ]
    },
    {
     "name": "stdout",
     "output_type": "stream",
     "text": [
      "\b\b\b\b\b\b\b\b\b\b\b\b\b\b\b\b\b\b\b\b\b\b\b\b\b\b\b\b\b\b\b\b\b\b\b\b\b\b\b\b\b\b\b\b\b\b\b\b\b\b\b\b\b\b\b\b\b\b\b\b\b\b\b\b\b\b\b\b\b\b\b\b\b\b\b\b\b\b\b\b\b\b\b\b\b\b\b\b\b\b\b\b\b\b\b\b\b\b\b\b\b\b\b\b\b\b\b\b\b\b\b\b\b\b\b\r",
      "1/1 [==============================] - 0s 90ms/step - loss: 42977.8555 - mape: 91.0113 - mae: 207.0512 - mse: 42977.8555 - val_loss: 47596.9297 - val_mape: 90.9737 - val_mae: 218.1226 - val_mse: 47596.9297\n"
     ]
    },
    {
     "name": "stdout",
     "output_type": "stream",
     "text": [
      "Epoch 12/500\n"
     ]
    },
    {
     "name": "stdout",
     "output_type": "stream",
     "text": [
      "\r",
      "1/1 [==============================] - ETA: 0s - loss: 42433.5586 - mape: 90.4140 - mae: 205.7120 - mse: 42433.5586"
     ]
    },
    {
     "name": "stdout",
     "output_type": "stream",
     "text": [
      "\b\b\b\b\b\b\b\b\b\b\b\b\b\b\b\b\b\b\b\b\b\b\b\b\b\b\b\b\b\b\b\b\b\b\b\b\b\b\b\b\b\b\b\b\b\b\b\b\b\b\b\b\b\b\b\b\b\b\b\b\b\b\b\b\b\b\b\b\b\b\b\b\b\b\b\b\b\b\b\b\b\b\b\b\b\b\b\b\b\b\b\b\b\b\b\b\b\b\b\b\b\b\b\b\b\b\b\b\b\b\b\b\b\b\b\r",
      "1/1 [==============================] - 0s 105ms/step - loss: 42433.5586 - mape: 90.4140 - mae: 205.7120 - mse: 42433.5586 - val_loss: 47021.4297 - val_mape: 90.4216 - val_mae: 216.7994 - val_mse: 47021.4297\n"
     ]
    },
    {
     "name": "stdout",
     "output_type": "stream",
     "text": [
      "Epoch 13/500\n"
     ]
    },
    {
     "name": "stdout",
     "output_type": "stream",
     "text": [
      "\r",
      "1/1 [==============================] - ETA: 0s - loss: 41918.3633 - mape: 89.8563 - mae: 204.4510 - mse: 41918.3633"
     ]
    },
    {
     "name": "stdout",
     "output_type": "stream",
     "text": [
      "\b\b\b\b\b\b\b\b\b\b\b\b\b\b\b\b\b\b\b\b\b\b\b\b\b\b\b\b\b\b\b\b\b\b\b\b\b\b\b\b\b\b\b\b\b\b\b\b\b\b\b\b\b\b\b\b\b\b\b\b\b\b\b\b\b\b\b\b\b\b\b\b\b\b\b\b\b\b\b\b\b\b\b\b\b\b\b\b\b\b\b\b\b\b\b\b\b\b\b\b\b\b\b\b\b\b\b\b\b\b\b\b\b\b\b\r",
      "1/1 [==============================] - 0s 96ms/step - loss: 41918.3633 - mape: 89.8563 - mae: 204.4510 - mse: 41918.3633 - val_loss: 46487.4375 - val_mape: 89.9061 - val_mae: 215.5642 - val_mse: 46487.4375\n"
     ]
    },
    {
     "name": "stdout",
     "output_type": "stream",
     "text": [
      "Epoch 14/500\n"
     ]
    },
    {
     "name": "stdout",
     "output_type": "stream",
     "text": [
      "\r",
      "1/1 [==============================] - ETA: 0s - loss: 41515.3711 - mape: 89.4268 - mae: 203.4688 - mse: 41515.3711"
     ]
    },
    {
     "name": "stdout",
     "output_type": "stream",
     "text": [
      "\b\b\b\b\b\b\b\b\b\b\b\b\b\b\b\b\b\b\b\b\b\b\b\b\b\b\b\b\b\b\b\b\b\b\b\b\b\b\b\b\b\b\b\b\b\b\b\b\b\b\b\b\b\b\b\b\b\b\b\b\b\b\b\b\b\b\b\b\b\b\b\b\b\b\b\b\b\b\b\b\b\b\b\b\b\b\b\b\b\b\b\b\b\b\b\b\b\b\b\b\b\b\b\b\b\b\b\b\b\b\b\b\b\b\b\r",
      "1/1 [==============================] - 0s 102ms/step - loss: 41515.3711 - mape: 89.4268 - mae: 203.4688 - mse: 41515.3711 - val_loss: 45999.8555 - val_mape: 89.4329 - val_mae: 214.4301 - val_mse: 45999.8555\n"
     ]
    },
    {
     "name": "stdout",
     "output_type": "stream",
     "text": [
      "Epoch 15/500\n"
     ]
    },
    {
     "name": "stdout",
     "output_type": "stream",
     "text": [
      "\r",
      "1/1 [==============================] - ETA: 0s - loss: 40812.1992 - mape: 88.6631 - mae: 201.7353 - mse: 40812.1992"
     ]
    },
    {
     "name": "stdout",
     "output_type": "stream",
     "text": [
      "\b\b\b\b\b\b\b\b\b\b\b\b\b\b\b\b\b\b\b\b\b\b\b\b\b\b\b\b\b\b\b\b\b\b\b\b\b\b\b\b\b\b\b\b\b\b\b\b\b\b\b\b\b\b\b\b\b\b\b\b\b\b\b\b\b\b\b\b\b\b\b\b\b\b\b\b\b\b\b\b\b\b\b\b\b\b\b\b\b\b\b\b\b\b\b\b\b\b\b\b\b\b\b\b\b\b\b\b\b\b\b\b\b\b\b\r",
      "1/1 [==============================] - 0s 265ms/step - loss: 40812.1992 - mape: 88.6631 - mae: 201.7353 - mse: 40812.1992 - val_loss: 45537.6172 - val_mape: 88.9819 - val_mae: 213.3494 - val_mse: 45537.6172\n"
     ]
    },
    {
     "name": "stdout",
     "output_type": "stream",
     "text": [
      "Epoch 16/500\n"
     ]
    },
    {
     "name": "stdout",
     "output_type": "stream",
     "text": [
      "\r",
      "1/1 [==============================] - ETA: 0s - loss: 40534.0273 - mape: 88.3824 - mae: 201.0741 - mse: 40534.0273"
     ]
    },
    {
     "name": "stdout",
     "output_type": "stream",
     "text": [
      "\b\b\b\b\b\b\b\b\b\b\b\b\b\b\b\b\b\b\b\b\b\b\b\b\b\b\b\b\b\b\b\b\b\b\b\b\b\b\b\b\b\b\b\b\b\b\b\b\b\b\b\b\b\b\b\b\b\b\b\b\b\b\b\b\b\b\b\b\b\b\b\b\b\b\b\b\b\b\b\b\b\b\b\b\b\b\b\b\b\b\b\b\b\b\b\b\b\b\b\b\b\b\b\b\b\b\b\b\b\b\b\b\b\b\b\r",
      "1/1 [==============================] - 0s 169ms/step - loss: 40534.0273 - mape: 88.3824 - mae: 201.0741 - mse: 40534.0273 - val_loss: 45101.1445 - val_mape: 88.5540 - val_mae: 212.3239 - val_mse: 45101.1445\n"
     ]
    },
    {
     "name": "stdout",
     "output_type": "stream",
     "text": [
      "Epoch 17/500\n"
     ]
    },
    {
     "name": "stdout",
     "output_type": "stream",
     "text": [
      "\r",
      "1/1 [==============================] - ETA: 0s - loss: 40150.8672 - mape: 87.9532 - mae: 200.1086 - mse: 40150.8672"
     ]
    },
    {
     "name": "stdout",
     "output_type": "stream",
     "text": [
      "\b\b\b\b\b\b\b\b\b\b\b\b\b\b\b\b\b\b\b\b\b\b\b\b\b\b\b\b\b\b\b\b\b\b\b\b\b\b\b\b\b\b\b\b\b\b\b\b\b\b\b\b\b\b\b\b\b\b\b\b\b\b\b\b\b\b\b\b\b\b\b\b\b\b\b\b\b\b\b\b\b\b\b\b\b\b\b\b\b\b\b\b\b\b\b\b\b\b\b\b\b\b\b\b\b\b\b\b\b\b\b\b\b\b\b\r",
      "1/1 [==============================] - 0s 81ms/step - loss: 40150.8672 - mape: 87.9532 - mae: 200.1086 - mse: 40150.8672 - val_loss: 44694.1250 - val_mape: 88.1531 - val_mae: 211.3631 - val_mse: 44694.1250\n"
     ]
    },
    {
     "name": "stdout",
     "output_type": "stream",
     "text": [
      "Epoch 18/500\n"
     ]
    },
    {
     "name": "stdout",
     "output_type": "stream",
     "text": [
      "\r",
      "1/1 [==============================] - ETA: 0s - loss: 39720.5938 - mape: 87.4668 - mae: 199.0161 - mse: 39720.5938"
     ]
    },
    {
     "name": "stdout",
     "output_type": "stream",
     "text": [
      "\b\b\b\b\b\b\b\b\b\b\b\b\b\b\b\b\b\b\b\b\b\b\b\b\b\b\b\b\b\b\b\b\b\b\b\b\b\b\b\b\b\b\b\b\b\b\b\b\b\b\b\b\b\b\b\b\b\b\b\b\b\b\b\b\b\b\b\b\b\b\b\b\b\b\b\b\b\b\b\b\b\b\b\b\b\b\b\b\b\b\b\b\b\b\b\b\b\b\b\b\b\b\b\b\b\b\b\b\b\b\b\b\b\b\b\r",
      "1/1 [==============================] - 0s 92ms/step - loss: 39720.5938 - mape: 87.4668 - mae: 199.0161 - mse: 39720.5938 - val_loss: 44303.3203 - val_mape: 87.7665 - val_mae: 210.4365 - val_mse: 44303.3203\n"
     ]
    },
    {
     "name": "stdout",
     "output_type": "stream",
     "text": [
      "Epoch 19/500\n"
     ]
    },
    {
     "name": "stdout",
     "output_type": "stream",
     "text": [
      "\r",
      "1/1 [==============================] - ETA: 0s - loss: 39369.9883 - mape: 87.0723 - mae: 198.1261 - mse: 39369.9883"
     ]
    },
    {
     "name": "stdout",
     "output_type": "stream",
     "text": [
      "\b\b\b\b\b\b\b\b\b\b\b\b\b\b\b\b\b\b\b\b\b\b\b\b\b\b\b\b\b\b\b\b\b\b\b\b\b\b\b\b\b\b\b\b\b\b\b\b\b\b\b\b\b\b\b\b\b\b\b\b\b\b\b\b\b\b\b\b\b\b\b\b\b\b\b\b\b\b\b\b\b\b\b\b\b\b\b\b\b\b\b\b\b\b\b\b\b\b\b\b\b\b\b\b\b\b\b\b\b\b\b\b\b\b\b\r",
      "1/1 [==============================] - 0s 160ms/step - loss: 39369.9883 - mape: 87.0723 - mae: 198.1261 - mse: 39369.9883 - val_loss: 43913.3203 - val_mape: 87.3790 - val_mae: 209.5078 - val_mse: 43913.3203\n"
     ]
    },
    {
     "name": "stdout",
     "output_type": "stream",
     "text": [
      "Epoch 20/500\n"
     ]
    },
    {
     "name": "stdout",
     "output_type": "stream",
     "text": [
      "\r",
      "1/1 [==============================] - ETA: 0s - loss: 38973.1172 - mape: 86.6397 - mae: 197.1341 - mse: 38973.1172"
     ]
    },
    {
     "name": "stdout",
     "output_type": "stream",
     "text": [
      "\b\b\b\b\b\b\b\b\b\b\b\b\b\b\b\b\b\b\b\b\b\b\b\b\b\b\b\b\b\b\b\b\b\b\b\b\b\b\b\b\b\b\b\b\b\b\b\b\b\b\b\b\b\b\b\b\b\b\b\b\b\b\b\b\b\b\b\b\b\b\b\b\b\b\b\b\b\b\b\b\b\b\b\b\b\b\b\b\b\b\b\b\b\b\b\b\b\b\b\b\b\b\b\b\b\b\b\b\b\b\b\b\b\b\b\r",
      "1/1 [==============================] - 0s 88ms/step - loss: 38973.1172 - mape: 86.6397 - mae: 197.1341 - mse: 38973.1172 - val_loss: 43517.6445 - val_mape: 86.9841 - val_mae: 208.5614 - val_mse: 43517.6445\n"
     ]
    },
    {
     "name": "stdout",
     "output_type": "stream",
     "text": [
      "Epoch 21/500\n"
     ]
    },
    {
     "name": "stdout",
     "output_type": "stream",
     "text": [
      "\r",
      "1/1 [==============================] - ETA: 0s - loss: 38506.7305 - mape: 86.1095 - mae: 195.9386 - mse: 38506.7305"
     ]
    },
    {
     "name": "stdout",
     "output_type": "stream",
     "text": [
      "\b\b\b\b\b\b\b\b\b\b\b\b\b\b\b\b\b\b\b\b\b\b\b\b\b\b\b\b\b\b\b\b\b\b\b\b\b\b\b\b\b\b\b\b\b\b\b\b\b\b\b\b\b\b\b\b\b\b\b\b\b\b\b\b\b\b\b\b\b\b\b\b\b\b\b\b\b\b\b\b\b\b\b\b\b\b\b\b\b\b\b\b\b\b\b\b\b\b\b\b\b\b\b\b\b\b\b\b\b\b\b\b\b\b\b\r",
      "1/1 [==============================] - 0s 90ms/step - loss: 38506.7305 - mape: 86.1095 - mae: 195.9386 - mse: 38506.7305 - val_loss: 43117.9102 - val_mape: 86.5834 - val_mae: 207.6009 - val_mse: 43117.9102\n"
     ]
    },
    {
     "name": "stdout",
     "output_type": "stream",
     "text": [
      "Epoch 22/500\n"
     ]
    },
    {
     "name": "stdout",
     "output_type": "stream",
     "text": [
      "\r",
      "1/1 [==============================] - ETA: 0s - loss: 38293.5859 - mape: 85.8800 - mae: 195.4067 - mse: 38293.5859"
     ]
    },
    {
     "name": "stdout",
     "output_type": "stream",
     "text": [
      "\b\b\b\b\b\b\b\b\b\b\b\b\b\b\b\b\b\b\b\b\b\b\b\b\b\b\b\b\b\b\b\b\b\b\b\b\b\b\b\b\b\b\b\b\b\b\b\b\b\b\b\b\b\b\b\b\b\b\b\b\b\b\b\b\b\b\b\b\b\b\b\b\b\b\b\b\b\b\b\b\b\b\b\b\b\b\b\b\b\b\b\b\b\b\b\b\b\b\b\b\b\b\b\b\b\b\b\b\b\b\b\b\b\b\b\r",
      "1/1 [==============================] - 0s 96ms/step - loss: 38293.5859 - mape: 85.8800 - mae: 195.4067 - mse: 38293.5859 - val_loss: 42727.6484 - val_mape: 86.1903 - val_mae: 206.6588 - val_mse: 42727.6484\n"
     ]
    },
    {
     "name": "stdout",
     "output_type": "stream",
     "text": [
      "Epoch 23/500\n"
     ]
    },
    {
     "name": "stdout",
     "output_type": "stream",
     "text": [
      "\r",
      "1/1 [==============================] - ETA: 0s - loss: 37816.7500 - mape: 85.3357 - mae: 194.1765 - mse: 37816.7500"
     ]
    },
    {
     "name": "stdout",
     "output_type": "stream",
     "text": [
      "\b\b\b\b\b\b\b\b\b\b\b\b\b\b\b\b\b\b\b\b\b\b\b\b\b\b\b\b\b\b\b\b\b\b\b\b\b\b\b\b\b\b\b\b\b\b\b\b\b\b\b\b\b\b\b\b\b\b\b\b\b\b\b\b\b\b\b\b\b\b\b\b\b\b\b\b\b\b\b\b\b\b\b\b\b\b\b\b\b\b\b\b\b\b\b\b\b\b\b\b\b\b\b\b\b\b\b\b\b\b\b\b\b\b\b\r",
      "1/1 [==============================] - 0s 95ms/step - loss: 37816.7500 - mape: 85.3357 - mae: 194.1765 - mse: 37816.7500 - val_loss: 42342.4102 - val_mape: 85.8005 - val_mae: 205.7246 - val_mse: 42342.4102\n"
     ]
    },
    {
     "name": "stdout",
     "output_type": "stream",
     "text": [
      "Epoch 24/500\n"
     ]
    },
    {
     "name": "stdout",
     "output_type": "stream",
     "text": [
      "\r",
      "1/1 [==============================] - ETA: 0s - loss: 37600.6602 - mape: 85.0924 - mae: 193.6216 - mse: 37600.6602"
     ]
    },
    {
     "name": "stdout",
     "output_type": "stream",
     "text": [
      "\b\b\b\b\b\b\b\b\b\b\b\b\b\b\b\b\b\b\b\b\b\b\b\b\b\b\b\b\b\b\b\b\b\b\b\b\b\b\b\b\b\b\b\b\b\b\b\b\b\b\b\b\b\b\b\b\b\b\b\b\b\b\b\b\b\b\b\b\b\b\b\b\b\b\b\b\b\b\b\b\b\b\b\b\b\b\b\b\b\b\b\b\b\b\b\b\b\b\b\b\b\b\b\b\b\b\b\b\b\b\b\b\b\b\b\r",
      "1/1 [==============================] - 0s 192ms/step - loss: 37600.6602 - mape: 85.0924 - mae: 193.6216 - mse: 37600.6602 - val_loss: 41958.4961 - val_mape: 85.4103 - val_mae: 204.7894 - val_mse: 41958.4961\n"
     ]
    },
    {
     "name": "stdout",
     "output_type": "stream",
     "text": [
      "Epoch 25/500\n"
     ]
    },
    {
     "name": "stdout",
     "output_type": "stream",
     "text": [
      "\r",
      "1/1 [==============================] - ETA: 0s - loss: 37171.1172 - mape: 84.5982 - mae: 192.5031 - mse: 37171.1172"
     ]
    },
    {
     "name": "stdout",
     "output_type": "stream",
     "text": [
      "\b\b\b\b\b\b\b\b\b\b\b\b\b\b\b\b\b\b\b\b\b\b\b\b\b\b\b\b\b\b\b\b\b\b\b\b\b\b\b\b\b\b\b\b\b\b\b\b\b\b\b\b\b\b\b\b\b\b\b\b\b\b\b\b\b\b\b\b\b\b\b\b\b\b\b\b\b\b\b\b\b\b\b\b\b\b\b\b\b\b\b\b\b\b\b\b\b\b\b\b\b\b\b\b\b\b\b\b\b\b\b\b\b\b\b\r",
      "1/1 [==============================] - 0s 204ms/step - loss: 37171.1172 - mape: 84.5982 - mae: 192.5031 - mse: 37171.1172 - val_loss: 41575.6797 - val_mape: 85.0194 - val_mae: 203.8526 - val_mse: 41575.6797\n"
     ]
    },
    {
     "name": "stdout",
     "output_type": "stream",
     "text": [
      "Epoch 26/500\n"
     ]
    },
    {
     "name": "stdout",
     "output_type": "stream",
     "text": [
      "\r",
      "1/1 [==============================] - ETA: 0s - loss: 36698.3398 - mape: 84.0704 - mae: 191.2909 - mse: 36698.3398"
     ]
    },
    {
     "name": "stdout",
     "output_type": "stream",
     "text": [
      "\b\b\b\b\b\b\b\b\b\b\b\b\b\b\b\b\b\b\b\b\b\b\b\b\b\b\b\b\b\b\b\b\b\b\b\b\b\b\b\b\b\b\b\b\b\b\b\b\b\b\b\b\b\b\b\b\b\b\b\b\b\b\b\b\b\b\b\b\b\b\b\b\b\b\b\b\b\b\b\b\b\b\b\b\b\b\b\b\b\b\b\b\b\b\b\b\b\b\b\b\b\b\b\b\b\b\b\b\b\b\b\b\b\b\b\r",
      "1/1 [==============================] - 0s 94ms/step - loss: 36698.3398 - mape: 84.0704 - mae: 191.2909 - mse: 36698.3398 - val_loss: 41193.9492 - val_mape: 84.6279 - val_mae: 202.9142 - val_mse: 41193.9492\n"
     ]
    },
    {
     "name": "stdout",
     "output_type": "stream",
     "text": [
      "Epoch 27/500\n"
     ]
    },
    {
     "name": "stdout",
     "output_type": "stream",
     "text": [
      "\r",
      "1/1 [==============================] - ETA: 0s - loss: 36445.2695 - mape: 83.7639 - mae: 190.6090 - mse: 36445.2695"
     ]
    },
    {
     "name": "stdout",
     "output_type": "stream",
     "text": [
      "\b\b\b\b\b\b\b\b\b\b\b\b\b\b\b\b\b\b\b\b\b\b\b\b\b\b\b\b\b\b\b\b\b\b\b\b\b\b\b\b\b\b\b\b\b\b\b\b\b\b\b\b\b\b\b\b\b\b\b\b\b\b\b\b\b\b\b\b\b\b\b\b\b\b\b\b\b\b\b\b\b\b\b\b\b\b\b\b\b\b\b\b\b\b\b\b\b\b\b\b\b\b\b\b\b\b\b\b\b\b\b\b\b\b\b\r",
      "1/1 [==============================] - 0s 105ms/step - loss: 36445.2695 - mape: 83.7639 - mae: 190.6090 - mse: 36445.2695 - val_loss: 40813.5391 - val_mape: 84.2359 - val_mae: 201.9746 - val_mse: 40813.5391\n"
     ]
    },
    {
     "name": "stdout",
     "output_type": "stream",
     "text": [
      "Epoch 28/500\n"
     ]
    },
    {
     "name": "stdout",
     "output_type": "stream",
     "text": [
      "\r",
      "1/1 [==============================] - ETA: 0s - loss: 36108.1953 - mape: 83.3635 - mae: 189.7103 - mse: 36108.1953"
     ]
    },
    {
     "name": "stdout",
     "output_type": "stream",
     "text": [
      "\b\b\b\b\b\b\b\b\b\b\b\b\b\b\b\b\b\b\b\b\b\b\b\b\b\b\b\b\b\b\b\b\b\b\b\b\b\b\b\b\b\b\b\b\b\b\b\b\b\b\b\b\b\b\b\b\b\b\b\b\b\b\b\b\b\b\b\b\b\b\b\b\b\b\b\b\b\b\b\b\b\b\b\b\b\b\b\b\b\b\b\b\b\b\b\b\b\b\b\b\b\b\b\b\b\b\b\b\b\b\b\b\b\b\b\r",
      "1/1 [==============================] - 0s 100ms/step - loss: 36108.1953 - mape: 83.3635 - mae: 189.7103 - mse: 36108.1953 - val_loss: 40434.4375 - val_mape: 83.8434 - val_mae: 201.0339 - val_mse: 40434.4375\n"
     ]
    },
    {
     "name": "stdout",
     "output_type": "stream",
     "text": [
      "Epoch 29/500\n"
     ]
    },
    {
     "name": "stdout",
     "output_type": "stream",
     "text": [
      "\r",
      "1/1 [==============================] - ETA: 0s - loss: 35768.5156 - mape: 82.9936 - mae: 188.8454 - mse: 35768.5156"
     ]
    },
    {
     "name": "stdout",
     "output_type": "stream",
     "text": [
      "\b\b\b\b\b\b\b\b\b\b\b\b\b\b\b\b\b\b\b\b\b\b\b\b\b\b\b\b\b\b\b\b\b\b\b\b\b\b\b\b\b\b\b\b\b\b\b\b\b\b\b\b\b\b\b\b\b\b\b\b\b\b\b\b\b\b\b\b\b\b\b\b\b\b\b\b\b\b\b\b\b\b\b\b\b\b\b\b\b\b\b\b\b\b\b\b\b\b\b\b\b\b\b\b\b\b\b\b\b\b\b\b\b\b\b\r",
      "1/1 [==============================] - 0s 99ms/step - loss: 35768.5156 - mape: 82.9936 - mae: 188.8454 - mse: 35768.5156 - val_loss: 40057.0078 - val_mape: 83.4508 - val_mae: 200.0930 - val_mse: 40057.0078\n"
     ]
    },
    {
     "name": "stdout",
     "output_type": "stream",
     "text": [
      "Epoch 30/500\n"
     ]
    },
    {
     "name": "stdout",
     "output_type": "stream",
     "text": [
      "\r",
      "1/1 [==============================] - ETA: 0s - loss: 35499.7656 - mape: 82.6555 - mae: 188.1019 - mse: 35499.7656"
     ]
    },
    {
     "name": "stdout",
     "output_type": "stream",
     "text": [
      "\b\b\b\b\b\b\b\b\b\b\b\b\b\b\b\b\b\b\b\b\b\b\b\b\b\b\b\b\b\b\b\b\b\b\b\b\b\b\b\b\b\b\b\b\b\b\b\b\b\b\b\b\b\b\b\b\b\b\b\b\b\b\b\b\b\b\b\b\b\b\b\b\b\b\b\b\b\b\b\b\b\b\b\b\b\b\b\b\b\b\b\b\b\b\b\b\b\b\b\b\b\b\b\b\b\b\b\b\b\b\b\b\b\b\b\r",
      "1/1 [==============================] - 0s 90ms/step - loss: 35499.7656 - mape: 82.6555 - mae: 188.1019 - mse: 35499.7656 - val_loss: 39681.3828 - val_mape: 83.0583 - val_mae: 199.1521 - val_mse: 39681.3828\n"
     ]
    },
    {
     "name": "stdout",
     "output_type": "stream",
     "text": [
      "Epoch 31/500\n"
     ]
    },
    {
     "name": "stdout",
     "output_type": "stream",
     "text": [
      "\r",
      "1/1 [==============================] - ETA: 0s - loss: 34952.7852 - mape: 82.0233 - mae: 186.6564 - mse: 34952.7852"
     ]
    },
    {
     "name": "stdout",
     "output_type": "stream",
     "text": [
      "\b\b\b\b\b\b\b\b\b\b\b\b\b\b\b\b\b\b\b\b\b\b\b\b\b\b\b\b\b\b\b\b\b\b\b\b\b\b\b\b\b\b\b\b\b\b\b\b\b\b\b\b\b\b\b\b\b\b\b\b\b\b\b\b\b\b\b\b\b\b\b\b\b\b\b\b\b\b\b\b\b\b\b\b\b\b\b\b\b\b\b\b\b\b\b\b\b\b\b\b\b\b\b\b\b\b\b\b\b\b\b\b\b\b\b\r",
      "1/1 [==============================] - 0s 104ms/step - loss: 34952.7852 - mape: 82.0233 - mae: 186.6564 - mse: 34952.7852 - val_loss: 39307.5391 - val_mape: 82.6657 - val_mae: 198.2113 - val_mse: 39307.5391\n"
     ]
    },
    {
     "name": "stdout",
     "output_type": "stream",
     "text": [
      "Epoch 32/500\n"
     ]
    },
    {
     "name": "stdout",
     "output_type": "stream",
     "text": [
      "\r",
      "1/1 [==============================] - ETA: 0s - loss: 34551.9883 - mape: 81.5635 - mae: 185.5973 - mse: 34551.9883"
     ]
    },
    {
     "name": "stdout",
     "output_type": "stream",
     "text": [
      "\b\b\b\b\b\b\b\b\b\b\b\b\b\b\b\b\b\b\b\b\b\b\b\b\b\b\b\b\b\b\b\b\b\b\b\b\b\b\b\b\b\b\b\b\b\b\b\b\b\b\b\b\b\b\b\b\b\b\b\b\b\b\b\b\b\b\b\b\b\b\b\b\b\b\b\b\b\b\b\b\b\b\b\b\b\b\b\b\b\b\b\b\b\b\b\b\b\b\b\b\b\b\b\b\b\b\b\b\b\b\b\b\b\b\b\r",
      "1/1 [==============================] - 0s 91ms/step - loss: 34551.9883 - mape: 81.5635 - mae: 185.5973 - mse: 34551.9883 - val_loss: 38935.2812 - val_mape: 82.2730 - val_mae: 197.2701 - val_mse: 38935.2812\n"
     ]
    },
    {
     "name": "stdout",
     "output_type": "stream",
     "text": [
      "Epoch 33/500\n"
     ]
    },
    {
     "name": "stdout",
     "output_type": "stream",
     "text": [
      "\r",
      "1/1 [==============================] - ETA: 0s - loss: 34230.0391 - mape: 81.1499 - mae: 184.6890 - mse: 34230.0391"
     ]
    },
    {
     "name": "stdout",
     "output_type": "stream",
     "text": [
      "\b\b\b\b\b\b\b\b\b\b\b\b\b\b\b\b\b\b\b\b\b\b\b\b\b\b\b\b\b\b\b\b\b\b\b\b\b\b\b\b\b\b\b\b\b\b\b\b\b\b\b\b\b\b\b\b\b\b\b\b\b\b\b\b\b\b\b\b\b\b\b\b\b\b\b\b\b\b\b\b\b\b\b\b\b\b\b\b\b\b\b\b\b\b\b\b\b\b\b\b\b\b\b\b\b\b\b\b\b\b\b\b\b\b\b\r",
      "1/1 [==============================] - 0s 90ms/step - loss: 34230.0391 - mape: 81.1499 - mae: 184.6890 - mse: 34230.0391 - val_loss: 38564.8164 - val_mape: 81.8803 - val_mae: 196.3288 - val_mse: 38564.8164\n"
     ]
    },
    {
     "name": "stdout",
     "output_type": "stream",
     "text": [
      "Epoch 34/500\n"
     ]
    },
    {
     "name": "stdout",
     "output_type": "stream",
     "text": [
      "\r",
      "1/1 [==============================] - ETA: 0s - loss: 33987.2930 - mape: 80.8709 - mae: 184.0451 - mse: 33987.2930"
     ]
    },
    {
     "name": "stdout",
     "output_type": "stream",
     "text": [
      "\b\b\b\b\b\b\b\b\b\b\b\b\b\b\b\b\b\b\b\b\b\b\b\b\b\b\b\b\b\b\b\b\b\b\b\b\b\b\b\b\b\b\b\b\b\b\b\b\b\b\b\b\b\b\b\b\b\b\b\b\b\b\b\b\b\b\b\b\b\b\b\b\b\b\b\b\b\b\b\b\b\b\b\b\b\b\b\b\b\b\b\b\b\b\b\b\b\b\b\b\b\b\b\b\b\b\b\b\b\b\b\b\b\b\b\r",
      "1/1 [==============================] - 0s 119ms/step - loss: 33987.2930 - mape: 80.8709 - mae: 184.0451 - mse: 33987.2930 - val_loss: 38196.6445 - val_mape: 81.4881 - val_mae: 195.3889 - val_mse: 38196.6445\n"
     ]
    },
    {
     "name": "stdout",
     "output_type": "stream",
     "text": [
      "Epoch 35/500\n"
     ]
    },
    {
     "name": "stdout",
     "output_type": "stream",
     "text": [
      "\r",
      "1/1 [==============================] - ETA: 0s - loss: 33615.5820 - mape: 80.4277 - mae: 183.0356 - mse: 33615.5820"
     ]
    },
    {
     "name": "stdout",
     "output_type": "stream",
     "text": [
      "\b\b\b\b\b\b\b\b\b\b\b\b\b\b\b\b\b\b\b\b\b\b\b\b\b\b\b\b\b\b\b\b\b\b\b\b\b\b\b\b\b\b\b\b\b\b\b\b\b\b\b\b\b\b\b\b\b\b\b\b\b\b\b\b\b\b\b\b\b\b\b\b\b\b\b\b\b\b\b\b\b\b\b\b\b\b\b\b\b\b\b\b\b\b\b\b\b\b\b\b\b\b\b\b\b\b\b\b\b\b\b\b\b\b\b\r",
      "1/1 [==============================] - 0s 109ms/step - loss: 33615.5820 - mape: 80.4277 - mae: 183.0356 - mse: 33615.5820 - val_loss: 37830.5430 - val_mape: 81.0963 - val_mae: 194.4498 - val_mse: 37830.5430\n"
     ]
    },
    {
     "name": "stdout",
     "output_type": "stream",
     "text": [
      "Epoch 36/500\n"
     ]
    },
    {
     "name": "stdout",
     "output_type": "stream",
     "text": [
      "\r",
      "1/1 [==============================] - ETA: 0s - loss: 33351.4922 - mape: 80.1078 - mae: 182.3115 - mse: 33351.4922"
     ]
    },
    {
     "name": "stdout",
     "output_type": "stream",
     "text": [
      "\b\b\b\b\b\b\b\b\b\b\b\b\b\b\b\b\b\b\b\b\b\b\b\b\b\b\b\b\b\b\b\b\b\b\b\b\b\b\b\b\b\b\b\b\b\b\b\b\b\b\b\b\b\b\b\b\b\b\b\b\b\b\b\b\b\b\b\b\b\b\b\b\b\b\b\b\b\b\b\b\b\b\b\b\b\b\b\b\b\b\b\b\b\b\b\b\b\b\b\b\b\b\b\b\b\b\b\b\b\b\b\b\b\b\b\r",
      "1/1 [==============================] - 0s 130ms/step - loss: 33351.4922 - mape: 80.1078 - mae: 182.3115 - mse: 33351.4922 - val_loss: 37466.7383 - val_mape: 80.7050 - val_mae: 193.5121 - val_mse: 37466.7383\n"
     ]
    },
    {
     "name": "stdout",
     "output_type": "stream",
     "text": [
      "Epoch 37/500\n"
     ]
    },
    {
     "name": "stdout",
     "output_type": "stream",
     "text": [
      "\r",
      "1/1 [==============================] - ETA: 0s - loss: 33097.3203 - mape: 79.7795 - mae: 181.5850 - mse: 33097.3203"
     ]
    },
    {
     "name": "stdout",
     "output_type": "stream",
     "text": [
      "\b\b\b\b\b\b\b\b\b\b\b\b\b\b\b\b\b\b\b\b\b\b\b\b\b\b\b\b\b\b\b\b\b\b\b\b\b\b\b\b\b\b\b\b\b\b\b\b\b\b\b\b\b\b\b\b\b\b\b\b\b\b\b\b\b\b\b\b\b\b\b\b\b\b\b\b\b\b\b\b\b\b\b\b\b\b\b\b\b\b\b\b\b\b\b\b\b\b\b\b\b\b\b\b\b\b\b\b\b\b\b\b\b\b\b\r",
      "1/1 [==============================] - 0s 278ms/step - loss: 33097.3203 - mape: 79.7795 - mae: 181.5850 - mse: 33097.3203 - val_loss: 37105.2656 - val_mape: 80.3144 - val_mae: 192.5759 - val_mse: 37105.2656\n"
     ]
    },
    {
     "name": "stdout",
     "output_type": "stream",
     "text": [
      "Epoch 38/500\n"
     ]
    },
    {
     "name": "stdout",
     "output_type": "stream",
     "text": [
      "\r",
      "1/1 [==============================] - ETA: 0s - loss: 32527.9961 - mape: 79.1069 - mae: 180.0381 - mse: 32527.9961"
     ]
    },
    {
     "name": "stdout",
     "output_type": "stream",
     "text": [
      "\b\b\b\b\b\b\b\b\b\b\b\b\b\b\b\b\b\b\b\b\b\b\b\b\b\b\b\b\b\b\b\b\b\b\b\b\b\b\b\b\b\b\b\b\b\b\b\b\b\b\b\b\b\b\b\b\b\b\b\b\b\b\b\b\b\b\b\b\b\b\b\b\b\b\b\b\b\b\b\b\b\b\b\b\b\b\b\b\b\b\b\b\b\b\b\b\b\b\b\b\b\b\b\b\b\b\b\b\b\b\b\b\b\b\b\r",
      "1/1 [==============================] - 0s 92ms/step - loss: 32527.9961 - mape: 79.1069 - mae: 180.0381 - mse: 32527.9961 - val_loss: 36746.0430 - val_mape: 79.9243 - val_mae: 191.6409 - val_mse: 36746.0430\n"
     ]
    },
    {
     "name": "stdout",
     "output_type": "stream",
     "text": [
      "Epoch 39/500\n"
     ]
    },
    {
     "name": "stdout",
     "output_type": "stream",
     "text": [
      "\r",
      "1/1 [==============================] - ETA: 0s - loss: 32157.6289 - mape: 78.6548 - mae: 179.0096 - mse: 32157.6289"
     ]
    },
    {
     "name": "stdout",
     "output_type": "stream",
     "text": [
      "\b\b\b\b\b\b\b\b\b\b\b\b\b\b\b\b\b\b\b\b\b\b\b\b\b\b\b\b\b\b\b\b\b\b\b\b\b\b\b\b\b\b\b\b\b\b\b\b\b\b\b\b\b\b\b\b\b\b\b\b\b\b\b\b\b\b\b\b\b\b\b\b\b\b\b\b\b\b\b\b\b\b\b\b\b\b\b\b\b\b\b\b\b\b\b\b\b\b\b\b\b\b\b\b\b\b\b\b\b\b\b\b\b\b\b\r",
      "1/1 [==============================] - 0s 93ms/step - loss: 32157.6289 - mape: 78.6548 - mae: 179.0096 - mse: 32157.6289 - val_loss: 36389.1016 - val_mape: 79.5348 - val_mae: 190.7074 - val_mse: 36389.1016\n"
     ]
    },
    {
     "name": "stdout",
     "output_type": "stream",
     "text": [
      "Epoch 40/500\n"
     ]
    },
    {
     "name": "stdout",
     "output_type": "stream",
     "text": [
      "\r",
      "1/1 [==============================] - ETA: 0s - loss: 31858.9277 - mape: 78.2928 - mae: 178.1829 - mse: 31858.9277"
     ]
    },
    {
     "name": "stdout",
     "output_type": "stream",
     "text": [
      "\b\b\b\b\b\b\b\b\b\b\b\b\b\b\b\b\b\b\b\b\b\b\b\b\b\b\b\b\b\b\b\b\b\b\b\b\b\b\b\b\b\b\b\b\b\b\b\b\b\b\b\b\b\b\b\b\b\b\b\b\b\b\b\b\b\b\b\b\b\b\b\b\b\b\b\b\b\b\b\b\b\b\b\b\b\b\b\b\b\b\b\b\b\b\b\b\b\b\b\b\b\b\b\b\b\b\b\b\b\b\b\b\b\b\b\r",
      "1/1 [==============================] - 0s 118ms/step - loss: 31858.9277 - mape: 78.2928 - mae: 178.1829 - mse: 31858.9277 - val_loss: 36034.5625 - val_mape: 79.1460 - val_mae: 189.7756 - val_mse: 36034.5625\n"
     ]
    },
    {
     "name": "stdout",
     "output_type": "stream",
     "text": [
      "Epoch 41/500\n"
     ]
    },
    {
     "name": "stdout",
     "output_type": "stream",
     "text": [
      "\r",
      "1/1 [==============================] - ETA: 0s - loss: 31690.6270 - mape: 78.0637 - mae: 177.6818 - mse: 31690.6270"
     ]
    },
    {
     "name": "stdout",
     "output_type": "stream",
     "text": [
      "\b\b\b\b\b\b\b\b\b\b\b\b\b\b\b\b\b\b\b\b\b\b\b\b\b\b\b\b\b\b\b\b\b\b\b\b\b\b\b\b\b\b\b\b\b\b\b\b\b\b\b\b\b\b\b\b\b\b\b\b\b\b\b\b\b\b\b\b\b\b\b\b\b\b\b\b\b\b\b\b\b\b\b\b\b\b\b\b\b\b\b\b\b\b\b\b\b\b\b\b\b\b\b\b\b\b\b\b\b\b\b\b\b\b\b\r",
      "1/1 [==============================] - 0s 81ms/step - loss: 31690.6270 - mape: 78.0637 - mae: 177.6818 - mse: 31690.6270 - val_loss: 35682.2891 - val_mape: 78.7578 - val_mae: 188.8451 - val_mse: 35682.2891\n"
     ]
    },
    {
     "name": "stdout",
     "output_type": "stream",
     "text": [
      "Epoch 42/500\n"
     ]
    },
    {
     "name": "stdout",
     "output_type": "stream",
     "text": [
      "\r",
      "1/1 [==============================] - ETA: 0s - loss: 31281.2656 - mape: 77.5984 - mae: 176.5840 - mse: 31281.2656"
     ]
    },
    {
     "name": "stdout",
     "output_type": "stream",
     "text": [
      "\b\b\b\b\b\b\b\b\b\b\b\b\b\b\b\b\b\b\b\b\b\b\b\b\b\b\b\b\b\b\b\b\b\b\b\b\b\b\b\b\b\b\b\b\b\b\b\b\b\b\b\b\b\b\b\b\b\b\b\b\b\b\b\b\b\b\b\b\b\b\b\b\b\b\b\b\b\b\b\b\b\b\b\b\b\b\b\b\b\b\b\b\b\b\b\b\b\b\b\b\b\b\b\b\b\b\b\b\b\b\b\b\b\b\b\r",
      "1/1 [==============================] - 0s 77ms/step - loss: 31281.2656 - mape: 77.5984 - mae: 176.5840 - mse: 31281.2656 - val_loss: 35332.4961 - val_mape: 78.3704 - val_mae: 187.9167 - val_mse: 35332.4961\n"
     ]
    },
    {
     "name": "stdout",
     "output_type": "stream",
     "text": [
      "Epoch 43/500\n"
     ]
    },
    {
     "name": "stdout",
     "output_type": "stream",
     "text": [
      "\r",
      "1/1 [==============================] - ETA: 0s - loss: 30895.8887 - mape: 77.0844 - mae: 175.4474 - mse: 30895.8887"
     ]
    },
    {
     "name": "stdout",
     "output_type": "stream",
     "text": [
      "\b\b\b\b\b\b\b\b\b\b\b\b\b\b\b\b\b\b\b\b\b\b\b\b\b\b\b\b\b\b\b\b\b\b\b\b\b\b\b\b\b\b\b\b\b\b\b\b\b\b\b\b\b\b\b\b\b\b\b\b\b\b\b\b\b\b\b\b\b\b\b\b\b\b\b\b\b\b\b\b\b\b\b\b\b\b\b\b\b\b\b\b\b\b\b\b\b\b\b\b\b\b\b\b\b\b\b\b\b\b\b\b\b\b\b\r",
      "1/1 [==============================] - 0s 76ms/step - loss: 30895.8887 - mape: 77.0844 - mae: 175.4474 - mse: 30895.8887 - val_loss: 34985.0859 - val_mape: 77.9838 - val_mae: 186.9901 - val_mse: 34985.0859\n"
     ]
    },
    {
     "name": "stdout",
     "output_type": "stream",
     "text": [
      "Epoch 44/500\n"
     ]
    },
    {
     "name": "stdout",
     "output_type": "stream",
     "text": [
      "\r",
      "1/1 [==============================] - ETA: 0s - loss: 30555.8398 - mape: 76.6465 - mae: 174.4621 - mse: 30555.8398"
     ]
    },
    {
     "name": "stdout",
     "output_type": "stream",
     "text": [
      "\b\b\b\b\b\b\b\b\b\b\b\b\b\b\b\b\b\b\b\b\b\b\b\b\b\b\b\b\b\b\b\b\b\b\b\b\b\b\b\b\b\b\b\b\b\b\b\b\b\b\b\b\b\b\b\b\b\b\b\b\b\b\b\b\b\b\b\b\b\b\b\b\b\b\b\b\b\b\b\b\b\b\b\b\b\b\b\b\b\b\b\b\b\b\b\b\b\b\b\b\b\b\b\b\b\b\b\b\b\b\b\b\b\b\b\r",
      "1/1 [==============================] - 0s 84ms/step - loss: 30555.8398 - mape: 76.6465 - mae: 174.4621 - mse: 30555.8398 - val_loss: 34640.0859 - val_mape: 77.5980 - val_mae: 186.0653 - val_mse: 34640.0859\n"
     ]
    },
    {
     "name": "stdout",
     "output_type": "stream",
     "text": [
      "Epoch 45/500\n"
     ]
    },
    {
     "name": "stdout",
     "output_type": "stream",
     "text": [
      "\r",
      "1/1 [==============================] - ETA: 0s - loss: 30252.5879 - mape: 76.2635 - mae: 173.5923 - mse: 30252.5879"
     ]
    },
    {
     "name": "stdout",
     "output_type": "stream",
     "text": [
      "\b\b\b\b\b\b\b\b\b\b\b\b\b\b\b\b\b\b\b\b\b\b\b\b\b\b\b\b\b\b\b\b\b\b\b\b\b\b\b\b\b\b\b\b\b\b\b\b\b\b\b\b\b\b\b\b\b\b\b\b\b\b\b\b\b\b\b\b\b\b\b\b\b\b\b\b\b\b\b\b\b\b\b\b\b\b\b\b\b\b\b\b\b\b\b\b\b\b\b\b\b\b\b\b\b\b\b\b\b\b\b\b\b\b\b\r",
      "1/1 [==============================] - 0s 133ms/step - loss: 30252.5879 - mape: 76.2635 - mae: 173.5923 - mse: 30252.5879 - val_loss: 34297.5000 - val_mape: 77.2129 - val_mae: 185.1424 - val_mse: 34297.5000\n"
     ]
    },
    {
     "name": "stdout",
     "output_type": "stream",
     "text": [
      "Epoch 46/500\n"
     ]
    },
    {
     "name": "stdout",
     "output_type": "stream",
     "text": [
      "\r",
      "1/1 [==============================] - ETA: 0s - loss: 29829.2656 - mape: 75.7493 - mae: 172.4017 - mse: 29829.2656"
     ]
    },
    {
     "name": "stdout",
     "output_type": "stream",
     "text": [
      "\b\b\b\b\b\b\b\b\b\b\b\b\b\b\b\b\b\b\b\b\b\b\b\b\b\b\b\b\b\b\b\b\b\b\b\b\b\b\b\b\b\b\b\b\b\b\b\b\b\b\b\b\b\b\b\b\b\b\b\b\b\b\b\b\b\b\b\b\b\b\b\b\b\b\b\b\b\b\b\b\b\b\b\b\b\b\b\b\b\b\b\b\b\b\b\b\b\b\b\b\b\b\b\b\b\b\b\b\b\b\b\b\b\b\b\r",
      "1/1 [==============================] - 0s 78ms/step - loss: 29829.2656 - mape: 75.7493 - mae: 172.4017 - mse: 29829.2656 - val_loss: 33957.3359 - val_mape: 76.8287 - val_mae: 184.2214 - val_mse: 33957.3359\n"
     ]
    },
    {
     "name": "stdout",
     "output_type": "stream",
     "text": [
      "Epoch 47/500\n"
     ]
    },
    {
     "name": "stdout",
     "output_type": "stream",
     "text": [
      "\r",
      "1/1 [==============================] - ETA: 0s - loss: 29708.3008 - mape: 75.5747 - mae: 172.0244 - mse: 29708.3008"
     ]
    },
    {
     "name": "stdout",
     "output_type": "stream",
     "text": [
      "\b\b\b\b\b\b\b\b\b\b\b\b\b\b\b\b\b\b\b\b\b\b\b\b\b\b\b\b\b\b\b\b\b\b\b\b\b\b\b\b\b\b\b\b\b\b\b\b\b\b\b\b\b\b\b\b\b\b\b\b\b\b\b\b\b\b\b\b\b\b\b\b\b\b\b\b\b\b\b\b\b\b\b\b\b\b\b\b\b\b\b\b\b\b\b\b\b\b\b\b\b\b\b\b\b\b\b\b\b\b\b\b\b\b\b\r",
      "1/1 [==============================] - 0s 82ms/step - loss: 29708.3008 - mape: 75.5747 - mae: 172.0244 - mse: 29708.3008 - val_loss: 33619.7227 - val_mape: 76.4454 - val_mae: 183.3028 - val_mse: 33619.7227\n"
     ]
    },
    {
     "name": "stdout",
     "output_type": "stream",
     "text": [
      "Epoch 48/500\n"
     ]
    },
    {
     "name": "stdout",
     "output_type": "stream",
     "text": [
      "\r",
      "1/1 [==============================] - ETA: 0s - loss: 29548.1680 - mape: 75.3834 - mae: 171.5771 - mse: 29548.1680"
     ]
    },
    {
     "name": "stdout",
     "output_type": "stream",
     "text": [
      "\b\b\b\b\b\b\b\b\b\b\b\b\b\b\b\b\b\b\b\b\b\b\b\b\b\b\b\b\b\b\b\b\b\b\b\b\b\b\b\b\b\b\b\b\b\b\b\b\b\b\b\b\b\b\b\b\b\b\b\b\b\b\b\b\b\b\b\b\b\b\b\b\b\b\b\b\b\b\b\b\b\b\b\b\b\b\b\b\b\b\b\b\b\b\b\b\b\b\b\b\b\b\b\b\b\b\b\b\b\b\b\b\b\b\b\r",
      "1/1 [==============================] - 0s 76ms/step - loss: 29548.1680 - mape: 75.3834 - mae: 171.5771 - mse: 29548.1680 - val_loss: 33284.7422 - val_mape: 76.0632 - val_mae: 182.3868 - val_mse: 33284.7422\n"
     ]
    },
    {
     "name": "stdout",
     "output_type": "stream",
     "text": [
      "Epoch 49/500\n"
     ]
    },
    {
     "name": "stdout",
     "output_type": "stream",
     "text": [
      "\r",
      "1/1 [==============================] - ETA: 0s - loss: 28799.9785 - mape: 74.4139 - mae: 169.3778 - mse: 28799.9785"
     ]
    },
    {
     "name": "stdout",
     "output_type": "stream",
     "text": [
      "\b\b\b\b\b\b\b\b\b\b\b\b\b\b\b\b\b\b\b\b\b\b\b\b\b\b\b\b\b\b\b\b\b\b\b\b\b\b\b\b\b\b\b\b\b\b\b\b\b\b\b\b\b\b\b\b\b\b\b\b\b\b\b\b\b\b\b\b\b\b\b\b\b\b\b\b\b\b\b\b\b\b\b\b\b\b\b\b\b\b\b\b\b\b\b\b\b\b\b\b\b\b\b\b\b\b\b\b\b\b\b\b\b\b\b\r",
      "1/1 [==============================] - 0s 78ms/step - loss: 28799.9785 - mape: 74.4139 - mae: 169.3778 - mse: 28799.9785 - val_loss: 32952.1289 - val_mape: 75.6818 - val_mae: 181.4727 - val_mse: 32952.1289\n"
     ]
    },
    {
     "name": "stdout",
     "output_type": "stream",
     "text": [
      "Epoch 50/500\n"
     ]
    },
    {
     "name": "stdout",
     "output_type": "stream",
     "text": [
      "\r",
      "1/1 [==============================] - ETA: 0s - loss: 28612.2461 - mape: 74.1836 - mae: 168.8411 - mse: 28612.2461"
     ]
    },
    {
     "name": "stdout",
     "output_type": "stream",
     "text": [
      "\b\b\b\b\b\b\b\b\b\b\b\b\b\b\b\b\b\b\b\b\b\b\b\b\b\b\b\b\b\b\b\b\b\b\b\b\b\b\b\b\b\b\b\b\b\b\b\b\b\b\b\b\b\b\b\b\b\b\b\b\b\b\b\b\b\b\b\b\b\b\b\b\b\b\b\b\b\b\b\b\b\b\b\b\b\b\b\b\b\b\b\b\b\b\b\b\b\b\b\b\b\b\b\b\b\b\b\b\b\b\b\b\b\b\b\r",
      "1/1 [==============================] - 0s 327ms/step - loss: 28612.2461 - mape: 74.1836 - mae: 168.8411 - mse: 28612.2461 - val_loss: 32621.9082 - val_mape: 75.3012 - val_mae: 180.5605 - val_mse: 32621.9082\n"
     ]
    },
    {
     "name": "stdout",
     "output_type": "stream",
     "text": [
      "Epoch 51/500\n"
     ]
    },
    {
     "name": "stdout",
     "output_type": "stream",
     "text": [
      "\r",
      "1/1 [==============================] - ETA: 0s - loss: 28492.5273 - mape: 73.9976 - mae: 168.4473 - mse: 28492.5273"
     ]
    },
    {
     "name": "stdout",
     "output_type": "stream",
     "text": [
      "\b\b\b\b\b\b\b\b\b\b\b\b\b\b\b\b\b\b\b\b\b\b\b\b\b\b\b\b\b\b\b\b\b\b\b\b\b\b\b\b\b\b\b\b\b\b\b\b\b\b\b\b\b\b\b\b\b\b\b\b\b\b\b\b\b\b\b\b\b\b\b\b\b\b\b\b\b\b\b\b\b\b\b\b\b\b\b\b\b\b\b\b\b\b\b\b\b\b\b\b\b\b\b\b\b\b\b\b\b\b\b\b\b\b\b\r",
      "1/1 [==============================] - 0s 80ms/step - loss: 28492.5273 - mape: 73.9976 - mae: 168.4473 - mse: 28492.5273 - val_loss: 32294.2344 - val_mape: 74.9217 - val_mae: 179.6509 - val_mse: 32294.2344\n"
     ]
    },
    {
     "name": "stdout",
     "output_type": "stream",
     "text": [
      "Epoch 52/500\n"
     ]
    },
    {
     "name": "stdout",
     "output_type": "stream",
     "text": [
      "\r",
      "1/1 [==============================] - ETA: 0s - loss: 28217.4902 - mape: 73.6578 - mae: 167.6566 - mse: 28217.4902"
     ]
    },
    {
     "name": "stdout",
     "output_type": "stream",
     "text": [
      "\b\b\b\b\b\b\b\b\b\b\b\b\b\b\b\b\b\b\b\b\b\b\b\b\b\b\b\b\b\b\b\b\b\b\b\b\b\b\b\b\b\b\b\b\b\b\b\b\b\b\b\b\b\b\b\b\b\b\b\b\b\b\b\b\b\b\b\b\b\b\b\b\b\b\b\b\b\b\b\b\b\b\b\b\b\b\b\b\b\b\b\b\b\b\b\b\b\b\b\b\b\b\b\b\b\b\b\b\b\b\b\b\b\b\b\r",
      "1/1 [==============================] - 0s 85ms/step - loss: 28217.4902 - mape: 73.6578 - mae: 167.6566 - mse: 28217.4902 - val_loss: 31969.1543 - val_mape: 74.5432 - val_mae: 178.7438 - val_mse: 31969.1543\n"
     ]
    },
    {
     "name": "stdout",
     "output_type": "stream",
     "text": [
      "Epoch 53/500\n"
     ]
    },
    {
     "name": "stdout",
     "output_type": "stream",
     "text": [
      "\r",
      "1/1 [==============================] - ETA: 0s - loss: 28060.5430 - mape: 73.4327 - mae: 167.1636 - mse: 28060.5430"
     ]
    },
    {
     "name": "stdout",
     "output_type": "stream",
     "text": [
      "\b\b\b\b\b\b\b\b\b\b\b\b\b\b\b\b\b\b\b\b\b\b\b\b\b\b\b\b\b\b\b\b\b\b\b\b\b\b\b\b\b\b\b\b\b\b\b\b\b\b\b\b\b\b\b\b\b\b\b\b\b\b\b\b\b\b\b\b\b\b\b\b\b\b\b\b\b\b\b\b\b\b\b\b\b\b\b\b\b\b\b\b\b\b\b\b\b\b\b\b\b\b\b\b\b\b\b\b\b\b\b\b\b\b\b\r",
      "1/1 [==============================] - 0s 79ms/step - loss: 28060.5430 - mape: 73.4327 - mae: 167.1636 - mse: 28060.5430 - val_loss: 31646.6113 - val_mape: 74.1658 - val_mae: 177.8393 - val_mse: 31646.6113\n"
     ]
    },
    {
     "name": "stdout",
     "output_type": "stream",
     "text": [
      "Epoch 54/500\n"
     ]
    },
    {
     "name": "stdout",
     "output_type": "stream",
     "text": [
      "\r",
      "1/1 [==============================] - ETA: 0s - loss: 27351.7012 - mape: 72.5312 - mae: 165.0812 - mse: 27351.7012"
     ]
    },
    {
     "name": "stdout",
     "output_type": "stream",
     "text": [
      "\b\b\b\b\b\b\b\b\b\b\b\b\b\b\b\b\b\b\b\b\b\b\b\b\b\b\b\b\b\b\b\b\b\b\b\b\b\b\b\b\b\b\b\b\b\b\b\b\b\b\b\b\b\b\b\b\b\b\b\b\b\b\b\b\b\b\b\b\b\b\b\b\b\b\b\b\b\b\b\b\b\b\b\b\b\b\b\b\b\b\b\b\b\b\b\b\b\b\b\b\b\b\b\b\b\b\b\b\b\b\b\b\b\b\b\r",
      "1/1 [==============================] - 0s 122ms/step - loss: 27351.7012 - mape: 72.5312 - mae: 165.0812 - mse: 27351.7012 - val_loss: 31326.4043 - val_mape: 73.7892 - val_mae: 176.9367 - val_mse: 31326.4043\n"
     ]
    },
    {
     "name": "stdout",
     "output_type": "stream",
     "text": [
      "Epoch 55/500\n"
     ]
    },
    {
     "name": "stdout",
     "output_type": "stream",
     "text": [
      "\r",
      "1/1 [==============================] - ETA: 0s - loss: 27143.4551 - mape: 72.2216 - mae: 164.4076 - mse: 27143.4551"
     ]
    },
    {
     "name": "stdout",
     "output_type": "stream",
     "text": [
      "\b\b\b\b\b\b\b\b\b\b\b\b\b\b\b\b\b\b\b\b\b\b\b\b\b\b\b\b\b\b\b\b\b\b\b\b\b\b\b\b\b\b\b\b\b\b\b\b\b\b\b\b\b\b\b\b\b\b\b\b\b\b\b\b\b\b\b\b\b\b\b\b\b\b\b\b\b\b\b\b\b\b\b\b\b\b\b\b\b\b\b\b\b\b\b\b\b\b\b\b\b\b\b\b\b\b\b\b\b\b\b\b\b\b\b\r",
      "1/1 [==============================] - 0s 85ms/step - loss: 27143.4551 - mape: 72.2216 - mae: 164.4076 - mse: 27143.4551 - val_loss: 31008.7012 - val_mape: 73.4137 - val_mae: 176.0366 - val_mse: 31008.7012\n"
     ]
    },
    {
     "name": "stdout",
     "output_type": "stream",
     "text": [
      "Epoch 56/500\n"
     ]
    },
    {
     "name": "stdout",
     "output_type": "stream",
     "text": [
      "\r",
      "1/1 [==============================] - ETA: 0s - loss: 26881.0840 - mape: 71.8827 - mae: 163.6247 - mse: 26881.0840"
     ]
    },
    {
     "name": "stdout",
     "output_type": "stream",
     "text": [
      "\b\b\b\b\b\b\b\b\b\b\b\b\b\b\b\b\b\b\b\b\b\b\b\b\b\b\b\b\b\b\b\b\b\b\b\b\b\b\b\b\b\b\b\b\b\b\b\b\b\b\b\b\b\b\b\b\b\b\b\b\b\b\b\b\b\b\b\b\b\b\b\b\b\b\b\b\b\b\b\b\b\b\b\b\b\b\b\b\b\b\b\b\b\b\b\b\b\b\b\b\b\b\b\b\b\b\b\b\b\b\b\b\b\b\b\r",
      "1/1 [==============================] - 0s 83ms/step - loss: 26881.0840 - mape: 71.8827 - mae: 163.6247 - mse: 26881.0840 - val_loss: 30693.4668 - val_mape: 73.0392 - val_mae: 175.1390 - val_mse: 30693.4668\n"
     ]
    },
    {
     "name": "stdout",
     "output_type": "stream",
     "text": [
      "Epoch 57/500\n"
     ]
    },
    {
     "name": "stdout",
     "output_type": "stream",
     "text": [
      "\r",
      "1/1 [==============================] - ETA: 0s - loss: 26856.7715 - mape: 71.8343 - mae: 163.5304 - mse: 26856.7715"
     ]
    },
    {
     "name": "stdout",
     "output_type": "stream",
     "text": [
      "\b\b\b\b\b\b\b\b\b\b\b\b\b\b\b\b\b\b\b\b\b\b\b\b\b\b\b\b\b\b\b\b\b\b\b\b\b\b\b\b\b\b\b\b\b\b\b\b\b\b\b\b\b\b\b\b\b\b\b\b\b\b\b\b\b\b\b\b\b\b\b\b\b\b\b\b\b\b\b\b\b\b\b\b\b\b\b\b\b\b\b\b\b\b\b\b\b\b\b\b\b\b\b\b\b\b\b\b\b\b\b\b\b\b\b\r",
      "1/1 [==============================] - 0s 81ms/step - loss: 26856.7715 - mape: 71.8343 - mae: 163.5304 - mse: 26856.7715 - val_loss: 30380.7188 - val_mape: 72.6657 - val_mae: 174.2439 - val_mse: 30380.7188\n"
     ]
    },
    {
     "name": "stdout",
     "output_type": "stream",
     "text": [
      "Epoch 58/500\n"
     ]
    },
    {
     "name": "stdout",
     "output_type": "stream",
     "text": [
      "\r",
      "1/1 [==============================] - ETA: 0s - loss: 26404.9824 - mape: 71.2379 - mae: 162.1633 - mse: 26404.9824"
     ]
    },
    {
     "name": "stdout",
     "output_type": "stream",
     "text": [
      "\b\b\b\b\b\b\b\b\b\b\b\b\b\b\b\b\b\b\b\b\b\b\b\b\b\b\b\b\b\b\b\b\b\b\b\b\b\b\b\b\b\b\b\b\b\b\b\b\b\b\b\b\b\b\b\b\b\b\b\b\b\b\b\b\b\b\b\b\b\b\b\b\b\b\b\b\b\b\b\b\b\b\b\b\b\b\b\b\b\b\b\b\b\b\b\b\b\b\b\b\b\b\b\b\b\b\b\b\b\b\b\b\b\b\b\r",
      "1/1 [==============================] - 0s 78ms/step - loss: 26404.9824 - mape: 71.2379 - mae: 162.1633 - mse: 26404.9824 - val_loss: 30070.4727 - val_mape: 72.2933 - val_mae: 173.3513 - val_mse: 30070.4727\n"
     ]
    },
    {
     "name": "stdout",
     "output_type": "stream",
     "text": [
      "Epoch 59/500\n"
     ]
    },
    {
     "name": "stdout",
     "output_type": "stream",
     "text": [
      "\r",
      "1/1 [==============================] - ETA: 0s - loss: 25916.7461 - mape: 70.5810 - mae: 160.6637 - mse: 25916.7461"
     ]
    },
    {
     "name": "stdout",
     "output_type": "stream",
     "text": [
      "\b\b\b\b\b\b\b\b\b\b\b\b\b\b\b\b\b\b\b\b\b\b\b\b\b\b\b\b\b\b\b\b\b\b\b\b\b\b\b\b\b\b\b\b\b\b\b\b\b\b\b\b\b\b\b\b\b\b\b\b\b\b\b\b\b\b\b\b\b\b\b\b\b\b\b\b\b\b\b\b\b\b\b\b\b\b\b\b\b\b\b\b\b\b\b\b\b\b\b\b\b\b\b\b\b\b\b\b\b\b\b\b\b\b\b\r",
      "1/1 [==============================] - 0s 77ms/step - loss: 25916.7461 - mape: 70.5810 - mae: 160.6637 - mse: 25916.7461 - val_loss: 29762.6133 - val_mape: 71.9218 - val_mae: 172.4610 - val_mse: 29762.6133\n"
     ]
    },
    {
     "name": "stdout",
     "output_type": "stream",
     "text": [
      "Epoch 60/500\n"
     ]
    },
    {
     "name": "stdout",
     "output_type": "stream",
     "text": [
      "\r",
      "1/1 [==============================] - ETA: 0s - loss: 25678.6523 - mape: 70.2286 - mae: 159.8866 - mse: 25678.6523"
     ]
    },
    {
     "name": "stdout",
     "output_type": "stream",
     "text": [
      "\b\b\b\b\b\b\b\b\b\b\b\b\b\b\b\b\b\b\b\b\b\b\b\b\b\b\b\b\b\b\b\b\b\b\b\b\b\b\b\b\b\b\b\b\b\b\b\b\b\b\b\b\b\b\b\b\b\b\b\b\b\b\b\b\b\b\b\b\b\b\b\b\b\b\b\b\b\b\b\b\b\b\b\b\b\b\b\b\b\b\b\b\b\b\b\b\b\b\b\b\b\b\b\b\b\b\b\b\b\b\b\b\b\b\b\r",
      "1/1 [==============================] - 0s 80ms/step - loss: 25678.6523 - mape: 70.2286 - mae: 159.8866 - mse: 25678.6523 - val_loss: 29457.2188 - val_mape: 71.5515 - val_mae: 171.5733 - val_mse: 29457.2188\n"
     ]
    },
    {
     "name": "stdout",
     "output_type": "stream",
     "text": [
      "Epoch 61/500\n"
     ]
    },
    {
     "name": "stdout",
     "output_type": "stream",
     "text": [
      "\r",
      "1/1 [==============================] - ETA: 0s - loss: 25601.8750 - mape: 70.1087 - mae: 159.6256 - mse: 25601.8750"
     ]
    },
    {
     "name": "stdout",
     "output_type": "stream",
     "text": [
      "\b\b\b\b\b\b\b\b\b\b\b\b\b\b\b\b\b\b\b\b\b\b\b\b\b\b\b\b\b\b\b\b\b\b\b\b\b\b\b\b\b\b\b\b\b\b\b\b\b\b\b\b\b\b\b\b\b\b\b\b\b\b\b\b\b\b\b\b\b\b\b\b\b\b\b\b\b\b\b\b\b\b\b\b\b\b\b\b\b\b\b\b\b\b\b\b\b\b\b\b\b\b\b\b\b\b\b\b\b\b\b\b\b\b\b\r",
      "1/1 [==============================] - 0s 75ms/step - loss: 25601.8750 - mape: 70.1087 - mae: 159.6256 - mse: 25601.8750 - val_loss: 29154.2871 - val_mape: 71.1822 - val_mae: 170.6883 - val_mse: 29154.2871\n"
     ]
    },
    {
     "name": "stdout",
     "output_type": "stream",
     "text": [
      "Epoch 62/500\n"
     ]
    },
    {
     "name": "stdout",
     "output_type": "stream",
     "text": [
      "\r",
      "1/1 [==============================] - ETA: 0s - loss: 25090.7051 - mape: 69.4382 - mae: 158.0697 - mse: 25090.7051"
     ]
    },
    {
     "name": "stdout",
     "output_type": "stream",
     "text": [
      "\b\b\b\b\b\b\b\b\b\b\b\b\b\b\b\b\b\b\b\b\b\b\b\b\b\b\b\b\b\b\b\b\b\b\b\b\b\b\b\b\b\b\b\b\b\b\b\b\b\b\b\b\b\b\b\b\b\b\b\b\b\b\b\b\b\b\b\b\b\b\b\b\b\b\b\b\b\b\b\b\b\b\b\b\b\b\b\b\b\b\b\b\b\b\b\b\b\b\b\b\b\b\b\b\b\b\b\b\b\b\b\b\b\b\b\r",
      "1/1 [==============================] - 0s 79ms/step - loss: 25090.7051 - mape: 69.4382 - mae: 158.0697 - mse: 25090.7051 - val_loss: 28853.8027 - val_mape: 70.8140 - val_mae: 169.8058 - val_mse: 28853.8027\n"
     ]
    },
    {
     "name": "stdout",
     "output_type": "stream",
     "text": [
      "Epoch 63/500\n"
     ]
    },
    {
     "name": "stdout",
     "output_type": "stream",
     "text": [
      "\r",
      "1/1 [==============================] - ETA: 0s - loss: 25078.6836 - mape: 69.4135 - mae: 158.0205 - mse: 25078.6836"
     ]
    },
    {
     "name": "stdout",
     "output_type": "stream",
     "text": [
      "\b\b\b\b\b\b\b\b\b\b\b\b\b\b\b\b\b\b\b\b\b\b\b\b\b\b\b\b\b\b\b\b\b\b\b\b\b\b\b\b\b\b\b\b\b\b\b\b\b\b\b\b\b\b\b\b\b\b\b\b\b\b\b\b\b\b\b\b\b\b\b\b\b\b\b\b\b\b\b\b\b\b\b\b\b\b\b\b\b\b\b\b\b\b\b\b\b\b\b\b\b\b\b\b\b\b\b\b\b\b\b\b\b\b\b\r",
      "1/1 [==============================] - 0s 151ms/step - loss: 25078.6836 - mape: 69.4135 - mae: 158.0205 - mse: 25078.6836 - val_loss: 28555.8711 - val_mape: 70.4470 - val_mae: 168.9262 - val_mse: 28555.8711\n"
     ]
    },
    {
     "name": "stdout",
     "output_type": "stream",
     "text": [
      "Epoch 64/500\n"
     ]
    },
    {
     "name": "stdout",
     "output_type": "stream",
     "text": [
      "\r",
      "1/1 [==============================] - ETA: 0s - loss: 24673.0508 - mape: 68.8324 - mae: 156.7131 - mse: 24673.0508"
     ]
    },
    {
     "name": "stdout",
     "output_type": "stream",
     "text": [
      "\b\b\b\b\b\b\b\b\b\b\b\b\b\b\b\b\b\b\b\b\b\b\b\b\b\b\b\b\b\b\b\b\b\b\b\b\b\b\b\b\b\b\b\b\b\b\b\b\b\b\b\b\b\b\b\b\b\b\b\b\b\b\b\b\b\b\b\b\b\b\b\b\b\b\b\b\b\b\b\b\b\b\b\b\b\b\b\b\b\b\b\b\b\b\b\b\b\b\b\b\b\b\b\b\b\b\b\b\b\b\b\b\b\b\b\r",
      "1/1 [==============================] - 0s 81ms/step - loss: 24673.0508 - mape: 68.8324 - mae: 156.7131 - mse: 24673.0508 - val_loss: 28260.3477 - val_mape: 70.0811 - val_mae: 168.0492 - val_mse: 28260.3477\n"
     ]
    },
    {
     "name": "stdout",
     "output_type": "stream",
     "text": [
      "Epoch 65/500\n"
     ]
    },
    {
     "name": "stdout",
     "output_type": "stream",
     "text": [
      "\r",
      "1/1 [==============================] - ETA: 0s - loss: 24241.9258 - mape: 68.2353 - mae: 155.3477 - mse: 24241.9258"
     ]
    },
    {
     "name": "stdout",
     "output_type": "stream",
     "text": [
      "\b\b\b\b\b\b\b\b\b\b\b\b\b\b\b\b\b\b\b\b\b\b\b\b\b\b\b\b\b\b\b\b\b\b\b\b\b\b\b\b\b\b\b\b\b\b\b\b\b\b\b\b\b\b\b\b\b\b\b\b\b\b\b\b\b\b\b\b\b\b\b\b\b\b\b\b\b\b\b\b\b\b\b\b\b\b\b\b\b\b\b\b\b\b\b\b\b\b\b\b\b\b\b\b\b\b\b\b\b\b\b\b\b\b\b\r",
      "1/1 [==============================] - 0s 102ms/step - loss: 24241.9258 - mape: 68.2353 - mae: 155.3477 - mse: 24241.9258 - val_loss: 27967.2754 - val_mape: 69.7163 - val_mae: 167.1750 - val_mse: 27967.2754\n"
     ]
    },
    {
     "name": "stdout",
     "output_type": "stream",
     "text": [
      "Epoch 66/500\n"
     ]
    },
    {
     "name": "stdout",
     "output_type": "stream",
     "text": [
      "\r",
      "1/1 [==============================] - ETA: 0s - loss: 24024.8438 - mape: 67.9058 - mae: 154.6194 - mse: 24024.8438"
     ]
    },
    {
     "name": "stdout",
     "output_type": "stream",
     "text": [
      "\b\b\b\b\b\b\b\b\b\b\b\b\b\b\b\b\b\b\b\b\b\b\b\b\b\b\b\b\b\b\b\b\b\b\b\b\b\b\b\b\b\b\b\b\b\b\b\b\b\b\b\b\b\b\b\b\b\b\b\b\b\b\b\b\b\b\b\b\b\b\b\b\b\b\b\b\b\b\b\b\b\b\b\b\b\b\b\b\b\b\b\b\b\b\b\b\b\b\b\b\b\b\b\b\b\b\b\b\b\b\b\b\b\b\b\r",
      "1/1 [==============================] - 0s 76ms/step - loss: 24024.8438 - mape: 67.9058 - mae: 154.6194 - mse: 24024.8438 - val_loss: 27676.5000 - val_mape: 69.3525 - val_mae: 166.3030 - val_mse: 27676.5000\n"
     ]
    },
    {
     "name": "stdout",
     "output_type": "stream",
     "text": [
      "Epoch 67/500\n"
     ]
    },
    {
     "name": "stdout",
     "output_type": "stream",
     "text": [
      "\r",
      "1/1 [==============================] - ETA: 0s - loss: 23654.2188 - mape: 67.3964 - mae: 153.4429 - mse: 23654.2188"
     ]
    },
    {
     "name": "stdout",
     "output_type": "stream",
     "text": [
      "\b\b\b\b\b\b\b\b\b\b\b\b\b\b\b\b\b\b\b\b\b\b\b\b\b\b\b\b\b\b\b\b\b\b\b\b\b\b\b\b\b\b\b\b\b\b\b\b\b\b\b\b\b\b\b\b\b\b\b\b\b\b\b\b\b\b\b\b\b\b\b\b\b\b\b\b\b\b\b\b\b\b\b\b\b\b\b\b\b\b\b\b\b\b\b\b\b\b\b\b\b\b\b\b\b\b\b\b\b\b\b\b\b\b\b\r",
      "1/1 [==============================] - 0s 98ms/step - loss: 23654.2188 - mape: 67.3964 - mae: 153.4429 - mse: 23654.2188 - val_loss: 27388.0820 - val_mape: 68.9898 - val_mae: 165.4336 - val_mse: 27388.0820\n"
     ]
    },
    {
     "name": "stdout",
     "output_type": "stream",
     "text": [
      "Epoch 68/500\n"
     ]
    },
    {
     "name": "stdout",
     "output_type": "stream",
     "text": [
      "\r",
      "1/1 [==============================] - ETA: 0s - loss: 23365.7090 - mape: 66.9819 - mae: 152.5030 - mse: 23365.7090"
     ]
    },
    {
     "name": "stdout",
     "output_type": "stream",
     "text": [
      "\b\b\b\b\b\b\b\b\b\b\b\b\b\b\b\b\b\b\b\b\b\b\b\b\b\b\b\b\b\b\b\b\b\b\b\b\b\b\b\b\b\b\b\b\b\b\b\b\b\b\b\b\b\b\b\b\b\b\b\b\b\b\b\b\b\b\b\b\b\b\b\b\b\b\b\b\b\b\b\b\b\b\b\b\b\b\b\b\b\b\b\b\b\b\b\b\b\b\b\b\b\b\b\b\b\b\b\b\b\b\b\b\b\b\b\r",
      "1/1 [==============================] - 0s 80ms/step - loss: 23365.7090 - mape: 66.9819 - mae: 152.5030 - mse: 23365.7090 - val_loss: 27102.0000 - val_mape: 68.6280 - val_mae: 164.5667 - val_mse: 27102.0000\n"
     ]
    },
    {
     "name": "stdout",
     "output_type": "stream",
     "text": [
      "Epoch 69/500\n"
     ]
    },
    {
     "name": "stdout",
     "output_type": "stream",
     "text": [
      "\r",
      "1/1 [==============================] - ETA: 0s - loss: 23408.6562 - mape: 67.0111 - mae: 152.5972 - mse: 23408.6562"
     ]
    },
    {
     "name": "stdout",
     "output_type": "stream",
     "text": [
      "\b\b\b\b\b\b\b\b\b\b\b\b\b\b\b\b\b\b\b\b\b\b\b\b\b\b\b\b\b\b\b\b\b\b\b\b\b\b\b\b\b\b\b\b\b\b\b\b\b\b\b\b\b\b\b\b\b\b\b\b\b\b\b\b\b\b\b\b\b\b\b\b\b\b\b\b\b\b\b\b\b\b\b\b\b\b\b\b\b\b\b\b\b\b\b\b\b\b\b\b\b\b\b\b\b\b\b\b\b\b\b\b\b\b\b\r",
      "1/1 [==============================] - 0s 81ms/step - loss: 23408.6562 - mape: 67.0111 - mae: 152.5972 - mse: 23408.6562 - val_loss: 26818.3711 - val_mape: 68.2676 - val_mae: 163.7027 - val_mse: 26818.3711\n"
     ]
    },
    {
     "name": "stdout",
     "output_type": "stream",
     "text": [
      "Epoch 70/500\n"
     ]
    },
    {
     "name": "stdout",
     "output_type": "stream",
     "text": [
      "\r",
      "1/1 [==============================] - ETA: 0s - loss: 23196.6055 - mape: 66.7581 - mae: 151.9748 - mse: 23196.6055"
     ]
    },
    {
     "name": "stdout",
     "output_type": "stream",
     "text": [
      "\b\b\b\b\b\b\b\b\b\b\b\b\b\b\b\b\b\b\b\b\b\b\b\b\b\b\b\b\b\b\b\b\b\b\b\b\b\b\b\b\b\b\b\b\b\b\b\b\b\b\b\b\b\b\b\b\b\b\b\b\b\b\b\b\b\b\b\b\b\b\b\b\b\b\b\b\b\b\b\b\b\b\b\b\b\b\b\b\b\b\b\b\b\b\b\b\b\b\b\b\b\b\b\b\b\b\b\b\b\b\b\b\b\b\b\r",
      "1/1 [==============================] - 0s 76ms/step - loss: 23196.6055 - mape: 66.7581 - mae: 151.9748 - mse: 23196.6055 - val_loss: 26537.1211 - val_mape: 67.9082 - val_mae: 162.8414 - val_mse: 26537.1211\n"
     ]
    },
    {
     "name": "stdout",
     "output_type": "stream",
     "text": [
      "Epoch 71/500\n"
     ]
    },
    {
     "name": "stdout",
     "output_type": "stream",
     "text": [
      "\r",
      "1/1 [==============================] - ETA: 0s - loss: 22802.5488 - mape: 66.1486 - mae: 150.6228 - mse: 22802.5488"
     ]
    },
    {
     "name": "stdout",
     "output_type": "stream",
     "text": [
      "\b\b\b\b\b\b\b\b\b\b\b\b\b\b\b\b\b\b\b\b\b\b\b\b\b\b\b\b\b\b\b\b\b\b\b\b\b\b\b\b\b\b\b\b\b\b\b\b\b\b\b\b\b\b\b\b\b\b\b\b\b\b\b\b\b\b\b\b\b\b\b\b\b\b\b\b\b\b\b\b\b\b\b\b\b\b\b\b\b\b\b\b\b\b\b\b\b\b\b\b\b\b\b\b\b\b\b\b\b\b\b\b\b\b\b\r",
      "1/1 [==============================] - 0s 78ms/step - loss: 22802.5488 - mape: 66.1486 - mae: 150.6228 - mse: 22802.5488 - val_loss: 26258.2871 - val_mape: 67.5500 - val_mae: 161.9830 - val_mse: 26258.2871\n"
     ]
    },
    {
     "name": "stdout",
     "output_type": "stream",
     "text": [
      "Epoch 72/500\n"
     ]
    },
    {
     "name": "stdout",
     "output_type": "stream",
     "text": [
      "\r",
      "1/1 [==============================] - ETA: 0s - loss: 22503.9512 - mape: 65.7306 - mae: 149.6565 - mse: 22503.9512"
     ]
    },
    {
     "name": "stdout",
     "output_type": "stream",
     "text": [
      "\b\b\b\b\b\b\b\b\b\b\b\b\b\b\b\b\b\b\b\b\b\b\b\b\b\b\b\b\b\b\b\b\b\b\b\b\b\b\b\b\b\b\b\b\b\b\b\b\b\b\b\b\b\b\b\b\b\b\b\b\b\b\b\b\b\b\b\b\b\b\b\b\b\b\b\b\b\b\b\b\b\b\b\b\b\b\b\b\b\b\b\b\b\b\b\b\b\b\b\b\b\b\b\b\b\b\b\b\b\b\b\b\b\b\b\r",
      "1/1 [==============================] - 0s 74ms/step - loss: 22503.9512 - mape: 65.7306 - mae: 149.6565 - mse: 22503.9512 - val_loss: 25981.8145 - val_mape: 67.1930 - val_mae: 161.1273 - val_mse: 25981.8145\n"
     ]
    },
    {
     "name": "stdout",
     "output_type": "stream",
     "text": [
      "Epoch 73/500\n"
     ]
    },
    {
     "name": "stdout",
     "output_type": "stream",
     "text": [
      "\r",
      "1/1 [==============================] - ETA: 0s - loss: 22336.7441 - mape: 65.4606 - mae: 149.0625 - mse: 22336.7441"
     ]
    },
    {
     "name": "stdout",
     "output_type": "stream",
     "text": [
      "\b\b\b\b\b\b\b\b\b\b\b\b\b\b\b\b\b\b\b\b\b\b\b\b\b\b\b\b\b\b\b\b\b\b\b\b\b\b\b\b\b\b\b\b\b\b\b\b\b\b\b\b\b\b\b\b\b\b\b\b\b\b\b\b\b\b\b\b\b\b\b\b\b\b\b\b\b\b\b\b\b\b\b\b\b\b\b\b\b\b\b\b\b\b\b\b\b\b\b\b\b\b\b\b\b\b\b\b\b\b\b\b\b\b\b\r",
      "1/1 [==============================] - 0s 80ms/step - loss: 22336.7441 - mape: 65.4606 - mae: 149.0625 - mse: 22336.7441 - val_loss: 25707.7285 - val_mape: 66.8372 - val_mae: 160.2745 - val_mse: 25707.7285\n"
     ]
    },
    {
     "name": "stdout",
     "output_type": "stream",
     "text": [
      "Epoch 74/500\n"
     ]
    },
    {
     "name": "stdout",
     "output_type": "stream",
     "text": [
      "\r",
      "1/1 [==============================] - ETA: 0s - loss: 21773.1973 - mape: 64.6302 - mae: 147.1713 - mse: 21773.1973"
     ]
    },
    {
     "name": "stdout",
     "output_type": "stream",
     "text": [
      "\b\b\b\b\b\b\b\b\b\b\b\b\b\b\b\b\b\b\b\b\b\b\b\b\b\b\b\b\b\b\b\b\b\b\b\b\b\b\b\b\b\b\b\b\b\b\b\b\b\b\b\b\b\b\b\b\b\b\b\b\b\b\b\b\b\b\b\b\b\b\b\b\b\b\b\b\b\b\b\b\b\b\b\b\b\b\b\b\b\b\b\b\b\b\b\b\b\b\b\b\b\b\b\b\b\b\b\b\b\b\b\b\b\b\b\r",
      "1/1 [==============================] - 0s 77ms/step - loss: 21773.1973 - mape: 64.6302 - mae: 147.1713 - mse: 21773.1973 - val_loss: 25435.9062 - val_mape: 66.4825 - val_mae: 159.4243 - val_mse: 25435.9062\n"
     ]
    },
    {
     "name": "stdout",
     "output_type": "stream",
     "text": [
      "Epoch 75/500\n"
     ]
    },
    {
     "name": "stdout",
     "output_type": "stream",
     "text": [
      "\r",
      "1/1 [==============================] - ETA: 0s - loss: 21589.4336 - mape: 64.3735 - mae: 146.5735 - mse: 21589.4336"
     ]
    },
    {
     "name": "stdout",
     "output_type": "stream",
     "text": [
      "\b\b\b\b\b\b\b\b\b\b\b\b\b\b\b\b\b\b\b\b\b\b\b\b\b\b\b\b\b\b\b\b\b\b\b\b\b\b\b\b\b\b\b\b\b\b\b\b\b\b\b\b\b\b\b\b\b\b\b\b\b\b\b\b\b\b\b\b\b\b\b\b\b\b\b\b\b\b\b\b\b\b\b\b\b\b\b\b\b\b\b\b\b\b\b\b\b\b\b\b\b\b\b\b\b\b\b\b\b\b\b\b\b\b\b\r",
      "1/1 [==============================] - 0s 81ms/step - loss: 21589.4336 - mape: 64.3735 - mae: 146.5735 - mse: 21589.4336 - val_loss: 25166.3457 - val_mape: 66.1288 - val_mae: 158.5766 - val_mse: 25166.3457\n"
     ]
    },
    {
     "name": "stdout",
     "output_type": "stream",
     "text": [
      "Epoch 76/500\n"
     ]
    },
    {
     "name": "stdout",
     "output_type": "stream",
     "text": [
      "\r",
      "1/1 [==============================] - ETA: 0s - loss: 21517.1660 - mape: 64.2270 - mae: 146.2730 - mse: 21517.1660"
     ]
    },
    {
     "name": "stdout",
     "output_type": "stream",
     "text": [
      "\b\b\b\b\b\b\b\b\b\b\b\b\b\b\b\b\b\b\b\b\b\b\b\b\b\b\b\b\b\b\b\b\b\b\b\b\b\b\b\b\b\b\b\b\b\b\b\b\b\b\b\b\b\b\b\b\b\b\b\b\b\b\b\b\b\b\b\b\b\b\b\b\b\b\b\b\b\b\b\b\b\b\b\b\b\b\b\b\b\b\b\b\b\b\b\b\b\b\b\b\b\b\b\b\b\b\b\b\b\b\b\b\b\b\b\r",
      "1/1 [==============================] - 0s 77ms/step - loss: 21517.1660 - mape: 64.2270 - mae: 146.2730 - mse: 21517.1660 - val_loss: 24899.1602 - val_mape: 65.7764 - val_mae: 157.7319 - val_mse: 24899.1602\n"
     ]
    },
    {
     "name": "stdout",
     "output_type": "stream",
     "text": [
      "Epoch 77/500\n"
     ]
    },
    {
     "name": "stdout",
     "output_type": "stream",
     "text": [
      "\r",
      "1/1 [==============================] - ETA: 0s - loss: 21268.3633 - mape: 63.8751 - mae: 145.4533 - mse: 21268.3633"
     ]
    },
    {
     "name": "stdout",
     "output_type": "stream",
     "text": [
      "\b\b\b\b\b\b\b\b\b\b\b\b\b\b\b\b\b\b\b\b\b\b\b\b\b\b\b\b\b\b\b\b\b\b\b\b\b\b\b\b\b\b\b\b\b\b\b\b\b\b\b\b\b\b\b\b\b\b\b\b\b\b\b\b\b\b\b\b\b\b\b\b\b\b\b\b\b\b\b\b\b\b\b\b\b\b\b\b\b\b\b\b\b\b\b\b\b\b\b\b\b\b\b\b\b\b\b\b\b\b\b\b\b\b\b\r",
      "1/1 [==============================] - 0s 77ms/step - loss: 21268.3633 - mape: 63.8751 - mae: 145.4533 - mse: 21268.3633 - val_loss: 24634.2246 - val_mape: 65.4250 - val_mae: 156.8898 - val_mse: 24634.2246\n"
     ]
    },
    {
     "name": "stdout",
     "output_type": "stream",
     "text": [
      "Epoch 78/500\n"
     ]
    },
    {
     "name": "stdout",
     "output_type": "stream",
     "text": [
      "\r",
      "1/1 [==============================] - ETA: 0s - loss: 20966.4277 - mape: 63.4310 - mae: 144.4338 - mse: 20966.4277"
     ]
    },
    {
     "name": "stdout",
     "output_type": "stream",
     "text": [
      "\b\b\b\b\b\b\b\b\b\b\b\b\b\b\b\b\b\b\b\b\b\b\b\b\b\b\b\b\b\b\b\b\b\b\b\b\b\b\b\b\b\b\b\b\b\b\b\b\b\b\b\b\b\b\b\b\b\b\b\b\b\b\b\b\b\b\b\b\b\b\b\b\b\b\b\b\b\b\b\b\b\b\b\b\b\b\b\b\b\b\b\b\b\b\b\b\b\b\b\b\b\b\b\b\b\b\b\b\b\b\b\b\b\b\b\r",
      "1/1 [==============================] - 0s 327ms/step - loss: 20966.4277 - mape: 63.4310 - mae: 144.4338 - mse: 20966.4277 - val_loss: 24371.4941 - val_mape: 65.0747 - val_mae: 156.0503 - val_mse: 24371.4941\n"
     ]
    },
    {
     "name": "stdout",
     "output_type": "stream",
     "text": [
      "Epoch 79/500\n"
     ]
    },
    {
     "name": "stdout",
     "output_type": "stream",
     "text": [
      "\r",
      "1/1 [==============================] - ETA: 0s - loss: 20600.0449 - mape: 62.8417 - mae: 143.1204 - mse: 20600.0449"
     ]
    },
    {
     "name": "stdout",
     "output_type": "stream",
     "text": [
      "\b\b\b\b\b\b\b\b\b\b\b\b\b\b\b\b\b\b\b\b\b\b\b\b\b\b\b\b\b\b\b\b\b\b\b\b\b\b\b\b\b\b\b\b\b\b\b\b\b\b\b\b\b\b\b\b\b\b\b\b\b\b\b\b\b\b\b\b\b\b\b\b\b\b\b\b\b\b\b\b\b\b\b\b\b\b\b\b\b\b\b\b\b\b\b\b\b\b\b\b\b\b\b\b\b\b\b\b\b\b\b\b\b\b\b\r",
      "1/1 [==============================] - 0s 83ms/step - loss: 20600.0449 - mape: 62.8417 - mae: 143.1204 - mse: 20600.0449 - val_loss: 24111.0098 - val_mape: 64.7256 - val_mae: 155.2134 - val_mse: 24111.0098\n"
     ]
    },
    {
     "name": "stdout",
     "output_type": "stream",
     "text": [
      "Epoch 80/500\n"
     ]
    },
    {
     "name": "stdout",
     "output_type": "stream",
     "text": [
      "\r",
      "1/1 [==============================] - ETA: 0s - loss: 20791.2031 - mape: 63.1417 - mae: 143.7949 - mse: 20791.2031"
     ]
    },
    {
     "name": "stdout",
     "output_type": "stream",
     "text": [
      "\b\b\b\b\b\b\b\b\b\b\b\b\b\b\b\b\b\b\b\b\b\b\b\b\b\b\b\b\b\b\b\b\b\b\b\b\b\b\b\b\b\b\b\b\b\b\b\b\b\b\b\b\b\b\b\b\b\b\b\b\b\b\b\b\b\b\b\b\b\b\b\b\b\b\b\b\b\b\b\b\b\b\b\b\b\b\b\b\b\b\b\b\b\b\b\b\b\b\b\b\b\b\b\b\b\b\b\b\b\b\b\b\b\b\b\r",
      "1/1 [==============================] - 0s 77ms/step - loss: 20791.2031 - mape: 63.1417 - mae: 143.7949 - mse: 20791.2031 - val_loss: 23852.7852 - val_mape: 64.3776 - val_mae: 154.3794 - val_mse: 23852.7852\n"
     ]
    },
    {
     "name": "stdout",
     "output_type": "stream",
     "text": [
      "Epoch 81/500\n"
     ]
    },
    {
     "name": "stdout",
     "output_type": "stream",
     "text": [
      "\r",
      "1/1 [==============================] - ETA: 0s - loss: 20284.4805 - mape: 62.3845 - mae: 142.0551 - mse: 20284.4805"
     ]
    },
    {
     "name": "stdout",
     "output_type": "stream",
     "text": [
      "\b\b\b\b\b\b\b\b\b\b\b\b\b\b\b\b\b\b\b\b\b\b\b\b\b\b\b\b\b\b\b\b\b\b\b\b\b\b\b\b\b\b\b\b\b\b\b\b\b\b\b\b\b\b\b\b\b\b\b\b\b\b\b\b\b\b\b\b\b\b\b\b\b\b\b\b\b\b\b\b\b\b\b\b\b\b\b\b\b\b\b\b\b\b\b\b\b\b\b\b\b\b\b\b\b\b\b\b\b\b\b\b\b\b\b\r",
      "1/1 [==============================] - 0s 80ms/step - loss: 20284.4805 - mape: 62.3845 - mae: 142.0551 - mse: 20284.4805 - val_loss: 23596.7812 - val_mape: 64.0307 - val_mae: 153.5480 - val_mse: 23596.7812\n"
     ]
    },
    {
     "name": "stdout",
     "output_type": "stream",
     "text": [
      "Epoch 82/500\n"
     ]
    },
    {
     "name": "stdout",
     "output_type": "stream",
     "text": [
      "\r",
      "1/1 [==============================] - ETA: 0s - loss: 20032.9473 - mape: 61.9862 - mae: 141.1586 - mse: 20032.9473"
     ]
    },
    {
     "name": "stdout",
     "output_type": "stream",
     "text": [
      "\b\b\b\b\b\b\b\b\b\b\b\b\b\b\b\b\b\b\b\b\b\b\b\b\b\b\b\b\b\b\b\b\b\b\b\b\b\b\b\b\b\b\b\b\b\b\b\b\b\b\b\b\b\b\b\b\b\b\b\b\b\b\b\b\b\b\b\b\b\b\b\b\b\b\b\b\b\b\b\b\b\b\b\b\b\b\b\b\b\b\b\b\b\b\b\b\b\b\b\b\b\b\b\b\b\b\b\b\b\b\b\b\b\b\b\r",
      "1/1 [==============================] - 0s 80ms/step - loss: 20032.9473 - mape: 61.9862 - mae: 141.1586 - mse: 20032.9473 - val_loss: 23343.0039 - val_mape: 63.6849 - val_mae: 152.7194 - val_mse: 23343.0039\n"
     ]
    },
    {
     "name": "stdout",
     "output_type": "stream",
     "text": [
      "Epoch 83/500\n"
     ]
    },
    {
     "name": "stdout",
     "output_type": "stream",
     "text": [
      "\r",
      "1/1 [==============================] - ETA: 0s - loss: 19762.8105 - mape: 61.5341 - mae: 140.1558 - mse: 19762.8105"
     ]
    },
    {
     "name": "stdout",
     "output_type": "stream",
     "text": [
      "\b\b\b\b\b\b\b\b\b\b\b\b\b\b\b\b\b\b\b\b\b\b\b\b\b\b\b\b\b\b\b\b\b\b\b\b\b\b\b\b\b\b\b\b\b\b\b\b\b\b\b\b\b\b\b\b\b\b\b\b\b\b\b\b\b\b\b\b\b\b\b\b\b\b\b\b\b\b\b\b\b\b\b\b\b\b\b\b\b\b\b\b\b\b\b\b\b\b\b\b\b\b\b\b\b\b\b\b\b\b\b\b\b\b\b\r",
      "1/1 [==============================] - 0s 81ms/step - loss: 19762.8105 - mape: 61.5341 - mae: 140.1558 - mse: 19762.8105 - val_loss: 23091.4746 - val_mape: 63.3404 - val_mae: 151.8936 - val_mse: 23091.4746\n"
     ]
    },
    {
     "name": "stdout",
     "output_type": "stream",
     "text": [
      "Epoch 84/500\n"
     ]
    },
    {
     "name": "stdout",
     "output_type": "stream",
     "text": [
      "\r",
      "1/1 [==============================] - ETA: 0s - loss: 19404.0957 - mape: 60.9832 - mae: 138.8913 - mse: 19404.0957"
     ]
    },
    {
     "name": "stdout",
     "output_type": "stream",
     "text": [
      "\b\b\b\b\b\b\b\b\b\b\b\b\b\b\b\b\b\b\b\b\b\b\b\b\b\b\b\b\b\b\b\b\b\b\b\b\b\b\b\b\b\b\b\b\b\b\b\b\b\b\b\b\b\b\b\b\b\b\b\b\b\b\b\b\b\b\b\b\b\b\b\b\b\b\b\b\b\b\b\b\b\b\b\b\b\b\b\b\b\b\b\b\b\b\b\b\b\b\b\b\b\b\b\b\b\b\b\b\b\b\b\b\b\b\b\r",
      "1/1 [==============================] - 0s 93ms/step - loss: 19404.0957 - mape: 60.9832 - mae: 138.8913 - mse: 19404.0957 - val_loss: 22842.0977 - val_mape: 62.9970 - val_mae: 151.0705 - val_mse: 22842.0977\n"
     ]
    },
    {
     "name": "stdout",
     "output_type": "stream",
     "text": [
      "Epoch 85/500\n"
     ]
    },
    {
     "name": "stdout",
     "output_type": "stream",
     "text": [
      "\r",
      "1/1 [==============================] - ETA: 0s - loss: 19505.7500 - mape: 61.1175 - mae: 139.2171 - mse: 19505.7500"
     ]
    },
    {
     "name": "stdout",
     "output_type": "stream",
     "text": [
      "\b\b\b\b\b\b\b\b\b\b\b\b\b\b\b\b\b\b\b\b\b\b\b\b\b\b\b\b\b\b\b\b\b\b\b\b\b\b\b\b\b\b\b\b\b\b\b\b\b\b\b\b\b\b\b\b\b\b\b\b\b\b\b\b\b\b\b\b\b\b\b\b\b\b\b\b\b\b\b\b\b\b\b\b\b\b\b\b\b\b\b\b\b\b\b\b\b\b\b\b\b\b\b\b\b\b\b\b\b\b\b\b\b\b\b\r",
      "1/1 [==============================] - 0s 95ms/step - loss: 19505.7500 - mape: 61.1175 - mae: 139.2171 - mse: 19505.7500 - val_loss: 22594.9355 - val_mape: 62.6548 - val_mae: 150.2502 - val_mse: 22594.9355\n"
     ]
    },
    {
     "name": "stdout",
     "output_type": "stream",
     "text": [
      "Epoch 86/500\n"
     ]
    },
    {
     "name": "stdout",
     "output_type": "stream",
     "text": [
      "\r",
      "1/1 [==============================] - ETA: 0s - loss: 19292.0566 - mape: 60.7935 - mae: 138.4693 - mse: 19292.0566"
     ]
    },
    {
     "name": "stdout",
     "output_type": "stream",
     "text": [
      "\b\b\b\b\b\b\b\b\b\b\b\b\b\b\b\b\b\b\b\b\b\b\b\b\b\b\b\b\b\b\b\b\b\b\b\b\b\b\b\b\b\b\b\b\b\b\b\b\b\b\b\b\b\b\b\b\b\b\b\b\b\b\b\b\b\b\b\b\b\b\b\b\b\b\b\b\b\b\b\b\b\b\b\b\b\b\b\b\b\b\b\b\b\b\b\b\b\b\b\b\b\b\b\b\b\b\b\b\b\b\b\b\b\b\b\r",
      "1/1 [==============================] - 0s 96ms/step - loss: 19292.0566 - mape: 60.7935 - mae: 138.4693 - mse: 19292.0566 - val_loss: 22349.9277 - val_mape: 62.3136 - val_mae: 149.4327 - val_mse: 22349.9277\n"
     ]
    },
    {
     "name": "stdout",
     "output_type": "stream",
     "text": [
      "Epoch 87/500\n"
     ]
    },
    {
     "name": "stdout",
     "output_type": "stream",
     "text": [
      "\r",
      "1/1 [==============================] - ETA: 0s - loss: 18759.8613 - mape: 59.9542 - mae: 136.5537 - mse: 18759.8613"
     ]
    },
    {
     "name": "stdout",
     "output_type": "stream",
     "text": [
      "\b\b\b\b\b\b\b\b\b\b\b\b\b\b\b\b\b\b\b\b\b\b\b\b\b\b\b\b\b\b\b\b\b\b\b\b\b\b\b\b\b\b\b\b\b\b\b\b\b\b\b\b\b\b\b\b\b\b\b\b\b\b\b\b\b\b\b\b\b\b\b\b\b\b\b\b\b\b\b\b\b\b\b\b\b\b\b\b\b\b\b\b\b\b\b\b\b\b\b\b\b\b\b\b\b\b\b\b\b\b\b\b\b\b\b\r",
      "1/1 [==============================] - 0s 96ms/step - loss: 18759.8613 - mape: 59.9542 - mae: 136.5537 - mse: 18759.8613 - val_loss: 22107.1055 - val_mape: 61.9737 - val_mae: 148.6180 - val_mse: 22107.1055\n"
     ]
    },
    {
     "name": "stdout",
     "output_type": "stream",
     "text": [
      "Epoch 88/500\n"
     ]
    },
    {
     "name": "stdout",
     "output_type": "stream",
     "text": [
      "\r",
      "1/1 [==============================] - ETA: 0s - loss: 18638.0840 - mape: 59.7322 - mae: 136.0709 - mse: 18638.0840"
     ]
    },
    {
     "name": "stdout",
     "output_type": "stream",
     "text": [
      "\b\b\b\b\b\b\b\b\b\b\b\b\b\b\b\b\b\b\b\b\b\b\b\b\b\b\b\b\b\b\b\b\b\b\b\b\b\b\b\b\b\b\b\b\b\b\b\b\b\b\b\b\b\b\b\b\b\b\b\b\b\b\b\b\b\b\b\b\b\b\b\b\b\b\b\b\b\b\b\b\b\b\b\b\b\b\b\b\b\b\b\b\b\b\b\b\b\b\b\b\b\b\b\b\b\b\b\b\b\b\b\b\b\b\b\r",
      "1/1 [==============================] - 0s 100ms/step - loss: 18638.0840 - mape: 59.7322 - mae: 136.0709 - mse: 18638.0840 - val_loss: 21866.3945 - val_mape: 61.6349 - val_mae: 147.8059 - val_mse: 21866.3945\n"
     ]
    },
    {
     "name": "stdout",
     "output_type": "stream",
     "text": [
      "Epoch 89/500\n"
     ]
    },
    {
     "name": "stdout",
     "output_type": "stream",
     "text": [
      "\r",
      "1/1 [==============================] - ETA: 0s - loss: 18428.8848 - mape: 59.4235 - mae: 135.3468 - mse: 18428.8848"
     ]
    },
    {
     "name": "stdout",
     "output_type": "stream",
     "text": [
      "\b\b\b\b\b\b\b\b\b\b\b\b\b\b\b\b\b\b\b\b\b\b\b\b\b\b\b\b\b\b\b\b\b\b\b\b\b\b\b\b\b\b\b\b\b\b\b\b\b\b\b\b\b\b\b\b\b\b\b\b\b\b\b\b\b\b\b\b\b\b\b\b\b\b\b\b\b\b\b\b\b\b\b\b\b\b\b\b\b\b\b\b\b\b\b\b\b\b\b\b\b\b\b\b\b\b\b\b\b\b\b\b\b\b\b\r",
      "1/1 [==============================] - 0s 92ms/step - loss: 18428.8848 - mape: 59.4235 - mae: 135.3468 - mse: 18428.8848 - val_loss: 21627.8164 - val_mape: 61.2972 - val_mae: 146.9967 - val_mse: 21627.8164\n"
     ]
    },
    {
     "name": "stdout",
     "output_type": "stream",
     "text": [
      "Epoch 90/500\n"
     ]
    },
    {
     "name": "stdout",
     "output_type": "stream",
     "text": [
      "\r",
      "1/1 [==============================] - ETA: 0s - loss: 18225.5684 - mape: 59.0875 - mae: 134.5851 - mse: 18225.5684"
     ]
    },
    {
     "name": "stdout",
     "output_type": "stream",
     "text": [
      "\b\b\b\b\b\b\b\b\b\b\b\b\b\b\b\b\b\b\b\b\b\b\b\b\b\b\b\b\b\b\b\b\b\b\b\b\b\b\b\b\b\b\b\b\b\b\b\b\b\b\b\b\b\b\b\b\b\b\b\b\b\b\b\b\b\b\b\b\b\b\b\b\b\b\b\b\b\b\b\b\b\b\b\b\b\b\b\b\b\b\b\b\b\b\b\b\b\b\b\b\b\b\b\b\b\b\b\b\b\b\b\b\b\b\b\r",
      "1/1 [==============================] - 0s 183ms/step - loss: 18225.5684 - mape: 59.0875 - mae: 134.5851 - mse: 18225.5684 - val_loss: 21391.3340 - val_mape: 60.9607 - val_mae: 146.1900 - val_mse: 21391.3340\n"
     ]
    },
    {
     "name": "stdout",
     "output_type": "stream",
     "text": [
      "Epoch 91/500\n"
     ]
    },
    {
     "name": "stdout",
     "output_type": "stream",
     "text": [
      "\r",
      "1/1 [==============================] - ETA: 0s - loss: 17885.0488 - mape: 58.5527 - mae: 133.3439 - mse: 17885.0488"
     ]
    },
    {
     "name": "stdout",
     "output_type": "stream",
     "text": [
      "\b\b\b\b\b\b\b\b\b\b\b\b\b\b\b\b\b\b\b\b\b\b\b\b\b\b\b\b\b\b\b\b\b\b\b\b\b\b\b\b\b\b\b\b\b\b\b\b\b\b\b\b\b\b\b\b\b\b\b\b\b\b\b\b\b\b\b\b\b\b\b\b\b\b\b\b\b\b\b\b\b\b\b\b\b\b\b\b\b\b\b\b\b\b\b\b\b\b\b\b\b\b\b\b\b\b\b\b\b\b\b\b\b\b\b\r",
      "1/1 [==============================] - 0s 96ms/step - loss: 17885.0488 - mape: 58.5527 - mae: 133.3439 - mse: 17885.0488 - val_loss: 21157.0137 - val_mape: 60.6254 - val_mae: 145.3864 - val_mse: 21157.0137\n"
     ]
    },
    {
     "name": "stdout",
     "output_type": "stream",
     "text": [
      "Epoch 92/500\n"
     ]
    },
    {
     "name": "stdout",
     "output_type": "stream",
     "text": [
      "\r",
      "1/1 [==============================] - ETA: 0s - loss: 17839.0684 - mape: 58.4289 - mae: 133.1094 - mse: 17839.0684"
     ]
    },
    {
     "name": "stdout",
     "output_type": "stream",
     "text": [
      "\b\b\b\b\b\b\b\b\b\b\b\b\b\b\b\b\b\b\b\b\b\b\b\b\b\b\b\b\b\b\b\b\b\b\b\b\b\b\b\b\b\b\b\b\b\b\b\b\b\b\b\b\b\b\b\b\b\b\b\b\b\b\b\b\b\b\b\b\b\b\b\b\b\b\b\b\b\b\b\b\b\b\b\b\b\b\b\b\b\b\b\b\b\b\b\b\b\b\b\b\b\b\b\b\b\b\b\b\b\b\b\b\b\b\b\r",
      "1/1 [==============================] - 0s 100ms/step - loss: 17839.0684 - mape: 58.4289 - mae: 133.1094 - mse: 17839.0684 - val_loss: 20924.8008 - val_mape: 60.2913 - val_mae: 144.5856 - val_mse: 20924.8008\n"
     ]
    },
    {
     "name": "stdout",
     "output_type": "stream",
     "text": [
      "Epoch 93/500\n"
     ]
    },
    {
     "name": "stdout",
     "output_type": "stream",
     "text": [
      "\r",
      "1/1 [==============================] - ETA: 0s - loss: 17643.7812 - mape: 58.1017 - mae: 132.3690 - mse: 17643.7812"
     ]
    },
    {
     "name": "stdout",
     "output_type": "stream",
     "text": [
      "\b\b\b\b\b\b\b\b\b\b\b\b\b\b\b\b\b\b\b\b\b\b\b\b\b\b\b\b\b\b\b\b\b\b\b\b\b\b\b\b\b\b\b\b\b\b\b\b\b\b\b\b\b\b\b\b\b\b\b\b\b\b\b\b\b\b\b\b\b\b\b\b\b\b\b\b\b\b\b\b\b\b\b\b\b\b\b\b\b\b\b\b\b\b\b\b\b\b\b\b\b\b\b\b\b\b\b\b\b\b\b\b\b\b\b\r",
      "1/1 [==============================] - 0s 93ms/step - loss: 17643.7812 - mape: 58.1017 - mae: 132.3690 - mse: 17643.7812 - val_loss: 20694.7148 - val_mape: 59.9584 - val_mae: 143.7877 - val_mse: 20694.7148\n"
     ]
    },
    {
     "name": "stdout",
     "output_type": "stream",
     "text": [
      "Epoch 94/500\n"
     ]
    },
    {
     "name": "stdout",
     "output_type": "stream",
     "text": [
      "\r",
      "1/1 [==============================] - ETA: 0s - loss: 17657.8535 - mape: 58.1698 - mae: 132.4888 - mse: 17657.8535"
     ]
    },
    {
     "name": "stdout",
     "output_type": "stream",
     "text": [
      "\b\b\b\b\b\b\b\b\b\b\b\b\b\b\b\b\b\b\b\b\b\b\b\b\b\b\b\b\b\b\b\b\b\b\b\b\b\b\b\b\b\b\b\b\b\b\b\b\b\b\b\b\b\b\b\b\b\b\b\b\b\b\b\b\b\b\b\b\b\b\b\b\b\b\b\b\b\b\b\b\b\b\b\b\b\b\b\b\b\b\b\b\b\b\b\b\b\b\b\b\b\b\b\b\b\b\b\b\b\b\b\b\b\b\b\r",
      "1/1 [==============================] - 0s 78ms/step - loss: 17657.8535 - mape: 58.1698 - mae: 132.4888 - mse: 17657.8535 - val_loss: 20466.7188 - val_mape: 59.6267 - val_mae: 142.9927 - val_mse: 20466.7188\n"
     ]
    },
    {
     "name": "stdout",
     "output_type": "stream",
     "text": [
      "Epoch 95/500\n"
     ]
    },
    {
     "name": "stdout",
     "output_type": "stream",
     "text": [
      "\r",
      "1/1 [==============================] - ETA: 0s - loss: 17162.1406 - mape: 57.3343 - mae: 130.5947 - mse: 17162.1406"
     ]
    },
    {
     "name": "stdout",
     "output_type": "stream",
     "text": [
      "\b\b\b\b\b\b\b\b\b\b\b\b\b\b\b\b\b\b\b\b\b\b\b\b\b\b\b\b\b\b\b\b\b\b\b\b\b\b\b\b\b\b\b\b\b\b\b\b\b\b\b\b\b\b\b\b\b\b\b\b\b\b\b\b\b\b\b\b\b\b\b\b\b\b\b\b\b\b\b\b\b\b\b\b\b\b\b\b\b\b\b\b\b\b\b\b\b\b\b\b\b\b\b\b\b\b\b\b\b\b\b\b\b\b\b\r",
      "1/1 [==============================] - 0s 77ms/step - loss: 17162.1406 - mape: 57.3343 - mae: 130.5947 - mse: 17162.1406 - val_loss: 20240.8086 - val_mape: 59.2962 - val_mae: 142.2006 - val_mse: 20240.8086\n"
     ]
    },
    {
     "name": "stdout",
     "output_type": "stream",
     "text": [
      "Epoch 96/500\n"
     ]
    },
    {
     "name": "stdout",
     "output_type": "stream",
     "text": [
      "\r",
      "1/1 [==============================] - ETA: 0s - loss: 17159.3594 - mape: 57.3350 - mae: 130.5922 - mse: 17159.3594"
     ]
    },
    {
     "name": "stdout",
     "output_type": "stream",
     "text": [
      "\b\b\b\b\b\b\b\b\b\b\b\b\b\b\b\b\b\b\b\b\b\b\b\b\b\b\b\b\b\b\b\b\b\b\b\b\b\b\b\b\b\b\b\b\b\b\b\b\b\b\b\b\b\b\b\b\b\b\b\b\b\b\b\b\b\b\b\b\b\b\b\b\b\b\b\b\b\b\b\b\b\b\b\b\b\b\b\b\b\b\b\b\b\b\b\b\b\b\b\b\b\b\b\b\b\b\b\b\b\b\b\b\b\b\b\r",
      "1/1 [==============================] - 0s 78ms/step - loss: 17159.3594 - mape: 57.3350 - mae: 130.5922 - mse: 17159.3594 - val_loss: 20017.0059 - val_mape: 58.9669 - val_mae: 141.4115 - val_mse: 20017.0059\n"
     ]
    },
    {
     "name": "stdout",
     "output_type": "stream",
     "text": [
      "Epoch 97/500\n"
     ]
    },
    {
     "name": "stdout",
     "output_type": "stream",
     "text": [
      "\r",
      "1/1 [==============================] - ETA: 0s - loss: 16769.3223 - mape: 56.6742 - mae: 129.0905 - mse: 16769.3223"
     ]
    },
    {
     "name": "stdout",
     "output_type": "stream",
     "text": [
      "\b\b\b\b\b\b\b\b\b\b\b\b\b\b\b\b\b\b\b\b\b\b\b\b\b\b\b\b\b\b\b\b\b\b\b\b\b\b\b\b\b\b\b\b\b\b\b\b\b\b\b\b\b\b\b\b\b\b\b\b\b\b\b\b\b\b\b\b\b\b\b\b\b\b\b\b\b\b\b\b\b\b\b\b\b\b\b\b\b\b\b\b\b\b\b\b\b\b\b\b\b\b\b\b\b\b\b\b\b\b\b\b\b\b\b\r",
      "1/1 [==============================] - 0s 78ms/step - loss: 16769.3223 - mape: 56.6742 - mae: 129.0905 - mse: 16769.3223 - val_loss: 19795.2500 - val_mape: 58.6389 - val_mae: 140.6252 - val_mse: 19795.2500\n"
     ]
    },
    {
     "name": "stdout",
     "output_type": "stream",
     "text": [
      "Epoch 98/500\n"
     ]
    },
    {
     "name": "stdout",
     "output_type": "stream",
     "text": [
      "\r",
      "1/1 [==============================] - ETA: 0s - loss: 16588.3691 - mape: 56.3268 - mae: 128.3342 - mse: 16588.3691"
     ]
    },
    {
     "name": "stdout",
     "output_type": "stream",
     "text": [
      "\b\b\b\b\b\b\b\b\b\b\b\b\b\b\b\b\b\b\b\b\b\b\b\b\b\b\b\b\b\b\b\b\b\b\b\b\b\b\b\b\b\b\b\b\b\b\b\b\b\b\b\b\b\b\b\b\b\b\b\b\b\b\b\b\b\b\b\b\b\b\b\b\b\b\b\b\b\b\b\b\b\b\b\b\b\b\b\b\b\b\b\b\b\b\b\b\b\b\b\b\b\b\b\b\b\b\b\b\b\b\b\b\b\b\b\r",
      "1/1 [==============================] - 0s 82ms/step - loss: 16588.3691 - mape: 56.3268 - mae: 128.3342 - mse: 16588.3691 - val_loss: 19575.4785 - val_mape: 58.3119 - val_mae: 139.8416 - val_mse: 19575.4785\n"
     ]
    },
    {
     "name": "stdout",
     "output_type": "stream",
     "text": [
      "Epoch 99/500\n"
     ]
    },
    {
     "name": "stdout",
     "output_type": "stream",
     "text": [
      "\r",
      "1/1 [==============================] - ETA: 0s - loss: 16450.6348 - mape: 56.0765 - mae: 127.7709 - mse: 16450.6348"
     ]
    },
    {
     "name": "stdout",
     "output_type": "stream",
     "text": [
      "\b\b\b\b\b\b\b\b\b\b\b\b\b\b\b\b\b\b\b\b\b\b\b\b\b\b\b\b\b\b\b\b\b\b\b\b\b\b\b\b\b\b\b\b\b\b\b\b\b\b\b\b\b\b\b\b\b\b\b\b\b\b\b\b\b\b\b\b\b\b\b\b\b\b\b\b\b\b\b\b\b\b\b\b\b\b\b\b\b\b\b\b\b\b\b\b\b\b\b\b\b\b\b\b\b\b\b\b\b\b\b\b\b\b\b\r",
      "1/1 [==============================] - 0s 78ms/step - loss: 16450.6348 - mape: 56.0765 - mae: 127.7709 - mse: 16450.6348 - val_loss: 19357.7324 - val_mape: 57.9862 - val_mae: 139.0609 - val_mse: 19357.7324\n"
     ]
    },
    {
     "name": "stdout",
     "output_type": "stream",
     "text": [
      "Epoch 100/500\n"
     ]
    },
    {
     "name": "stdout",
     "output_type": "stream",
     "text": [
      "\r",
      "1/1 [==============================] - ETA: 0s - loss: 16238.9385 - mape: 55.7245 - mae: 126.9636 - mse: 16238.9385"
     ]
    },
    {
     "name": "stdout",
     "output_type": "stream",
     "text": [
      "\b\b\b\b\b\b\b\b\b\b\b\b\b\b\b\b\b\b\b\b\b\b\b\b\b\b\b\b\b\b\b\b\b\b\b\b\b\b\b\b\b\b\b\b\b\b\b\b\b\b\b\b\b\b\b\b\b\b\b\b\b\b\b\b\b\b\b\b\b\b\b\b\b\b\b\b\b\b\b\b\b\b\b\b\b\b\b\b\b\b\b\b\b\b\b\b\b\b\b\b\b\b\b\b\b\b\b\b\b\b\b\b\b\b\b\r",
      "1/1 [==============================] - 0s 79ms/step - loss: 16238.9385 - mape: 55.7245 - mae: 126.9636 - mse: 16238.9385 - val_loss: 19142.0098 - val_mape: 57.6616 - val_mae: 138.2831 - val_mse: 19142.0098\n"
     ]
    },
    {
     "name": "stdout",
     "output_type": "stream",
     "text": [
      "Epoch 101/500\n"
     ]
    },
    {
     "name": "stdout",
     "output_type": "stream",
     "text": [
      "\r",
      "1/1 [==============================] - ETA: 0s - loss: 15865.1895 - mape: 55.0529 - mae: 125.4564 - mse: 15865.1895"
     ]
    },
    {
     "name": "stdout",
     "output_type": "stream",
     "text": [
      "\b\b\b\b\b\b\b\b\b\b\b\b\b\b\b\b\b\b\b\b\b\b\b\b\b\b\b\b\b\b\b\b\b\b\b\b\b\b\b\b\b\b\b\b\b\b\b\b\b\b\b\b\b\b\b\b\b\b\b\b\b\b\b\b\b\b\b\b\b\b\b\b\b\b\b\b\b\b\b\b\b\b\b\b\b\b\b\b\b\b\b\b\b\b\b\b\b\b\b\b\b\b\b\b\b\b\b\b\b\b\b\b\b\b\b\r",
      "1/1 [==============================] - 0s 78ms/step - loss: 15865.1895 - mape: 55.0529 - mae: 125.4564 - mse: 15865.1895 - val_loss: 18928.1816 - val_mape: 57.3382 - val_mae: 137.5077 - val_mse: 18928.1816\n"
     ]
    },
    {
     "name": "stdout",
     "output_type": "stream",
     "text": [
      "Epoch 102/500\n"
     ]
    },
    {
     "name": "stdout",
     "output_type": "stream",
     "text": [
      "\r",
      "1/1 [==============================] - ETA: 0s - loss: 15710.9326 - mape: 54.8481 - mae: 124.9396 - mse: 15710.9326"
     ]
    },
    {
     "name": "stdout",
     "output_type": "stream",
     "text": [
      "\b\b\b\b\b\b\b\b\b\b\b\b\b\b\b\b\b\b\b\b\b\b\b\b\b\b\b\b\b\b\b\b\b\b\b\b\b\b\b\b\b\b\b\b\b\b\b\b\b\b\b\b\b\b\b\b\b\b\b\b\b\b\b\b\b\b\b\b\b\b\b\b\b\b\b\b\b\b\b\b\b\b\b\b\b\b\b\b\b\b\b\b\b\b\b\b\b\b\b\b\b\b\b\b\b\b\b\b\b\b\b\b\b\b\b\r",
      "1/1 [==============================] - 0s 90ms/step - loss: 15710.9326 - mape: 54.8481 - mae: 124.9396 - mse: 15710.9326 - val_loss: 18716.3066 - val_mape: 57.0158 - val_mae: 136.7352 - val_mse: 18716.3066\n"
     ]
    },
    {
     "name": "stdout",
     "output_type": "stream",
     "text": [
      "Epoch 103/500\n"
     ]
    },
    {
     "name": "stdout",
     "output_type": "stream",
     "text": [
      "\r",
      "1/1 [==============================] - ETA: 0s - loss: 15678.9697 - mape: 54.7773 - mae: 124.7894 - mse: 15678.9697"
     ]
    },
    {
     "name": "stdout",
     "output_type": "stream",
     "text": [
      "\b\b\b\b\b\b\b\b\b\b\b\b\b\b\b\b\b\b\b\b\b\b\b\b\b\b\b\b\b\b\b\b\b\b\b\b\b\b\b\b\b\b\b\b\b\b\b\b\b\b\b\b\b\b\b\b\b\b\b\b\b\b\b\b\b\b\b\b\b\b\b\b\b\b\b\b\b\b\b\b\b\b\b\b\b\b\b\b\b\b\b\b\b\b\b\b\b\b\b\b\b\b\b\b\b\b\b\b\b\b\b\b\b\b\b\r",
      "1/1 [==============================] - 0s 79ms/step - loss: 15678.9697 - mape: 54.7773 - mae: 124.7894 - mse: 15678.9697 - val_loss: 18506.4316 - val_mape: 56.6947 - val_mae: 135.9655 - val_mse: 18506.4316\n"
     ]
    },
    {
     "name": "stdout",
     "output_type": "stream",
     "text": [
      "Epoch 104/500\n"
     ]
    },
    {
     "name": "stdout",
     "output_type": "stream",
     "text": [
      "\r",
      "1/1 [==============================] - ETA: 0s - loss: 15123.7119 - mape: 53.7687 - mae: 122.5147 - mse: 15123.7119"
     ]
    },
    {
     "name": "stdout",
     "output_type": "stream",
     "text": [
      "\b\b\b\b\b\b\b\b\b\b\b\b\b\b\b\b\b\b\b\b\b\b\b\b\b\b\b\b\b\b\b\b\b\b\b\b\b\b\b\b\b\b\b\b\b\b\b\b\b\b\b\b\b\b\b\b\b\b\b\b\b\b\b\b\b\b\b\b\b\b\b\b\b\b\b\b\b\b\b\b\b\b\b\b\b\b\b\b\b\b\b\b\b\b\b\b\b\b\b\b\b\b\b\b\b\b\b\b\b\b\b\b\b\b\b\r",
      "1/1 [==============================] - 0s 135ms/step - loss: 15123.7119 - mape: 53.7687 - mae: 122.5147 - mse: 15123.7119 - val_loss: 18298.4473 - val_mape: 56.3747 - val_mae: 135.1985 - val_mse: 18298.4473\n"
     ]
    },
    {
     "name": "stdout",
     "output_type": "stream",
     "text": [
      "Epoch 105/500\n"
     ]
    },
    {
     "name": "stdout",
     "output_type": "stream",
     "text": [
      "\r",
      "1/1 [==============================] - ETA: 0s - loss: 15251.4043 - mape: 54.0415 - mae: 123.0995 - mse: 15251.4043"
     ]
    },
    {
     "name": "stdout",
     "output_type": "stream",
     "text": [
      "\b\b\b\b\b\b\b\b\b\b\b\b\b\b\b\b\b\b\b\b\b\b\b\b\b\b\b\b\b\b\b\b\b\b\b\b\b\b\b\b\b\b\b\b\b\b\b\b\b\b\b\b\b\b\b\b\b\b\b\b\b\b\b\b\b\b\b\b\b\b\b\b\b\b\b\b\b\b\b\b\b\b\b\b\b\b\b\b\b\b\b\b\b\b\b\b\b\b\b\b\b\b\b\b\b\b\b\b\b\b\b\b\b\b\b\r",
      "1/1 [==============================] - 0s 81ms/step - loss: 15251.4043 - mape: 54.0415 - mae: 123.0995 - mse: 15251.4043 - val_loss: 18092.3789 - val_mape: 56.0558 - val_mae: 134.4343 - val_mse: 18092.3789\n"
     ]
    },
    {
     "name": "stdout",
     "output_type": "stream",
     "text": [
      "Epoch 106/500\n"
     ]
    },
    {
     "name": "stdout",
     "output_type": "stream",
     "text": [
      "\r",
      "1/1 [==============================] - ETA: 0s - loss: 15043.6318 - mape: 53.6170 - mae: 122.1754 - mse: 15043.6318"
     ]
    },
    {
     "name": "stdout",
     "output_type": "stream",
     "text": [
      "\b\b\b\b\b\b\b\b\b\b\b\b\b\b\b\b\b\b\b\b\b\b\b\b\b\b\b\b\b\b\b\b\b\b\b\b\b\b\b\b\b\b\b\b\b\b\b\b\b\b\b\b\b\b\b\b\b\b\b\b\b\b\b\b\b\b\b\b\b\b\b\b\b\b\b\b\b\b\b\b\b\b\b\b\b\b\b\b\b\b\b\b\b\b\b\b\b\b\b\b\b\b\b\b\b\b\b\b\b\b\b\b\b\b\b\r",
      "1/1 [==============================] - 0s 79ms/step - loss: 15043.6318 - mape: 53.6170 - mae: 122.1754 - mse: 15043.6318 - val_loss: 17888.2656 - val_mape: 55.7382 - val_mae: 133.6730 - val_mse: 17888.2656\n"
     ]
    },
    {
     "name": "stdout",
     "output_type": "stream",
     "text": [
      "Epoch 107/500\n"
     ]
    },
    {
     "name": "stdout",
     "output_type": "stream",
     "text": [
      "\r",
      "1/1 [==============================] - ETA: 0s - loss: 14726.4307 - mape: 53.0528 - mae: 120.8793 - mse: 14726.4307"
     ]
    },
    {
     "name": "stdout",
     "output_type": "stream",
     "text": [
      "\b\b\b\b\b\b\b\b\b\b\b\b\b\b\b\b\b\b\b\b\b\b\b\b\b\b\b\b\b\b\b\b\b\b\b\b\b\b\b\b\b\b\b\b\b\b\b\b\b\b\b\b\b\b\b\b\b\b\b\b\b\b\b\b\b\b\b\b\b\b\b\b\b\b\b\b\b\b\b\b\b\b\b\b\b\b\b\b\b\b\b\b\b\b\b\b\b\b\b\b\b\b\b\b\b\b\b\b\b\b\b\b\b\b\b\r",
      "1/1 [==============================] - 0s 80ms/step - loss: 14726.4307 - mape: 53.0528 - mae: 120.8793 - mse: 14726.4307 - val_loss: 17686.1133 - val_mape: 55.4218 - val_mae: 132.9147 - val_mse: 17686.1133\n"
     ]
    },
    {
     "name": "stdout",
     "output_type": "stream",
     "text": [
      "Epoch 108/500\n"
     ]
    },
    {
     "name": "stdout",
     "output_type": "stream",
     "text": [
      "\r",
      "1/1 [==============================] - ETA: 0s - loss: 14792.1221 - mape: 53.1974 - mae: 121.1980 - mse: 14792.1221"
     ]
    },
    {
     "name": "stdout",
     "output_type": "stream",
     "text": [
      "\b\b\b\b\b\b\b\b\b\b\b\b\b\b\b\b\b\b\b\b\b\b\b\b\b\b\b\b\b\b\b\b\b\b\b\b\b\b\b\b\b\b\b\b\b\b\b\b\b\b\b\b\b\b\b\b\b\b\b\b\b\b\b\b\b\b\b\b\b\b\b\b\b\b\b\b\b\b\b\b\b\b\b\b\b\b\b\b\b\b\b\b\b\b\b\b\b\b\b\b\b\b\b\b\b\b\b\b\b\b\b\b\b\b\b\r",
      "1/1 [==============================] - 0s 96ms/step - loss: 14792.1221 - mape: 53.1974 - mae: 121.1980 - mse: 14792.1221 - val_loss: 17485.7695 - val_mape: 55.1064 - val_mae: 132.1589 - val_mse: 17485.7695\n"
     ]
    },
    {
     "name": "stdout",
     "output_type": "stream",
     "text": [
      "Epoch 109/500\n"
     ]
    },
    {
     "name": "stdout",
     "output_type": "stream",
     "text": [
      "\r",
      "1/1 [==============================] - ETA: 0s - loss: 14440.9600 - mape: 52.5464 - mae: 119.7248 - mse: 14440.9600"
     ]
    },
    {
     "name": "stdout",
     "output_type": "stream",
     "text": [
      "\b\b\b\b\b\b\b\b\b\b\b\b\b\b\b\b\b\b\b\b\b\b\b\b\b\b\b\b\b\b\b\b\b\b\b\b\b\b\b\b\b\b\b\b\b\b\b\b\b\b\b\b\b\b\b\b\b\b\b\b\b\b\b\b\b\b\b\b\b\b\b\b\b\b\b\b\b\b\b\b\b\b\b\b\b\b\b\b\b\b\b\b\b\b\b\b\b\b\b\b\b\b\b\b\b\b\b\b\b\b\b\b\b\b\b\r",
      "1/1 [==============================] - 0s 89ms/step - loss: 14440.9600 - mape: 52.5464 - mae: 119.7248 - mse: 14440.9600 - val_loss: 17287.2637 - val_mape: 54.7922 - val_mae: 131.4057 - val_mse: 17287.2637\n"
     ]
    },
    {
     "name": "stdout",
     "output_type": "stream",
     "text": [
      "Epoch 110/500\n"
     ]
    },
    {
     "name": "stdout",
     "output_type": "stream",
     "text": [
      "\r",
      "1/1 [==============================] - ETA: 0s - loss: 14313.9746 - mape: 52.2394 - mae: 119.0770 - mse: 14313.9746"
     ]
    },
    {
     "name": "stdout",
     "output_type": "stream",
     "text": [
      "\b\b\b\b\b\b\b\b\b\b\b\b\b\b\b\b\b\b\b\b\b\b\b\b\b\b\b\b\b\b\b\b\b\b\b\b\b\b\b\b\b\b\b\b\b\b\b\b\b\b\b\b\b\b\b\b\b\b\b\b\b\b\b\b\b\b\b\b\b\b\b\b\b\b\b\b\b\b\b\b\b\b\b\b\b\b\b\b\b\b\b\b\b\b\b\b\b\b\b\b\b\b\b\b\b\b\b\b\b\b\b\b\b\b\b\r",
      "1/1 [==============================] - 0s 80ms/step - loss: 14313.9746 - mape: 52.2394 - mae: 119.0770 - mse: 14313.9746 - val_loss: 17090.6445 - val_mape: 54.4791 - val_mae: 130.6554 - val_mse: 17090.6445\n"
     ]
    },
    {
     "name": "stdout",
     "output_type": "stream",
     "text": [
      "Epoch 111/500\n"
     ]
    },
    {
     "name": "stdout",
     "output_type": "stream",
     "text": [
      "\r",
      "1/1 [==============================] - ETA: 0s - loss: 14116.4092 - mape: 51.9328 - mae: 118.3400 - mse: 14116.4092"
     ]
    },
    {
     "name": "stdout",
     "output_type": "stream",
     "text": [
      "\b\b\b\b\b\b\b\b\b\b\b\b\b\b\b\b\b\b\b\b\b\b\b\b\b\b\b\b\b\b\b\b\b\b\b\b\b\b\b\b\b\b\b\b\b\b\b\b\b\b\b\b\b\b\b\b\b\b\b\b\b\b\b\b\b\b\b\b\b\b\b\b\b\b\b\b\b\b\b\b\b\b\b\b\b\b\b\b\b\b\b\b\b\b\b\b\b\b\b\b\b\b\b\b\b\b\b\b\b\b\b\b\b\b\b\r",
      "1/1 [==============================] - 0s 78ms/step - loss: 14116.4092 - mape: 51.9328 - mae: 118.3400 - mse: 14116.4092 - val_loss: 16895.9102 - val_mape: 54.1673 - val_mae: 129.9081 - val_mse: 16895.9102\n"
     ]
    },
    {
     "name": "stdout",
     "output_type": "stream",
     "text": [
      "Epoch 112/500\n"
     ]
    },
    {
     "name": "stdout",
     "output_type": "stream",
     "text": [
      "\r",
      "1/1 [==============================] - ETA: 0s - loss: 13987.2012 - mape: 51.7035 - mae: 117.8135 - mse: 13987.2012"
     ]
    },
    {
     "name": "stdout",
     "output_type": "stream",
     "text": [
      "\b\b\b\b\b\b\b\b\b\b\b\b\b\b\b\b\b\b\b\b\b\b\b\b\b\b\b\b\b\b\b\b\b\b\b\b\b\b\b\b\b\b\b\b\b\b\b\b\b\b\b\b\b\b\b\b\b\b\b\b\b\b\b\b\b\b\b\b\b\b\b\b\b\b\b\b\b\b\b\b\b\b\b\b\b\b\b\b\b\b\b\b\b\b\b\b\b\b\b\b\b\b\b\b\b\b\b\b\b\b\b\b\b\b\b\r",
      "1/1 [==============================] - 0s 77ms/step - loss: 13987.2012 - mape: 51.7035 - mae: 117.8135 - mse: 13987.2012 - val_loss: 16703.0723 - val_mape: 53.8568 - val_mae: 129.1637 - val_mse: 16703.0723\n"
     ]
    },
    {
     "name": "stdout",
     "output_type": "stream",
     "text": [
      "Epoch 113/500\n"
     ]
    },
    {
     "name": "stdout",
     "output_type": "stream",
     "text": [
      "\r",
      "1/1 [==============================] - ETA: 0s - loss: 13862.5107 - mape: 51.4679 - mae: 117.2782 - mse: 13862.5107"
     ]
    },
    {
     "name": "stdout",
     "output_type": "stream",
     "text": [
      "\b\b\b\b\b\b\b\b\b\b\b\b\b\b\b\b\b\b\b\b\b\b\b\b\b\b\b\b\b\b\b\b\b\b\b\b\b\b\b\b\b\b\b\b\b\b\b\b\b\b\b\b\b\b\b\b\b\b\b\b\b\b\b\b\b\b\b\b\b\b\b\b\b\b\b\b\b\b\b\b\b\b\b\b\b\b\b\b\b\b\b\b\b\b\b\b\b\b\b\b\b\b\b\b\b\b\b\b\b\b\b\b\b\b\b\r",
      "1/1 [==============================] - 0s 79ms/step - loss: 13862.5107 - mape: 51.4679 - mae: 117.2782 - mse: 13862.5107 - val_loss: 16512.0918 - val_mape: 53.5474 - val_mae: 128.4223 - val_mse: 16512.0918\n"
     ]
    },
    {
     "name": "stdout",
     "output_type": "stream",
     "text": [
      "Epoch 114/500\n"
     ]
    },
    {
     "name": "stdout",
     "output_type": "stream",
     "text": [
      "\r",
      "1/1 [==============================] - ETA: 0s - loss: 13556.9932 - mape: 50.9139 - mae: 116.0034 - mse: 13556.9932"
     ]
    },
    {
     "name": "stdout",
     "output_type": "stream",
     "text": [
      "\b\b\b\b\b\b\b\b\b\b\b\b\b\b\b\b\b\b\b\b\b\b\b\b\b\b\b\b\b\b\b\b\b\b\b\b\b\b\b\b\b\b\b\b\b\b\b\b\b\b\b\b\b\b\b\b\b\b\b\b\b\b\b\b\b\b\b\b\b\b\b\b\b\b\b\b\b\b\b\b\b\b\b\b\b\b\b\b\b\b\b\b\b\b\b\b\b\b\b\b\b\b\b\b\b\b\b\b\b\b\b\b\b\b\b\r",
      "1/1 [==============================] - 0s 82ms/step - loss: 13556.9932 - mape: 50.9139 - mae: 116.0034 - mse: 13556.9932 - val_loss: 16322.9707 - val_mape: 53.2393 - val_mae: 127.6839 - val_mse: 16322.9707\n"
     ]
    },
    {
     "name": "stdout",
     "output_type": "stream",
     "text": [
      "Epoch 115/500\n"
     ]
    },
    {
     "name": "stdout",
     "output_type": "stream",
     "text": [
      "\r",
      "1/1 [==============================] - ETA: 0s - loss: 13281.0176 - mape: 50.3818 - mae: 114.7974 - mse: 13281.0176"
     ]
    },
    {
     "name": "stdout",
     "output_type": "stream",
     "text": [
      "\b\b\b\b\b\b\b\b\b\b\b\b\b\b\b\b\b\b\b\b\b\b\b\b\b\b\b\b\b\b\b\b\b\b\b\b\b\b\b\b\b\b\b\b\b\b\b\b\b\b\b\b\b\b\b\b\b\b\b\b\b\b\b\b\b\b\b\b\b\b\b\b\b\b\b\b\b\b\b\b\b\b\b\b\b\b\b\b\b\b\b\b\b\b\b\b\b\b\b\b\b\b\b\b\b\b\b\b\b\b\b\b\b\b\b\r",
      "1/1 [==============================] - 0s 81ms/step - loss: 13281.0176 - mape: 50.3818 - mae: 114.7974 - mse: 13281.0176 - val_loss: 16135.6270 - val_mape: 52.9323 - val_mae: 126.9481 - val_mse: 16135.6270\n"
     ]
    },
    {
     "name": "stdout",
     "output_type": "stream",
     "text": [
      "Epoch 116/500\n"
     ]
    },
    {
     "name": "stdout",
     "output_type": "stream",
     "text": [
      "\r",
      "1/1 [==============================] - ETA: 0s - loss: 13157.3984 - mape: 50.1518 - mae: 114.2715 - mse: 13157.3984"
     ]
    },
    {
     "name": "stdout",
     "output_type": "stream",
     "text": [
      "\b\b\b\b\b\b\b\b\b\b\b\b\b\b\b\b\b\b\b\b\b\b\b\b\b\b\b\b\b\b\b\b\b\b\b\b\b\b\b\b\b\b\b\b\b\b\b\b\b\b\b\b\b\b\b\b\b\b\b\b\b\b\b\b\b\b\b\b\b\b\b\b\b\b\b\b\b\b\b\b\b\b\b\b\b\b\b\b\b\b\b\b\b\b\b\b\b\b\b\b\b\b\b\b\b\b\b\b\b\b\b\b\b\b\b\r",
      "1/1 [==============================] - 0s 79ms/step - loss: 13157.3984 - mape: 50.1518 - mae: 114.2715 - mse: 13157.3984 - val_loss: 15950.1377 - val_mape: 52.6266 - val_mae: 126.2154 - val_mse: 15950.1377\n"
     ]
    },
    {
     "name": "stdout",
     "output_type": "stream",
     "text": [
      "Epoch 117/500\n"
     ]
    },
    {
     "name": "stdout",
     "output_type": "stream",
     "text": [
      "\r",
      "1/1 [==============================] - ETA: 0s - loss: 13106.7422 - mape: 49.9967 - mae: 113.9631 - mse: 13106.7422"
     ]
    },
    {
     "name": "stdout",
     "output_type": "stream",
     "text": [
      "\b\b\b\b\b\b\b\b\b\b\b\b\b\b\b\b\b\b\b\b\b\b\b\b\b\b\b\b\b\b\b\b\b\b\b\b\b\b\b\b\b\b\b\b\b\b\b\b\b\b\b\b\b\b\b\b\b\b\b\b\b\b\b\b\b\b\b\b\b\b\b\b\b\b\b\b\b\b\b\b\b\b\b\b\b\b\b\b\b\b\b\b\b\b\b\b\b\b\b\b\b\b\b\b\b\b\b\b\b\b\b\b\b\b\b\r",
      "1/1 [==============================] - 0s 79ms/step - loss: 13106.7422 - mape: 49.9967 - mae: 113.9631 - mse: 13106.7422 - val_loss: 15766.4150 - val_mape: 52.3221 - val_mae: 125.4855 - val_mse: 15766.4150\n"
     ]
    },
    {
     "name": "stdout",
     "output_type": "stream",
     "text": [
      "Epoch 118/500\n"
     ]
    },
    {
     "name": "stdout",
     "output_type": "stream",
     "text": [
      "\r",
      "1/1 [==============================] - ETA: 0s - loss: 12972.9551 - mape: 49.7347 - mae: 113.3716 - mse: 12972.9551"
     ]
    },
    {
     "name": "stdout",
     "output_type": "stream",
     "text": [
      "\b\b\b\b\b\b\b\b\b\b\b\b\b\b\b\b\b\b\b\b\b\b\b\b\b\b\b\b\b\b\b\b\b\b\b\b\b\b\b\b\b\b\b\b\b\b\b\b\b\b\b\b\b\b\b\b\b\b\b\b\b\b\b\b\b\b\b\b\b\b\b\b\b\b\b\b\b\b\b\b\b\b\b\b\b\b\b\b\b\b\b\b\b\b\b\b\b\b\b\b\b\b\b\b\b\b\b\b\b\b\b\b\b\b\b\r",
      "1/1 [==============================] - 0s 83ms/step - loss: 12972.9551 - mape: 49.7347 - mae: 113.3716 - mse: 12972.9551 - val_loss: 15584.4707 - val_mape: 52.0187 - val_mae: 124.7584 - val_mse: 15584.4707\n"
     ]
    },
    {
     "name": "stdout",
     "output_type": "stream",
     "text": [
      "Epoch 119/500\n"
     ]
    },
    {
     "name": "stdout",
     "output_type": "stream",
     "text": [
      "\r",
      "1/1 [==============================] - ETA: 0s - loss: 12611.4434 - mape: 49.0386 - mae: 111.7795 - mse: 12611.4434"
     ]
    },
    {
     "name": "stdout",
     "output_type": "stream",
     "text": [
      "\b\b\b\b\b\b\b\b\b\b\b\b\b\b\b\b\b\b\b\b\b\b\b\b\b\b\b\b\b\b\b\b\b\b\b\b\b\b\b\b\b\b\b\b\b\b\b\b\b\b\b\b\b\b\b\b\b\b\b\b\b\b\b\b\b\b\b\b\b\b\b\b\b\b\b\b\b\b\b\b\b\b\b\b\b\b\b\b\b\b\b\b\b\b\b\b\b\b\b\b\b\b\b\b\b\b\b\b\b\b\b\b\b\b\b\r",
      "1/1 [==============================] - 0s 153ms/step - loss: 12611.4434 - mape: 49.0386 - mae: 111.7795 - mse: 12611.4434 - val_loss: 15404.3184 - val_mape: 51.7166 - val_mae: 124.0343 - val_mse: 15404.3184\n"
     ]
    },
    {
     "name": "stdout",
     "output_type": "stream",
     "text": [
      "Epoch 120/500\n"
     ]
    },
    {
     "name": "stdout",
     "output_type": "stream",
     "text": [
      "\r",
      "1/1 [==============================] - ETA: 0s - loss: 12633.2100 - mape: 49.0471 - mae: 111.8209 - mse: 12633.2100"
     ]
    },
    {
     "name": "stdout",
     "output_type": "stream",
     "text": [
      "\b\b\b\b\b\b\b\b\b\b\b\b\b\b\b\b\b\b\b\b\b\b\b\b\b\b\b\b\b\b\b\b\b\b\b\b\b\b\b\b\b\b\b\b\b\b\b\b\b\b\b\b\b\b\b\b\b\b\b\b\b\b\b\b\b\b\b\b\b\b\b\b\b\b\b\b\b\b\b\b\b\b\b\b\b\b\b\b\b\b\b\b\b\b\b\b\b\b\b\b\b\b\b\b\b\b\b\b\b\b\b\b\b\b\b\r",
      "1/1 [==============================] - 0s 88ms/step - loss: 12633.2100 - mape: 49.0471 - mae: 111.8209 - mse: 12633.2100 - val_loss: 15225.9600 - val_mape: 51.4157 - val_mae: 123.3132 - val_mse: 15225.9600\n"
     ]
    },
    {
     "name": "stdout",
     "output_type": "stream",
     "text": [
      "Epoch 121/500\n"
     ]
    },
    {
     "name": "stdout",
     "output_type": "stream",
     "text": [
      "\r",
      "1/1 [==============================] - ETA: 0s - loss: 12330.5225 - mape: 48.4609 - mae: 110.4845 - mse: 12330.5225"
     ]
    },
    {
     "name": "stdout",
     "output_type": "stream",
     "text": [
      "\b\b\b\b\b\b\b\b\b\b\b\b\b\b\b\b\b\b\b\b\b\b\b\b\b\b\b\b\b\b\b\b\b\b\b\b\b\b\b\b\b\b\b\b\b\b\b\b\b\b\b\b\b\b\b\b\b\b\b\b\b\b\b\b\b\b\b\b\b\b\b\b\b\b\b\b\b\b\b\b\b\b\b\b\b\b\b\b\b\b\b\b\b\b\b\b\b\b\b\b\b\b\b\b\b\b\b\b\b\b\b\b\b\b\b\r",
      "1/1 [==============================] - 0s 89ms/step - loss: 12330.5225 - mape: 48.4609 - mae: 110.4845 - mse: 12330.5225 - val_loss: 15049.3193 - val_mape: 51.1160 - val_mae: 122.5949 - val_mse: 15049.3193\n"
     ]
    },
    {
     "name": "stdout",
     "output_type": "stream",
     "text": [
      "Epoch 122/500\n"
     ]
    },
    {
     "name": "stdout",
     "output_type": "stream",
     "text": [
      "\r",
      "1/1 [==============================] - ETA: 0s - loss: 12603.4209 - mape: 49.0326 - mae: 111.7584 - mse: 12603.4209"
     ]
    },
    {
     "name": "stdout",
     "output_type": "stream",
     "text": [
      "\b\b\b\b\b\b\b\b\b\b\b\b\b\b\b\b\b\b\b\b\b\b\b\b\b\b\b\b\b\b\b\b\b\b\b\b\b\b\b\b\b\b\b\b\b\b\b\b\b\b\b\b\b\b\b\b\b\b\b\b\b\b\b\b\b\b\b\b\b\b\b\b\b\b\b\b\b\b\b\b\b\b\b\b\b\b\b\b\b\b\b\b\b\b\b\b\b\b\b\b\b\b\b\b\b\b\b\b\b\b\b\b\b\b\b\r",
      "1/1 [==============================] - 0s 231ms/step - loss: 12603.4209 - mape: 49.0326 - mae: 111.7584 - mse: 12603.4209 - val_loss: 14874.4043 - val_mape: 50.8175 - val_mae: 121.8795 - val_mse: 14874.4043\n"
     ]
    },
    {
     "name": "stdout",
     "output_type": "stream",
     "text": [
      "Epoch 123/500\n"
     ]
    },
    {
     "name": "stdout",
     "output_type": "stream",
     "text": [
      "\r",
      "1/1 [==============================] - ETA: 0s - loss: 12063.4951 - mape: 47.9736 - mae: 109.3440 - mse: 12063.4951"
     ]
    },
    {
     "name": "stdout",
     "output_type": "stream",
     "text": [
      "\b\b\b\b\b\b\b\b\b\b\b\b\b\b\b\b\b\b\b\b\b\b\b\b\b\b\b\b\b\b\b\b\b\b\b\b\b\b\b\b\b\b\b\b\b\b\b\b\b\b\b\b\b\b\b\b\b\b\b\b\b\b\b\b\b\b\b\b\b\b\b\b\b\b\b\b\b\b\b\b\b\b\b\b\b\b\b\b\b\b\b\b\b\b\b\b\b\b\b\b\b\b\b\b\b\b\b\b\b\b\b\b\b\b\b\r",
      "1/1 [==============================] - 0s 75ms/step - loss: 12063.4951 - mape: 47.9736 - mae: 109.3440 - mse: 12063.4951 - val_loss: 14701.2139 - val_mape: 50.5202 - val_mae: 121.1669 - val_mse: 14701.2139\n"
     ]
    },
    {
     "name": "stdout",
     "output_type": "stream",
     "text": [
      "Epoch 124/500\n"
     ]
    },
    {
     "name": "stdout",
     "output_type": "stream",
     "text": [
      "\r",
      "1/1 [==============================] - ETA: 0s - loss: 11807.5391 - mape: 47.4111 - mae: 108.0989 - mse: 11807.5391"
     ]
    },
    {
     "name": "stdout",
     "output_type": "stream",
     "text": [
      "\b\b\b\b\b\b\b\b\b\b\b\b\b\b\b\b\b\b\b\b\b\b\b\b\b\b\b\b\b\b\b\b\b\b\b\b\b\b\b\b\b\b\b\b\b\b\b\b\b\b\b\b\b\b\b\b\b\b\b\b\b\b\b\b\b\b\b\b\b\b\b\b\b\b\b\b\b\b\b\b\b\b\b\b\b\b\b\b\b\b\b\b\b\b\b\b\b\b\b\b\b\b\b\b\b\b\b\b\b\b\b\b\b\b\b\r",
      "1/1 [==============================] - 0s 80ms/step - loss: 11807.5391 - mape: 47.4111 - mae: 108.0989 - mse: 11807.5391 - val_loss: 14529.7041 - val_mape: 50.2240 - val_mae: 120.4570 - val_mse: 14529.7041\n"
     ]
    },
    {
     "name": "stdout",
     "output_type": "stream",
     "text": [
      "Epoch 125/500\n"
     ]
    },
    {
     "name": "stdout",
     "output_type": "stream",
     "text": [
      "\r",
      "1/1 [==============================] - ETA: 0s - loss: 11980.2119 - mape: 47.7806 - mae: 108.9217 - mse: 11980.2119"
     ]
    },
    {
     "name": "stdout",
     "output_type": "stream",
     "text": [
      "\b\b\b\b\b\b\b\b\b\b\b\b\b\b\b\b\b\b\b\b\b\b\b\b\b\b\b\b\b\b\b\b\b\b\b\b\b\b\b\b\b\b\b\b\b\b\b\b\b\b\b\b\b\b\b\b\b\b\b\b\b\b\b\b\b\b\b\b\b\b\b\b\b\b\b\b\b\b\b\b\b\b\b\b\b\b\b\b\b\b\b\b\b\b\b\b\b\b\b\b\b\b\b\b\b\b\b\b\b\b\b\b\b\b\b\r",
      "1/1 [==============================] - 0s 87ms/step - loss: 11980.2119 - mape: 47.7806 - mae: 108.9217 - mse: 11980.2119 - val_loss: 14359.8623 - val_mape: 49.9290 - val_mae: 119.7500 - val_mse: 14359.8623\n"
     ]
    },
    {
     "name": "stdout",
     "output_type": "stream",
     "text": [
      "Epoch 126/500\n"
     ]
    },
    {
     "name": "stdout",
     "output_type": "stream",
     "text": [
      "\r",
      "1/1 [==============================] - ETA: 0s - loss: 11434.8057 - mape: 46.6262 - mae: 106.3286 - mse: 11434.8057"
     ]
    },
    {
     "name": "stdout",
     "output_type": "stream",
     "text": [
      "\b\b\b\b\b\b\b\b\b\b\b\b\b\b\b\b\b\b\b\b\b\b\b\b\b\b\b\b\b\b\b\b\b\b\b\b\b\b\b\b\b\b\b\b\b\b\b\b\b\b\b\b\b\b\b\b\b\b\b\b\b\b\b\b\b\b\b\b\b\b\b\b\b\b\b\b\b\b\b\b\b\b\b\b\b\b\b\b\b\b\b\b\b\b\b\b\b\b\b\b\b\b\b\b\b\b\b\b\b\b\b\b\b\b\b\r",
      "1/1 [==============================] - 0s 82ms/step - loss: 11434.8057 - mape: 46.6262 - mae: 106.3286 - mse: 11434.8057 - val_loss: 14191.7393 - val_mape: 49.6353 - val_mae: 119.0459 - val_mse: 14191.7393\n"
     ]
    },
    {
     "name": "stdout",
     "output_type": "stream",
     "text": [
      "Epoch 127/500\n"
     ]
    },
    {
     "name": "stdout",
     "output_type": "stream",
     "text": [
      "\r",
      "1/1 [==============================] - ETA: 0s - loss: 11522.7363 - mape: 46.8576 - mae: 106.8158 - mse: 11522.7363"
     ]
    },
    {
     "name": "stdout",
     "output_type": "stream",
     "text": [
      "\b\b\b\b\b\b\b\b\b\b\b\b\b\b\b\b\b\b\b\b\b\b\b\b\b\b\b\b\b\b\b\b\b\b\b\b\b\b\b\b\b\b\b\b\b\b\b\b\b\b\b\b\b\b\b\b\b\b\b\b\b\b\b\b\b\b\b\b\b\b\b\b\b\b\b\b\b\b\b\b\b\b\b\b\b\b\b\b\b\b\b\b\b\b\b\b\b\b\b\b\b\b\b\b\b\b\b\b\b\b\b\b\b\b\b\r",
      "1/1 [==============================] - 0s 80ms/step - loss: 11522.7363 - mape: 46.8576 - mae: 106.8158 - mse: 11522.7363 - val_loss: 14025.2578 - val_mape: 49.3427 - val_mae: 118.3447 - val_mse: 14025.2578\n"
     ]
    },
    {
     "name": "stdout",
     "output_type": "stream",
     "text": [
      "Epoch 128/500\n"
     ]
    },
    {
     "name": "stdout",
     "output_type": "stream",
     "text": [
      "\r",
      "1/1 [==============================] - ETA: 0s - loss: 11417.1562 - mape: 46.6268 - mae: 106.3048 - mse: 11417.1562"
     ]
    },
    {
     "name": "stdout",
     "output_type": "stream",
     "text": [
      "\b\b\b\b\b\b\b\b\b\b\b\b\b\b\b\b\b\b\b\b\b\b\b\b\b\b\b\b\b\b\b\b\b\b\b\b\b\b\b\b\b\b\b\b\b\b\b\b\b\b\b\b\b\b\b\b\b\b\b\b\b\b\b\b\b\b\b\b\b\b\b\b\b\b\b\b\b\b\b\b\b\b\b\b\b\b\b\b\b\b\b\b\b\b\b\b\b\b\b\b\b\b\b\b\b\b\b\b\b\b\b\b\b\b\b\r",
      "1/1 [==============================] - 0s 79ms/step - loss: 11417.1562 - mape: 46.6268 - mae: 106.3048 - mse: 11417.1562 - val_loss: 13860.4482 - val_mape: 49.0513 - val_mae: 117.6463 - val_mse: 13860.4482\n"
     ]
    },
    {
     "name": "stdout",
     "output_type": "stream",
     "text": [
      "Epoch 129/500\n"
     ]
    },
    {
     "name": "stdout",
     "output_type": "stream",
     "text": [
      "\r",
      "1/1 [==============================] - ETA: 0s - loss: 11254.6182 - mape: 46.2775 - mae: 105.5172 - mse: 11254.6182"
     ]
    },
    {
     "name": "stdout",
     "output_type": "stream",
     "text": [
      "\b\b\b\b\b\b\b\b\b\b\b\b\b\b\b\b\b\b\b\b\b\b\b\b\b\b\b\b\b\b\b\b\b\b\b\b\b\b\b\b\b\b\b\b\b\b\b\b\b\b\b\b\b\b\b\b\b\b\b\b\b\b\b\b\b\b\b\b\b\b\b\b\b\b\b\b\b\b\b\b\b\b\b\b\b\b\b\b\b\b\b\b\b\b\b\b\b\b\b\b\b\b\b\b\b\b\b\b\b\b\b\b\b\b\b\r",
      "1/1 [==============================] - 0s 75ms/step - loss: 11254.6182 - mape: 46.2775 - mae: 105.5172 - mse: 11254.6182 - val_loss: 13697.2881 - val_mape: 48.7611 - val_mae: 116.9508 - val_mse: 13697.2881\n"
     ]
    },
    {
     "name": "stdout",
     "output_type": "stream",
     "text": [
      "Epoch 130/500\n"
     ]
    },
    {
     "name": "stdout",
     "output_type": "stream",
     "text": [
      "\r",
      "1/1 [==============================] - ETA: 0s - loss: 10836.7637 - mape: 45.4280 - mae: 103.5708 - mse: 10836.7637"
     ]
    },
    {
     "name": "stdout",
     "output_type": "stream",
     "text": [
      "\b\b\b\b\b\b\b\b\b\b\b\b\b\b\b\b\b\b\b\b\b\b\b\b\b\b\b\b\b\b\b\b\b\b\b\b\b\b\b\b\b\b\b\b\b\b\b\b\b\b\b\b\b\b\b\b\b\b\b\b\b\b\b\b\b\b\b\b\b\b\b\b\b\b\b\b\b\b\b\b\b\b\b\b\b\b\b\b\b\b\b\b\b\b\b\b\b\b\b\b\b\b\b\b\b\b\b\b\b\b\b\b\b\b\b\r",
      "1/1 [==============================] - 0s 79ms/step - loss: 10836.7637 - mape: 45.4280 - mae: 103.5708 - mse: 10836.7637 - val_loss: 13535.7998 - val_mape: 48.4722 - val_mae: 116.2583 - val_mse: 13535.7998\n"
     ]
    },
    {
     "name": "stdout",
     "output_type": "stream",
     "text": [
      "Epoch 131/500\n"
     ]
    },
    {
     "name": "stdout",
     "output_type": "stream",
     "text": [
      "\r",
      "1/1 [==============================] - ETA: 0s - loss: 10950.0488 - mape: 45.6118 - mae: 104.0234 - mse: 10950.0488"
     ]
    },
    {
     "name": "stdout",
     "output_type": "stream",
     "text": [
      "\b\b\b\b\b\b\b\b\b\b\b\b\b\b\b\b\b\b\b\b\b\b\b\b\b\b\b\b\b\b\b\b\b\b\b\b\b\b\b\b\b\b\b\b\b\b\b\b\b\b\b\b\b\b\b\b\b\b\b\b\b\b\b\b\b\b\b\b\b\b\b\b\b\b\b\b\b\b\b\b\b\b\b\b\b\b\b\b\b\b\b\b\b\b\b\b\b\b\b\b\b\b\b\b\b\b\b\b\b\b\b\b\b\b\b\r",
      "1/1 [==============================] - 0s 80ms/step - loss: 10950.0488 - mape: 45.6118 - mae: 104.0234 - mse: 10950.0488 - val_loss: 13375.9688 - val_mape: 48.1845 - val_mae: 115.5689 - val_mse: 13375.9688\n"
     ]
    },
    {
     "name": "stdout",
     "output_type": "stream",
     "text": [
      "Epoch 132/500\n"
     ]
    },
    {
     "name": "stdout",
     "output_type": "stream",
     "text": [
      "\r",
      "1/1 [==============================] - ETA: 0s - loss: 10686.4736 - mape: 45.1274 - mae: 102.8738 - mse: 10686.4736"
     ]
    },
    {
     "name": "stdout",
     "output_type": "stream",
     "text": [
      "\b\b\b\b\b\b\b\b\b\b\b\b\b\b\b\b\b\b\b\b\b\b\b\b\b\b\b\b\b\b\b\b\b\b\b\b\b\b\b\b\b\b\b\b\b\b\b\b\b\b\b\b\b\b\b\b\b\b\b\b\b\b\b\b\b\b\b\b\b\b\b\b\b\b\b\b\b\b\b\b\b\b\b\b\b\b\b\b\b\b\b\b\b\b\b\b\b\b\b\b\b\b\b\b\b\b\b\b\b\b\b\b\b\b\b\r",
      "1/1 [==============================] - 0s 77ms/step - loss: 10686.4736 - mape: 45.1274 - mae: 102.8738 - mse: 10686.4736 - val_loss: 13217.7500 - val_mape: 47.8981 - val_mae: 114.8823 - val_mse: 13217.7500\n"
     ]
    },
    {
     "name": "stdout",
     "output_type": "stream",
     "text": [
      "Epoch 133/500\n"
     ]
    },
    {
     "name": "stdout",
     "output_type": "stream",
     "text": [
      "\r",
      "1/1 [==============================] - ETA: 0s - loss: 10607.5479 - mape: 44.9515 - mae: 102.4789 - mse: 10607.5479"
     ]
    },
    {
     "name": "stdout",
     "output_type": "stream",
     "text": [
      "\b\b\b\b\b\b\b\b\b\b\b\b\b\b\b\b\b\b\b\b\b\b\b\b\b\b\b\b\b\b\b\b\b\b\b\b\b\b\b\b\b\b\b\b\b\b\b\b\b\b\b\b\b\b\b\b\b\b\b\b\b\b\b\b\b\b\b\b\b\b\b\b\b\b\b\b\b\b\b\b\b\b\b\b\b\b\b\b\b\b\b\b\b\b\b\b\b\b\b\b\b\b\b\b\b\b\b\b\b\b\b\b\b\b\b\r",
      "1/1 [==============================] - 0s 336ms/step - loss: 10607.5479 - mape: 44.9515 - mae: 102.4789 - mse: 10607.5479 - val_loss: 13061.0889 - val_mape: 47.6127 - val_mae: 114.1984 - val_mse: 13061.0889\n"
     ]
    },
    {
     "name": "stdout",
     "output_type": "stream",
     "text": [
      "Epoch 134/500\n"
     ]
    },
    {
     "name": "stdout",
     "output_type": "stream",
     "text": [
      "\r",
      "1/1 [==============================] - ETA: 0s - loss: 10736.1191 - mape: 45.2218 - mae: 103.0990 - mse: 10736.1191"
     ]
    },
    {
     "name": "stdout",
     "output_type": "stream",
     "text": [
      "\b\b\b\b\b\b\b\b\b\b\b\b\b\b\b\b\b\b\b\b\b\b\b\b\b\b\b\b\b\b\b\b\b\b\b\b\b\b\b\b\b\b\b\b\b\b\b\b\b\b\b\b\b\b\b\b\b\b\b\b\b\b\b\b\b\b\b\b\b\b\b\b\b\b\b\b\b\b\b\b\b\b\b\b\b\b\b\b\b\b\b\b\b\b\b\b\b\b\b\b\b\b\b\b\b\b\b\b\b\b\b\b\b\b\b\r",
      "1/1 [==============================] - 0s 79ms/step - loss: 10736.1191 - mape: 45.2218 - mae: 103.0990 - mse: 10736.1191 - val_loss: 12905.9463 - val_mape: 47.3285 - val_mae: 113.5172 - val_mse: 12905.9463\n"
     ]
    },
    {
     "name": "stdout",
     "output_type": "stream",
     "text": [
      "Epoch 135/500\n"
     ]
    },
    {
     "name": "stdout",
     "output_type": "stream",
     "text": [
      "\r",
      "1/1 [==============================] - ETA: 0s - loss: 10384.4326 - mape: 44.3990 - mae: 101.2691 - mse: 10384.4326"
     ]
    },
    {
     "name": "stdout",
     "output_type": "stream",
     "text": [
      "\b\b\b\b\b\b\b\b\b\b\b\b\b\b\b\b\b\b\b\b\b\b\b\b\b\b\b\b\b\b\b\b\b\b\b\b\b\b\b\b\b\b\b\b\b\b\b\b\b\b\b\b\b\b\b\b\b\b\b\b\b\b\b\b\b\b\b\b\b\b\b\b\b\b\b\b\b\b\b\b\b\b\b\b\b\b\b\b\b\b\b\b\b\b\b\b\b\b\b\b\b\b\b\b\b\b\b\b\b\b\b\b\b\b\b\r",
      "1/1 [==============================] - 0s 88ms/step - loss: 10384.4326 - mape: 44.3990 - mae: 101.2691 - mse: 10384.4326 - val_loss: 12752.3818 - val_mape: 47.0454 - val_mae: 112.8387 - val_mse: 12752.3818\n"
     ]
    },
    {
     "name": "stdout",
     "output_type": "stream",
     "text": [
      "Epoch 136/500\n"
     ]
    },
    {
     "name": "stdout",
     "output_type": "stream",
     "text": [
      "\r",
      "1/1 [==============================] - ETA: 0s - loss: 10038.4434 - mape: 43.7530 - mae: 99.7306 - mse: 10038.4434"
     ]
    },
    {
     "name": "stdout",
     "output_type": "stream",
     "text": [
      "\b\b\b\b\b\b\b\b\b\b\b\b\b\b\b\b\b\b\b\b\b\b\b\b\b\b\b\b\b\b\b\b\b\b\b\b\b\b\b\b\b\b\b\b\b\b\b\b\b\b\b\b\b\b\b\b\b\b\b\b\b\b\b\b\b\b\b\b\b\b\b\b\b\b\b\b\b\b\b\b\b\b\b\b\b\b\b\b\b\b\b\b\b\b\b\b\b\b\b\b\b\b\b\b\b\b\b\b\b\b\b\b\b\b\r",
      "1/1 [==============================] - 0s 82ms/step - loss: 10038.4434 - mape: 43.7530 - mae: 99.7306 - mse: 10038.4434 - val_loss: 12600.4111 - val_mape: 46.7636 - val_mae: 112.1633 - val_mse: 12600.4111\n"
     ]
    },
    {
     "name": "stdout",
     "output_type": "stream",
     "text": [
      "Epoch 137/500\n"
     ]
    },
    {
     "name": "stdout",
     "output_type": "stream",
     "text": [
      "\r",
      "1/1 [==============================] - ETA: 0s - loss: 10117.8213 - mape: 43.8540 - mae: 100.0098 - mse: 10117.8213"
     ]
    },
    {
     "name": "stdout",
     "output_type": "stream",
     "text": [
      "\b\b\b\b\b\b\b\b\b\b\b\b\b\b\b\b\b\b\b\b\b\b\b\b\b\b\b\b\b\b\b\b\b\b\b\b\b\b\b\b\b\b\b\b\b\b\b\b\b\b\b\b\b\b\b\b\b\b\b\b\b\b\b\b\b\b\b\b\b\b\b\b\b\b\b\b\b\b\b\b\b\b\b\b\b\b\b\b\b\b\b\b\b\b\b\b\b\b\b\b\b\b\b\b\b\b\b\b\b\b\b\b\b\b\b\r",
      "1/1 [==============================] - 0s 93ms/step - loss: 10117.8213 - mape: 43.8540 - mae: 100.0098 - mse: 10117.8213 - val_loss: 12450.0049 - val_mape: 46.4830 - val_mae: 111.4908 - val_mse: 12450.0049\n"
     ]
    },
    {
     "name": "stdout",
     "output_type": "stream",
     "text": [
      "Epoch 138/500\n"
     ]
    },
    {
     "name": "stdout",
     "output_type": "stream",
     "text": [
      "\r",
      "1/1 [==============================] - ETA: 0s - loss: 9963.0596 - mape: 43.4950 - mae: 99.2049 - mse: 9963.0596"
     ]
    },
    {
     "name": "stdout",
     "output_type": "stream",
     "text": [
      "\b\b\b\b\b\b\b\b\b\b\b\b\b\b\b\b\b\b\b\b\b\b\b\b\b\b\b\b\b\b\b\b\b\b\b\b\b\b\b\b\b\b\b\b\b\b\b\b\b\b\b\b\b\b\b\b\b\b\b\b\b\b\b\b\b\b\b\b\b\b\b\b\b\b\b\b\b\b\b\b\b\b\b\b\b\b\b\b\b\b\b\b\b\b\b\b\b\b\b\b\b\b\b\b\b\b\b\b\b\b\b\b\r",
      "1/1 [==============================] - 0s 95ms/step - loss: 9963.0596 - mape: 43.4950 - mae: 99.2049 - mse: 9963.0596 - val_loss: 12301.1299 - val_mape: 46.2036 - val_mae: 110.8212 - val_mse: 12301.1299\n"
     ]
    },
    {
     "name": "stdout",
     "output_type": "stream",
     "text": [
      "Epoch 139/500\n"
     ]
    },
    {
     "name": "stdout",
     "output_type": "stream",
     "text": [
      "\r",
      "1/1 [==============================] - ETA: 0s - loss: 10094.5605 - mape: 43.8005 - mae: 99.8897 - mse: 10094.5605"
     ]
    },
    {
     "name": "stdout",
     "output_type": "stream",
     "text": [
      "\b\b\b\b\b\b\b\b\b\b\b\b\b\b\b\b\b\b\b\b\b\b\b\b\b\b\b\b\b\b\b\b\b\b\b\b\b\b\b\b\b\b\b\b\b\b\b\b\b\b\b\b\b\b\b\b\b\b\b\b\b\b\b\b\b\b\b\b\b\b\b\b\b\b\b\b\b\b\b\b\b\b\b\b\b\b\b\b\b\b\b\b\b\b\b\b\b\b\b\b\b\b\b\b\b\b\b\b\b\b\b\b\b\b\r",
      "1/1 [==============================] - 0s 92ms/step - loss: 10094.5605 - mape: 43.8005 - mae: 99.8897 - mse: 10094.5605 - val_loss: 12153.7314 - val_mape: 45.9253 - val_mae: 110.1541 - val_mse: 12153.7314\n"
     ]
    },
    {
     "name": "stdout",
     "output_type": "stream",
     "text": [
      "Epoch 140/500\n"
     ]
    },
    {
     "name": "stdout",
     "output_type": "stream",
     "text": [
      "\r",
      "1/1 [==============================] - ETA: 0s - loss: 9711.5244 - mape: 42.9253 - mae: 97.9168 - mse: 9711.5244"
     ]
    },
    {
     "name": "stdout",
     "output_type": "stream",
     "text": [
      "\b\b\b\b\b\b\b\b\b\b\b\b\b\b\b\b\b\b\b\b\b\b\b\b\b\b\b\b\b\b\b\b\b\b\b\b\b\b\b\b\b\b\b\b\b\b\b\b\b\b\b\b\b\b\b\b\b\b\b\b\b\b\b\b\b\b\b\b\b\b\b\b\b\b\b\b\b\b\b\b\b\b\b\b\b\b\b\b\b\b\b\b\b\b\b\b\b\b\b\b\b\b\b\b\b\b\b\b\b\b\b\b\r",
      "1/1 [==============================] - 0s 91ms/step - loss: 9711.5244 - mape: 42.9253 - mae: 97.9168 - mse: 9711.5244 - val_loss: 12007.8682 - val_mape: 45.6482 - val_mae: 109.4900 - val_mse: 12007.8682\n"
     ]
    },
    {
     "name": "stdout",
     "output_type": "stream",
     "text": [
      "Epoch 141/500\n"
     ]
    },
    {
     "name": "stdout",
     "output_type": "stream",
     "text": [
      "\r",
      "1/1 [==============================] - ETA: 0s - loss: 9446.7314 - mape: 42.3027 - mae: 96.5153 - mse: 9446.7314"
     ]
    },
    {
     "name": "stdout",
     "output_type": "stream",
     "text": [
      "\b\b\b\b\b\b\b\b\b\b\b\b\b\b\b\b\b\b\b\b\b\b\b\b\b\b\b\b\b\b\b\b\b\b\b\b\b\b\b\b\b\b\b\b\b\b\b\b\b\b\b\b\b\b\b\b\b\b\b\b\b\b\b\b\b\b\b\b\b\b\b\b\b\b\b\b\b\b\b\b\b\b\b\b\b\b\b\b\b\b\b\b\b\b\b\b\b\b\b\b\b\b\b\b\b\b\b\b\b\b\b\b\r",
      "1/1 [==============================] - 0s 94ms/step - loss: 9446.7314 - mape: 42.3027 - mae: 96.5153 - mse: 9446.7314 - val_loss: 11863.5674 - val_mape: 45.3725 - val_mae: 108.8291 - val_mse: 11863.5674\n"
     ]
    },
    {
     "name": "stdout",
     "output_type": "stream",
     "text": [
      "Epoch 142/500\n"
     ]
    },
    {
     "name": "stdout",
     "output_type": "stream",
     "text": [
      "\r",
      "1/1 [==============================] - ETA: 0s - loss: 9442.9951 - mape: 42.4022 - mae: 96.6748 - mse: 9442.9951"
     ]
    },
    {
     "name": "stdout",
     "output_type": "stream",
     "text": [
      "\b\b\b\b\b\b\b\b\b\b\b\b\b\b\b\b\b\b\b\b\b\b\b\b\b\b\b\b\b\b\b\b\b\b\b\b\b\b\b\b\b\b\b\b\b\b\b\b\b\b\b\b\b\b\b\b\b\b\b\b\b\b\b\b\b\b\b\b\b\b\b\b\b\b\b\b\b\b\b\b\b\b\b\b\b\b\b\b\b\b\b\b\b\b\b\b\b\b\b\b\b\b\b\b\b\b\b\b\b\b\b\b\r",
      "1/1 [==============================] - 0s 108ms/step - loss: 9442.9951 - mape: 42.4022 - mae: 96.6748 - mse: 9442.9951 - val_loss: 11720.7656 - val_mape: 45.0979 - val_mae: 108.1710 - val_mse: 11720.7656\n"
     ]
    },
    {
     "name": "stdout",
     "output_type": "stream",
     "text": [
      "Epoch 143/500\n"
     ]
    },
    {
     "name": "stdout",
     "output_type": "stream",
     "text": [
      "\r",
      "1/1 [==============================] - ETA: 0s - loss: 9451.3350 - mape: 42.4103 - mae: 96.7034 - mse: 9451.3350"
     ]
    },
    {
     "name": "stdout",
     "output_type": "stream",
     "text": [
      "\b\b\b\b\b\b\b\b\b\b\b\b\b\b\b\b\b\b\b\b\b\b\b\b\b\b\b\b\b\b\b\b\b\b\b\b\b\b\b\b\b\b\b\b\b\b\b\b\b\b\b\b\b\b\b\b\b\b\b\b\b\b\b\b\b\b\b\b\b\b\b\b\b\b\b\b\b\b\b\b\b\b\b\b\b\b\b\b\b\b\b\b\b\b\b\b\b\b\b\b\b\b\b\b\b\b\b\b\b\b\b\b\r",
      "1/1 [==============================] - 0s 93ms/step - loss: 9451.3350 - mape: 42.4103 - mae: 96.7034 - mse: 9451.3350 - val_loss: 11579.4189 - val_mape: 44.8245 - val_mae: 107.5157 - val_mse: 11579.4189\n"
     ]
    },
    {
     "name": "stdout",
     "output_type": "stream",
     "text": [
      "Epoch 144/500\n"
     ]
    },
    {
     "name": "stdout",
     "output_type": "stream",
     "text": [
      "\r",
      "1/1 [==============================] - ETA: 0s - loss: 9304.4043 - mape: 41.9412 - mae: 95.7138 - mse: 9304.4043"
     ]
    },
    {
     "name": "stdout",
     "output_type": "stream",
     "text": [
      "\b\b\b\b\b\b\b\b\b\b\b\b\b\b\b\b\b\b\b\b\b\b\b\b\b\b\b\b\b\b\b\b\b\b\b\b\b\b\b\b\b\b\b\b\b\b\b\b\b\b\b\b\b\b\b\b\b\b\b\b\b\b\b\b\b\b\b\b\b\b\b\b\b\b\b\b\b\b\b\b\b\b\b\b\b\b\b\b\b\b\b\b\b\b\b\b\b\b\b\b\b\b\b\b\b\b\b\b\b\b\b\b\r",
      "1/1 [==============================] - 0s 207ms/step - loss: 9304.4043 - mape: 41.9412 - mae: 95.7138 - mse: 9304.4043 - val_loss: 11439.5234 - val_mape: 44.5522 - val_mae: 106.8631 - val_mse: 11439.5234\n"
     ]
    },
    {
     "name": "stdout",
     "output_type": "stream",
     "text": [
      "Epoch 145/500\n"
     ]
    },
    {
     "name": "stdout",
     "output_type": "stream",
     "text": [
      "\r",
      "1/1 [==============================] - ETA: 0s - loss: 9128.6104 - mape: 41.5497 - mae: 94.8182 - mse: 9128.6104"
     ]
    },
    {
     "name": "stdout",
     "output_type": "stream",
     "text": [
      "\b\b\b\b\b\b\b\b\b\b\b\b\b\b\b\b\b\b\b\b\b\b\b\b\b\b\b\b\b\b\b\b\b\b\b\b\b\b\b\b\b\b\b\b\b\b\b\b\b\b\b\b\b\b\b\b\b\b\b\b\b\b\b\b\b\b\b\b\b\b\b\b\b\b\b\b\b\b\b\b\b\b\b\b\b\b\b\b\b\b\b\b\b\b\b\b\b\b\b\b\b\b\b\b\b\b\b\b\b\b\b\b\r",
      "1/1 [==============================] - 0s 89ms/step - loss: 9128.6104 - mape: 41.5497 - mae: 94.8182 - mse: 9128.6104 - val_loss: 11301.0811 - val_mape: 44.2811 - val_mae: 106.2134 - val_mse: 11301.0811\n"
     ]
    },
    {
     "name": "stdout",
     "output_type": "stream",
     "text": [
      "Epoch 146/500\n"
     ]
    },
    {
     "name": "stdout",
     "output_type": "stream",
     "text": [
      "\r",
      "1/1 [==============================] - ETA: 0s - loss: 8738.5840 - mape: 40.7508 - mae: 92.9299 - mse: 8738.5840"
     ]
    },
    {
     "name": "stdout",
     "output_type": "stream",
     "text": [
      "\b\b\b\b\b\b\b\b\b\b\b\b\b\b\b\b\b\b\b\b\b\b\b\b\b\b\b\b\b\b\b\b\b\b\b\b\b\b\b\b\b\b\b\b\b\b\b\b\b\b\b\b\b\b\b\b\b\b\b\b\b\b\b\b\b\b\b\b\b\b\b\b\b\b\b\b\b\b\b\b\b\b\b\b\b\b\b\b\b\b\b\b\b\b\b\b\b\b\b\b\b\b\b\b\b\b\b\b\b\b\b\b\r",
      "1/1 [==============================] - 0s 79ms/step - loss: 8738.5840 - mape: 40.7508 - mae: 92.9299 - mse: 8738.5840 - val_loss: 11164.1494 - val_mape: 44.0113 - val_mae: 105.5668 - val_mse: 11164.1494\n"
     ]
    },
    {
     "name": "stdout",
     "output_type": "stream",
     "text": [
      "Epoch 147/500\n"
     ]
    },
    {
     "name": "stdout",
     "output_type": "stream",
     "text": [
      "\r",
      "1/1 [==============================] - ETA: 0s - loss: 8744.0186 - mape: 40.7190 - mae: 92.8903 - mse: 8744.0186"
     ]
    },
    {
     "name": "stdout",
     "output_type": "stream",
     "text": [
      "\b\b\b\b\b\b\b\b\b\b\b\b\b\b\b\b\b\b\b\b\b\b\b\b\b\b\b\b\b\b\b\b\b\b\b\b\b\b\b\b\b\b\b\b\b\b\b\b\b\b\b\b\b\b\b\b\b\b\b\b\b\b\b\b\b\b\b\b\b\b\b\b\b\b\b\b\b\b\b\b\b\b\b\b\b\b\b\b\b\b\b\b\b\b\b\b\b\b\b\b\b\b\b\b\b\b\b\b\b\b\b\b\r",
      "1/1 [==============================] - 0s 92ms/step - loss: 8744.0186 - mape: 40.7190 - mae: 92.8903 - mse: 8744.0186 - val_loss: 11028.6543 - val_mape: 43.7428 - val_mae: 104.9231 - val_mse: 11028.6543\n"
     ]
    },
    {
     "name": "stdout",
     "output_type": "stream",
     "text": [
      "Epoch 148/500\n"
     ]
    },
    {
     "name": "stdout",
     "output_type": "stream",
     "text": [
      "\r",
      "1/1 [==============================] - ETA: 0s - loss: 8739.3066 - mape: 40.6442 - mae: 92.7593 - mse: 8739.3066"
     ]
    },
    {
     "name": "stdout",
     "output_type": "stream",
     "text": [
      "\b\b\b\b\b\b\b\b\b\b\b\b\b\b\b\b\b\b\b\b\b\b\b\b\b\b\b\b\b\b\b\b\b\b\b\b\b\b\b\b\b\b\b\b\b\b\b\b\b\b\b\b\b\b\b\b\b\b\b\b\b\b\b\b\b\b\b\b\b\b\b\b\b\b\b\b\b\b\b\b\b\b\b\b\b\b\b\b\b\b\b\b\b\b\b\b\b\b\b\b\b\b\b\b\b\b\b\b\b\b\b\b\r",
      "1/1 [==============================] - 0s 91ms/step - loss: 8739.3066 - mape: 40.6442 - mae: 92.7593 - mse: 8739.3066 - val_loss: 10894.5801 - val_mape: 43.4754 - val_mae: 104.2822 - val_mse: 10894.5801\n"
     ]
    },
    {
     "name": "stdout",
     "output_type": "stream",
     "text": [
      "Epoch 149/500\n"
     ]
    },
    {
     "name": "stdout",
     "output_type": "stream",
     "text": [
      "\r",
      "1/1 [==============================] - ETA: 0s - loss: 8578.0195 - mape: 40.3665 - mae: 92.0626 - mse: 8578.0195"
     ]
    },
    {
     "name": "stdout",
     "output_type": "stream",
     "text": [
      "\b\b\b\b\b\b\b\b\b\b\b\b\b\b\b\b\b\b\b\b\b\b\b\b\b\b\b\b\b\b\b\b\b\b\b\b\b\b\b\b\b\b\b\b\b\b\b\b\b\b\b\b\b\b\b\b\b\b\b\b\b\b\b\b\b\b\b\b\b\b\b\b\b\b\b\b\b\b\b\b\b\b\b\b\b\b\b\b\b\b\b\b\b\b\b\b\b\b\b\b\b\b\b\b\b\b\b\b\b\b\b\b\r",
      "1/1 [==============================] - 0s 83ms/step - loss: 8578.0195 - mape: 40.3665 - mae: 92.0626 - mse: 8578.0195 - val_loss: 10761.9170 - val_mape: 43.2091 - val_mae: 103.6442 - val_mse: 10761.9170\n"
     ]
    },
    {
     "name": "stdout",
     "output_type": "stream",
     "text": [
      "Epoch 150/500\n"
     ]
    },
    {
     "name": "stdout",
     "output_type": "stream",
     "text": [
      "\r",
      "1/1 [==============================] - ETA: 0s - loss: 8554.3174 - mape: 40.3355 - mae: 91.9725 - mse: 8554.3174"
     ]
    },
    {
     "name": "stdout",
     "output_type": "stream",
     "text": [
      "\b\b\b\b\b\b\b\b\b\b\b\b\b\b\b\b\b\b\b\b\b\b\b\b\b\b\b\b\b\b\b\b\b\b\b\b\b\b\b\b\b\b\b\b\b\b\b\b\b\b\b\b\b\b\b\b\b\b\b\b\b\b\b\b\b\b\b\b\b\b\b\b\b\b\b\b\b\b\b\b\b\b\b\b\b\b\b\b\b\b\b\b\b\b\b\b\b\b\b\b\b\b\b\b\b\b\b\b\b\b\b\b\r",
      "1/1 [==============================] - 0s 79ms/step - loss: 8554.3174 - mape: 40.3355 - mae: 91.9725 - mse: 8554.3174 - val_loss: 10630.6025 - val_mape: 42.9440 - val_mae: 103.0087 - val_mse: 10630.6025\n"
     ]
    },
    {
     "name": "stdout",
     "output_type": "stream",
     "text": [
      "Epoch 151/500\n"
     ]
    },
    {
     "name": "stdout",
     "output_type": "stream",
     "text": [
      "\r",
      "1/1 [==============================] - ETA: 0s - loss: 8240.8184 - mape: 39.4588 - mae: 90.0608 - mse: 8240.8184"
     ]
    },
    {
     "name": "stdout",
     "output_type": "stream",
     "text": [
      "\b\b\b\b\b\b\b\b\b\b\b\b\b\b\b\b\b\b\b\b\b\b\b\b\b\b\b\b\b\b\b\b\b\b\b\b\b\b\b\b\b\b\b\b\b\b\b\b\b\b\b\b\b\b\b\b\b\b\b\b\b\b\b\b\b\b\b\b\b\b\b\b\b\b\b\b\b\b\b\b\b\b\b\b\b\b\b\b\b\b\b\b\b\b\b\b\b\b\b\b\b\b\b\b\b\b\b\b\b\b\b\b\r",
      "1/1 [==============================] - 0s 94ms/step - loss: 8240.8184 - mape: 39.4588 - mae: 90.0608 - mse: 8240.8184 - val_loss: 10500.7500 - val_mape: 42.6802 - val_mae: 102.3765 - val_mse: 10500.7500\n"
     ]
    },
    {
     "name": "stdout",
     "output_type": "stream",
     "text": [
      "Epoch 152/500\n"
     ]
    },
    {
     "name": "stdout",
     "output_type": "stream",
     "text": [
      "\r",
      "1/1 [==============================] - ETA: 0s - loss: 8195.8145 - mape: 39.3573 - mae: 89.8220 - mse: 8195.8145"
     ]
    },
    {
     "name": "stdout",
     "output_type": "stream",
     "text": [
      "\b\b\b\b\b\b\b\b\b\b\b\b\b\b\b\b\b\b\b\b\b\b\b\b\b\b\b\b\b\b\b\b\b\b\b\b\b\b\b\b\b\b\b\b\b\b\b\b\b\b\b\b\b\b\b\b\b\b\b\b\b\b\b\b\b\b\b\b\b\b\b\b\b\b\b\b\b\b\b\b\b\b\b\b\b\b\b\b\b\b\b\b\b\b\b\b\b\b\b\b\b\b\b\b\b\b\b\b\b\b\b\b\r",
      "1/1 [==============================] - 0s 80ms/step - loss: 8195.8145 - mape: 39.3573 - mae: 89.8220 - mse: 8195.8145 - val_loss: 10372.2900 - val_mape: 42.4177 - val_mae: 101.7472 - val_mse: 10372.2900\n"
     ]
    },
    {
     "name": "stdout",
     "output_type": "stream",
     "text": [
      "Epoch 153/500\n"
     ]
    },
    {
     "name": "stdout",
     "output_type": "stream",
     "text": [
      "\r",
      "1/1 [==============================] - ETA: 0s - loss: 8033.2612 - mape: 39.0079 - mae: 88.9983 - mse: 8033.2612"
     ]
    },
    {
     "name": "stdout",
     "output_type": "stream",
     "text": [
      "\b\b\b\b\b\b\b\b\b\b\b\b\b\b\b\b\b\b\b\b\b\b\b\b\b\b\b\b\b\b\b\b\b\b\b\b\b\b\b\b\b\b\b\b\b\b\b\b\b\b\b\b\b\b\b\b\b\b\b\b\b\b\b\b\b\b\b\b\b\b\b\b\b\b\b\b\b\b\b\b\b\b\b\b\b\b\b\b\b\b\b\b\b\b\b\b\b\b\b\b\b\b\b\b\b\b\b\b\b\b\b\b\r",
      "1/1 [==============================] - 0s 101ms/step - loss: 8033.2612 - mape: 39.0079 - mae: 88.9983 - mse: 8033.2612 - val_loss: 10245.2080 - val_mape: 42.1563 - val_mae: 101.1207 - val_mse: 10245.2080\n"
     ]
    },
    {
     "name": "stdout",
     "output_type": "stream",
     "text": [
      "Epoch 154/500\n"
     ]
    },
    {
     "name": "stdout",
     "output_type": "stream",
     "text": [
      "\r",
      "1/1 [==============================] - ETA: 0s - loss: 7921.4873 - mape: 38.7482 - mae: 88.3933 - mse: 7921.4873"
     ]
    },
    {
     "name": "stdout",
     "output_type": "stream",
     "text": [
      "\b\b\b\b\b\b\b\b\b\b\b\b\b\b\b\b\b\b\b\b\b\b\b\b\b\b\b\b\b\b\b\b\b\b\b\b\b\b\b\b\b\b\b\b\b\b\b\b\b\b\b\b\b\b\b\b\b\b\b\b\b\b\b\b\b\b\b\b\b\b\b\b\b\b\b\b\b\b\b\b\b\b\b\b\b\b\b\b\b\b\b\b\b\b\b\b\b\b\b\b\b\b\b\b\b\b\b\b\b\b\b\b\r",
      "1/1 [==============================] - 0s 87ms/step - loss: 7921.4873 - mape: 38.7482 - mae: 88.3933 - mse: 7921.4873 - val_loss: 10119.5127 - val_mape: 41.8962 - val_mae: 100.4973 - val_mse: 10119.5127\n"
     ]
    },
    {
     "name": "stdout",
     "output_type": "stream",
     "text": [
      "Epoch 155/500\n"
     ]
    },
    {
     "name": "stdout",
     "output_type": "stream",
     "text": [
      "\r",
      "1/1 [==============================] - ETA: 0s - loss: 7867.6680 - mape: 38.5864 - mae: 88.0466 - mse: 7867.6680"
     ]
    },
    {
     "name": "stdout",
     "output_type": "stream",
     "text": [
      "\b\b\b\b\b\b\b\b\b\b\b\b\b\b\b\b\b\b\b\b\b\b\b\b\b\b\b\b\b\b\b\b\b\b\b\b\b\b\b\b\b\b\b\b\b\b\b\b\b\b\b\b\b\b\b\b\b\b\b\b\b\b\b\b\b\b\b\b\b\b\b\b\b\b\b\b\b\b\b\b\b\b\b\b\b\b\b\b\b\b\b\b\b\b\b\b\b\b\b\b\b\b\b\b\b\b\b\b\b\b\b\b\r",
      "1/1 [==============================] - 0s 77ms/step - loss: 7867.6680 - mape: 38.5864 - mae: 88.0466 - mse: 7867.6680 - val_loss: 9995.1621 - val_mape: 41.6372 - val_mae: 99.8767 - val_mse: 9995.1621\n"
     ]
    },
    {
     "name": "stdout",
     "output_type": "stream",
     "text": [
      "Epoch 156/500\n"
     ]
    },
    {
     "name": "stdout",
     "output_type": "stream",
     "text": [
      "\r",
      "1/1 [==============================] - ETA: 0s - loss: 7737.4956 - mape: 38.2059 - mae: 87.2147 - mse: 7737.4956"
     ]
    },
    {
     "name": "stdout",
     "output_type": "stream",
     "text": [
      "\b\b\b\b\b\b\b\b\b\b\b\b\b\b\b\b\b\b\b\b\b\b\b\b\b\b\b\b\b\b\b\b\b\b\b\b\b\b\b\b\b\b\b\b\b\b\b\b\b\b\b\b\b\b\b\b\b\b\b\b\b\b\b\b\b\b\b\b\b\b\b\b\b\b\b\b\b\b\b\b\b\b\b\b\b\b\b\b\b\b\b\b\b\b\b\b\b\b\b\b\b\b\b\b\b\b\b\b\b\b\b\b\r",
      "1/1 [==============================] - 0s 81ms/step - loss: 7737.4956 - mape: 38.2059 - mae: 87.2147 - mse: 7737.4956 - val_loss: 9872.1611 - val_mape: 41.3795 - val_mae: 99.2590 - val_mse: 9872.1611\n"
     ]
    },
    {
     "name": "stdout",
     "output_type": "stream",
     "text": [
      "Epoch 157/500\n"
     ]
    },
    {
     "name": "stdout",
     "output_type": "stream",
     "text": [
      "\r",
      "1/1 [==============================] - ETA: 0s - loss: 7493.8413 - mape: 37.6349 - mae: 85.8897 - mse: 7493.8413"
     ]
    },
    {
     "name": "stdout",
     "output_type": "stream",
     "text": [
      "\b\b\b\b\b\b\b\b\b\b\b\b\b\b\b\b\b\b\b\b\b\b\b\b\b\b\b\b\b\b\b\b\b\b\b\b\b\b\b\b\b\b\b\b\b\b\b\b\b\b\b\b\b\b\b\b\b\b\b\b\b\b\b\b\b\b\b\b\b\b\b\b\b\b\b\b\b\b\b\b\b\b\b\b\b\b\b\b\b\b\b\b\b\b\b\b\b\b\b\b\b\b\b\b\b\b\b\b\b\b\b\b\r",
      "1/1 [==============================] - 0s 89ms/step - loss: 7493.8413 - mape: 37.6349 - mae: 85.8897 - mse: 7493.8413 - val_loss: 9750.5283 - val_mape: 41.1231 - val_mae: 98.6444 - val_mse: 9750.5283\n"
     ]
    },
    {
     "name": "stdout",
     "output_type": "stream",
     "text": [
      "Epoch 158/500\n"
     ]
    },
    {
     "name": "stdout",
     "output_type": "stream",
     "text": [
      "\r",
      "1/1 [==============================] - ETA: 0s - loss: 7533.2866 - mape: 37.6890 - mae: 86.0394 - mse: 7533.2866"
     ]
    },
    {
     "name": "stdout",
     "output_type": "stream",
     "text": [
      "\b\b\b\b\b\b\b\b\b\b\b\b\b\b\b\b\b\b\b\b\b\b\b\b\b\b\b\b\b\b\b\b\b\b\b\b\b\b\b\b\b\b\b\b\b\b\b\b\b\b\b\b\b\b\b\b\b\b\b\b\b\b\b\b\b\b\b\b\b\b\b\b\b\b\b\b\b\b\b\b\b\b\b\b\b\b\b\b\b\b\b\b\b\b\b\b\b\b\b\b\b\b\b\b\b\b\b\b\b\b\b\b\r",
      "1/1 [==============================] - 0s 223ms/step - loss: 7533.2866 - mape: 37.6890 - mae: 86.0394 - mse: 7533.2866 - val_loss: 9630.2119 - val_mape: 40.8679 - val_mae: 98.0327 - val_mse: 9630.2119\n"
     ]
    },
    {
     "name": "stdout",
     "output_type": "stream",
     "text": [
      "Epoch 159/500\n"
     ]
    },
    {
     "name": "stdout",
     "output_type": "stream",
     "text": [
      "\r",
      "1/1 [==============================] - ETA: 0s - loss: 7469.5615 - mape: 37.5833 - mae: 85.7695 - mse: 7469.5615"
     ]
    },
    {
     "name": "stdout",
     "output_type": "stream",
     "text": [
      "\b\b\b\b\b\b\b\b\b\b\b\b\b\b\b\b\b\b\b\b\b\b\b\b\b\b\b\b\b\b\b\b\b\b\b\b\b\b\b\b\b\b\b\b\b\b\b\b\b\b\b\b\b\b\b\b\b\b\b\b\b\b\b\b\b\b\b\b\b\b\b\b\b\b\b\b\b\b\b\b\b\b\b\b\b\b\b\b\b\b\b\b\b\b\b\b\b\b\b\b\b\b\b\b\b\b\b\b\b\b\b\b\r",
      "1/1 [==============================] - 0s 105ms/step - loss: 7469.5615 - mape: 37.5833 - mae: 85.7695 - mse: 7469.5615 - val_loss: 9511.1787 - val_mape: 40.6138 - val_mae: 97.4237 - val_mse: 9511.1787\n"
     ]
    },
    {
     "name": "stdout",
     "output_type": "stream",
     "text": [
      "Epoch 160/500\n"
     ]
    },
    {
     "name": "stdout",
     "output_type": "stream",
     "text": [
      "\r",
      "1/1 [==============================] - ETA: 0s - loss: 7447.1553 - mape: 37.5146 - mae: 85.6143 - mse: 7447.1553"
     ]
    },
    {
     "name": "stdout",
     "output_type": "stream",
     "text": [
      "\b\b\b\b\b\b\b\b\b\b\b\b\b\b\b\b\b\b\b\b\b\b\b\b\b\b\b\b\b\b\b\b\b\b\b\b\b\b\b\b\b\b\b\b\b\b\b\b\b\b\b\b\b\b\b\b\b\b\b\b\b\b\b\b\b\b\b\b\b\b\b\b\b\b\b\b\b\b\b\b\b\b\b\b\b\b\b\b\b\b\b\b\b\b\b\b\b\b\b\b\b\b\b\b\b\b\b\b\b\b\b\b\r",
      "1/1 [==============================] - 0s 89ms/step - loss: 7447.1553 - mape: 37.5146 - mae: 85.6143 - mse: 7447.1553 - val_loss: 9393.3926 - val_mape: 40.3608 - val_mae: 96.8173 - val_mse: 9393.3926\n"
     ]
    },
    {
     "name": "stdout",
     "output_type": "stream",
     "text": [
      "Epoch 161/500\n"
     ]
    },
    {
     "name": "stdout",
     "output_type": "stream",
     "text": [
      "\r",
      "1/1 [==============================] - ETA: 0s - loss: 6983.0103 - mape: 36.3017 - mae: 82.8639 - mse: 6983.0103"
     ]
    },
    {
     "name": "stdout",
     "output_type": "stream",
     "text": [
      "\b\b\b\b\b\b\b\b\b\b\b\b\b\b\b\b\b\b\b\b\b\b\b\b\b\b\b\b\b\b\b\b\b\b\b\b\b\b\b\b\b\b\b\b\b\b\b\b\b\b\b\b\b\b\b\b\b\b\b\b\b\b\b\b\b\b\b\b\b\b\b\b\b\b\b\b\b\b\b\b\b\b\b\b\b\b\b\b\b\b\b\b\b\b\b\b\b\b\b\b\b\b\b\b\b\b\b\b\b\b\b\b\r",
      "1/1 [==============================] - 0s 80ms/step - loss: 6983.0103 - mape: 36.3017 - mae: 82.8639 - mse: 6983.0103 - val_loss: 9276.9951 - val_mape: 40.1092 - val_mae: 96.2143 - val_mse: 9276.9951\n"
     ]
    },
    {
     "name": "stdout",
     "output_type": "stream",
     "text": [
      "Epoch 162/500\n"
     ]
    },
    {
     "name": "stdout",
     "output_type": "stream",
     "text": [
      "\r",
      "1/1 [==============================] - ETA: 0s - loss: 7336.3003 - mape: 37.2195 - mae: 84.9543 - mse: 7336.3003"
     ]
    },
    {
     "name": "stdout",
     "output_type": "stream",
     "text": [
      "\b\b\b\b\b\b\b\b\b\b\b\b\b\b\b\b\b\b\b\b\b\b\b\b\b\b\b\b\b\b\b\b\b\b\b\b\b\b\b\b\b\b\b\b\b\b\b\b\b\b\b\b\b\b\b\b\b\b\b\b\b\b\b\b\b\b\b\b\b\b\b\b\b\b\b\b\b\b\b\b\b\b\b\b\b\b\b\b\b\b\b\b\b\b\b\b\b\b\b\b\b\b\b\b\b\b\b\b\b\b\b\b\r",
      "1/1 [==============================] - 0s 85ms/step - loss: 7336.3003 - mape: 37.2195 - mae: 84.9543 - mse: 7336.3003 - val_loss: 9161.7930 - val_mape: 39.8586 - val_mae: 95.6138 - val_mse: 9161.7930\n"
     ]
    },
    {
     "name": "stdout",
     "output_type": "stream",
     "text": [
      "Epoch 163/500\n"
     ]
    },
    {
     "name": "stdout",
     "output_type": "stream",
     "text": [
      "\r",
      "1/1 [==============================] - ETA: 0s - loss: 7029.8662 - mape: 36.3894 - mae: 83.0816 - mse: 7029.8662"
     ]
    },
    {
     "name": "stdout",
     "output_type": "stream",
     "text": [
      "\b\b\b\b\b\b\b\b\b\b\b\b\b\b\b\b\b\b\b\b\b\b\b\b\b\b\b\b\b\b\b\b\b\b\b\b\b\b\b\b\b\b\b\b\b\b\b\b\b\b\b\b\b\b\b\b\b\b\b\b\b\b\b\b\b\b\b\b\b\b\b\b\b\b\b\b\b\b\b\b\b\b\b\b\b\b\b\b\b\b\b\b\b\b\b\b\b\b\b\b\b\b\b\b\b\b\b\b\b\b\b\b\r",
      "1/1 [==============================] - 0s 88ms/step - loss: 7029.8662 - mape: 36.3894 - mae: 83.0816 - mse: 7029.8662 - val_loss: 9047.8574 - val_mape: 39.6092 - val_mae: 95.0161 - val_mse: 9047.8574\n"
     ]
    },
    {
     "name": "stdout",
     "output_type": "stream",
     "text": [
      "Epoch 164/500\n"
     ]
    },
    {
     "name": "stdout",
     "output_type": "stream",
     "text": [
      "\r",
      "1/1 [==============================] - ETA: 0s - loss: 6940.3506 - mape: 36.1334 - mae: 82.5092 - mse: 6940.3506"
     ]
    },
    {
     "name": "stdout",
     "output_type": "stream",
     "text": [
      "\b\b\b\b\b\b\b\b\b\b\b\b\b\b\b\b\b\b\b\b\b\b\b\b\b\b\b\b\b\b\b\b\b\b\b\b\b\b\b\b\b\b\b\b\b\b\b\b\b\b\b\b\b\b\b\b\b\b\b\b\b\b\b\b\b\b\b\b\b\b\b\b\b\b\b\b\b\b\b\b\b\b\b\b\b\b\b\b\b\b\b\b\b\b\b\b\b\b\b\b\b\b\b\b\b\b\b\b\b\b\b\b\r",
      "1/1 [==============================] - 0s 92ms/step - loss: 6940.3506 - mape: 36.1334 - mae: 82.5092 - mse: 6940.3506 - val_loss: 8935.1650 - val_mape: 39.3610 - val_mae: 94.4212 - val_mse: 8935.1650\n"
     ]
    },
    {
     "name": "stdout",
     "output_type": "stream",
     "text": [
      "Epoch 165/500\n"
     ]
    },
    {
     "name": "stdout",
     "output_type": "stream",
     "text": [
      "\r",
      "1/1 [==============================] - ETA: 0s - loss: 6791.1680 - mape: 35.7667 - mae: 81.6591 - mse: 6791.1680"
     ]
    },
    {
     "name": "stdout",
     "output_type": "stream",
     "text": [
      "\b\b\b\b\b\b\b\b\b\b\b\b\b\b\b\b\b\b\b\b\b\b\b\b\b\b\b\b\b\b\b\b\b\b\b\b\b\b\b\b\b\b\b\b\b\b\b\b\b\b\b\b\b\b\b\b\b\b\b\b\b\b\b\b\b\b\b\b\b\b\b\b\b\b\b\b\b\b\b\b\b\b\b\b\b\b\b\b\b\b\b\b\b\b\b\b\b\b\b\b\b\b\b\b\b\b\b\b\b\b\b\b\r",
      "1/1 [==============================] - 0s 90ms/step - loss: 6791.1680 - mape: 35.7667 - mae: 81.6591 - mse: 6791.1680 - val_loss: 8823.7402 - val_mape: 39.1141 - val_mae: 93.8293 - val_mse: 8823.7402\n"
     ]
    },
    {
     "name": "stdout",
     "output_type": "stream",
     "text": [
      "Epoch 166/500\n"
     ]
    },
    {
     "name": "stdout",
     "output_type": "stream",
     "text": [
      "\r",
      "1/1 [==============================] - ETA: 0s - loss: 6741.7490 - mape: 35.6372 - mae: 81.3639 - mse: 6741.7490"
     ]
    },
    {
     "name": "stdout",
     "output_type": "stream",
     "text": [
      "\b\b\b\b\b\b\b\b\b\b\b\b\b\b\b\b\b\b\b\b\b\b\b\b\b\b\b\b\b\b\b\b\b\b\b\b\b\b\b\b\b\b\b\b\b\b\b\b\b\b\b\b\b\b\b\b\b\b\b\b\b\b\b\b\b\b\b\b\b\b\b\b\b\b\b\b\b\b\b\b\b\b\b\b\b\b\b\b\b\b\b\b\b\b\b\b\b\b\b\b\b\b\b\b\b\b\b\b\b\b\b\b\r",
      "1/1 [==============================] - 0s 85ms/step - loss: 6741.7490 - mape: 35.6372 - mae: 81.3639 - mse: 6741.7490 - val_loss: 8713.5400 - val_mape: 38.8683 - val_mae: 93.2402 - val_mse: 8713.5400\n"
     ]
    },
    {
     "name": "stdout",
     "output_type": "stream",
     "text": [
      "Epoch 167/500\n"
     ]
    },
    {
     "name": "stdout",
     "output_type": "stream",
     "text": [
      "\r",
      "1/1 [==============================] - ETA: 0s - loss: 6631.6450 - mape: 35.2667 - mae: 80.5595 - mse: 6631.6450"
     ]
    },
    {
     "name": "stdout",
     "output_type": "stream",
     "text": [
      "\b\b\b\b\b\b\b\b\b\b\b\b\b\b\b\b\b\b\b\b\b\b\b\b\b\b\b\b\b\b\b\b\b\b\b\b\b\b\b\b\b\b\b\b\b\b\b\b\b\b\b\b\b\b\b\b\b\b\b\b\b\b\b\b\b\b\b\b\b\b\b\b\b\b\b\b\b\b\b\b\b\b\b\b\b\b\b\b\b\b\b\b\b\b\b\b\b\b\b\b\b\b\b\b\b\b\b\b\b\b\b\b\r",
      "1/1 [==============================] - 0s 80ms/step - loss: 6631.6450 - mape: 35.2667 - mae: 80.5595 - mse: 6631.6450 - val_loss: 8604.5947 - val_mape: 38.6237 - val_mae: 92.6542 - val_mse: 8604.5947\n"
     ]
    },
    {
     "name": "stdout",
     "output_type": "stream",
     "text": [
      "Epoch 168/500\n"
     ]
    },
    {
     "name": "stdout",
     "output_type": "stream",
     "text": [
      "\r",
      "1/1 [==============================] - ETA: 0s - loss: 6585.9219 - mape: 35.1843 - mae: 80.3507 - mse: 6585.9219"
     ]
    },
    {
     "name": "stdout",
     "output_type": "stream",
     "text": [
      "\b\b\b\b\b\b\b\b\b\b\b\b\b\b\b\b\b\b\b\b\b\b\b\b\b\b\b\b\b\b\b\b\b\b\b\b\b\b\b\b\b\b\b\b\b\b\b\b\b\b\b\b\b\b\b\b\b\b\b\b\b\b\b\b\b\b\b\b\b\b\b\b\b\b\b\b\b\b\b\b\b\b\b\b\b\b\b\b\b\b\b\b\b\b\b\b\b\b\b\b\b\b\b\b\b\b\b\b\b\b\b\b\r",
      "1/1 [==============================] - 0s 89ms/step - loss: 6585.9219 - mape: 35.1843 - mae: 80.3507 - mse: 6585.9219 - val_loss: 8496.8730 - val_mape: 38.3804 - val_mae: 92.0710 - val_mse: 8496.8730\n"
     ]
    },
    {
     "name": "stdout",
     "output_type": "stream",
     "text": [
      "Epoch 169/500\n"
     ]
    },
    {
     "name": "stdout",
     "output_type": "stream",
     "text": [
      "\r",
      "1/1 [==============================] - ETA: 0s - loss: 6593.0132 - mape: 35.2429 - mae: 80.4650 - mse: 6593.0132"
     ]
    },
    {
     "name": "stdout",
     "output_type": "stream",
     "text": [
      "\b\b\b\b\b\b\b\b\b\b\b\b\b\b\b\b\b\b\b\b\b\b\b\b\b\b\b\b\b\b\b\b\b\b\b\b\b\b\b\b\b\b\b\b\b\b\b\b\b\b\b\b\b\b\b\b\b\b\b\b\b\b\b\b\b\b\b\b\b\b\b\b\b\b\b\b\b\b\b\b\b\b\b\b\b\b\b\b\b\b\b\b\b\b\b\b\b\b\b\b\b\b\b\b\b\b\b\b\b\b\b\b\r",
      "1/1 [==============================] - 0s 87ms/step - loss: 6593.0132 - mape: 35.2429 - mae: 80.4650 - mse: 6593.0132 - val_loss: 8390.2939 - val_mape: 38.1382 - val_mae: 91.4904 - val_mse: 8390.2939\n"
     ]
    },
    {
     "name": "stdout",
     "output_type": "stream",
     "text": [
      "Epoch 170/500\n"
     ]
    },
    {
     "name": "stdout",
     "output_type": "stream",
     "text": [
      "\r",
      "1/1 [==============================] - ETA: 0s - loss: 6188.5571 - mape: 34.2143 - mae: 78.0774 - mse: 6188.5571"
     ]
    },
    {
     "name": "stdout",
     "output_type": "stream",
     "text": [
      "\b\b\b\b\b\b\b\b\b\b\b\b\b\b\b\b\b\b\b\b\b\b\b\b\b\b\b\b\b\b\b\b\b\b\b\b\b\b\b\b\b\b\b\b\b\b\b\b\b\b\b\b\b\b\b\b\b\b\b\b\b\b\b\b\b\b\b\b\b\b\b\b\b\b\b\b\b\b\b\b\b\b\b\b\b\b\b\b\b\b\b\b\b\b\b\b\b\b\b\b\b\b\b\b\b\b\b\b\b\b\b\b\r",
      "1/1 [==============================] - 0s 76ms/step - loss: 6188.5571 - mape: 34.2143 - mae: 78.0774 - mse: 6188.5571 - val_loss: 8284.9473 - val_mape: 37.8972 - val_mae: 90.9128 - val_mse: 8284.9473\n"
     ]
    },
    {
     "name": "stdout",
     "output_type": "stream",
     "text": [
      "Epoch 171/500\n"
     ]
    },
    {
     "name": "stdout",
     "output_type": "stream",
     "text": [
      "\r",
      "1/1 [==============================] - ETA: 0s - loss: 6457.4165 - mape: 34.8293 - mae: 79.5521 - mse: 6457.4165"
     ]
    },
    {
     "name": "stdout",
     "output_type": "stream",
     "text": [
      "\b\b\b\b\b\b\b\b\b\b\b\b\b\b\b\b\b\b\b\b\b\b\b\b\b\b\b\b\b\b\b\b\b\b\b\b\b\b\b\b\b\b\b\b\b\b\b\b\b\b\b\b\b\b\b\b\b\b\b\b\b\b\b\b\b\b\b\b\b\b\b\b\b\b\b\b\b\b\b\b\b\b\b\b\b\b\b\b\b\b\b\b\b\b\b\b\b\b\b\b\b\b\b\b\b\b\b\b\b\b\b\b\r",
      "1/1 [==============================] - 0s 77ms/step - loss: 6457.4165 - mape: 34.8293 - mae: 79.5521 - mse: 6457.4165 - val_loss: 8180.7153 - val_mape: 37.6573 - val_mae: 90.3378 - val_mse: 8180.7153\n"
     ]
    },
    {
     "name": "stdout",
     "output_type": "stream",
     "text": [
      "Epoch 172/500\n"
     ]
    },
    {
     "name": "stdout",
     "output_type": "stream",
     "text": [
      "\r",
      "1/1 [==============================] - ETA: 0s - loss: 6248.6924 - mape: 34.2975 - mae: 78.3109 - mse: 6248.6924"
     ]
    },
    {
     "name": "stdout",
     "output_type": "stream",
     "text": [
      "\b\b\b\b\b\b\b\b\b\b\b\b\b\b\b\b\b\b\b\b\b\b\b\b\b\b\b\b\b\b\b\b\b\b\b\b\b\b\b\b\b\b\b\b\b\b\b\b\b\b\b\b\b\b\b\b\b\b\b\b\b\b\b\b\b\b\b\b\b\b\b\b\b\b\b\b\b\b\b\b\b\b\b\b\b\b\b\b\b\b\b\b\b\b\b\b\b\b\b\b\b\b\b\b\b\b\b\b\b\b\b\b\r",
      "1/1 [==============================] - 0s 179ms/step - loss: 6248.6924 - mape: 34.2975 - mae: 78.3109 - mse: 6248.6924 - val_loss: 8077.6206 - val_mape: 37.4184 - val_mae: 89.7653 - val_mse: 8077.6206\n"
     ]
    },
    {
     "name": "stdout",
     "output_type": "stream",
     "text": [
      "Epoch 173/500\n"
     ]
    },
    {
     "name": "stdout",
     "output_type": "stream",
     "text": [
      "\r",
      "1/1 [==============================] - ETA: 0s - loss: 6077.5903 - mape: 33.7665 - mae: 77.1270 - mse: 6077.5903"
     ]
    },
    {
     "name": "stdout",
     "output_type": "stream",
     "text": [
      "\b\b\b\b\b\b\b\b\b\b\b\b\b\b\b\b\b\b\b\b\b\b\b\b\b\b\b\b\b\b\b\b\b\b\b\b\b\b\b\b\b\b\b\b\b\b\b\b\b\b\b\b\b\b\b\b\b\b\b\b\b\b\b\b\b\b\b\b\b\b\b\b\b\b\b\b\b\b\b\b\b\b\b\b\b\b\b\b\b\b\b\b\b\b\b\b\b\b\b\b\b\b\b\b\b\b\b\b\b\b\b\b\r",
      "1/1 [==============================] - 0s 80ms/step - loss: 6077.5903 - mape: 33.7665 - mae: 77.1270 - mse: 6077.5903 - val_loss: 7975.7104 - val_mape: 37.1808 - val_mae: 89.1959 - val_mse: 7975.7104\n"
     ]
    },
    {
     "name": "stdout",
     "output_type": "stream",
     "text": [
      "Epoch 174/500\n"
     ]
    },
    {
     "name": "stdout",
     "output_type": "stream",
     "text": [
      "\r",
      "1/1 [==============================] - ETA: 0s - loss: 5950.4727 - mape: 33.4569 - mae: 76.4006 - mse: 5950.4727"
     ]
    },
    {
     "name": "stdout",
     "output_type": "stream",
     "text": [
      "\b\b\b\b\b\b\b\b\b\b\b\b\b\b\b\b\b\b\b\b\b\b\b\b\b\b\b\b\b\b\b\b\b\b\b\b\b\b\b\b\b\b\b\b\b\b\b\b\b\b\b\b\b\b\b\b\b\b\b\b\b\b\b\b\b\b\b\b\b\b\b\b\b\b\b\b\b\b\b\b\b\b\b\b\b\b\b\b\b\b\b\b\b\b\b\b\b\b\b\b\b\b\b\b\b\b\b\b\b\b\b\b\r",
      "1/1 [==============================] - 0s 81ms/step - loss: 5950.4727 - mape: 33.4569 - mae: 76.4006 - mse: 5950.4727 - val_loss: 7874.9727 - val_mape: 36.9445 - val_mae: 88.6294 - val_mse: 7874.9727\n"
     ]
    },
    {
     "name": "stdout",
     "output_type": "stream",
     "text": [
      "Epoch 175/500\n"
     ]
    },
    {
     "name": "stdout",
     "output_type": "stream",
     "text": [
      "\r",
      "1/1 [==============================] - ETA: 0s - loss: 5819.1050 - mape: 33.0445 - mae: 75.4731 - mse: 5819.1050"
     ]
    },
    {
     "name": "stdout",
     "output_type": "stream",
     "text": [
      "\b\b\b\b\b\b\b\b\b\b\b\b\b\b\b\b\b\b\b\b\b\b\b\b\b\b\b\b\b\b\b\b\b\b\b\b\b\b\b\b\b\b\b\b\b\b\b\b\b\b\b\b\b\b\b\b\b\b\b\b\b\b\b\b\b\b\b\b\b\b\b\b\b\b\b\b\b\b\b\b\b\b\b\b\b\b\b\b\b\b\b\b\b\b\b\b\b\b\b\b\b\b\b\b\b\b\b\b\b\b\b\b\r",
      "1/1 [==============================] - 0s 91ms/step - loss: 5819.1050 - mape: 33.0445 - mae: 75.4731 - mse: 5819.1050 - val_loss: 7775.4219 - val_mape: 36.7094 - val_mae: 88.0660 - val_mse: 7775.4219\n"
     ]
    },
    {
     "name": "stdout",
     "output_type": "stream",
     "text": [
      "Epoch 176/500\n"
     ]
    },
    {
     "name": "stdout",
     "output_type": "stream",
     "text": [
      "\r",
      "1/1 [==============================] - ETA: 0s - loss: 5786.6304 - mape: 33.0427 - mae: 75.4275 - mse: 5786.6304"
     ]
    },
    {
     "name": "stdout",
     "output_type": "stream",
     "text": [
      "\b\b\b\b\b\b\b\b\b\b\b\b\b\b\b\b\b\b\b\b\b\b\b\b\b\b\b\b\b\b\b\b\b\b\b\b\b\b\b\b\b\b\b\b\b\b\b\b\b\b\b\b\b\b\b\b\b\b\b\b\b\b\b\b\b\b\b\b\b\b\b\b\b\b\b\b\b\b\b\b\b\b\b\b\b\b\b\b\b\b\b\b\b\b\b\b\b\b\b\b\b\b\b\b\b\b\b\b\b\b\b\b\r",
      "1/1 [==============================] - 0s 181ms/step - loss: 5786.6304 - mape: 33.0427 - mae: 75.4275 - mse: 5786.6304 - val_loss: 7676.9956 - val_mape: 36.4755 - val_mae: 87.5054 - val_mse: 7676.9956\n"
     ]
    },
    {
     "name": "stdout",
     "output_type": "stream",
     "text": [
      "Epoch 177/500\n"
     ]
    },
    {
     "name": "stdout",
     "output_type": "stream",
     "text": [
      "\r",
      "1/1 [==============================] - ETA: 0s - loss: 5642.4282 - mape: 32.5890 - mae: 74.4047 - mse: 5642.4282"
     ]
    },
    {
     "name": "stdout",
     "output_type": "stream",
     "text": [
      "\b\b\b\b\b\b\b\b\b\b\b\b\b\b\b\b\b\b\b\b\b\b\b\b\b\b\b\b\b\b\b\b\b\b\b\b\b\b\b\b\b\b\b\b\b\b\b\b\b\b\b\b\b\b\b\b\b\b\b\b\b\b\b\b\b\b\b\b\b\b\b\b\b\b\b\b\b\b\b\b\b\b\b\b\b\b\b\b\b\b\b\b\b\b\b\b\b\b\b\b\b\b\b\b\b\b\b\b\b\b\b\b\r",
      "1/1 [==============================] - 0s 76ms/step - loss: 5642.4282 - mape: 32.5890 - mae: 74.4047 - mse: 5642.4282 - val_loss: 7579.7041 - val_mape: 36.2428 - val_mae: 86.9477 - val_mse: 7579.7041\n"
     ]
    },
    {
     "name": "stdout",
     "output_type": "stream",
     "text": [
      "Epoch 178/500\n"
     ]
    },
    {
     "name": "stdout",
     "output_type": "stream",
     "text": [
      "\r",
      "1/1 [==============================] - ETA: 0s - loss: 5672.5591 - mape: 32.6229 - mae: 74.5162 - mse: 5672.5591"
     ]
    },
    {
     "name": "stdout",
     "output_type": "stream",
     "text": [
      "\b\b\b\b\b\b\b\b\b\b\b\b\b\b\b\b\b\b\b\b\b\b\b\b\b\b\b\b\b\b\b\b\b\b\b\b\b\b\b\b\b\b\b\b\b\b\b\b\b\b\b\b\b\b\b\b\b\b\b\b\b\b\b\b\b\b\b\b\b\b\b\b\b\b\b\b\b\b\b\b\b\b\b\b\b\b\b\b\b\b\b\b\b\b\b\b\b\b\b\b\b\b\b\b\b\b\b\b\b\b\b\b\r",
      "1/1 [==============================] - 0s 87ms/step - loss: 5672.5591 - mape: 32.6229 - mae: 74.5162 - mse: 5672.5591 - val_loss: 7483.5225 - val_mape: 36.0113 - val_mae: 86.3928 - val_mse: 7483.5225\n"
     ]
    },
    {
     "name": "stdout",
     "output_type": "stream",
     "text": [
      "Epoch 179/500\n"
     ]
    },
    {
     "name": "stdout",
     "output_type": "stream",
     "text": [
      "\r",
      "1/1 [==============================] - ETA: 0s - loss: 5598.2856 - mape: 32.4447 - mae: 74.0933 - mse: 5598.2856"
     ]
    },
    {
     "name": "stdout",
     "output_type": "stream",
     "text": [
      "\b\b\b\b\b\b\b\b\b\b\b\b\b\b\b\b\b\b\b\b\b\b\b\b\b\b\b\b\b\b\b\b\b\b\b\b\b\b\b\b\b\b\b\b\b\b\b\b\b\b\b\b\b\b\b\b\b\b\b\b\b\b\b\b\b\b\b\b\b\b\b\b\b\b\b\b\b\b\b\b\b\b\b\b\b\b\b\b\b\b\b\b\b\b\b\b\b\b\b\b\b\b\b\b\b\b\b\b\b\b\b\b\r",
      "1/1 [==============================] - 0s 80ms/step - loss: 5598.2856 - mape: 32.4447 - mae: 74.0933 - mse: 5598.2856 - val_loss: 7388.4336 - val_mape: 35.7810 - val_mae: 85.8407 - val_mse: 7388.4336\n"
     ]
    },
    {
     "name": "stdout",
     "output_type": "stream",
     "text": [
      "Epoch 180/500\n"
     ]
    },
    {
     "name": "stdout",
     "output_type": "stream",
     "text": [
      "\r",
      "1/1 [==============================] - ETA: 0s - loss: 5532.5981 - mape: 32.2530 - mae: 73.6527 - mse: 5532.5981"
     ]
    },
    {
     "name": "stdout",
     "output_type": "stream",
     "text": [
      "\b\b\b\b\b\b\b\b\b\b\b\b\b\b\b\b\b\b\b\b\b\b\b\b\b\b\b\b\b\b\b\b\b\b\b\b\b\b\b\b\b\b\b\b\b\b\b\b\b\b\b\b\b\b\b\b\b\b\b\b\b\b\b\b\b\b\b\b\b\b\b\b\b\b\b\b\b\b\b\b\b\b\b\b\b\b\b\b\b\b\b\b\b\b\b\b\b\b\b\b\b\b\b\b\b\b\b\b\b\b\b\b\r",
      "1/1 [==============================] - 0s 75ms/step - loss: 5532.5981 - mape: 32.2530 - mae: 73.6527 - mse: 5532.5981 - val_loss: 7294.4077 - val_mape: 35.5517 - val_mae: 85.2913 - val_mse: 7294.4077\n"
     ]
    },
    {
     "name": "stdout",
     "output_type": "stream",
     "text": [
      "Epoch 181/500\n"
     ]
    },
    {
     "name": "stdout",
     "output_type": "stream",
     "text": [
      "\r",
      "1/1 [==============================] - ETA: 0s - loss: 5471.2300 - mape: 32.0184 - mae: 73.1511 - mse: 5471.2300"
     ]
    },
    {
     "name": "stdout",
     "output_type": "stream",
     "text": [
      "\b\b\b\b\b\b\b\b\b\b\b\b\b\b\b\b\b\b\b\b\b\b\b\b\b\b\b\b\b\b\b\b\b\b\b\b\b\b\b\b\b\b\b\b\b\b\b\b\b\b\b\b\b\b\b\b\b\b\b\b\b\b\b\b\b\b\b\b\b\b\b\b\b\b\b\b\b\b\b\b\b\b\b\b\b\b\b\b\b\b\b\b\b\b\b\b\b\b\b\b\b\b\b\b\b\b\b\b\b\b\b\b\r",
      "1/1 [==============================] - 0s 78ms/step - loss: 5471.2300 - mape: 32.0184 - mae: 73.1511 - mse: 5471.2300 - val_loss: 7201.4443 - val_mape: 35.3236 - val_mae: 84.7446 - val_mse: 7201.4443\n"
     ]
    },
    {
     "name": "stdout",
     "output_type": "stream",
     "text": [
      "Epoch 182/500\n"
     ]
    },
    {
     "name": "stdout",
     "output_type": "stream",
     "text": [
      "\r",
      "1/1 [==============================] - ETA: 0s - loss: 5302.4165 - mape: 31.5962 - mae: 72.1459 - mse: 5302.4165"
     ]
    },
    {
     "name": "stdout",
     "output_type": "stream",
     "text": [
      "\b\b\b\b\b\b\b\b\b\b\b\b\b\b\b\b\b\b\b\b\b\b\b\b\b\b\b\b\b\b\b\b\b\b\b\b\b\b\b\b\b\b\b\b\b\b\b\b\b\b\b\b\b\b\b\b\b\b\b\b\b\b\b\b\b\b\b\b\b\b\b\b\b\b\b\b\b\b\b\b\b\b\b\b\b\b\b\b\b\b\b\b\b\b\b\b\b\b\b\b\b\b\b\b\b\b\b\b\b\b\b\b\r",
      "1/1 [==============================] - 0s 115ms/step - loss: 5302.4165 - mape: 31.5962 - mae: 72.1459 - mse: 5302.4165 - val_loss: 7109.5400 - val_mape: 35.0966 - val_mae: 84.2006 - val_mse: 7109.5400\n"
     ]
    },
    {
     "name": "stdout",
     "output_type": "stream",
     "text": [
      "Epoch 183/500\n"
     ]
    },
    {
     "name": "stdout",
     "output_type": "stream",
     "text": [
      "\r",
      "1/1 [==============================] - ETA: 0s - loss: 5477.0464 - mape: 32.0312 - mae: 73.1763 - mse: 5477.0464"
     ]
    },
    {
     "name": "stdout",
     "output_type": "stream",
     "text": [
      "\b\b\b\b\b\b\b\b\b\b\b\b\b\b\b\b\b\b\b\b\b\b\b\b\b\b\b\b\b\b\b\b\b\b\b\b\b\b\b\b\b\b\b\b\b\b\b\b\b\b\b\b\b\b\b\b\b\b\b\b\b\b\b\b\b\b\b\b\b\b\b\b\b\b\b\b\b\b\b\b\b\b\b\b\b\b\b\b\b\b\b\b\b\b\b\b\b\b\b\b\b\b\b\b\b\b\b\b\b\b\b\b\r",
      "1/1 [==============================] - 0s 80ms/step - loss: 5477.0464 - mape: 32.0312 - mae: 73.1763 - mse: 5477.0464 - val_loss: 7018.6040 - val_mape: 34.8706 - val_mae: 83.6588 - val_mse: 7018.6040\n"
     ]
    },
    {
     "name": "stdout",
     "output_type": "stream",
     "text": [
      "Epoch 184/500\n"
     ]
    },
    {
     "name": "stdout",
     "output_type": "stream",
     "text": [
      "\r",
      "1/1 [==============================] - ETA: 0s - loss: 5324.1245 - mape: 31.6287 - mae: 72.2297 - mse: 5324.1245"
     ]
    },
    {
     "name": "stdout",
     "output_type": "stream",
     "text": [
      "\b\b\b\b\b\b\b\b\b\b\b\b\b\b\b\b\b\b\b\b\b\b\b\b\b\b\b\b\b\b\b\b\b\b\b\b\b\b\b\b\b\b\b\b\b\b\b\b\b\b\b\b\b\b\b\b\b\b\b\b\b\b\b\b\b\b\b\b\b\b\b\b\b\b\b\b\b\b\b\b\b\b\b\b\b\b\b\b\b\b\b\b\b\b\b\b\b\b\b\b\b\b\b\b\b\b\b\b\b\b\b\b\r",
      "1/1 [==============================] - 0s 76ms/step - loss: 5324.1245 - mape: 31.6287 - mae: 72.2297 - mse: 5324.1245 - val_loss: 6928.6675 - val_mape: 34.6456 - val_mae: 83.1196 - val_mse: 6928.6675\n"
     ]
    },
    {
     "name": "stdout",
     "output_type": "stream",
     "text": [
      "Epoch 185/500\n"
     ]
    },
    {
     "name": "stdout",
     "output_type": "stream",
     "text": [
      "\r",
      "1/1 [==============================] - ETA: 0s - loss: 5244.2749 - mape: 31.3065 - mae: 71.5418 - mse: 5244.2749"
     ]
    },
    {
     "name": "stdout",
     "output_type": "stream",
     "text": [
      "\b\b\b\b\b\b\b\b\b\b\b\b\b\b\b\b\b\b\b\b\b\b\b\b\b\b\b\b\b\b\b\b\b\b\b\b\b\b\b\b\b\b\b\b\b\b\b\b\b\b\b\b\b\b\b\b\b\b\b\b\b\b\b\b\b\b\b\b\b\b\b\b\b\b\b\b\b\b\b\b\b\b\b\b\b\b\b\b\b\b\b\b\b\b\b\b\b\b\b\b\b\b\b\b\b\b\b\b\b\b\b\b\r",
      "1/1 [==============================] - 0s 308ms/step - loss: 5244.2749 - mape: 31.3065 - mae: 71.5418 - mse: 5244.2749 - val_loss: 6839.7275 - val_mape: 34.4217 - val_mae: 82.5828 - val_mse: 6839.7275\n"
     ]
    },
    {
     "name": "stdout",
     "output_type": "stream",
     "text": [
      "Epoch 186/500\n"
     ]
    },
    {
     "name": "stdout",
     "output_type": "stream",
     "text": [
      "\r",
      "1/1 [==============================] - ETA: 0s - loss: 4964.9131 - mape: 30.5099 - mae: 69.6970 - mse: 4964.9131"
     ]
    },
    {
     "name": "stdout",
     "output_type": "stream",
     "text": [
      "\b\b\b\b\b\b\b\b\b\b\b\b\b\b\b\b\b\b\b\b\b\b\b\b\b\b\b\b\b\b\b\b\b\b\b\b\b\b\b\b\b\b\b\b\b\b\b\b\b\b\b\b\b\b\b\b\b\b\b\b\b\b\b\b\b\b\b\b\b\b\b\b\b\b\b\b\b\b\b\b\b\b\b\b\b\b\b\b\b\b\b\b\b\b\b\b\b\b\b\b\b\b\b\b\b\b\b\b\b\b\b\b\r",
      "1/1 [==============================] - 0s 86ms/step - loss: 4964.9131 - mape: 30.5099 - mae: 69.6970 - mse: 4964.9131 - val_loss: 6751.8701 - val_mape: 34.1990 - val_mae: 82.0492 - val_mse: 6751.8701\n"
     ]
    },
    {
     "name": "stdout",
     "output_type": "stream",
     "text": [
      "Epoch 187/500\n"
     ]
    },
    {
     "name": "stdout",
     "output_type": "stream",
     "text": [
      "\r",
      "1/1 [==============================] - ETA: 0s - loss: 5020.7778 - mape: 30.6303 - mae: 69.9939 - mse: 5020.7778"
     ]
    },
    {
     "name": "stdout",
     "output_type": "stream",
     "text": [
      "\b\b\b\b\b\b\b\b\b\b\b\b\b\b\b\b\b\b\b\b\b\b\b\b\b\b\b\b\b\b\b\b\b\b\b\b\b\b\b\b\b\b\b\b\b\b\b\b\b\b\b\b\b\b\b\b\b\b\b\b\b\b\b\b\b\b\b\b\b\b\b\b\b\b\b\b\b\b\b\b\b\b\b\b\b\b\b\b\b\b\b\b\b\b\b\b\b\b\b\b\b\b\b\b\b\b\b\b\b\b\b\b\r",
      "1/1 [==============================] - 0s 84ms/step - loss: 5020.7778 - mape: 30.6303 - mae: 69.9939 - mse: 5020.7778 - val_loss: 6665.0234 - val_mape: 33.9775 - val_mae: 81.5182 - val_mse: 6665.0234\n"
     ]
    },
    {
     "name": "stdout",
     "output_type": "stream",
     "text": [
      "Epoch 188/500\n"
     ]
    },
    {
     "name": "stdout",
     "output_type": "stream",
     "text": [
      "\r",
      "1/1 [==============================] - ETA: 0s - loss: 4938.1450 - mape: 30.3411 - mae: 69.3503 - mse: 4938.1450"
     ]
    },
    {
     "name": "stdout",
     "output_type": "stream",
     "text": [
      "\b\b\b\b\b\b\b\b\b\b\b\b\b\b\b\b\b\b\b\b\b\b\b\b\b\b\b\b\b\b\b\b\b\b\b\b\b\b\b\b\b\b\b\b\b\b\b\b\b\b\b\b\b\b\b\b\b\b\b\b\b\b\b\b\b\b\b\b\b\b\b\b\b\b\b\b\b\b\b\b\b\b\b\b\b\b\b\b\b\b\b\b\b\b\b\b\b\b\b\b\b\b\b\b\b\b\b\b\b\b\b\b\r",
      "1/1 [==============================] - 0s 80ms/step - loss: 4938.1450 - mape: 30.3411 - mae: 69.3503 - mse: 4938.1450 - val_loss: 6579.1958 - val_mape: 33.7571 - val_mae: 80.9901 - val_mse: 6579.1958\n"
     ]
    },
    {
     "name": "stdout",
     "output_type": "stream",
     "text": [
      "Epoch 189/500\n"
     ]
    },
    {
     "name": "stdout",
     "output_type": "stream",
     "text": [
      "\r",
      "1/1 [==============================] - ETA: 0s - loss: 4789.8838 - mape: 29.9621 - mae: 68.4432 - mse: 4789.8838"
     ]
    },
    {
     "name": "stdout",
     "output_type": "stream",
     "text": [
      "\b\b\b\b\b\b\b\b\b\b\b\b\b\b\b\b\b\b\b\b\b\b\b\b\b\b\b\b\b\b\b\b\b\b\b\b\b\b\b\b\b\b\b\b\b\b\b\b\b\b\b\b\b\b\b\b\b\b\b\b\b\b\b\b\b\b\b\b\b\b\b\b\b\b\b\b\b\b\b\b\b\b\b\b\b\b\b\b\b\b\b\b\b\b\b\b\b\b\b\b\b\b\b\b\b\b\b\b\b\b\b\b\r",
      "1/1 [==============================] - 0s 99ms/step - loss: 4789.8838 - mape: 29.9621 - mae: 68.4432 - mse: 4789.8838 - val_loss: 6494.3687 - val_mape: 33.5379 - val_mae: 80.4647 - val_mse: 6494.3687\n"
     ]
    },
    {
     "name": "stdout",
     "output_type": "stream",
     "text": [
      "Epoch 190/500\n"
     ]
    },
    {
     "name": "stdout",
     "output_type": "stream",
     "text": [
      "\r",
      "1/1 [==============================] - ETA: 0s - loss: 4708.1768 - mape: 29.6518 - mae: 67.7646 - mse: 4708.1768"
     ]
    },
    {
     "name": "stdout",
     "output_type": "stream",
     "text": [
      "\b\b\b\b\b\b\b\b\b\b\b\b\b\b\b\b\b\b\b\b\b\b\b\b\b\b\b\b\b\b\b\b\b\b\b\b\b\b\b\b\b\b\b\b\b\b\b\b\b\b\b\b\b\b\b\b\b\b\b\b\b\b\b\b\b\b\b\b\b\b\b\b\b\b\b\b\b\b\b\b\b\b\b\b\b\b\b\b\b\b\b\b\b\b\b\b\b\b\b\b\b\b\b\b\b\b\b\b\b\b\b\b\r",
      "1/1 [==============================] - 0s 87ms/step - loss: 4708.1768 - mape: 29.6518 - mae: 67.7646 - mse: 4708.1768 - val_loss: 6410.5713 - val_mape: 33.3199 - val_mae: 79.9423 - val_mse: 6410.5713\n"
     ]
    },
    {
     "name": "stdout",
     "output_type": "stream",
     "text": [
      "Epoch 191/500\n"
     ]
    },
    {
     "name": "stdout",
     "output_type": "stream",
     "text": [
      "\r",
      "1/1 [==============================] - ETA: 0s - loss: 4691.1206 - mape: 29.6565 - mae: 67.7399 - mse: 4691.1206"
     ]
    },
    {
     "name": "stdout",
     "output_type": "stream",
     "text": [
      "\b\b\b\b\b\b\b\b\b\b\b\b\b\b\b\b\b\b\b\b\b\b\b\b\b\b\b\b\b\b\b\b\b\b\b\b\b\b\b\b\b\b\b\b\b\b\b\b\b\b\b\b\b\b\b\b\b\b\b\b\b\b\b\b\b\b\b\b\b\b\b\b\b\b\b\b\b\b\b\b\b\b\b\b\b\b\b\b\b\b\b\b\b\b\b\b\b\b\b\b\b\b\b\b\b\b\b\b\b\b\b\b\r",
      "1/1 [==============================] - 0s 92ms/step - loss: 4691.1206 - mape: 29.6565 - mae: 67.7399 - mse: 4691.1206 - val_loss: 6327.7617 - val_mape: 33.1031 - val_mae: 79.4227 - val_mse: 6327.7617\n"
     ]
    },
    {
     "name": "stdout",
     "output_type": "stream",
     "text": [
      "Epoch 192/500\n"
     ]
    },
    {
     "name": "stdout",
     "output_type": "stream",
     "text": [
      "\r",
      "1/1 [==============================] - ETA: 0s - loss: 4655.6040 - mape: 29.5706 - mae: 67.5385 - mse: 4655.6040"
     ]
    },
    {
     "name": "stdout",
     "output_type": "stream",
     "text": [
      "\b\b\b\b\b\b\b\b\b\b\b\b\b\b\b\b\b\b\b\b\b\b\b\b\b\b\b\b\b\b\b\b\b\b\b\b\b\b\b\b\b\b\b\b\b\b\b\b\b\b\b\b\b\b\b\b\b\b\b\b\b\b\b\b\b\b\b\b\b\b\b\b\b\b\b\b\b\b\b\b\b\b\b\b\b\b\b\b\b\b\b\b\b\b\b\b\b\b\b\b\b\b\b\b\b\b\b\b\b\b\b\b\r",
      "1/1 [==============================] - 0s 86ms/step - loss: 4655.6040 - mape: 29.5706 - mae: 67.5385 - mse: 4655.6040 - val_loss: 6245.8862 - val_mape: 32.8874 - val_mae: 78.9055 - val_mse: 6245.8862\n"
     ]
    },
    {
     "name": "stdout",
     "output_type": "stream",
     "text": [
      "Epoch 193/500\n"
     ]
    },
    {
     "name": "stdout",
     "output_type": "stream",
     "text": [
      "\r",
      "1/1 [==============================] - ETA: 0s - loss: 4435.3882 - mape: 28.8992 - mae: 65.9849 - mse: 4435.3882"
     ]
    },
    {
     "name": "stdout",
     "output_type": "stream",
     "text": [
      "\b\b\b\b\b\b\b\b\b\b\b\b\b\b\b\b\b\b\b\b\b\b\b\b\b\b\b\b\b\b\b\b\b\b\b\b\b\b\b\b\b\b\b\b\b\b\b\b\b\b\b\b\b\b\b\b\b\b\b\b\b\b\b\b\b\b\b\b\b\b\b\b\b\b\b\b\b\b\b\b\b\b\b\b\b\b\b\b\b\b\b\b\b\b\b\b\b\b\b\b\b\b\b\b\b\b\b\b\b\b\b\b\r",
      "1/1 [==============================] - 0s 87ms/step - loss: 4435.3882 - mape: 28.8992 - mae: 65.9849 - mse: 4435.3882 - val_loss: 6165.0195 - val_mape: 32.6729 - val_mae: 78.3914 - val_mse: 6165.0195\n"
     ]
    },
    {
     "name": "stdout",
     "output_type": "stream",
     "text": [
      "Epoch 194/500\n"
     ]
    },
    {
     "name": "stdout",
     "output_type": "stream",
     "text": [
      "\r",
      "1/1 [==============================] - ETA: 0s - loss: 4510.6460 - mape: 28.9389 - mae: 66.1677 - mse: 4510.6460"
     ]
    },
    {
     "name": "stdout",
     "output_type": "stream",
     "text": [
      "\b\b\b\b\b\b\b\b\b\b\b\b\b\b\b\b\b\b\b\b\b\b\b\b\b\b\b\b\b\b\b\b\b\b\b\b\b\b\b\b\b\b\b\b\b\b\b\b\b\b\b\b\b\b\b\b\b\b\b\b\b\b\b\b\b\b\b\b\b\b\b\b\b\b\b\b\b\b\b\b\b\b\b\b\b\b\b\b\b\b\b\b\b\b\b\b\b\b\b\b\b\b\b\b\b\b\b\b\b\b\b\b\r",
      "1/1 [==============================] - 0s 89ms/step - loss: 4510.6460 - mape: 28.9389 - mae: 66.1677 - mse: 4510.6460 - val_loss: 6085.1040 - val_mape: 32.4595 - val_mae: 77.8801 - val_mse: 6085.1040\n"
     ]
    },
    {
     "name": "stdout",
     "output_type": "stream",
     "text": [
      "Epoch 195/500\n"
     ]
    },
    {
     "name": "stdout",
     "output_type": "stream",
     "text": [
      "\r",
      "1/1 [==============================] - ETA: 0s - loss: 4373.2905 - mape: 28.4468 - mae: 65.0775 - mse: 4373.2905"
     ]
    },
    {
     "name": "stdout",
     "output_type": "stream",
     "text": [
      "\b\b\b\b\b\b\b\b\b\b\b\b\b\b\b\b\b\b\b\b\b\b\b\b\b\b\b\b\b\b\b\b\b\b\b\b\b\b\b\b\b\b\b\b\b\b\b\b\b\b\b\b\b\b\b\b\b\b\b\b\b\b\b\b\b\b\b\b\b\b\b\b\b\b\b\b\b\b\b\b\b\b\b\b\b\b\b\b\b\b\b\b\b\b\b\b\b\b\b\b\b\b\b\b\b\b\b\b\b\b\b\b\r",
      "1/1 [==============================] - 0s 82ms/step - loss: 4373.2905 - mape: 28.4468 - mae: 65.0775 - mse: 4373.2905 - val_loss: 6006.1938 - val_mape: 32.2474 - val_mae: 77.3718 - val_mse: 6006.1938\n"
     ]
    },
    {
     "name": "stdout",
     "output_type": "stream",
     "text": [
      "Epoch 196/500\n"
     ]
    },
    {
     "name": "stdout",
     "output_type": "stream",
     "text": [
      "\r",
      "1/1 [==============================] - ETA: 0s - loss: 4189.0713 - mape: 28.0393 - mae: 64.0429 - mse: 4189.0713"
     ]
    },
    {
     "name": "stdout",
     "output_type": "stream",
     "text": [
      "\b\b\b\b\b\b\b\b\b\b\b\b\b\b\b\b\b\b\b\b\b\b\b\b\b\b\b\b\b\b\b\b\b\b\b\b\b\b\b\b\b\b\b\b\b\b\b\b\b\b\b\b\b\b\b\b\b\b\b\b\b\b\b\b\b\b\b\b\b\b\b\b\b\b\b\b\b\b\b\b\b\b\b\b\b\b\b\b\b\b\b\b\b\b\b\b\b\b\b\b\b\b\b\b\b\b\b\b\b\b\b\b\r",
      "1/1 [==============================] - 0s 80ms/step - loss: 4189.0713 - mape: 28.0393 - mae: 64.0429 - mse: 4189.0713 - val_loss: 5928.2749 - val_mape: 32.0367 - val_mae: 76.8666 - val_mse: 5928.2749\n"
     ]
    },
    {
     "name": "stdout",
     "output_type": "stream",
     "text": [
      "Epoch 197/500\n"
     ]
    },
    {
     "name": "stdout",
     "output_type": "stream",
     "text": [
      "\r",
      "1/1 [==============================] - ETA: 0s - loss: 4185.1641 - mape: 27.8247 - mae: 63.6478 - mse: 4185.1641"
     ]
    },
    {
     "name": "stdout",
     "output_type": "stream",
     "text": [
      "\b\b\b\b\b\b\b\b\b\b\b\b\b\b\b\b\b\b\b\b\b\b\b\b\b\b\b\b\b\b\b\b\b\b\b\b\b\b\b\b\b\b\b\b\b\b\b\b\b\b\b\b\b\b\b\b\b\b\b\b\b\b\b\b\b\b\b\b\b\b\b\b\b\b\b\b\b\b\b\b\b\b\b\b\b\b\b\b\b\b\b\b\b\b\b\b\b\b\b\b\b\b\b\b\b\b\b\b\b\b\b\b\r",
      "1/1 [==============================] - 0s 84ms/step - loss: 4185.1641 - mape: 27.8247 - mae: 63.6478 - mse: 4185.1641 - val_loss: 5851.3481 - val_mape: 31.8272 - val_mae: 76.3646 - val_mse: 5851.3481\n"
     ]
    },
    {
     "name": "stdout",
     "output_type": "stream",
     "text": [
      "Epoch 198/500\n"
     ]
    },
    {
     "name": "stdout",
     "output_type": "stream",
     "text": [
      "\r",
      "1/1 [==============================] - ETA: 0s - loss: 4362.8442 - mape: 28.4291 - mae: 65.0229 - mse: 4362.8442"
     ]
    },
    {
     "name": "stdout",
     "output_type": "stream",
     "text": [
      "\b\b\b\b\b\b\b\b\b\b\b\b\b\b\b\b\b\b\b\b\b\b\b\b\b\b\b\b\b\b\b\b\b\b\b\b\b\b\b\b\b\b\b\b\b\b\b\b\b\b\b\b\b\b\b\b\b\b\b\b\b\b\b\b\b\b\b\b\b\b\b\b\b\b\b\b\b\b\b\b\b\b\b\b\b\b\b\b\b\b\b\b\b\b\b\b\b\b\b\b\b\b\b\b\b\b\b\b\b\b\b\b\r",
      "1/1 [==============================] - 0s 182ms/step - loss: 4362.8442 - mape: 28.4291 - mae: 65.0229 - mse: 4362.8442 - val_loss: 5775.2646 - val_mape: 31.6187 - val_mae: 75.8648 - val_mse: 5775.2646\n"
     ]
    },
    {
     "name": "stdout",
     "output_type": "stream",
     "text": [
      "Epoch 199/500\n"
     ]
    },
    {
     "name": "stdout",
     "output_type": "stream",
     "text": [
      "\r",
      "1/1 [==============================] - ETA: 0s - loss: 4266.7544 - mape: 28.1457 - mae: 64.3594 - mse: 4266.7544"
     ]
    },
    {
     "name": "stdout",
     "output_type": "stream",
     "text": [
      "\b\b\b\b\b\b\b\b\b\b\b\b\b\b\b\b\b\b\b\b\b\b\b\b\b\b\b\b\b\b\b\b\b\b\b\b\b\b\b\b\b\b\b\b\b\b\b\b\b\b\b\b\b\b\b\b\b\b\b\b\b\b\b\b\b\b\b\b\b\b\b\b\b\b\b\b\b\b\b\b\b\b\b\b\b\b\b\b\b\b\b\b\b\b\b\b\b\b\b\b\b\b\b\b\b\b\b\b\b\b\b\b\r",
      "1/1 [==============================] - 0s 82ms/step - loss: 4266.7544 - mape: 28.1457 - mae: 64.3594 - mse: 4266.7544 - val_loss: 5700.0386 - val_mape: 31.4111 - val_mae: 75.3673 - val_mse: 5700.0386\n"
     ]
    },
    {
     "name": "stdout",
     "output_type": "stream",
     "text": [
      "Epoch 200/500\n"
     ]
    },
    {
     "name": "stdout",
     "output_type": "stream",
     "text": [
      "\r",
      "1/1 [==============================] - ETA: 0s - loss: 4150.2261 - mape: 27.8995 - mae: 63.7300 - mse: 4150.2261"
     ]
    },
    {
     "name": "stdout",
     "output_type": "stream",
     "text": [
      "\b\b\b\b\b\b\b\b\b\b\b\b\b\b\b\b\b\b\b\b\b\b\b\b\b\b\b\b\b\b\b\b\b\b\b\b\b\b\b\b\b\b\b\b\b\b\b\b\b\b\b\b\b\b\b\b\b\b\b\b\b\b\b\b\b\b\b\b\b\b\b\b\b\b\b\b\b\b\b\b\b\b\b\b\b\b\b\b\b\b\b\b\b\b\b\b\b\b\b\b\b\b\b\b\b\b\b\b\b\b\b\b\r",
      "1/1 [==============================] - 0s 93ms/step - loss: 4150.2261 - mape: 27.8995 - mae: 63.7300 - mse: 4150.2261 - val_loss: 5625.6719 - val_mape: 31.2046 - val_mae: 74.8724 - val_mse: 5625.6719\n"
     ]
    },
    {
     "name": "stdout",
     "output_type": "stream",
     "text": [
      "Epoch 201/500\n"
     ]
    },
    {
     "name": "stdout",
     "output_type": "stream",
     "text": [
      "\r",
      "1/1 [==============================] - ETA: 0s - loss: 3958.4692 - mape: 27.1059 - mae: 61.9905 - mse: 3958.4692"
     ]
    },
    {
     "name": "stdout",
     "output_type": "stream",
     "text": [
      "\b\b\b\b\b\b\b\b\b\b\b\b\b\b\b\b\b\b\b\b\b\b\b\b\b\b\b\b\b\b\b\b\b\b\b\b\b\b\b\b\b\b\b\b\b\b\b\b\b\b\b\b\b\b\b\b\b\b\b\b\b\b\b\b\b\b\b\b\b\b\b\b\b\b\b\b\b\b\b\b\b\b\b\b\b\b\b\b\b\b\b\b\b\b\b\b\b\b\b\b\b\b\b\b\b\b\b\b\b\b\b\b\r",
      "1/1 [==============================] - 0s 77ms/step - loss: 3958.4692 - mape: 27.1059 - mae: 61.9905 - mse: 3958.4692 - val_loss: 5552.2378 - val_mape: 30.9993 - val_mae: 74.3803 - val_mse: 5552.2378\n"
     ]
    },
    {
     "name": "stdout",
     "output_type": "stream",
     "text": [
      "Epoch 202/500\n"
     ]
    },
    {
     "name": "stdout",
     "output_type": "stream",
     "text": [
      "\r",
      "1/1 [==============================] - ETA: 0s - loss: 3948.1772 - mape: 27.1542 - mae: 62.0548 - mse: 3948.1772"
     ]
    },
    {
     "name": "stdout",
     "output_type": "stream",
     "text": [
      "\b\b\b\b\b\b\b\b\b\b\b\b\b\b\b\b\b\b\b\b\b\b\b\b\b\b\b\b\b\b\b\b\b\b\b\b\b\b\b\b\b\b\b\b\b\b\b\b\b\b\b\b\b\b\b\b\b\b\b\b\b\b\b\b\b\b\b\b\b\b\b\b\b\b\b\b\b\b\b\b\b\b\b\b\b\b\b\b\b\b\b\b\b\b\b\b\b\b\b\b\b\b\b\b\b\b\b\b\b\b\b\b\r",
      "1/1 [==============================] - 0s 81ms/step - loss: 3948.1772 - mape: 27.1542 - mae: 62.0548 - mse: 3948.1772 - val_loss: 5479.6909 - val_mape: 30.7952 - val_mae: 73.8911 - val_mse: 5479.6909\n"
     ]
    },
    {
     "name": "stdout",
     "output_type": "stream",
     "text": [
      "Epoch 203/500\n"
     ]
    },
    {
     "name": "stdout",
     "output_type": "stream",
     "text": [
      "\r",
      "1/1 [==============================] - ETA: 0s - loss: 3991.1909 - mape: 27.1934 - mae: 62.1995 - mse: 3991.1909"
     ]
    },
    {
     "name": "stdout",
     "output_type": "stream",
     "text": [
      "\b\b\b\b\b\b\b\b\b\b\b\b\b\b\b\b\b\b\b\b\b\b\b\b\b\b\b\b\b\b\b\b\b\b\b\b\b\b\b\b\b\b\b\b\b\b\b\b\b\b\b\b\b\b\b\b\b\b\b\b\b\b\b\b\b\b\b\b\b\b\b\b\b\b\b\b\b\b\b\b\b\b\b\b\b\b\b\b\b\b\b\b\b\b\b\b\b\b\b\b\b\b\b\b\b\b\b\b\b\b\b\b\r",
      "1/1 [==============================] - 0s 75ms/step - loss: 3991.1909 - mape: 27.1934 - mae: 62.1995 - mse: 3991.1909 - val_loss: 5407.9771 - val_mape: 30.5920 - val_mae: 73.4042 - val_mse: 5407.9771\n"
     ]
    },
    {
     "name": "stdout",
     "output_type": "stream",
     "text": [
      "Epoch 204/500\n"
     ]
    },
    {
     "name": "stdout",
     "output_type": "stream",
     "text": [
      "\r",
      "1/1 [==============================] - ETA: 0s - loss: 3875.5273 - mape: 26.7221 - mae: 61.1469 - mse: 3875.5273"
     ]
    },
    {
     "name": "stdout",
     "output_type": "stream",
     "text": [
      "\b\b\b\b\b\b\b\b\b\b\b\b\b\b\b\b\b\b\b\b\b\b\b\b\b\b\b\b\b\b\b\b\b\b\b\b\b\b\b\b\b\b\b\b\b\b\b\b\b\b\b\b\b\b\b\b\b\b\b\b\b\b\b\b\b\b\b\b\b\b\b\b\b\b\b\b\b\b\b\b\b\b\b\b\b\b\b\b\b\b\b\b\b\b\b\b\b\b\b\b\b\b\b\b\b\b\b\b\b\b\b\b\r",
      "1/1 [==============================] - 0s 77ms/step - loss: 3875.5273 - mape: 26.7221 - mae: 61.1469 - mse: 3875.5273 - val_loss: 5337.1338 - val_mape: 30.3900 - val_mae: 72.9200 - val_mse: 5337.1338\n"
     ]
    },
    {
     "name": "stdout",
     "output_type": "stream",
     "text": [
      "Epoch 205/500\n"
     ]
    },
    {
     "name": "stdout",
     "output_type": "stream",
     "text": [
      "\r",
      "1/1 [==============================] - ETA: 0s - loss: 3803.3655 - mape: 26.4520 - mae: 60.5420 - mse: 3803.3655"
     ]
    },
    {
     "name": "stdout",
     "output_type": "stream",
     "text": [
      "\b\b\b\b\b\b\b\b\b\b\b\b\b\b\b\b\b\b\b\b\b\b\b\b\b\b\b\b\b\b\b\b\b\b\b\b\b\b\b\b\b\b\b\b\b\b\b\b\b\b\b\b\b\b\b\b\b\b\b\b\b\b\b\b\b\b\b\b\b\b\b\b\b\b\b\b\b\b\b\b\b\b\b\b\b\b\b\b\b\b\b\b\b\b\b\b\b\b\b\b\b\b\b\b\b\b\b\b\b\b\b\b\r",
      "1/1 [==============================] - 0s 76ms/step - loss: 3803.3655 - mape: 26.4520 - mae: 60.5420 - mse: 3803.3655 - val_loss: 5267.1572 - val_mape: 30.1892 - val_mae: 72.4386 - val_mse: 5267.1572\n"
     ]
    },
    {
     "name": "stdout",
     "output_type": "stream",
     "text": [
      "Epoch 206/500\n"
     ]
    },
    {
     "name": "stdout",
     "output_type": "stream",
     "text": [
      "\r",
      "1/1 [==============================] - ETA: 0s - loss: 3735.2336 - mape: 26.2669 - mae: 60.0973 - mse: 3735.2336"
     ]
    },
    {
     "name": "stdout",
     "output_type": "stream",
     "text": [
      "\b\b\b\b\b\b\b\b\b\b\b\b\b\b\b\b\b\b\b\b\b\b\b\b\b\b\b\b\b\b\b\b\b\b\b\b\b\b\b\b\b\b\b\b\b\b\b\b\b\b\b\b\b\b\b\b\b\b\b\b\b\b\b\b\b\b\b\b\b\b\b\b\b\b\b\b\b\b\b\b\b\b\b\b\b\b\b\b\b\b\b\b\b\b\b\b\b\b\b\b\b\b\b\b\b\b\b\b\b\b\b\b\r",
      "1/1 [==============================] - 0s 73ms/step - loss: 3735.2336 - mape: 26.2669 - mae: 60.0973 - mse: 3735.2336 - val_loss: 5198.0361 - val_mape: 29.9894 - val_mae: 71.9599 - val_mse: 5198.0361\n"
     ]
    },
    {
     "name": "stdout",
     "output_type": "stream",
     "text": [
      "Epoch 207/500\n"
     ]
    },
    {
     "name": "stdout",
     "output_type": "stream",
     "text": [
      "\r",
      "1/1 [==============================] - ETA: 0s - loss: 3652.0574 - mape: 25.9420 - mae: 59.3589 - mse: 3652.0574"
     ]
    },
    {
     "name": "stdout",
     "output_type": "stream",
     "text": [
      "\b\b\b\b\b\b\b\b\b\b\b\b\b\b\b\b\b\b\b\b\b\b\b\b\b\b\b\b\b\b\b\b\b\b\b\b\b\b\b\b\b\b\b\b\b\b\b\b\b\b\b\b\b\b\b\b\b\b\b\b\b\b\b\b\b\b\b\b\b\b\b\b\b\b\b\b\b\b\b\b\b\b\b\b\b\b\b\b\b\b\b\b\b\b\b\b\b\b\b\b\b\b\b\b\b\b\b\b\b\b\b\b\r",
      "1/1 [==============================] - 0s 74ms/step - loss: 3652.0574 - mape: 25.9420 - mae: 59.3589 - mse: 3652.0574 - val_loss: 5129.7886 - val_mape: 29.7909 - val_mae: 71.4842 - val_mse: 5129.7886\n"
     ]
    },
    {
     "name": "stdout",
     "output_type": "stream",
     "text": [
      "Epoch 208/500\n"
     ]
    },
    {
     "name": "stdout",
     "output_type": "stream",
     "text": [
      "\r",
      "1/1 [==============================] - ETA: 0s - loss: 3720.2212 - mape: 26.2594 - mae: 60.0570 - mse: 3720.2212"
     ]
    },
    {
     "name": "stdout",
     "output_type": "stream",
     "text": [
      "\b\b\b\b\b\b\b\b\b\b\b\b\b\b\b\b\b\b\b\b\b\b\b\b\b\b\b\b\b\b\b\b\b\b\b\b\b\b\b\b\b\b\b\b\b\b\b\b\b\b\b\b\b\b\b\b\b\b\b\b\b\b\b\b\b\b\b\b\b\b\b\b\b\b\b\b\b\b\b\b\b\b\b\b\b\b\b\b\b\b\b\b\b\b\b\b\b\b\b\b\b\b\b\b\b\b\b\b\b\b\b\b\r",
      "1/1 [==============================] - 0s 78ms/step - loss: 3720.2212 - mape: 26.2594 - mae: 60.0570 - mse: 3720.2212 - val_loss: 5062.3086 - val_mape: 29.5933 - val_mae: 71.0106 - val_mse: 5062.3086\n"
     ]
    },
    {
     "name": "stdout",
     "output_type": "stream",
     "text": [
      "Epoch 209/500\n"
     ]
    },
    {
     "name": "stdout",
     "output_type": "stream",
     "text": [
      "\r",
      "1/1 [==============================] - ETA: 0s - loss: 3636.6819 - mape: 26.1184 - mae: 59.6580 - mse: 3636.6819"
     ]
    },
    {
     "name": "stdout",
     "output_type": "stream",
     "text": [
      "\b\b\b\b\b\b\b\b\b\b\b\b\b\b\b\b\b\b\b\b\b\b\b\b\b\b\b\b\b\b\b\b\b\b\b\b\b\b\b\b\b\b\b\b\b\b\b\b\b\b\b\b\b\b\b\b\b\b\b\b\b\b\b\b\b\b\b\b\b\b\b\b\b\b\b\b\b\b\b\b\b\b\b\b\b\b\b\b\b\b\b\b\b\b\b\b\b\b\b\b\b\b\b\b\b\b\b\b\b\b\b\b\r",
      "1/1 [==============================] - 0s 82ms/step - loss: 3636.6819 - mape: 26.1184 - mae: 59.6580 - mse: 3636.6819 - val_loss: 4995.5991 - val_mape: 29.3967 - val_mae: 70.5393 - val_mse: 4995.5991\n"
     ]
    },
    {
     "name": "stdout",
     "output_type": "stream",
     "text": [
      "Epoch 210/500\n"
     ]
    },
    {
     "name": "stdout",
     "output_type": "stream",
     "text": [
      "\r",
      "1/1 [==============================] - ETA: 0s - loss: 3420.8748 - mape: 24.9166 - mae: 57.0918 - mse: 3420.8748"
     ]
    },
    {
     "name": "stdout",
     "output_type": "stream",
     "text": [
      "\b\b\b\b\b\b\b\b\b\b\b\b\b\b\b\b\b\b\b\b\b\b\b\b\b\b\b\b\b\b\b\b\b\b\b\b\b\b\b\b\b\b\b\b\b\b\b\b\b\b\b\b\b\b\b\b\b\b\b\b\b\b\b\b\b\b\b\b\b\b\b\b\b\b\b\b\b\b\b\b\b\b\b\b\b\b\b\b\b\b\b\b\b\b\b\b\b\b\b\b\b\b\b\b\b\b\b\b\b\b\b\b\r",
      "1/1 [==============================] - 0s 75ms/step - loss: 3420.8748 - mape: 24.9166 - mae: 57.0918 - mse: 3420.8748 - val_loss: 4929.8208 - val_mape: 29.2015 - val_mae: 70.0715 - val_mse: 4929.8208\n"
     ]
    },
    {
     "name": "stdout",
     "output_type": "stream",
     "text": [
      "Epoch 211/500\n"
     ]
    },
    {
     "name": "stdout",
     "output_type": "stream",
     "text": [
      "\r",
      "1/1 [==============================] - ETA: 0s - loss: 3353.0413 - mape: 24.8859 - mae: 56.9407 - mse: 3353.0413"
     ]
    },
    {
     "name": "stdout",
     "output_type": "stream",
     "text": [
      "\b\b\b\b\b\b\b\b\b\b\b\b\b\b\b\b\b\b\b\b\b\b\b\b\b\b\b\b\b\b\b\b\b\b\b\b\b\b\b\b\b\b\b\b\b\b\b\b\b\b\b\b\b\b\b\b\b\b\b\b\b\b\b\b\b\b\b\b\b\b\b\b\b\b\b\b\b\b\b\b\b\b\b\b\b\b\b\b\b\b\b\b\b\b\b\b\b\b\b\b\b\b\b\b\b\b\b\b\b\b\b\b\r",
      "1/1 [==============================] - 0s 77ms/step - loss: 3353.0413 - mape: 24.8859 - mae: 56.9407 - mse: 3353.0413 - val_loss: 4864.9170 - val_mape: 29.0077 - val_mae: 69.6069 - val_mse: 4864.9170\n"
     ]
    },
    {
     "name": "stdout",
     "output_type": "stream",
     "text": [
      "Epoch 212/500\n"
     ]
    },
    {
     "name": "stdout",
     "output_type": "stream",
     "text": [
      "\r",
      "1/1 [==============================] - ETA: 0s - loss: 3368.9163 - mape: 24.9226 - mae: 57.0288 - mse: 3368.9163"
     ]
    },
    {
     "name": "stdout",
     "output_type": "stream",
     "text": [
      "\b\b\b\b\b\b\b\b\b\b\b\b\b\b\b\b\b\b\b\b\b\b\b\b\b\b\b\b\b\b\b\b\b\b\b\b\b\b\b\b\b\b\b\b\b\b\b\b\b\b\b\b\b\b\b\b\b\b\b\b\b\b\b\b\b\b\b\b\b\b\b\b\b\b\b\b\b\b\b\b\b\b\b\b\b\b\b\b\b\b\b\b\b\b\b\b\b\b\b\b\b\b\b\b\b\b\b\b\b\b\b\b\r",
      "1/1 [==============================] - 0s 77ms/step - loss: 3368.9163 - mape: 24.9226 - mae: 57.0288 - mse: 3368.9163 - val_loss: 4800.8271 - val_mape: 28.8149 - val_mae: 69.1450 - val_mse: 4800.8271\n"
     ]
    },
    {
     "name": "stdout",
     "output_type": "stream",
     "text": [
      "Epoch 213/500\n"
     ]
    },
    {
     "name": "stdout",
     "output_type": "stream",
     "text": [
      "\r",
      "1/1 [==============================] - ETA: 0s - loss: 3268.7161 - mape: 24.5710 - mae: 56.2196 - mse: 3268.7161"
     ]
    },
    {
     "name": "stdout",
     "output_type": "stream",
     "text": [
      "\b\b\b\b\b\b\b\b\b\b\b\b\b\b\b\b\b\b\b\b\b\b\b\b\b\b\b\b\b\b\b\b\b\b\b\b\b\b\b\b\b\b\b\b\b\b\b\b\b\b\b\b\b\b\b\b\b\b\b\b\b\b\b\b\b\b\b\b\b\b\b\b\b\b\b\b\b\b\b\b\b\b\b\b\b\b\b\b\b\b\b\b\b\b\b\b\b\b\b\b\b\b\b\b\b\b\b\b\b\b\b\b\r",
      "1/1 [==============================] - 0s 183ms/step - loss: 3268.7161 - mape: 24.5710 - mae: 56.2196 - mse: 3268.7161 - val_loss: 4737.5493 - val_mape: 28.6234 - val_mae: 68.6859 - val_mse: 4737.5493\n"
     ]
    },
    {
     "name": "stdout",
     "output_type": "stream",
     "text": [
      "Epoch 214/500\n"
     ]
    },
    {
     "name": "stdout",
     "output_type": "stream",
     "text": [
      "\r",
      "1/1 [==============================] - ETA: 0s - loss: 3226.8286 - mape: 24.3901 - mae: 55.8098 - mse: 3226.8286"
     ]
    },
    {
     "name": "stdout",
     "output_type": "stream",
     "text": [
      "\b\b\b\b\b\b\b\b\b\b\b\b\b\b\b\b\b\b\b\b\b\b\b\b\b\b\b\b\b\b\b\b\b\b\b\b\b\b\b\b\b\b\b\b\b\b\b\b\b\b\b\b\b\b\b\b\b\b\b\b\b\b\b\b\b\b\b\b\b\b\b\b\b\b\b\b\b\b\b\b\b\b\b\b\b\b\b\b\b\b\b\b\b\b\b\b\b\b\b\b\b\b\b\b\b\b\b\b\b\b\b\b\r",
      "1/1 [==============================] - 0s 74ms/step - loss: 3226.8286 - mape: 24.3901 - mae: 55.8098 - mse: 3226.8286 - val_loss: 4675.0972 - val_mape: 28.4331 - val_mae: 68.2297 - val_mse: 4675.0972\n"
     ]
    },
    {
     "name": "stdout",
     "output_type": "stream",
     "text": [
      "Epoch 215/500\n"
     ]
    },
    {
     "name": "stdout",
     "output_type": "stream",
     "text": [
      "\r",
      "1/1 [==============================] - ETA: 0s - loss: 3299.0957 - mape: 24.7123 - mae: 56.5235 - mse: 3299.0957"
     ]
    },
    {
     "name": "stdout",
     "output_type": "stream",
     "text": [
      "\b\b\b\b\b\b\b\b\b\b\b\b\b\b\b\b\b\b\b\b\b\b\b\b\b\b\b\b\b\b\b\b\b\b\b\b\b\b\b\b\b\b\b\b\b\b\b\b\b\b\b\b\b\b\b\b\b\b\b\b\b\b\b\b\b\b\b\b\b\b\b\b\b\b\b\b\b\b\b\b\b\b\b\b\b\b\b\b\b\b\b\b\b\b\b\b\b\b\b\b\b\b\b\b\b\b\b\b\b\b\b\b\r",
      "1/1 [==============================] - 0s 73ms/step - loss: 3299.0957 - mape: 24.7123 - mae: 56.5235 - mse: 3299.0957 - val_loss: 4613.3745 - val_mape: 28.2437 - val_mae: 67.7759 - val_mse: 4613.3745\n"
     ]
    },
    {
     "name": "stdout",
     "output_type": "stream",
     "text": [
      "Epoch 216/500\n"
     ]
    },
    {
     "name": "stdout",
     "output_type": "stream",
     "text": [
      "\r",
      "1/1 [==============================] - ETA: 0s - loss: 3052.0208 - mape: 23.6576 - mae: 54.1535 - mse: 3052.0208"
     ]
    },
    {
     "name": "stdout",
     "output_type": "stream",
     "text": [
      "\b\b\b\b\b\b\b\b\b\b\b\b\b\b\b\b\b\b\b\b\b\b\b\b\b\b\b\b\b\b\b\b\b\b\b\b\b\b\b\b\b\b\b\b\b\b\b\b\b\b\b\b\b\b\b\b\b\b\b\b\b\b\b\b\b\b\b\b\b\b\b\b\b\b\b\b\b\b\b\b\b\b\b\b\b\b\b\b\b\b\b\b\b\b\b\b\b\b\b\b\b\b\b\b\b\b\b\b\b\b\b\b\r",
      "1/1 [==============================] - 0s 78ms/step - loss: 3052.0208 - mape: 23.6576 - mae: 54.1535 - mse: 3052.0208 - val_loss: 4552.5049 - val_mape: 28.0557 - val_mae: 67.3253 - val_mse: 4552.5049\n"
     ]
    },
    {
     "name": "stdout",
     "output_type": "stream",
     "text": [
      "Epoch 217/500\n"
     ]
    },
    {
     "name": "stdout",
     "output_type": "stream",
     "text": [
      "\r",
      "1/1 [==============================] - ETA: 0s - loss: 3210.6023 - mape: 24.2131 - mae: 55.4567 - mse: 3210.6023"
     ]
    },
    {
     "name": "stdout",
     "output_type": "stream",
     "text": [
      "\b\b\b\b\b\b\b\b\b\b\b\b\b\b\b\b\b\b\b\b\b\b\b\b\b\b\b\b\b\b\b\b\b\b\b\b\b\b\b\b\b\b\b\b\b\b\b\b\b\b\b\b\b\b\b\b\b\b\b\b\b\b\b\b\b\b\b\b\b\b\b\b\b\b\b\b\b\b\b\b\b\b\b\b\b\b\b\b\b\b\b\b\b\b\b\b\b\b\b\b\b\b\b\b\b\b\b\b\b\b\b\b\r",
      "1/1 [==============================] - 0s 75ms/step - loss: 3210.6023 - mape: 24.2131 - mae: 55.4567 - mse: 3210.6023 - val_loss: 4492.3540 - val_mape: 27.8687 - val_mae: 66.8771 - val_mse: 4492.3540\n"
     ]
    },
    {
     "name": "stdout",
     "output_type": "stream",
     "text": [
      "Epoch 218/500\n"
     ]
    },
    {
     "name": "stdout",
     "output_type": "stream",
     "text": [
      "\r",
      "1/1 [==============================] - ETA: 0s - loss: 3126.3235 - mape: 23.7769 - mae: 54.4973 - mse: 3126.3235"
     ]
    },
    {
     "name": "stdout",
     "output_type": "stream",
     "text": [
      "\b\b\b\b\b\b\b\b\b\b\b\b\b\b\b\b\b\b\b\b\b\b\b\b\b\b\b\b\b\b\b\b\b\b\b\b\b\b\b\b\b\b\b\b\b\b\b\b\b\b\b\b\b\b\b\b\b\b\b\b\b\b\b\b\b\b\b\b\b\b\b\b\b\b\b\b\b\b\b\b\b\b\b\b\b\b\b\b\b\b\b\b\b\b\b\b\b\b\b\b\b\b\b\b\b\b\b\b\b\b\b\b\r",
      "1/1 [==============================] - 0s 75ms/step - loss: 3126.3235 - mape: 23.7769 - mae: 54.4973 - mse: 3126.3235 - val_loss: 4432.9600 - val_mape: 27.6828 - val_mae: 66.4316 - val_mse: 4432.9600\n"
     ]
    },
    {
     "name": "stdout",
     "output_type": "stream",
     "text": [
      "Epoch 219/500\n"
     ]
    },
    {
     "name": "stdout",
     "output_type": "stream",
     "text": [
      "\r",
      "1/1 [==============================] - ETA: 0s - loss: 3083.4023 - mape: 23.7216 - mae: 54.3325 - mse: 3083.4023"
     ]
    },
    {
     "name": "stdout",
     "output_type": "stream",
     "text": [
      "\b\b\b\b\b\b\b\b\b\b\b\b\b\b\b\b\b\b\b\b\b\b\b\b\b\b\b\b\b\b\b\b\b\b\b\b\b\b\b\b\b\b\b\b\b\b\b\b\b\b\b\b\b\b\b\b\b\b\b\b\b\b\b\b\b\b\b\b\b\b\b\b\b\b\b\b\b\b\b\b\b\b\b\b\b\b\b\b\b\b\b\b\b\b\b\b\b\b\b\b\b\b\b\b\b\b\b\b\b\b\b\b\r",
      "1/1 [==============================] - 0s 77ms/step - loss: 3083.4023 - mape: 23.7216 - mae: 54.3325 - mse: 3083.4023 - val_loss: 4374.2920 - val_mape: 27.4980 - val_mae: 65.9886 - val_mse: 4374.2920\n"
     ]
    },
    {
     "name": "stdout",
     "output_type": "stream",
     "text": [
      "Epoch 220/500\n"
     ]
    },
    {
     "name": "stdout",
     "output_type": "stream",
     "text": [
      "\r",
      "1/1 [==============================] - ETA: 0s - loss: 2979.7712 - mape: 23.2878 - mae: 53.3464 - mse: 2979.7712"
     ]
    },
    {
     "name": "stdout",
     "output_type": "stream",
     "text": [
      "\b\b\b\b\b\b\b\b\b\b\b\b\b\b\b\b\b\b\b\b\b\b\b\b\b\b\b\b\b\b\b\b\b\b\b\b\b\b\b\b\b\b\b\b\b\b\b\b\b\b\b\b\b\b\b\b\b\b\b\b\b\b\b\b\b\b\b\b\b\b\b\b\b\b\b\b\b\b\b\b\b\b\b\b\b\b\b\b\b\b\b\b\b\b\b\b\b\b\b\b\b\b\b\b\b\b\b\b\b\b\b\b\r",
      "1/1 [==============================] - 0s 76ms/step - loss: 2979.7712 - mape: 23.2878 - mae: 53.3464 - mse: 2979.7712 - val_loss: 4316.3774 - val_mape: 27.3143 - val_mae: 65.5483 - val_mse: 4316.3774\n"
     ]
    },
    {
     "name": "stdout",
     "output_type": "stream",
     "text": [
      "Epoch 221/500\n"
     ]
    },
    {
     "name": "stdout",
     "output_type": "stream",
     "text": [
      "\r",
      "1/1 [==============================] - ETA: 0s - loss: 2899.3928 - mape: 23.1633 - mae: 52.9777 - mse: 2899.3928"
     ]
    },
    {
     "name": "stdout",
     "output_type": "stream",
     "text": [
      "\b\b\b\b\b\b\b\b\b\b\b\b\b\b\b\b\b\b\b\b\b\b\b\b\b\b\b\b\b\b\b\b\b\b\b\b\b\b\b\b\b\b\b\b\b\b\b\b\b\b\b\b\b\b\b\b\b\b\b\b\b\b\b\b\b\b\b\b\b\b\b\b\b\b\b\b\b\b\b\b\b\b\b\b\b\b\b\b\b\b\b\b\b\b\b\b\b\b\b\b\b\b\b\b\b\b\b\b\b\b\b\b\r",
      "1/1 [==============================] - 0s 75ms/step - loss: 2899.3928 - mape: 23.1633 - mae: 52.9777 - mse: 2899.3928 - val_loss: 4259.1885 - val_mape: 27.1316 - val_mae: 65.1106 - val_mse: 4259.1885\n"
     ]
    },
    {
     "name": "stdout",
     "output_type": "stream",
     "text": [
      "Epoch 222/500\n"
     ]
    },
    {
     "name": "stdout",
     "output_type": "stream",
     "text": [
      "\r",
      "1/1 [==============================] - ETA: 0s - loss: 2894.1482 - mape: 23.0845 - mae: 52.8361 - mse: 2894.1482"
     ]
    },
    {
     "name": "stdout",
     "output_type": "stream",
     "text": [
      "\b\b\b\b\b\b\b\b\b\b\b\b\b\b\b\b\b\b\b\b\b\b\b\b\b\b\b\b\b\b\b\b\b\b\b\b\b\b\b\b\b\b\b\b\b\b\b\b\b\b\b\b\b\b\b\b\b\b\b\b\b\b\b\b\b\b\b\b\b\b\b\b\b\b\b\b\b\b\b\b\b\b\b\b\b\b\b\b\b\b\b\b\b\b\b\b\b\b\b\b\b\b\b\b\b\b\b\b\b\b\b\b\r",
      "1/1 [==============================] - 0s 77ms/step - loss: 2894.1482 - mape: 23.0845 - mae: 52.8361 - mse: 2894.1482 - val_loss: 4202.7148 - val_mape: 26.9501 - val_mae: 64.6754 - val_mse: 4202.7148\n"
     ]
    },
    {
     "name": "stdout",
     "output_type": "stream",
     "text": [
      "Epoch 223/500\n"
     ]
    },
    {
     "name": "stdout",
     "output_type": "stream",
     "text": [
      "\r",
      "1/1 [==============================] - ETA: 0s - loss: 2805.9788 - mape: 22.5603 - mae: 51.6894 - mse: 2805.9788"
     ]
    },
    {
     "name": "stdout",
     "output_type": "stream",
     "text": [
      "\b\b\b\b\b\b\b\b\b\b\b\b\b\b\b\b\b\b\b\b\b\b\b\b\b\b\b\b\b\b\b\b\b\b\b\b\b\b\b\b\b\b\b\b\b\b\b\b\b\b\b\b\b\b\b\b\b\b\b\b\b\b\b\b\b\b\b\b\b\b\b\b\b\b\b\b\b\b\b\b\b\b\b\b\b\b\b\b\b\b\b\b\b\b\b\b\b\b\b\b\b\b\b\b\b\b\b\b\b\b\b\b\r",
      "1/1 [==============================] - 0s 121ms/step - loss: 2805.9788 - mape: 22.5603 - mae: 51.6894 - mse: 2805.9788 - val_loss: 4146.9985 - val_mape: 26.7698 - val_mae: 64.2433 - val_mse: 4146.9985\n"
     ]
    },
    {
     "name": "stdout",
     "output_type": "stream",
     "text": [
      "Epoch 224/500\n"
     ]
    },
    {
     "name": "stdout",
     "output_type": "stream",
     "text": [
      "\r",
      "1/1 [==============================] - ETA: 0s - loss: 2676.2964 - mape: 22.1763 - mae: 50.7600 - mse: 2676.2964"
     ]
    },
    {
     "name": "stdout",
     "output_type": "stream",
     "text": [
      "\b\b\b\b\b\b\b\b\b\b\b\b\b\b\b\b\b\b\b\b\b\b\b\b\b\b\b\b\b\b\b\b\b\b\b\b\b\b\b\b\b\b\b\b\b\b\b\b\b\b\b\b\b\b\b\b\b\b\b\b\b\b\b\b\b\b\b\b\b\b\b\b\b\b\b\b\b\b\b\b\b\b\b\b\b\b\b\b\b\b\b\b\b\b\b\b\b\b\b\b\b\b\b\b\b\b\b\b\b\b\b\b\r",
      "1/1 [==============================] - 0s 79ms/step - loss: 2676.2964 - mape: 22.1763 - mae: 50.7600 - mse: 2676.2964 - val_loss: 4092.0610 - val_mape: 26.5908 - val_mae: 63.8143 - val_mse: 4092.0610\n"
     ]
    },
    {
     "name": "stdout",
     "output_type": "stream",
     "text": [
      "Epoch 225/500\n"
     ]
    },
    {
     "name": "stdout",
     "output_type": "stream",
     "text": [
      "\r",
      "1/1 [==============================] - ETA: 0s - loss: 2827.0872 - mape: 22.7266 - mae: 52.0451 - mse: 2827.0872"
     ]
    },
    {
     "name": "stdout",
     "output_type": "stream",
     "text": [
      "\b\b\b\b\b\b\b\b\b\b\b\b\b\b\b\b\b\b\b\b\b\b\b\b\b\b\b\b\b\b\b\b\b\b\b\b\b\b\b\b\b\b\b\b\b\b\b\b\b\b\b\b\b\b\b\b\b\b\b\b\b\b\b\b\b\b\b\b\b\b\b\b\b\b\b\b\b\b\b\b\b\b\b\b\b\b\b\b\b\b\b\b\b\b\b\b\b\b\b\b\b\b\b\b\b\b\b\b\b\b\b\b\r",
      "1/1 [==============================] - 0s 83ms/step - loss: 2827.0872 - mape: 22.7266 - mae: 52.0451 - mse: 2827.0872 - val_loss: 4037.7605 - val_mape: 26.4127 - val_mae: 63.3874 - val_mse: 4037.7605\n"
     ]
    },
    {
     "name": "stdout",
     "output_type": "stream",
     "text": [
      "Epoch 226/500\n"
     ]
    },
    {
     "name": "stdout",
     "output_type": "stream",
     "text": [
      "\r",
      "1/1 [==============================] - ETA: 0s - loss: 2629.4973 - mape: 21.8992 - mae: 50.1612 - mse: 2629.4973"
     ]
    },
    {
     "name": "stdout",
     "output_type": "stream",
     "text": [
      "\b\b\b\b\b\b\b\b\b\b\b\b\b\b\b\b\b\b\b\b\b\b\b\b\b\b\b\b\b\b\b\b\b\b\b\b\b\b\b\b\b\b\b\b\b\b\b\b\b\b\b\b\b\b\b\b\b\b\b\b\b\b\b\b\b\b\b\b\b\b\b\b\b\b\b\b\b\b\b\b\b\b\b\b\b\b\b\b\b\b\b\b\b\b\b\b\b\b\b\b\b\b\b\b\b\b\b\b\b\b\b\b\r",
      "1/1 [==============================] - 0s 82ms/step - loss: 2629.4973 - mape: 21.8992 - mae: 50.1612 - mse: 2629.4973 - val_loss: 3984.2092 - val_mape: 26.2358 - val_mae: 62.9635 - val_mse: 3984.2092\n"
     ]
    },
    {
     "name": "stdout",
     "output_type": "stream",
     "text": [
      "Epoch 227/500\n"
     ]
    },
    {
     "name": "stdout",
     "output_type": "stream",
     "text": [
      "\r",
      "1/1 [==============================] - ETA: 0s - loss: 2652.0176 - mape: 21.9105 - mae: 50.2232 - mse: 2652.0176"
     ]
    },
    {
     "name": "stdout",
     "output_type": "stream",
     "text": [
      "\b\b\b\b\b\b\b\b\b\b\b\b\b\b\b\b\b\b\b\b\b\b\b\b\b\b\b\b\b\b\b\b\b\b\b\b\b\b\b\b\b\b\b\b\b\b\b\b\b\b\b\b\b\b\b\b\b\b\b\b\b\b\b\b\b\b\b\b\b\b\b\b\b\b\b\b\b\b\b\b\b\b\b\b\b\b\b\b\b\b\b\b\b\b\b\b\b\b\b\b\b\b\b\b\b\b\b\b\b\b\b\b\r",
      "1/1 [==============================] - 0s 72ms/step - loss: 2652.0176 - mape: 21.9105 - mae: 50.2232 - mse: 2652.0176 - val_loss: 3931.3586 - val_mape: 26.0601 - val_mae: 62.5424 - val_mse: 3931.3586\n"
     ]
    },
    {
     "name": "stdout",
     "output_type": "stream",
     "text": [
      "Epoch 228/500\n"
     ]
    },
    {
     "name": "stdout",
     "output_type": "stream",
     "text": [
      "\r",
      "1/1 [==============================] - ETA: 0s - loss: 2667.5100 - mape: 22.0845 - mae: 50.5687 - mse: 2667.5100"
     ]
    },
    {
     "name": "stdout",
     "output_type": "stream",
     "text": [
      "\b\b\b\b\b\b\b\b\b\b\b\b\b\b\b\b\b\b\b\b\b\b\b\b\b\b\b\b\b\b\b\b\b\b\b\b\b\b\b\b\b\b\b\b\b\b\b\b\b\b\b\b\b\b\b\b\b\b\b\b\b\b\b\b\b\b\b\b\b\b\b\b\b\b\b\b\b\b\b\b\b\b\b\b\b\b\b\b\b\b\b\b\b\b\b\b\b\b\b\b\b\b\b\b\b\b\b\b\b\b\b\b\r",
      "1/1 [==============================] - 0s 265ms/step - loss: 2667.5100 - mape: 22.0845 - mae: 50.5687 - mse: 2667.5100 - val_loss: 3879.1289 - val_mape: 25.8853 - val_mae: 62.1235 - val_mse: 3879.1289\n"
     ]
    },
    {
     "name": "stdout",
     "output_type": "stream",
     "text": [
      "Epoch 229/500\n"
     ]
    },
    {
     "name": "stdout",
     "output_type": "stream",
     "text": [
      "\r",
      "1/1 [==============================] - ETA: 0s - loss: 2646.7681 - mape: 21.9723 - mae: 50.3249 - mse: 2646.7681"
     ]
    },
    {
     "name": "stdout",
     "output_type": "stream",
     "text": [
      "\b\b\b\b\b\b\b\b\b\b\b\b\b\b\b\b\b\b\b\b\b\b\b\b\b\b\b\b\b\b\b\b\b\b\b\b\b\b\b\b\b\b\b\b\b\b\b\b\b\b\b\b\b\b\b\b\b\b\b\b\b\b\b\b\b\b\b\b\b\b\b\b\b\b\b\b\b\b\b\b\b\b\b\b\b\b\b\b\b\b\b\b\b\b\b\b\b\b\b\b\b\b\b\b\b\b\b\b\b\b\b\b\r",
      "1/1 [==============================] - 0s 89ms/step - loss: 2646.7681 - mape: 21.9723 - mae: 50.3249 - mse: 2646.7681 - val_loss: 3827.5078 - val_mape: 25.7114 - val_mae: 61.7066 - val_mse: 3827.5078\n"
     ]
    },
    {
     "name": "stdout",
     "output_type": "stream",
     "text": [
      "Epoch 230/500\n"
     ]
    },
    {
     "name": "stdout",
     "output_type": "stream",
     "text": [
      "\r",
      "1/1 [==============================] - ETA: 0s - loss: 2516.6106 - mape: 21.3589 - mae: 48.9413 - mse: 2516.6106"
     ]
    },
    {
     "name": "stdout",
     "output_type": "stream",
     "text": [
      "\b\b\b\b\b\b\b\b\b\b\b\b\b\b\b\b\b\b\b\b\b\b\b\b\b\b\b\b\b\b\b\b\b\b\b\b\b\b\b\b\b\b\b\b\b\b\b\b\b\b\b\b\b\b\b\b\b\b\b\b\b\b\b\b\b\b\b\b\b\b\b\b\b\b\b\b\b\b\b\b\b\b\b\b\b\b\b\b\b\b\b\b\b\b\b\b\b\b\b\b\b\b\b\b\b\b\b\b\b\b\b\b\r",
      "1/1 [==============================] - 0s 76ms/step - loss: 2516.6106 - mape: 21.3589 - mae: 48.9413 - mse: 2516.6106 - val_loss: 3776.5762 - val_mape: 25.5386 - val_mae: 61.2925 - val_mse: 3776.5762\n"
     ]
    },
    {
     "name": "stdout",
     "output_type": "stream",
     "text": [
      "Epoch 231/500\n"
     ]
    },
    {
     "name": "stdout",
     "output_type": "stream",
     "text": [
      "\r",
      "1/1 [==============================] - ETA: 0s - loss: 2367.6433 - mape: 20.6901 - mae: 47.4179 - mse: 2367.6433"
     ]
    },
    {
     "name": "stdout",
     "output_type": "stream",
     "text": [
      "\b\b\b\b\b\b\b\b\b\b\b\b\b\b\b\b\b\b\b\b\b\b\b\b\b\b\b\b\b\b\b\b\b\b\b\b\b\b\b\b\b\b\b\b\b\b\b\b\b\b\b\b\b\b\b\b\b\b\b\b\b\b\b\b\b\b\b\b\b\b\b\b\b\b\b\b\b\b\b\b\b\b\b\b\b\b\b\b\b\b\b\b\b\b\b\b\b\b\b\b\b\b\b\b\b\b\b\b\b\b\b\b\r",
      "1/1 [==============================] - 0s 83ms/step - loss: 2367.6433 - mape: 20.6901 - mae: 47.4179 - mse: 2367.6433 - val_loss: 3726.3901 - val_mape: 25.3672 - val_mae: 60.8817 - val_mse: 3726.3901\n"
     ]
    },
    {
     "name": "stdout",
     "output_type": "stream",
     "text": [
      "Epoch 232/500\n"
     ]
    },
    {
     "name": "stdout",
     "output_type": "stream",
     "text": [
      "\r",
      "1/1 [==============================] - ETA: 0s - loss: 2558.5139 - mape: 21.6114 - mae: 49.4909 - mse: 2558.5139"
     ]
    },
    {
     "name": "stdout",
     "output_type": "stream",
     "text": [
      "\b\b\b\b\b\b\b\b\b\b\b\b\b\b\b\b\b\b\b\b\b\b\b\b\b\b\b\b\b\b\b\b\b\b\b\b\b\b\b\b\b\b\b\b\b\b\b\b\b\b\b\b\b\b\b\b\b\b\b\b\b\b\b\b\b\b\b\b\b\b\b\b\b\b\b\b\b\b\b\b\b\b\b\b\b\b\b\b\b\b\b\b\b\b\b\b\b\b\b\b\b\b\b\b\b\b\b\b\b\b\b\b\r",
      "1/1 [==============================] - 0s 85ms/step - loss: 2558.5139 - mape: 21.6114 - mae: 49.4909 - mse: 2558.5139 - val_loss: 3676.7673 - val_mape: 25.1966 - val_mae: 60.4728 - val_mse: 3676.7673\n"
     ]
    },
    {
     "name": "stdout",
     "output_type": "stream",
     "text": [
      "Epoch 233/500\n"
     ]
    },
    {
     "name": "stdout",
     "output_type": "stream",
     "text": [
      "\r",
      "1/1 [==============================] - ETA: 0s - loss: 2465.0542 - mape: 20.9890 - mae: 48.1577 - mse: 2465.0542"
     ]
    },
    {
     "name": "stdout",
     "output_type": "stream",
     "text": [
      "\b\b\b\b\b\b\b\b\b\b\b\b\b\b\b\b\b\b\b\b\b\b\b\b\b\b\b\b\b\b\b\b\b\b\b\b\b\b\b\b\b\b\b\b\b\b\b\b\b\b\b\b\b\b\b\b\b\b\b\b\b\b\b\b\b\b\b\b\b\b\b\b\b\b\b\b\b\b\b\b\b\b\b\b\b\b\b\b\b\b\b\b\b\b\b\b\b\b\b\b\b\b\b\b\b\b\b\b\b\b\b\b\r",
      "1/1 [==============================] - 0s 104ms/step - loss: 2465.0542 - mape: 20.9890 - mae: 48.1577 - mse: 2465.0542 - val_loss: 3627.7808 - val_mape: 25.0271 - val_mae: 60.0664 - val_mse: 3627.7808\n"
     ]
    },
    {
     "name": "stdout",
     "output_type": "stream",
     "text": [
      "Epoch 234/500\n"
     ]
    },
    {
     "name": "stdout",
     "output_type": "stream",
     "text": [
      "\r",
      "1/1 [==============================] - ETA: 0s - loss: 2372.0291 - mape: 20.6167 - mae: 47.2903 - mse: 2372.0291"
     ]
    },
    {
     "name": "stdout",
     "output_type": "stream",
     "text": [
      "\b\b\b\b\b\b\b\b\b\b\b\b\b\b\b\b\b\b\b\b\b\b\b\b\b\b\b\b\b\b\b\b\b\b\b\b\b\b\b\b\b\b\b\b\b\b\b\b\b\b\b\b\b\b\b\b\b\b\b\b\b\b\b\b\b\b\b\b\b\b\b\b\b\b\b\b\b\b\b\b\b\b\b\b\b\b\b\b\b\b\b\b\b\b\b\b\b\b\b\b\b\b\b\b\b\b\b\b\b\b\b\b\r",
      "1/1 [==============================] - 0s 81ms/step - loss: 2372.0291 - mape: 20.6167 - mae: 47.2903 - mse: 2372.0291 - val_loss: 3579.4473 - val_mape: 24.8586 - val_mae: 59.6628 - val_mse: 3579.4473\n"
     ]
    },
    {
     "name": "stdout",
     "output_type": "stream",
     "text": [
      "Epoch 235/500\n"
     ]
    },
    {
     "name": "stdout",
     "output_type": "stream",
     "text": [
      "\r",
      "1/1 [==============================] - ETA: 0s - loss: 2292.5720 - mape: 20.3879 - mae: 46.7188 - mse: 2292.5720"
     ]
    },
    {
     "name": "stdout",
     "output_type": "stream",
     "text": [
      "\b\b\b\b\b\b\b\b\b\b\b\b\b\b\b\b\b\b\b\b\b\b\b\b\b\b\b\b\b\b\b\b\b\b\b\b\b\b\b\b\b\b\b\b\b\b\b\b\b\b\b\b\b\b\b\b\b\b\b\b\b\b\b\b\b\b\b\b\b\b\b\b\b\b\b\b\b\b\b\b\b\b\b\b\b\b\b\b\b\b\b\b\b\b\b\b\b\b\b\b\b\b\b\b\b\b\b\b\b\b\b\b\r",
      "1/1 [==============================] - 0s 77ms/step - loss: 2292.5720 - mape: 20.3879 - mae: 46.7188 - mse: 2292.5720 - val_loss: 3531.7661 - val_mape: 24.6914 - val_mae: 59.2618 - val_mse: 3531.7661\n"
     ]
    },
    {
     "name": "stdout",
     "output_type": "stream",
     "text": [
      "Epoch 236/500\n"
     ]
    },
    {
     "name": "stdout",
     "output_type": "stream",
     "text": [
      "\r",
      "1/1 [==============================] - ETA: 0s - loss: 2352.1545 - mape: 20.5383 - mae: 47.1044 - mse: 2352.1545"
     ]
    },
    {
     "name": "stdout",
     "output_type": "stream",
     "text": [
      "\b\b\b\b\b\b\b\b\b\b\b\b\b\b\b\b\b\b\b\b\b\b\b\b\b\b\b\b\b\b\b\b\b\b\b\b\b\b\b\b\b\b\b\b\b\b\b\b\b\b\b\b\b\b\b\b\b\b\b\b\b\b\b\b\b\b\b\b\b\b\b\b\b\b\b\b\b\b\b\b\b\b\b\b\b\b\b\b\b\b\b\b\b\b\b\b\b\b\b\b\b\b\b\b\b\b\b\b\b\b\b\b\r",
      "1/1 [==============================] - 0s 79ms/step - loss: 2352.1545 - mape: 20.5383 - mae: 47.1044 - mse: 2352.1545 - val_loss: 3484.6802 - val_mape: 24.5250 - val_mae: 58.8632 - val_mse: 3484.6802\n"
     ]
    },
    {
     "name": "stdout",
     "output_type": "stream",
     "text": [
      "Epoch 237/500\n"
     ]
    },
    {
     "name": "stdout",
     "output_type": "stream",
     "text": [
      "\r",
      "1/1 [==============================] - ETA: 0s - loss: 2257.6421 - mape: 20.1503 - mae: 46.2031 - mse: 2257.6421"
     ]
    },
    {
     "name": "stdout",
     "output_type": "stream",
     "text": [
      "\b\b\b\b\b\b\b\b\b\b\b\b\b\b\b\b\b\b\b\b\b\b\b\b\b\b\b\b\b\b\b\b\b\b\b\b\b\b\b\b\b\b\b\b\b\b\b\b\b\b\b\b\b\b\b\b\b\b\b\b\b\b\b\b\b\b\b\b\b\b\b\b\b\b\b\b\b\b\b\b\b\b\b\b\b\b\b\b\b\b\b\b\b\b\b\b\b\b\b\b\b\b\b\b\b\b\b\b\b\b\b\b\r",
      "1/1 [==============================] - 0s 82ms/step - loss: 2257.6421 - mape: 20.1503 - mae: 46.2031 - mse: 2257.6421 - val_loss: 3438.2183 - val_mape: 24.3598 - val_mae: 58.4672 - val_mse: 3438.2183\n"
     ]
    },
    {
     "name": "stdout",
     "output_type": "stream",
     "text": [
      "Epoch 238/500\n"
     ]
    },
    {
     "name": "stdout",
     "output_type": "stream",
     "text": [
      "\r",
      "1/1 [==============================] - ETA: 0s - loss: 2224.7239 - mape: 20.0644 - mae: 45.9890 - mse: 2224.7239"
     ]
    },
    {
     "name": "stdout",
     "output_type": "stream",
     "text": [
      "\b\b\b\b\b\b\b\b\b\b\b\b\b\b\b\b\b\b\b\b\b\b\b\b\b\b\b\b\b\b\b\b\b\b\b\b\b\b\b\b\b\b\b\b\b\b\b\b\b\b\b\b\b\b\b\b\b\b\b\b\b\b\b\b\b\b\b\b\b\b\b\b\b\b\b\b\b\b\b\b\b\b\b\b\b\b\b\b\b\b\b\b\b\b\b\b\b\b\b\b\b\b\b\b\b\b\b\b\b\b\b\b\r",
      "1/1 [==============================] - 0s 78ms/step - loss: 2224.7239 - mape: 20.0644 - mae: 45.9890 - mse: 2224.7239 - val_loss: 3392.3508 - val_mape: 24.1956 - val_mae: 58.0736 - val_mse: 3392.3508\n"
     ]
    },
    {
     "name": "stdout",
     "output_type": "stream",
     "text": [
      "Epoch 239/500\n"
     ]
    },
    {
     "name": "stdout",
     "output_type": "stream",
     "text": [
      "\r",
      "1/1 [==============================] - ETA: 0s - loss: 2228.3525 - mape: 20.0747 - mae: 46.0149 - mse: 2228.3525"
     ]
    },
    {
     "name": "stdout",
     "output_type": "stream",
     "text": [
      "\b\b\b\b\b\b\b\b\b\b\b\b\b\b\b\b\b\b\b\b\b\b\b\b\b\b\b\b\b\b\b\b\b\b\b\b\b\b\b\b\b\b\b\b\b\b\b\b\b\b\b\b\b\b\b\b\b\b\b\b\b\b\b\b\b\b\b\b\b\b\b\b\b\b\b\b\b\b\b\b\b\b\b\b\b\b\b\b\b\b\b\b\b\b\b\b\b\b\b\b\b\b\b\b\b\b\b\b\b\b\b\b\r",
      "1/1 [==============================] - 0s 76ms/step - loss: 2228.3525 - mape: 20.0747 - mae: 46.0149 - mse: 2228.3525 - val_loss: 3347.0457 - val_mape: 24.0323 - val_mae: 57.6823 - val_mse: 3347.0457\n"
     ]
    },
    {
     "name": "stdout",
     "output_type": "stream",
     "text": [
      "Epoch 240/500\n"
     ]
    },
    {
     "name": "stdout",
     "output_type": "stream",
     "text": [
      "\r",
      "1/1 [==============================] - ETA: 0s - loss: 2133.0579 - mape: 19.5061 - mae: 44.7530 - mse: 2133.0579"
     ]
    },
    {
     "name": "stdout",
     "output_type": "stream",
     "text": [
      "\b\b\b\b\b\b\b\b\b\b\b\b\b\b\b\b\b\b\b\b\b\b\b\b\b\b\b\b\b\b\b\b\b\b\b\b\b\b\b\b\b\b\b\b\b\b\b\b\b\b\b\b\b\b\b\b\b\b\b\b\b\b\b\b\b\b\b\b\b\b\b\b\b\b\b\b\b\b\b\b\b\b\b\b\b\b\b\b\b\b\b\b\b\b\b\b\b\b\b\b\b\b\b\b\b\b\b\b\b\b\b\b\r",
      "1/1 [==============================] - 0s 79ms/step - loss: 2133.0579 - mape: 19.5061 - mae: 44.7530 - mse: 2133.0579 - val_loss: 3302.3655 - val_mape: 23.8702 - val_mae: 57.2937 - val_mse: 3302.3655\n"
     ]
    },
    {
     "name": "stdout",
     "output_type": "stream",
     "text": [
      "Epoch 241/500\n"
     ]
    },
    {
     "name": "stdout",
     "output_type": "stream",
     "text": [
      "\r",
      "1/1 [==============================] - ETA: 0s - loss: 2105.5488 - mape: 19.4530 - mae: 44.6031 - mse: 2105.5488"
     ]
    },
    {
     "name": "stdout",
     "output_type": "stream",
     "text": [
      "\b\b\b\b\b\b\b\b\b\b\b\b\b\b\b\b\b\b\b\b\b\b\b\b\b\b\b\b\b\b\b\b\b\b\b\b\b\b\b\b\b\b\b\b\b\b\b\b\b\b\b\b\b\b\b\b\b\b\b\b\b\b\b\b\b\b\b\b\b\b\b\b\b\b\b\b\b\b\b\b\b\b\b\b\b\b\b\b\b\b\b\b\b\b\b\b\b\b\b\b\b\b\b\b\b\b\b\b\b\b\b\b\r",
      "1/1 [==============================] - 0s 82ms/step - loss: 2105.5488 - mape: 19.4530 - mae: 44.6031 - mse: 2105.5488 - val_loss: 3258.2778 - val_mape: 23.7091 - val_mae: 56.9076 - val_mse: 3258.2778\n"
     ]
    },
    {
     "name": "stdout",
     "output_type": "stream",
     "text": [
      "Epoch 242/500\n"
     ]
    },
    {
     "name": "stdout",
     "output_type": "stream",
     "text": [
      "\r",
      "1/1 [==============================] - ETA: 0s - loss: 2025.3507 - mape: 18.9859 - mae: 43.5692 - mse: 2025.3507"
     ]
    },
    {
     "name": "stdout",
     "output_type": "stream",
     "text": [
      "\b\b\b\b\b\b\b\b\b\b\b\b\b\b\b\b\b\b\b\b\b\b\b\b\b\b\b\b\b\b\b\b\b\b\b\b\b\b\b\b\b\b\b\b\b\b\b\b\b\b\b\b\b\b\b\b\b\b\b\b\b\b\b\b\b\b\b\b\b\b\b\b\b\b\b\b\b\b\b\b\b\b\b\b\b\b\b\b\b\b\b\b\b\b\b\b\b\b\b\b\b\b\b\b\b\b\b\b\b\b\b\b\r",
      "1/1 [==============================] - 0s 320ms/step - loss: 2025.3507 - mape: 18.9859 - mae: 43.5692 - mse: 2025.3507 - val_loss: 3214.8303 - val_mape: 23.5493 - val_mae: 56.5246 - val_mse: 3214.8303\n"
     ]
    },
    {
     "name": "stdout",
     "output_type": "stream",
     "text": [
      "Epoch 243/500\n"
     ]
    },
    {
     "name": "stdout",
     "output_type": "stream",
     "text": [
      "\r",
      "1/1 [==============================] - ETA: 0s - loss: 2003.8738 - mape: 18.8548 - mae: 43.2765 - mse: 2003.8738"
     ]
    },
    {
     "name": "stdout",
     "output_type": "stream",
     "text": [
      "\b\b\b\b\b\b\b\b\b\b\b\b\b\b\b\b\b\b\b\b\b\b\b\b\b\b\b\b\b\b\b\b\b\b\b\b\b\b\b\b\b\b\b\b\b\b\b\b\b\b\b\b\b\b\b\b\b\b\b\b\b\b\b\b\b\b\b\b\b\b\b\b\b\b\b\b\b\b\b\b\b\b\b\b\b\b\b\b\b\b\b\b\b\b\b\b\b\b\b\b\b\b\b\b\b\b\b\b\b\b\b\b\r",
      "1/1 [==============================] - 0s 83ms/step - loss: 2003.8738 - mape: 18.8548 - mae: 43.2765 - mse: 2003.8738 - val_loss: 3171.9961 - val_mape: 23.3907 - val_mae: 56.1444 - val_mse: 3171.9961\n"
     ]
    },
    {
     "name": "stdout",
     "output_type": "stream",
     "text": [
      "Epoch 244/500\n"
     ]
    },
    {
     "name": "stdout",
     "output_type": "stream",
     "text": [
      "\r",
      "1/1 [==============================] - ETA: 0s - loss: 1914.6370 - mape: 18.7111 - mae: 42.8351 - mse: 1914.6370"
     ]
    },
    {
     "name": "stdout",
     "output_type": "stream",
     "text": [
      "\b\b\b\b\b\b\b\b\b\b\b\b\b\b\b\b\b\b\b\b\b\b\b\b\b\b\b\b\b\b\b\b\b\b\b\b\b\b\b\b\b\b\b\b\b\b\b\b\b\b\b\b\b\b\b\b\b\b\b\b\b\b\b\b\b\b\b\b\b\b\b\b\b\b\b\b\b\b\b\b\b\b\b\b\b\b\b\b\b\b\b\b\b\b\b\b\b\b\b\b\b\b\b\b\b\b\b\b\b\b\b\b\r",
      "1/1 [==============================] - 0s 89ms/step - loss: 1914.6370 - mape: 18.7111 - mae: 42.8351 - mse: 1914.6370 - val_loss: 3129.7661 - val_mape: 23.2332 - val_mae: 55.7671 - val_mse: 3129.7661\n"
     ]
    },
    {
     "name": "stdout",
     "output_type": "stream",
     "text": [
      "Epoch 245/500\n"
     ]
    },
    {
     "name": "stdout",
     "output_type": "stream",
     "text": [
      "\r",
      "1/1 [==============================] - ETA: 0s - loss: 2052.7156 - mape: 19.1510 - mae: 43.9378 - mse: 2052.7156"
     ]
    },
    {
     "name": "stdout",
     "output_type": "stream",
     "text": [
      "\b\b\b\b\b\b\b\b\b\b\b\b\b\b\b\b\b\b\b\b\b\b\b\b\b\b\b\b\b\b\b\b\b\b\b\b\b\b\b\b\b\b\b\b\b\b\b\b\b\b\b\b\b\b\b\b\b\b\b\b\b\b\b\b\b\b\b\b\b\b\b\b\b\b\b\b\b\b\b\b\b\b\b\b\b\b\b\b\b\b\b\b\b\b\b\b\b\b\b\b\b\b\b\b\b\b\b\b\b\b\b\b\r",
      "1/1 [==============================] - 0s 83ms/step - loss: 2052.7156 - mape: 19.1510 - mae: 43.9378 - mse: 2052.7156 - val_loss: 3088.0334 - val_mape: 23.0766 - val_mae: 55.3916 - val_mse: 3088.0334\n"
     ]
    },
    {
     "name": "stdout",
     "output_type": "stream",
     "text": [
      "Epoch 246/500\n"
     ]
    },
    {
     "name": "stdout",
     "output_type": "stream",
     "text": [
      "\r",
      "1/1 [==============================] - ETA: 0s - loss: 1995.4883 - mape: 18.8545 - mae: 43.2635 - mse: 1995.4883"
     ]
    },
    {
     "name": "stdout",
     "output_type": "stream",
     "text": [
      "\b\b\b\b\b\b\b\b\b\b\b\b\b\b\b\b\b\b\b\b\b\b\b\b\b\b\b\b\b\b\b\b\b\b\b\b\b\b\b\b\b\b\b\b\b\b\b\b\b\b\b\b\b\b\b\b\b\b\b\b\b\b\b\b\b\b\b\b\b\b\b\b\b\b\b\b\b\b\b\b\b\b\b\b\b\b\b\b\b\b\b\b\b\b\b\b\b\b\b\b\b\b\b\b\b\b\b\b\b\b\b\b\r",
      "1/1 [==============================] - 0s 82ms/step - loss: 1995.4883 - mape: 18.8545 - mae: 43.2635 - mse: 1995.4883 - val_loss: 3046.8176 - val_mape: 22.9208 - val_mae: 55.0183 - val_mse: 3046.8176\n"
     ]
    },
    {
     "name": "stdout",
     "output_type": "stream",
     "text": [
      "Epoch 247/500\n"
     ]
    },
    {
     "name": "stdout",
     "output_type": "stream",
     "text": [
      "\r",
      "1/1 [==============================] - ETA: 0s - loss: 1941.2917 - mape: 18.6019 - mae: 42.6891 - mse: 1941.2917"
     ]
    },
    {
     "name": "stdout",
     "output_type": "stream",
     "text": [
      "\b\b\b\b\b\b\b\b\b\b\b\b\b\b\b\b\b\b\b\b\b\b\b\b\b\b\b\b\b\b\b\b\b\b\b\b\b\b\b\b\b\b\b\b\b\b\b\b\b\b\b\b\b\b\b\b\b\b\b\b\b\b\b\b\b\b\b\b\b\b\b\b\b\b\b\b\b\b\b\b\b\b\b\b\b\b\b\b\b\b\b\b\b\b\b\b\b\b\b\b\b\b\b\b\b\b\b\b\b\b\b\b\r",
      "1/1 [==============================] - 0s 81ms/step - loss: 1941.2917 - mape: 18.6019 - mae: 42.6891 - mse: 1941.2917 - val_loss: 3006.1309 - val_mape: 22.7660 - val_mae: 54.6473 - val_mse: 3006.1309\n"
     ]
    },
    {
     "name": "stdout",
     "output_type": "stream",
     "text": [
      "Epoch 248/500\n"
     ]
    },
    {
     "name": "stdout",
     "output_type": "stream",
     "text": [
      "\r",
      "1/1 [==============================] - ETA: 0s - loss: 1971.2607 - mape: 18.6980 - mae: 42.9142 - mse: 1971.2607"
     ]
    },
    {
     "name": "stdout",
     "output_type": "stream",
     "text": [
      "\b\b\b\b\b\b\b\b\b\b\b\b\b\b\b\b\b\b\b\b\b\b\b\b\b\b\b\b\b\b\b\b\b\b\b\b\b\b\b\b\b\b\b\b\b\b\b\b\b\b\b\b\b\b\b\b\b\b\b\b\b\b\b\b\b\b\b\b\b\b\b\b\b\b\b\b\b\b\b\b\b\b\b\b\b\b\b\b\b\b\b\b\b\b\b\b\b\b\b\b\b\b\b\b\b\b\b\b\b\b\b\b\r",
      "1/1 [==============================] - 0s 77ms/step - loss: 1971.2607 - mape: 18.6980 - mae: 42.9142 - mse: 1971.2607 - val_loss: 2965.9272 - val_mape: 22.6120 - val_mae: 54.2782 - val_mse: 2965.9272\n"
     ]
    },
    {
     "name": "stdout",
     "output_type": "stream",
     "text": [
      "Epoch 249/500\n"
     ]
    },
    {
     "name": "stdout",
     "output_type": "stream",
     "text": [
      "\r",
      "1/1 [==============================] - ETA: 0s - loss: 1875.9482 - mape: 18.3199 - mae: 42.0289 - mse: 1875.9482"
     ]
    },
    {
     "name": "stdout",
     "output_type": "stream",
     "text": [
      "\b\b\b\b\b\b\b\b\b\b\b\b\b\b\b\b\b\b\b\b\b\b\b\b\b\b\b\b\b\b\b\b\b\b\b\b\b\b\b\b\b\b\b\b\b\b\b\b\b\b\b\b\b\b\b\b\b\b\b\b\b\b\b\b\b\b\b\b\b\b\b\b\b\b\b\b\b\b\b\b\b\b\b\b\b\b\b\b\b\b\b\b\b\b\b\b\b\b\b\b\b\b\b\b\b\b\b\b\b\b\b\b\r",
      "1/1 [==============================] - 0s 82ms/step - loss: 1875.9482 - mape: 18.3199 - mae: 42.0289 - mse: 1875.9482 - val_loss: 2926.2405 - val_mape: 22.4590 - val_mae: 53.9114 - val_mse: 2926.2405\n"
     ]
    },
    {
     "name": "stdout",
     "output_type": "stream",
     "text": [
      "Epoch 250/500\n"
     ]
    },
    {
     "name": "stdout",
     "output_type": "stream",
     "text": [
      "\r",
      "1/1 [==============================] - ETA: 0s - loss: 1841.4368 - mape: 18.1959 - mae: 41.7285 - mse: 1841.4368"
     ]
    },
    {
     "name": "stdout",
     "output_type": "stream",
     "text": [
      "\b\b\b\b\b\b\b\b\b\b\b\b\b\b\b\b\b\b\b\b\b\b\b\b\b\b\b\b\b\b\b\b\b\b\b\b\b\b\b\b\b\b\b\b\b\b\b\b\b\b\b\b\b\b\b\b\b\b\b\b\b\b\b\b\b\b\b\b\b\b\b\b\b\b\b\b\b\b\b\b\b\b\b\b\b\b\b\b\b\b\b\b\b\b\b\b\b\b\b\b\b\b\b\b\b\b\b\b\b\b\b\b\r",
      "1/1 [==============================] - 0s 75ms/step - loss: 1841.4368 - mape: 18.1959 - mae: 41.7285 - mse: 1841.4368 - val_loss: 2887.0588 - val_mape: 22.3069 - val_mae: 53.5468 - val_mse: 2887.0588\n"
     ]
    },
    {
     "name": "stdout",
     "output_type": "stream",
     "text": [
      "Epoch 251/500\n"
     ]
    },
    {
     "name": "stdout",
     "output_type": "stream",
     "text": [
      "\r",
      "1/1 [==============================] - ETA: 0s - loss: 1945.8264 - mape: 18.5476 - mae: 42.5914 - mse: 1945.8264"
     ]
    },
    {
     "name": "stdout",
     "output_type": "stream",
     "text": [
      "\b\b\b\b\b\b\b\b\b\b\b\b\b\b\b\b\b\b\b\b\b\b\b\b\b\b\b\b\b\b\b\b\b\b\b\b\b\b\b\b\b\b\b\b\b\b\b\b\b\b\b\b\b\b\b\b\b\b\b\b\b\b\b\b\b\b\b\b\b\b\b\b\b\b\b\b\b\b\b\b\b\b\b\b\b\b\b\b\b\b\b\b\b\b\b\b\b\b\b\b\b\b\b\b\b\b\b\b\b\b\b\b\r",
      "1/1 [==============================] - 0s 81ms/step - loss: 1945.8264 - mape: 18.5476 - mae: 42.5914 - mse: 1945.8264 - val_loss: 2848.3059 - val_mape: 22.1554 - val_mae: 53.1837 - val_mse: 2848.3059\n"
     ]
    },
    {
     "name": "stdout",
     "output_type": "stream",
     "text": [
      "Epoch 252/500\n"
     ]
    },
    {
     "name": "stdout",
     "output_type": "stream",
     "text": [
      "\r",
      "1/1 [==============================] - ETA: 0s - loss: 1866.5166 - mape: 18.0472 - mae: 41.4760 - mse: 1866.5166"
     ]
    },
    {
     "name": "stdout",
     "output_type": "stream",
     "text": [
      "\b\b\b\b\b\b\b\b\b\b\b\b\b\b\b\b\b\b\b\b\b\b\b\b\b\b\b\b\b\b\b\b\b\b\b\b\b\b\b\b\b\b\b\b\b\b\b\b\b\b\b\b\b\b\b\b\b\b\b\b\b\b\b\b\b\b\b\b\b\b\b\b\b\b\b\b\b\b\b\b\b\b\b\b\b\b\b\b\b\b\b\b\b\b\b\b\b\b\b\b\b\b\b\b\b\b\b\b\b\b\b\b\r",
      "1/1 [==============================] - 0s 90ms/step - loss: 1866.5166 - mape: 18.0472 - mae: 41.4760 - mse: 1866.5166 - val_loss: 2810.0425 - val_mape: 22.0048 - val_mae: 52.8227 - val_mse: 2810.0425\n"
     ]
    },
    {
     "name": "stdout",
     "output_type": "stream",
     "text": [
      "Epoch 253/500\n"
     ]
    },
    {
     "name": "stdout",
     "output_type": "stream",
     "text": [
      "\r",
      "1/1 [==============================] - ETA: 0s - loss: 1692.9430 - mape: 17.3293 - mae: 39.7806 - mse: 1692.9430"
     ]
    },
    {
     "name": "stdout",
     "output_type": "stream",
     "text": [
      "\b\b\b\b\b\b\b\b\b\b\b\b\b\b\b\b\b\b\b\b\b\b\b\b\b\b\b\b\b\b\b\b\b\b\b\b\b\b\b\b\b\b\b\b\b\b\b\b\b\b\b\b\b\b\b\b\b\b\b\b\b\b\b\b\b\b\b\b\b\b\b\b\b\b\b\b\b\b\b\b\b\b\b\b\b\b\b\b\b\b\b\b\b\b\b\b\b\b\b\b\b\b\b\b\b\b\b\b\b\b\b\b\r",
      "1/1 [==============================] - 0s 79ms/step - loss: 1692.9430 - mape: 17.3293 - mae: 39.7806 - mse: 1692.9430 - val_loss: 2772.3411 - val_mape: 21.8554 - val_mae: 52.4646 - val_mse: 2772.3411\n"
     ]
    },
    {
     "name": "stdout",
     "output_type": "stream",
     "text": [
      "Epoch 254/500\n"
     ]
    },
    {
     "name": "stdout",
     "output_type": "stream",
     "text": [
      "\r",
      "1/1 [==============================] - ETA: 0s - loss: 1760.4050 - mape: 17.4710 - mae: 40.1712 - mse: 1760.4050"
     ]
    },
    {
     "name": "stdout",
     "output_type": "stream",
     "text": [
      "\b\b\b\b\b\b\b\b\b\b\b\b\b\b\b\b\b\b\b\b\b\b\b\b\b\b\b\b\b\b\b\b\b\b\b\b\b\b\b\b\b\b\b\b\b\b\b\b\b\b\b\b\b\b\b\b\b\b\b\b\b\b\b\b\b\b\b\b\b\b\b\b\b\b\b\b\b\b\b\b\b\b\b\b\b\b\b\b\b\b\b\b\b\b\b\b\b\b\b\b\b\b\b\b\b\b\b\b\b\b\b\b\r",
      "1/1 [==============================] - 0s 75ms/step - loss: 1760.4050 - mape: 17.4710 - mae: 40.1712 - mse: 1760.4050 - val_loss: 2735.1489 - val_mape: 21.7070 - val_mae: 52.1090 - val_mse: 2735.1489\n"
     ]
    },
    {
     "name": "stdout",
     "output_type": "stream",
     "text": [
      "Epoch 255/500\n"
     ]
    },
    {
     "name": "stdout",
     "output_type": "stream",
     "text": [
      "\r",
      "1/1 [==============================] - ETA: 0s - loss: 1768.9642 - mape: 17.8063 - mae: 40.8460 - mse: 1768.9642"
     ]
    },
    {
     "name": "stdout",
     "output_type": "stream",
     "text": [
      "\b\b\b\b\b\b\b\b\b\b\b\b\b\b\b\b\b\b\b\b\b\b\b\b\b\b\b\b\b\b\b\b\b\b\b\b\b\b\b\b\b\b\b\b\b\b\b\b\b\b\b\b\b\b\b\b\b\b\b\b\b\b\b\b\b\b\b\b\b\b\b\b\b\b\b\b\b\b\b\b\b\b\b\b\b\b\b\b\b\b\b\b\b\b\b\b\b\b\b\b\b\b\b\b\b\b\b\b\b\b\b\b\r",
      "1/1 [==============================] - 0s 177ms/step - loss: 1768.9642 - mape: 17.8063 - mae: 40.8460 - mse: 1768.9642 - val_loss: 2698.3909 - val_mape: 21.5593 - val_mae: 51.7551 - val_mse: 2698.3909\n"
     ]
    },
    {
     "name": "stdout",
     "output_type": "stream",
     "text": [
      "Epoch 256/500\n"
     ]
    },
    {
     "name": "stdout",
     "output_type": "stream",
     "text": [
      "\r",
      "1/1 [==============================] - ETA: 0s - loss: 1642.3572 - mape: 16.9511 - mae: 38.9428 - mse: 1642.3572"
     ]
    },
    {
     "name": "stdout",
     "output_type": "stream",
     "text": [
      "\b\b\b\b\b\b\b\b\b\b\b\b\b\b\b\b\b\b\b\b\b\b\b\b\b\b\b\b\b\b\b\b\b\b\b\b\b\b\b\b\b\b\b\b\b\b\b\b\b\b\b\b\b\b\b\b\b\b\b\b\b\b\b\b\b\b\b\b\b\b\b\b\b\b\b\b\b\b\b\b\b\b\b\b\b\b\b\b\b\b\b\b\b\b\b\b\b\b\b\b\b\b\b\b\b\b\b\b\b\b\b\b\r",
      "1/1 [==============================] - 0s 80ms/step - loss: 1642.3572 - mape: 16.9511 - mae: 38.9428 - mse: 1642.3572 - val_loss: 2662.1614 - val_mape: 21.4128 - val_mae: 51.4039 - val_mse: 2662.1614\n"
     ]
    },
    {
     "name": "stdout",
     "output_type": "stream",
     "text": [
      "Epoch 257/500\n"
     ]
    },
    {
     "name": "stdout",
     "output_type": "stream",
     "text": [
      "\r",
      "1/1 [==============================] - ETA: 0s - loss: 1754.8025 - mape: 17.5375 - mae: 40.2952 - mse: 1754.8025"
     ]
    },
    {
     "name": "stdout",
     "output_type": "stream",
     "text": [
      "\b\b\b\b\b\b\b\b\b\b\b\b\b\b\b\b\b\b\b\b\b\b\b\b\b\b\b\b\b\b\b\b\b\b\b\b\b\b\b\b\b\b\b\b\b\b\b\b\b\b\b\b\b\b\b\b\b\b\b\b\b\b\b\b\b\b\b\b\b\b\b\b\b\b\b\b\b\b\b\b\b\b\b\b\b\b\b\b\b\b\b\b\b\b\b\b\b\b\b\b\b\b\b\b\b\b\b\b\b\b\b\b\r",
      "1/1 [==============================] - 0s 78ms/step - loss: 1754.8025 - mape: 17.5375 - mae: 40.2952 - mse: 1754.8025 - val_loss: 2626.3438 - val_mape: 21.2669 - val_mae: 51.0543 - val_mse: 2626.3438\n"
     ]
    },
    {
     "name": "stdout",
     "output_type": "stream",
     "text": [
      "Epoch 258/500\n"
     ]
    },
    {
     "name": "stdout",
     "output_type": "stream",
     "text": [
      "\r",
      "1/1 [==============================] - ETA: 0s - loss: 1658.7058 - mape: 16.9761 - mae: 39.0193 - mse: 1658.7058"
     ]
    },
    {
     "name": "stdout",
     "output_type": "stream",
     "text": [
      "\b\b\b\b\b\b\b\b\b\b\b\b\b\b\b\b\b\b\b\b\b\b\b\b\b\b\b\b\b\b\b\b\b\b\b\b\b\b\b\b\b\b\b\b\b\b\b\b\b\b\b\b\b\b\b\b\b\b\b\b\b\b\b\b\b\b\b\b\b\b\b\b\b\b\b\b\b\b\b\b\b\b\b\b\b\b\b\b\b\b\b\b\b\b\b\b\b\b\b\b\b\b\b\b\b\b\b\b\b\b\b\b\r",
      "1/1 [==============================] - 0s 82ms/step - loss: 1658.7058 - mape: 16.9761 - mae: 39.0193 - mse: 1658.7058 - val_loss: 2591.0081 - val_mape: 21.1220 - val_mae: 50.7071 - val_mse: 2591.0081\n"
     ]
    },
    {
     "name": "stdout",
     "output_type": "stream",
     "text": [
      "Epoch 259/500\n"
     ]
    },
    {
     "name": "stdout",
     "output_type": "stream",
     "text": [
      "\r",
      "1/1 [==============================] - ETA: 0s - loss: 1584.9104 - mape: 16.7637 - mae: 38.4832 - mse: 1584.9104"
     ]
    },
    {
     "name": "stdout",
     "output_type": "stream",
     "text": [
      "\b\b\b\b\b\b\b\b\b\b\b\b\b\b\b\b\b\b\b\b\b\b\b\b\b\b\b\b\b\b\b\b\b\b\b\b\b\b\b\b\b\b\b\b\b\b\b\b\b\b\b\b\b\b\b\b\b\b\b\b\b\b\b\b\b\b\b\b\b\b\b\b\b\b\b\b\b\b\b\b\b\b\b\b\b\b\b\b\b\b\b\b\b\b\b\b\b\b\b\b\b\b\b\b\b\b\b\b\b\b\b\b\r",
      "1/1 [==============================] - 0s 77ms/step - loss: 1584.9104 - mape: 16.7637 - mae: 38.4832 - mse: 1584.9104 - val_loss: 2556.1477 - val_mape: 20.9781 - val_mae: 50.3621 - val_mse: 2556.1477\n"
     ]
    },
    {
     "name": "stdout",
     "output_type": "stream",
     "text": [
      "Epoch 260/500\n"
     ]
    },
    {
     "name": "stdout",
     "output_type": "stream",
     "text": [
      "\r",
      "1/1 [==============================] - ETA: 0s - loss: 1548.3691 - mape: 16.6776 - mae: 38.2315 - mse: 1548.3691"
     ]
    },
    {
     "name": "stdout",
     "output_type": "stream",
     "text": [
      "\b\b\b\b\b\b\b\b\b\b\b\b\b\b\b\b\b\b\b\b\b\b\b\b\b\b\b\b\b\b\b\b\b\b\b\b\b\b\b\b\b\b\b\b\b\b\b\b\b\b\b\b\b\b\b\b\b\b\b\b\b\b\b\b\b\b\b\b\b\b\b\b\b\b\b\b\b\b\b\b\b\b\b\b\b\b\b\b\b\b\b\b\b\b\b\b\b\b\b\b\b\b\b\b\b\b\b\b\b\b\b\b\r",
      "1/1 [==============================] - 0s 83ms/step - loss: 1548.3691 - mape: 16.6776 - mae: 38.2315 - mse: 1548.3691 - val_loss: 2521.7454 - val_mape: 20.8351 - val_mae: 50.0194 - val_mse: 2521.7454\n"
     ]
    },
    {
     "name": "stdout",
     "output_type": "stream",
     "text": [
      "Epoch 261/500\n"
     ]
    },
    {
     "name": "stdout",
     "output_type": "stream",
     "text": [
      "\r",
      "1/1 [==============================] - ETA: 0s - loss: 1532.9923 - mape: 16.5399 - mae: 37.9366 - mse: 1532.9923"
     ]
    },
    {
     "name": "stdout",
     "output_type": "stream",
     "text": [
      "\b\b\b\b\b\b\b\b\b\b\b\b\b\b\b\b\b\b\b\b\b\b\b\b\b\b\b\b\b\b\b\b\b\b\b\b\b\b\b\b\b\b\b\b\b\b\b\b\b\b\b\b\b\b\b\b\b\b\b\b\b\b\b\b\b\b\b\b\b\b\b\b\b\b\b\b\b\b\b\b\b\b\b\b\b\b\b\b\b\b\b\b\b\b\b\b\b\b\b\b\b\b\b\b\b\b\b\b\b\b\b\b\r",
      "1/1 [==============================] - 0s 77ms/step - loss: 1532.9923 - mape: 16.5399 - mae: 37.9366 - mse: 1532.9923 - val_loss: 2487.7996 - val_mape: 20.6931 - val_mae: 49.6789 - val_mse: 2487.7996\n"
     ]
    },
    {
     "name": "stdout",
     "output_type": "stream",
     "text": [
      "Epoch 262/500\n"
     ]
    },
    {
     "name": "stdout",
     "output_type": "stream",
     "text": [
      "\r",
      "1/1 [==============================] - ETA: 0s - loss: 1489.2559 - mape: 16.2302 - mae: 37.2607 - mse: 1489.2559"
     ]
    },
    {
     "name": "stdout",
     "output_type": "stream",
     "text": [
      "\b\b\b\b\b\b\b\b\b\b\b\b\b\b\b\b\b\b\b\b\b\b\b\b\b\b\b\b\b\b\b\b\b\b\b\b\b\b\b\b\b\b\b\b\b\b\b\b\b\b\b\b\b\b\b\b\b\b\b\b\b\b\b\b\b\b\b\b\b\b\b\b\b\b\b\b\b\b\b\b\b\b\b\b\b\b\b\b\b\b\b\b\b\b\b\b\b\b\b\b\b\b\b\b\b\b\b\b\b\b\b\b\r",
      "1/1 [==============================] - 0s 77ms/step - loss: 1489.2559 - mape: 16.2302 - mae: 37.2607 - mse: 1489.2559 - val_loss: 2454.3315 - val_mape: 20.5520 - val_mae: 49.3409 - val_mse: 2454.3315\n"
     ]
    },
    {
     "name": "stdout",
     "output_type": "stream",
     "text": [
      "Epoch 263/500\n"
     ]
    },
    {
     "name": "stdout",
     "output_type": "stream",
     "text": [
      "\r",
      "1/1 [==============================] - ETA: 0s - loss: 1536.3792 - mape: 16.1629 - mae: 37.2124 - mse: 1536.3792"
     ]
    },
    {
     "name": "stdout",
     "output_type": "stream",
     "text": [
      "\b\b\b\b\b\b\b\b\b\b\b\b\b\b\b\b\b\b\b\b\b\b\b\b\b\b\b\b\b\b\b\b\b\b\b\b\b\b\b\b\b\b\b\b\b\b\b\b\b\b\b\b\b\b\b\b\b\b\b\b\b\b\b\b\b\b\b\b\b\b\b\b\b\b\b\b\b\b\b\b\b\b\b\b\b\b\b\b\b\b\b\b\b\b\b\b\b\b\b\b\b\b\b\b\b\b\b\b\b\b\b\b\r",
      "1/1 [==============================] - 0s 79ms/step - loss: 1536.3792 - mape: 16.1629 - mae: 37.2124 - mse: 1536.3792 - val_loss: 2421.3225 - val_mape: 20.4120 - val_mae: 49.0053 - val_mse: 2421.3225\n"
     ]
    },
    {
     "name": "stdout",
     "output_type": "stream",
     "text": [
      "Epoch 264/500\n"
     ]
    },
    {
     "name": "stdout",
     "output_type": "stream",
     "text": [
      "\r",
      "1/1 [==============================] - ETA: 0s - loss: 1474.9744 - mape: 16.1303 - mae: 37.0405 - mse: 1474.9744"
     ]
    },
    {
     "name": "stdout",
     "output_type": "stream",
     "text": [
      "\b\b\b\b\b\b\b\b\b\b\b\b\b\b\b\b\b\b\b\b\b\b\b\b\b\b\b\b\b\b\b\b\b\b\b\b\b\b\b\b\b\b\b\b\b\b\b\b\b\b\b\b\b\b\b\b\b\b\b\b\b\b\b\b\b\b\b\b\b\b\b\b\b\b\b\b\b\b\b\b\b\b\b\b\b\b\b\b\b\b\b\b\b\b\b\b\b\b\b\b\b\b\b\b\b\b\b\b\b\b\b\b\r",
      "1/1 [==============================] - 0s 81ms/step - loss: 1474.9744 - mape: 16.1303 - mae: 37.0405 - mse: 1474.9744 - val_loss: 2388.7527 - val_mape: 20.2729 - val_mae: 48.6719 - val_mse: 2388.7527\n"
     ]
    },
    {
     "name": "stdout",
     "output_type": "stream",
     "text": [
      "Epoch 265/500\n"
     ]
    },
    {
     "name": "stdout",
     "output_type": "stream",
     "text": [
      "\r",
      "1/1 [==============================] - ETA: 0s - loss: 1411.5315 - mape: 15.5477 - mae: 35.7698 - mse: 1411.5315"
     ]
    },
    {
     "name": "stdout",
     "output_type": "stream",
     "text": [
      "\b\b\b\b\b\b\b\b\b\b\b\b\b\b\b\b\b\b\b\b\b\b\b\b\b\b\b\b\b\b\b\b\b\b\b\b\b\b\b\b\b\b\b\b\b\b\b\b\b\b\b\b\b\b\b\b\b\b\b\b\b\b\b\b\b\b\b\b\b\b\b\b\b\b\b\b\b\b\b\b\b\b\b\b\b\b\b\b\b\b\b\b\b\b\b\b\b\b\b\b\b\b\b\b\b\b\b\b\b\b\b\b\r",
      "1/1 [==============================] - 0s 119ms/step - loss: 1411.5315 - mape: 15.5477 - mae: 35.7698 - mse: 1411.5315 - val_loss: 2356.6833 - val_mape: 20.1350 - val_mae: 48.3413 - val_mse: 2356.6833\n"
     ]
    },
    {
     "name": "stdout",
     "output_type": "stream",
     "text": [
      "Epoch 266/500\n"
     ]
    },
    {
     "name": "stdout",
     "output_type": "stream",
     "text": [
      "\r",
      "1/1 [==============================] - ETA: 0s - loss: 1389.2963 - mape: 15.4404 - mae: 35.5231 - mse: 1389.2963"
     ]
    },
    {
     "name": "stdout",
     "output_type": "stream",
     "text": [
      "\b\b\b\b\b\b\b\b\b\b\b\b\b\b\b\b\b\b\b\b\b\b\b\b\b\b\b\b\b\b\b\b\b\b\b\b\b\b\b\b\b\b\b\b\b\b\b\b\b\b\b\b\b\b\b\b\b\b\b\b\b\b\b\b\b\b\b\b\b\b\b\b\b\b\b\b\b\b\b\b\b\b\b\b\b\b\b\b\b\b\b\b\b\b\b\b\b\b\b\b\b\b\b\b\b\b\b\b\b\b\b\b\r",
      "1/1 [==============================] - 0s 77ms/step - loss: 1389.2963 - mape: 15.4404 - mae: 35.5231 - mse: 1389.2963 - val_loss: 2325.0945 - val_mape: 19.9982 - val_mae: 48.0135 - val_mse: 2325.0945\n"
     ]
    },
    {
     "name": "stdout",
     "output_type": "stream",
     "text": [
      "Epoch 267/500\n"
     ]
    },
    {
     "name": "stdout",
     "output_type": "stream",
     "text": [
      "\r",
      "1/1 [==============================] - ETA: 0s - loss: 1432.2921 - mape: 15.5216 - mae: 35.7497 - mse: 1432.2921"
     ]
    },
    {
     "name": "stdout",
     "output_type": "stream",
     "text": [
      "\b\b\b\b\b\b\b\b\b\b\b\b\b\b\b\b\b\b\b\b\b\b\b\b\b\b\b\b\b\b\b\b\b\b\b\b\b\b\b\b\b\b\b\b\b\b\b\b\b\b\b\b\b\b\b\b\b\b\b\b\b\b\b\b\b\b\b\b\b\b\b\b\b\b\b\b\b\b\b\b\b\b\b\b\b\b\b\b\b\b\b\b\b\b\b\b\b\b\b\b\b\b\b\b\b\b\b\b\b\b\b\b\r",
      "1/1 [==============================] - 0s 77ms/step - loss: 1432.2921 - mape: 15.5216 - mae: 35.7497 - mse: 1432.2921 - val_loss: 2293.9475 - val_mape: 19.8624 - val_mae: 47.6880 - val_mse: 2293.9475\n"
     ]
    },
    {
     "name": "stdout",
     "output_type": "stream",
     "text": [
      "Epoch 268/500\n"
     ]
    },
    {
     "name": "stdout",
     "output_type": "stream",
     "text": [
      "\r",
      "1/1 [==============================] - ETA: 0s - loss: 1385.0642 - mape: 15.1170 - mae: 34.8628 - mse: 1385.0642"
     ]
    },
    {
     "name": "stdout",
     "output_type": "stream",
     "text": [
      "\b\b\b\b\b\b\b\b\b\b\b\b\b\b\b\b\b\b\b\b\b\b\b\b\b\b\b\b\b\b\b\b\b\b\b\b\b\b\b\b\b\b\b\b\b\b\b\b\b\b\b\b\b\b\b\b\b\b\b\b\b\b\b\b\b\b\b\b\b\b\b\b\b\b\b\b\b\b\b\b\b\b\b\b\b\b\b\b\b\b\b\b\b\b\b\b\b\b\b\b\b\b\b\b\b\b\b\b\b\b\b\b\r",
      "1/1 [==============================] - 0s 83ms/step - loss: 1385.0642 - mape: 15.1170 - mae: 34.8628 - mse: 1385.0642 - val_loss: 2263.2749 - val_mape: 19.7277 - val_mae: 47.3653 - val_mse: 2263.2749\n"
     ]
    },
    {
     "name": "stdout",
     "output_type": "stream",
     "text": [
      "Epoch 269/500\n"
     ]
    },
    {
     "name": "stdout",
     "output_type": "stream",
     "text": [
      "\r",
      "1/1 [==============================] - ETA: 0s - loss: 1423.3887 - mape: 15.9268 - mae: 36.5389 - mse: 1423.3887"
     ]
    },
    {
     "name": "stdout",
     "output_type": "stream",
     "text": [
      "\b\b\b\b\b\b\b\b\b\b\b\b\b\b\b\b\b\b\b\b\b\b\b\b\b\b\b\b\b\b\b\b\b\b\b\b\b\b\b\b\b\b\b\b\b\b\b\b\b\b\b\b\b\b\b\b\b\b\b\b\b\b\b\b\b\b\b\b\b\b\b\b\b\b\b\b\b\b\b\b\b\b\b\b\b\b\b\b\b\b\b\b\b\b\b\b\b\b\b\b\b\b\b\b\b\b\b\b\b\b\b\b\r",
      "1/1 [==============================] - 0s 78ms/step - loss: 1423.3887 - mape: 15.9268 - mae: 36.5389 - mse: 1423.3887 - val_loss: 2232.9209 - val_mape: 19.5936 - val_mae: 47.0438 - val_mse: 2232.9209\n"
     ]
    },
    {
     "name": "stdout",
     "output_type": "stream",
     "text": [
      "Epoch 270/500\n"
     ]
    },
    {
     "name": "stdout",
     "output_type": "stream",
     "text": [
      "\r",
      "1/1 [==============================] - ETA: 0s - loss: 1374.9651 - mape: 15.4591 - mae: 35.5400 - mse: 1374.9651"
     ]
    },
    {
     "name": "stdout",
     "output_type": "stream",
     "text": [
      "\b\b\b\b\b\b\b\b\b\b\b\b\b\b\b\b\b\b\b\b\b\b\b\b\b\b\b\b\b\b\b\b\b\b\b\b\b\b\b\b\b\b\b\b\b\b\b\b\b\b\b\b\b\b\b\b\b\b\b\b\b\b\b\b\b\b\b\b\b\b\b\b\b\b\b\b\b\b\b\b\b\b\b\b\b\b\b\b\b\b\b\b\b\b\b\b\b\b\b\b\b\b\b\b\b\b\b\b\b\b\b\b\r",
      "1/1 [==============================] - 0s 147ms/step - loss: 1374.9651 - mape: 15.4591 - mae: 35.5400 - mse: 1374.9651 - val_loss: 2202.9358 - val_mape: 19.4602 - val_mae: 46.7240 - val_mse: 2202.9358\n"
     ]
    },
    {
     "name": "stdout",
     "output_type": "stream",
     "text": [
      "Epoch 271/500\n"
     ]
    },
    {
     "name": "stdout",
     "output_type": "stream",
     "text": [
      "\r",
      "1/1 [==============================] - ETA: 0s - loss: 1240.6995 - mape: 14.4855 - mae: 33.3463 - mse: 1240.6995"
     ]
    },
    {
     "name": "stdout",
     "output_type": "stream",
     "text": [
      "\b\b\b\b\b\b\b\b\b\b\b\b\b\b\b\b\b\b\b\b\b\b\b\b\b\b\b\b\b\b\b\b\b\b\b\b\b\b\b\b\b\b\b\b\b\b\b\b\b\b\b\b\b\b\b\b\b\b\b\b\b\b\b\b\b\b\b\b\b\b\b\b\b\b\b\b\b\b\b\b\b\b\b\b\b\b\b\b\b\b\b\b\b\b\b\b\b\b\b\b\b\b\b\b\b\b\b\b\b\b\b\b\r",
      "1/1 [==============================] - 0s 87ms/step - loss: 1240.6995 - mape: 14.4855 - mae: 33.3463 - mse: 1240.6995 - val_loss: 2173.4473 - val_mape: 19.3281 - val_mae: 46.4074 - val_mse: 2173.4473\n"
     ]
    },
    {
     "name": "stdout",
     "output_type": "stream",
     "text": [
      "Epoch 272/500\n"
     ]
    },
    {
     "name": "stdout",
     "output_type": "stream",
     "text": [
      "\r",
      "1/1 [==============================] - ETA: 0s - loss: 1226.4305 - mape: 14.3101 - mae: 32.9664 - mse: 1226.4305"
     ]
    },
    {
     "name": "stdout",
     "output_type": "stream",
     "text": [
      "\b\b\b\b\b\b\b\b\b\b\b\b\b\b\b\b\b\b\b\b\b\b\b\b\b\b\b\b\b\b\b\b\b\b\b\b\b\b\b\b\b\b\b\b\b\b\b\b\b\b\b\b\b\b\b\b\b\b\b\b\b\b\b\b\b\b\b\b\b\b\b\b\b\b\b\b\b\b\b\b\b\b\b\b\b\b\b\b\b\b\b\b\b\b\b\b\b\b\b\b\b\b\b\b\b\b\b\b\b\b\b\b\r",
      "1/1 [==============================] - 0s 82ms/step - loss: 1226.4305 - mape: 14.3101 - mae: 32.9664 - mse: 1226.4305 - val_loss: 2144.4487 - val_mape: 19.1973 - val_mae: 46.0939 - val_mse: 2144.4487\n"
     ]
    },
    {
     "name": "stdout",
     "output_type": "stream",
     "text": [
      "Epoch 273/500\n"
     ]
    },
    {
     "name": "stdout",
     "output_type": "stream",
     "text": [
      "\r",
      "1/1 [==============================] - ETA: 0s - loss: 1287.3763 - mape: 14.9164 - mae: 34.3035 - mse: 1287.3763"
     ]
    }
   ],
   "source": [
    "model_type = 'RNN'\n",
    "model_rnn, history_rnn = create_and_train_model(model_type, neurons, dropout_rate, batch_size,\n",
    "                                                X_train_rnn, y_train, X_val_rnn, y_val)"
   ]
  },
  {
   "cell_type": "code",
   "execution_count": 131,
   "metadata": {},
   "outputs": [
    {
     "name": "stdout",
     "output_type": "stream",
     "text": [
      "Epoch 1/500\n",
      "1/1 [==============================] - 2s 2s/step - loss: 52147.1523 - mape: 100.2882 - mae: 228.1162 - mse: 52147.1523 - val_loss: 56865.8203 - val_mape: 99.4438 - val_mae: 238.4241 - val_mse: 56865.8203\n",
      "Epoch 2/500\n",
      "1/1 [==============================] - 0s 294ms/step - loss: 51213.0664 - mape: 99.3808 - mae: 226.0581 - mse: 51213.0664 - val_loss: 56092.2852 - val_mape: 98.7647 - val_mae: 236.7963 - val_mse: 56092.2852\n",
      "Epoch 3/500\n",
      "1/1 [==============================] - 0s 124ms/step - loss: 50477.2539 - mape: 98.6622 - mae: 224.4255 - mse: 50477.2539 - val_loss: 55385.0508 - val_mape: 98.1396 - val_mae: 235.2982 - val_mse: 55385.0508\n",
      "Epoch 4/500\n",
      "1/1 [==============================] - 0s 125ms/step - loss: 49828.5234 - mape: 98.0172 - mae: 222.9684 - mse: 49828.5234 - val_loss: 54698.6680 - val_mape: 97.5292 - val_mae: 233.8352 - val_mse: 54698.6680\n",
      "Epoch 5/500\n",
      "1/1 [==============================] - 0s 119ms/step - loss: 49073.1953 - mape: 97.2762 - mae: 221.2775 - mse: 49073.1953 - val_loss: 54014.0000 - val_mape: 96.9165 - val_mae: 232.3666 - val_mse: 54014.0000\n",
      "Epoch 6/500\n",
      "1/1 [==============================] - 0s 135ms/step - loss: 48435.6250 - mape: 96.6400 - mae: 219.8327 - mse: 48435.6250 - val_loss: 53307.1328 - val_mape: 96.2797 - val_mae: 230.8405 - val_mse: 53307.1328\n",
      "Epoch 7/500\n",
      "1/1 [==============================] - 0s 118ms/step - loss: 47762.9375 - mape: 95.9583 - mae: 218.2908 - mse: 47762.9375 - val_loss: 52585.7422 - val_mape: 95.6257 - val_mae: 229.2728 - val_mse: 52585.7422\n",
      "Epoch 8/500\n",
      "1/1 [==============================] - 0s 132ms/step - loss: 47047.6875 - mape: 95.2350 - mae: 216.6476 - mse: 47047.6875 - val_loss: 51881.1484 - val_mape: 94.9824 - val_mae: 227.7310 - val_mse: 51881.1484\n",
      "Epoch 9/500\n",
      "1/1 [==============================] - 0s 125ms/step - loss: 46282.1289 - mape: 94.4559 - mae: 214.8763 - mse: 46282.1289 - val_loss: 51142.3633 - val_mape: 94.3031 - val_mae: 226.1031 - val_mse: 51142.3633\n",
      "Epoch 10/500\n",
      "1/1 [==============================] - 0s 380ms/step - loss: 45637.1523 - mape: 93.7893 - mae: 213.3666 - mse: 45637.1523 - val_loss: 50344.4570 - val_mape: 93.5639 - val_mae: 224.3315 - val_mse: 50344.4570\n",
      "Epoch 11/500\n",
      "1/1 [==============================] - 0s 238ms/step - loss: 44809.1211 - mape: 92.9211 - mae: 211.4059 - mse: 44809.1211 - val_loss: 49488.8203 - val_mape: 92.7648 - val_mae: 222.4163 - val_mse: 49488.8203\n",
      "Epoch 12/500\n",
      "1/1 [==============================] - 0s 116ms/step - loss: 43887.6953 - mape: 91.9663 - mae: 209.2274 - mse: 43887.6953 - val_loss: 48584.1172 - val_mape: 91.9124 - val_mae: 220.3731 - val_mse: 48584.1172\n",
      "Epoch 13/500\n",
      "1/1 [==============================] - 0s 124ms/step - loss: 43027.6680 - mape: 91.0530 - mae: 207.1576 - mse: 43027.6680 - val_loss: 47648.6953 - val_mape: 91.0227 - val_mae: 218.2406 - val_mse: 47648.6953\n",
      "Epoch 14/500\n",
      "1/1 [==============================] - 0s 116ms/step - loss: 42212.5273 - mape: 90.1751 - mae: 205.1721 - mse: 42212.5273 - val_loss: 46735.4375 - val_mape: 90.1458 - val_mae: 216.1386 - val_mse: 46735.4375\n",
      "Epoch 15/500\n",
      "1/1 [==============================] - 0s 117ms/step - loss: 41386.5938 - mape: 89.2945 - mae: 203.1621 - mse: 41386.5938 - val_loss: 45928.8945 - val_mape: 89.3642 - val_mae: 214.2650 - val_mse: 45928.8945\n",
      "Epoch 16/500\n",
      "1/1 [==============================] - 0s 118ms/step - loss: 40738.0039 - mape: 88.5978 - mae: 201.5713 - mse: 40738.0039 - val_loss: 45264.8672 - val_mape: 88.7152 - val_mae: 212.7097 - val_mse: 45264.8672\n",
      "Epoch 17/500\n",
      "1/1 [==============================] - 0s 115ms/step - loss: 40125.4648 - mape: 87.9157 - mae: 200.0330 - mse: 40125.4648 - val_loss: 44733.4102 - val_mape: 88.1923 - val_mae: 211.4565 - val_mse: 44733.4102\n",
      "Epoch 18/500\n",
      "1/1 [==============================] - 0s 220ms/step - loss: 39646.1875 - mape: 87.3762 - mae: 198.8185 - mse: 39646.1875 - val_loss: 44287.6016 - val_mape: 87.7512 - val_mae: 210.3995 - val_mse: 44287.6016\n",
      "Epoch 19/500\n",
      "1/1 [==============================] - 0s 137ms/step - loss: 39328.3242 - mape: 87.0223 - mae: 198.0163 - mse: 39328.3242 - val_loss: 43885.4453 - val_mape: 87.3514 - val_mae: 209.4415 - val_mse: 43885.4453\n",
      "Epoch 20/500\n",
      "1/1 [==============================] - 0s 117ms/step - loss: 38829.6797 - mape: 86.4819 - mae: 196.7736 - mse: 38829.6797 - val_loss: 43509.4023 - val_mape: 86.9760 - val_mae: 208.5418 - val_mse: 43509.4023\n",
      "Epoch 21/500\n",
      "1/1 [==============================] - 0s 207ms/step - loss: 38555.9102 - mape: 86.1743 - mae: 196.0757 - mse: 38555.9102 - val_loss: 43154.7422 - val_mape: 86.6205 - val_mae: 207.6897 - val_mse: 43154.7422\n",
      "Epoch 22/500\n",
      "1/1 [==============================] - 0s 127ms/step - loss: 38381.2070 - mape: 85.9727 - mae: 195.6231 - mse: 38381.2070 - val_loss: 42814.0000 - val_mape: 86.2776 - val_mae: 206.8678 - val_mse: 42814.0000\n",
      "Epoch 23/500\n",
      "1/1 [==============================] - 0s 132ms/step - loss: 37913.5195 - mape: 85.4411 - mae: 194.4204 - mse: 37913.5195 - val_loss: 42469.9883 - val_mape: 85.9300 - val_mae: 206.0347 - val_mse: 42469.9883\n",
      "Epoch 24/500\n",
      "1/1 [==============================] - 0s 114ms/step - loss: 37563.8125 - mape: 85.0574 - mae: 193.5350 - mse: 37563.8125 - val_loss: 42123.1367 - val_mape: 85.5781 - val_mae: 205.1912 - val_mse: 42123.1367\n",
      "Epoch 25/500\n",
      "1/1 [==============================] - 0s 123ms/step - loss: 37199.4648 - mape: 84.6354 - mae: 192.5837 - mse: 37199.4648 - val_loss: 41777.3750 - val_mape: 85.2258 - val_mae: 204.3470 - val_mse: 41777.3750\n",
      "Epoch 26/500\n",
      "1/1 [==============================] - 0s 131ms/step - loss: 37085.3594 - mape: 84.4828 - mae: 192.2582 - mse: 37085.3594 - val_loss: 41432.7148 - val_mape: 84.8732 - val_mae: 203.5018 - val_mse: 41432.7148\n",
      "Epoch 27/500\n",
      "1/1 [==============================] - 0s 371ms/step - loss: 36667.3672 - mape: 84.0224 - mae: 191.1945 - mse: 36667.3672 - val_loss: 41096.5078 - val_mape: 84.5278 - val_mae: 202.6741 - val_mse: 41096.5078\n",
      "Epoch 28/500\n",
      "1/1 [==============================] - 0s 125ms/step - loss: 36379.8398 - mape: 83.6888 - mae: 190.4389 - mse: 36379.8398 - val_loss: 40766.2773 - val_mape: 84.1871 - val_mae: 201.8577 - val_mse: 40766.2773\n",
      "Epoch 29/500\n",
      "1/1 [==============================] - 0s 117ms/step - loss: 36188.9023 - mape: 83.4713 - mae: 189.9419 - mse: 36188.9023 - val_loss: 40434.4570 - val_mape: 83.8435 - val_mae: 201.0341 - val_mse: 40434.4570\n",
      "Epoch 30/500\n",
      "1/1 [==============================] - 0s 116ms/step - loss: 35763.5508 - mape: 82.9772 - mae: 188.8190 - mse: 35763.5508 - val_loss: 40101.6172 - val_mape: 83.4974 - val_mae: 200.2046 - val_mse: 40101.6172\n",
      "Epoch 31/500\n",
      "1/1 [==============================] - 0s 123ms/step - loss: 35477.6328 - mape: 82.6382 - mae: 188.0544 - mse: 35477.6328 - val_loss: 39770.5391 - val_mape: 83.1517 - val_mae: 199.3760 - val_mse: 39770.5391\n",
      "Epoch 32/500\n",
      "1/1 [==============================] - 0s 116ms/step - loss: 35231.4844 - mape: 82.3545 - mae: 187.4046 - mse: 35231.4844 - val_loss: 39445.1953 - val_mape: 82.8106 - val_mae: 198.5585 - val_mse: 39445.1953\n",
      "Epoch 33/500\n",
      "1/1 [==============================] - 0s 123ms/step - loss: 34780.3672 - mape: 81.8154 - mae: 186.1881 - mse: 34780.3672 - val_loss: 39127.9102 - val_mape: 82.4765 - val_mae: 197.7578 - val_mse: 39127.9102\n",
      "Epoch 34/500\n",
      "1/1 [==============================] - 0s 121ms/step - loss: 34486.9727 - mape: 81.4664 - mae: 185.3972 - mse: 34486.9727 - val_loss: 38816.8516 - val_mape: 82.1477 - val_mae: 196.9698 - val_mse: 38816.8516\n",
      "Epoch 35/500\n",
      "1/1 [==============================] - 0s 119ms/step - loss: 34266.5078 - mape: 81.2266 - mae: 184.8303 - mse: 34266.5078 - val_loss: 38507.6328 - val_mape: 81.8196 - val_mae: 196.1832 - val_mse: 38507.6328\n",
      "Epoch 36/500\n",
      "1/1 [==============================] - 0s 213ms/step - loss: 34043.9375 - mape: 80.9249 - mae: 184.1803 - mse: 34043.9375 - val_loss: 38195.8398 - val_mape: 81.4873 - val_mae: 195.3870 - val_mse: 38195.8398\n",
      "Epoch 37/500\n",
      "1/1 [==============================] - 0s 149ms/step - loss: 33853.7969 - mape: 80.7061 - mae: 183.6750 - mse: 33853.7969 - val_loss: 37883.7773 - val_mape: 81.1535 - val_mae: 194.5868 - val_mse: 37883.7773\n",
      "Epoch 38/500\n",
      "1/1 [==============================] - 0s 129ms/step - loss: 33408.2070 - mape: 80.1763 - mae: 182.4668 - mse: 33408.2070 - val_loss: 37576.4297 - val_mape: 80.8233 - val_mae: 193.7954 - val_mse: 37576.4297\n",
      "Epoch 39/500\n",
      "1/1 [==============================] - 0s 115ms/step - loss: 33119.1602 - mape: 79.8226 - mae: 181.6675 - mse: 33119.1602 - val_loss: 37268.1836 - val_mape: 80.4908 - val_mae: 192.9985 - val_mse: 37268.1836\n",
      "Epoch 40/500\n",
      "1/1 [==============================] - 0s 119ms/step - loss: 32557.3633 - mape: 79.1317 - mae: 180.1062 - mse: 32557.3633 - val_loss: 36950.3633 - val_mape: 80.1465 - val_mae: 192.1734 - val_mse: 36950.3633\n",
      "Epoch 41/500\n",
      "1/1 [==============================] - 0s 121ms/step - loss: 32461.4102 - mape: 79.0308 - mae: 179.8609 - mse: 32461.4102 - val_loss: 36625.4570 - val_mape: 79.7931 - val_mae: 191.3262 - val_mse: 36625.4570\n",
      "Epoch 42/500\n",
      "1/1 [==============================] - 0s 129ms/step - loss: 32329.9199 - mape: 78.8881 - mae: 179.5195 - mse: 32329.9199 - val_loss: 36301.6055 - val_mape: 79.4392 - val_mae: 190.4780 - val_mse: 36301.6055\n",
      "Epoch 43/500\n",
      "1/1 [==============================] - 0s 130ms/step - loss: 31793.7168 - mape: 78.1983 - mae: 177.9816 - mse: 31793.7168 - val_loss: 35986.4180 - val_mape: 79.0932 - val_mae: 189.6488 - val_mse: 35986.4180\n",
      "Epoch 44/500\n",
      "1/1 [==============================] - 0s 130ms/step - loss: 31566.3750 - mape: 77.9118 - mae: 177.3351 - mse: 31566.3750 - val_loss: 35681.6953 - val_mape: 78.7572 - val_mae: 188.8437 - val_mse: 35681.6953\n",
      "Epoch 45/500\n",
      "1/1 [==============================] - 0s 128ms/step - loss: 31306.1426 - mape: 77.6025 - mae: 176.6190 - mse: 31306.1426 - val_loss: 35383.2695 - val_mape: 78.4269 - val_mae: 188.0518 - val_mse: 35383.2695\n",
      "Epoch 46/500\n",
      "1/1 [==============================] - 0s 151ms/step - loss: 30936.4961 - mape: 77.1318 - mae: 175.5578 - mse: 30936.4961 - val_loss: 35087.6367 - val_mape: 78.0982 - val_mae: 187.2642 - val_mse: 35087.6367\n",
      "Epoch 47/500\n",
      "1/1 [==============================] - 0s 135ms/step - loss: 30698.3574 - mape: 76.8238 - mae: 174.8663 - mse: 30698.3574 - val_loss: 34795.2188 - val_mape: 77.7717 - val_mae: 186.4817 - val_mse: 34795.2188\n",
      "Epoch 48/500\n",
      "1/1 [==============================] - 0s 146ms/step - loss: 30657.3164 - mape: 76.7762 - mae: 174.7559 - mse: 30657.3164 - val_loss: 34505.7930 - val_mape: 77.4473 - val_mae: 185.7041 - val_mse: 34505.7930\n",
      "Epoch 49/500\n",
      "1/1 [==============================] - 0s 132ms/step - loss: 30160.5098 - mape: 76.1644 - mae: 173.3509 - mse: 30160.5098 - val_loss: 34215.9883 - val_mape: 77.1210 - val_mae: 184.9221 - val_mse: 34215.9883\n",
      "Epoch 50/500\n",
      "1/1 [==============================] - 0s 135ms/step - loss: 29819.1152 - mape: 75.7143 - mae: 172.3433 - mse: 29819.1152 - val_loss: 33922.2344 - val_mape: 76.7889 - val_mae: 184.1261 - val_mse: 33922.2344\n",
      "Epoch 51/500\n",
      "1/1 [==============================] - 0s 165ms/step - loss: 29688.0898 - mape: 75.5439 - mae: 171.9583 - mse: 29688.0898 - val_loss: 33624.0430 - val_mape: 76.4503 - val_mae: 183.3146 - val_mse: 33624.0430\n",
      "Epoch 52/500\n",
      "1/1 [==============================] - 0s 130ms/step - loss: 29397.1602 - mape: 75.1763 - mae: 171.1192 - mse: 29397.1602 - val_loss: 33330.0039 - val_mape: 76.1149 - val_mae: 182.5108 - val_mse: 33330.0039\n",
      "Epoch 53/500\n",
      "1/1 [==============================] - 0s 165ms/step - loss: 29124.9668 - mape: 74.8351 - mae: 170.3347 - mse: 29124.9668 - val_loss: 33040.0273 - val_mape: 75.7828 - val_mae: 181.7147 - val_mse: 33040.0273\n",
      "Epoch 54/500\n",
      "1/1 [==============================] - 0s 130ms/step - loss: 28832.6211 - mape: 74.4643 - mae: 169.4859 - mse: 28832.6211 - val_loss: 32750.1719 - val_mape: 75.4493 - val_mae: 180.9154 - val_mse: 32750.1719\n",
      "Epoch 55/500\n",
      "1/1 [==============================] - 0s 283ms/step - loss: 28550.5488 - mape: 74.0937 - mae: 168.6473 - mse: 28550.5488 - val_loss: 32461.5645 - val_mape: 75.1158 - val_mae: 180.1160 - val_mse: 32461.5645\n",
      "Epoch 56/500\n",
      "1/1 [==============================] - 0s 131ms/step - loss: 28308.3789 - mape: 73.7737 - mae: 167.9236 - mse: 28308.3789 - val_loss: 32178.3887 - val_mape: 74.7871 - val_mae: 179.3282 - val_mse: 32178.3887\n",
      "Epoch 57/500\n",
      "1/1 [==============================] - 0s 128ms/step - loss: 27934.3477 - mape: 73.2622 - mae: 166.7782 - mse: 27934.3477 - val_loss: 31895.6387 - val_mape: 74.4574 - val_mae: 178.5382 - val_mse: 31895.6387\n",
      "Epoch 58/500\n",
      "1/1 [==============================] - 0s 123ms/step - loss: 27751.9863 - mape: 73.0220 - mae: 166.2324 - mse: 27751.9863 - val_loss: 31612.9902 - val_mape: 74.1264 - val_mae: 177.7448 - val_mse: 31612.9902\n",
      "Epoch 59/500\n",
      "1/1 [==============================] - 0s 128ms/step - loss: 27480.7051 - mape: 72.6773 - mae: 165.4375 - mse: 27480.7051 - val_loss: 31332.8125 - val_mape: 73.7969 - val_mae: 176.9549 - val_mse: 31332.8125\n",
      "Epoch 60/500\n",
      "1/1 [==============================] - 0s 121ms/step - loss: 27173.4512 - mape: 72.2605 - mae: 164.4972 - mse: 27173.4512 - val_loss: 31056.5879 - val_mape: 73.4705 - val_mae: 176.1727 - val_mse: 31056.5879\n",
      "Epoch 61/500\n",
      "1/1 [==============================] - 0s 131ms/step - loss: 26995.0410 - mape: 72.0103 - mae: 163.9376 - mse: 26995.0410 - val_loss: 30784.3223 - val_mape: 73.1473 - val_mae: 175.3982 - val_mse: 30784.3223\n",
      "Epoch 62/500\n",
      "1/1 [==============================] - 0s 140ms/step - loss: 26631.0449 - mape: 71.5697 - mae: 162.8925 - mse: 26631.0449 - val_loss: 30517.7988 - val_mape: 72.8296 - val_mae: 174.6368 - val_mse: 30517.7988\n",
      "Epoch 63/500\n",
      "1/1 [==============================] - 0s 145ms/step - loss: 26529.5605 - mape: 71.3801 - mae: 162.5083 - mse: 26529.5605 - val_loss: 30251.0664 - val_mape: 72.5103 - val_mae: 173.8715 - val_mse: 30251.0664\n",
      "Epoch 64/500\n",
      "1/1 [==============================] - 0s 391ms/step - loss: 26125.3164 - mape: 70.8316 - mae: 161.2628 - mse: 26125.3164 - val_loss: 29980.1523 - val_mape: 72.1846 - val_mae: 173.0907 - val_mse: 29980.1523\n",
      "Epoch 65/500\n",
      "1/1 [==============================] - 0s 134ms/step - loss: 26192.5410 - mape: 70.9297 - mae: 161.4784 - mse: 26192.5410 - val_loss: 29707.6113 - val_mape: 71.8553 - val_mae: 172.3016 - val_mse: 29707.6113\n",
      "Epoch 66/500\n",
      "1/1 [==============================] - 0s 126ms/step - loss: 25697.4961 - mape: 70.2802 - mae: 159.9794 - mse: 25697.4961 - val_loss: 29433.1387 - val_mape: 71.5222 - val_mae: 171.5033 - val_mse: 29433.1387\n",
      "Epoch 67/500\n",
      "1/1 [==============================] - 0s 135ms/step - loss: 25405.4238 - mape: 69.8567 - mae: 159.0352 - mse: 25405.4238 - val_loss: 29160.9590 - val_mape: 71.1904 - val_mae: 170.7079 - val_mse: 29160.9590\n",
      "Epoch 68/500\n",
      "1/1 [==============================] - 0s 131ms/step - loss: 25430.3848 - mape: 69.8800 - mae: 159.0992 - mse: 25430.3848 - val_loss: 28896.8945 - val_mape: 70.8669 - val_mae: 169.9326 - val_mse: 28896.8945\n",
      "Epoch 69/500\n",
      "1/1 [==============================] - 0s 125ms/step - loss: 24911.2539 - mape: 69.1481 - mae: 157.4457 - mse: 24911.2539 - val_loss: 28640.5723 - val_mape: 70.5515 - val_mae: 169.1768 - val_mse: 28640.5723\n",
      "Epoch 70/500\n",
      "1/1 [==============================] - 0s 137ms/step - loss: 24829.0215 - mape: 69.0506 - mae: 157.2083 - mse: 24829.0215 - val_loss: 28387.4961 - val_mape: 70.2388 - val_mae: 168.4271 - val_mse: 28387.4961\n",
      "Epoch 71/500\n",
      "1/1 [==============================] - 0s 129ms/step - loss: 24479.1426 - mape: 68.5360 - mae: 156.0605 - mse: 24479.1426 - val_loss: 28136.6426 - val_mape: 69.9274 - val_mae: 167.6808 - val_mse: 28136.6426\n",
      "Epoch 72/500\n",
      "1/1 [==============================] - 0s 279ms/step - loss: 24371.6602 - mape: 68.4163 - mae: 155.7600 - mse: 24371.6602 - val_loss: 27885.8301 - val_mape: 69.6146 - val_mae: 166.9313 - val_mse: 27885.8301\n",
      "Epoch 73/500\n",
      "1/1 [==============================] - 0s 120ms/step - loss: 24036.0664 - mape: 67.9197 - mae: 154.6509 - mse: 24036.0664 - val_loss: 27633.1289 - val_mape: 69.2981 - val_mae: 166.1726 - val_mse: 27633.1289\n",
      "Epoch 74/500\n",
      "1/1 [==============================] - 0s 121ms/step - loss: 23740.4902 - mape: 67.5081 - mae: 153.7081 - mse: 23740.4902 - val_loss: 27381.6094 - val_mape: 68.9816 - val_mae: 165.4141 - val_mse: 27381.6094\n",
      "Epoch 75/500\n",
      "1/1 [==============================] - 0s 117ms/step - loss: 23608.7812 - mape: 67.3206 - mae: 153.2787 - mse: 23608.7812 - val_loss: 27137.4121 - val_mape: 68.6729 - val_mae: 164.6743 - val_mse: 27137.4121\n",
      "Epoch 76/500\n",
      "1/1 [==============================] - 0s 123ms/step - loss: 23317.4883 - mape: 66.8777 - mae: 152.2943 - mse: 23317.4883 - val_loss: 26896.8242 - val_mape: 68.3675 - val_mae: 163.9421 - val_mse: 26896.8242\n",
      "Epoch 77/500\n",
      "1/1 [==============================] - 0s 123ms/step - loss: 23109.8789 - mape: 66.5836 - mae: 151.6207 - mse: 23109.8789 - val_loss: 26657.2402 - val_mape: 68.0619 - val_mae: 163.2098 - val_mse: 26657.2402\n",
      "Epoch 78/500\n",
      "1/1 [==============================] - 0s 120ms/step - loss: 22908.5488 - mape: 66.3161 - mae: 150.9937 - mse: 22908.5488 - val_loss: 26420.9648 - val_mape: 67.7592 - val_mae: 162.4843 - val_mse: 26420.9648\n",
      "Epoch 79/500\n",
      "1/1 [==============================] - 0s 118ms/step - loss: 22843.8398 - mape: 66.2348 - mae: 150.7968 - mse: 22843.8398 - val_loss: 26188.5215 - val_mape: 67.4601 - val_mae: 161.7675 - val_mse: 26188.5215\n",
      "Epoch 80/500\n",
      "1/1 [==============================] - 0s 115ms/step - loss: 22200.7793 - mape: 65.2932 - mae: 148.6537 - mse: 22200.7793 - val_loss: 25958.4238 - val_mape: 67.1627 - val_mae: 161.0547 - val_mse: 25958.4238\n",
      "Epoch 81/500\n",
      "1/1 [==============================] - 0s 125ms/step - loss: 22196.6719 - mape: 65.2703 - mae: 148.6167 - mse: 22196.6719 - val_loss: 25730.0098 - val_mape: 66.8662 - val_mae: 160.3440 - val_mse: 25730.0098\n",
      "Epoch 82/500\n",
      "1/1 [==============================] - 0s 171ms/step - loss: 21793.9648 - mape: 64.6415 - mae: 147.2144 - mse: 21793.9648 - val_loss: 25502.4727 - val_mape: 66.5695 - val_mae: 159.6329 - val_mse: 25502.4727\n",
      "Epoch 83/500\n",
      "1/1 [==============================] - 0s 125ms/step - loss: 21869.2051 - mape: 64.7704 - mae: 147.4915 - mse: 21869.2051 - val_loss: 25275.1387 - val_mape: 66.2718 - val_mae: 158.9193 - val_mse: 25275.1387\n",
      "Epoch 84/500\n",
      "1/1 [==============================] - 0s 116ms/step - loss: 21663.0215 - mape: 64.4662 - mae: 146.8005 - mse: 21663.0215 - val_loss: 25046.5566 - val_mape: 65.9710 - val_mae: 158.1985 - val_mse: 25046.5566\n",
      "Epoch 85/500\n",
      "1/1 [==============================] - 0s 120ms/step - loss: 21300.9746 - mape: 63.8904 - mae: 145.5144 - mse: 21300.9746 - val_loss: 24817.6387 - val_mape: 65.6685 - val_mae: 157.4733 - val_mse: 24817.6387\n",
      "Epoch 86/500\n",
      "1/1 [==============================] - 0s 127ms/step - loss: 21290.1621 - mape: 63.8733 - mae: 145.4780 - mse: 21290.1621 - val_loss: 24592.2363 - val_mape: 65.3692 - val_mae: 156.7560 - val_mse: 24592.2363\n",
      "Epoch 87/500\n",
      "1/1 [==============================] - 0s 119ms/step - loss: 20972.0527 - mape: 63.4496 - mae: 144.4669 - mse: 20972.0527 - val_loss: 24368.7246 - val_mape: 65.0710 - val_mae: 156.0414 - val_mse: 24368.7246\n",
      "Epoch 88/500\n",
      "1/1 [==============================] - 0s 119ms/step - loss: 20731.0625 - mape: 63.0838 - mae: 143.6350 - mse: 20731.0625 - val_loss: 24145.9238 - val_mape: 64.7725 - val_mae: 155.3259 - val_mse: 24145.9238\n",
      "Epoch 89/500\n",
      "1/1 [==============================] - 0s 179ms/step - loss: 20450.6660 - mape: 62.5979 - mae: 142.5777 - mse: 20450.6660 - val_loss: 23925.9551 - val_mape: 64.4764 - val_mae: 154.6162 - val_mse: 23925.9551\n",
      "Epoch 90/500\n",
      "1/1 [==============================] - 0s 119ms/step - loss: 20442.2324 - mape: 62.5810 - mae: 142.5414 - mse: 20442.2324 - val_loss: 23707.6113 - val_mape: 64.1811 - val_mae: 153.9085 - val_mse: 23707.6113\n",
      "Epoch 91/500\n",
      "1/1 [==============================] - 0s 117ms/step - loss: 20106.5684 - mape: 62.0915 - mae: 141.4049 - mse: 20106.5684 - val_loss: 23490.6523 - val_mape: 63.8863 - val_mae: 153.2020 - val_mse: 23490.6523\n",
      "Epoch 92/500\n",
      "1/1 [==============================] - 0s 301ms/step - loss: 20007.1309 - mape: 61.9058 - mae: 141.0082 - mse: 20007.1309 - val_loss: 23275.9688 - val_mape: 63.5933 - val_mae: 152.4997 - val_mse: 23275.9688\n",
      "Epoch 93/500\n",
      "1/1 [==============================] - 0s 130ms/step - loss: 19996.7246 - mape: 61.9673 - mae: 141.0809 - mse: 19996.7246 - val_loss: 23065.3477 - val_mape: 63.3045 - val_mae: 151.8076 - val_mse: 23065.3477\n",
      "Epoch 94/500\n",
      "1/1 [==============================] - 0s 118ms/step - loss: 19483.9023 - mape: 61.1178 - mae: 139.1856 - mse: 19483.9023 - val_loss: 22855.1660 - val_mape: 63.0150 - val_mae: 151.1138 - val_mse: 22855.1660\n",
      "Epoch 95/500\n",
      "1/1 [==============================] - 0s 117ms/step - loss: 19062.6562 - mape: 60.4426 - mae: 137.6602 - mse: 19062.6562 - val_loss: 22643.6055 - val_mape: 62.7223 - val_mae: 150.4121 - val_mse: 22643.6055\n",
      "Epoch 96/500\n",
      "1/1 [==============================] - 0s 133ms/step - loss: 19081.4160 - mape: 60.5219 - mae: 137.7999 - mse: 19081.4160 - val_loss: 22432.6836 - val_mape: 62.4291 - val_mae: 149.7093 - val_mse: 22432.6836\n",
      "Epoch 97/500\n",
      "1/1 [==============================] - 0s 116ms/step - loss: 19040.6875 - mape: 60.4509 - mae: 137.6442 - mse: 19040.6875 - val_loss: 22224.3262 - val_mape: 62.1381 - val_mae: 149.0119 - val_mse: 22224.3262\n",
      "Epoch 98/500\n",
      "1/1 [==============================] - 0s 114ms/step - loss: 18916.8535 - mape: 60.1936 - mae: 137.1077 - mse: 18916.8535 - val_loss: 22013.3887 - val_mape: 61.8421 - val_mae: 148.3024 - val_mse: 22013.3887\n",
      "Epoch 99/500\n",
      "1/1 [==============================] - 0s 111ms/step - loss: 18649.7285 - mape: 59.7865 - mae: 136.1644 - mse: 18649.7285 - val_loss: 21801.8477 - val_mape: 61.5438 - val_mae: 147.5875 - val_mse: 21801.8477\n",
      "Epoch 100/500\n",
      "1/1 [==============================] - 0s 124ms/step - loss: 18423.7559 - mape: 59.3951 - mae: 135.2941 - mse: 18423.7559 - val_loss: 21593.5723 - val_mape: 61.2487 - val_mae: 146.8802 - val_mse: 21593.5723\n",
      "Epoch 101/500\n",
      "1/1 [==============================] - 0s 113ms/step - loss: 18414.6426 - mape: 59.3368 - mae: 135.1970 - mse: 18414.6426 - val_loss: 21383.5840 - val_mape: 60.9497 - val_mae: 146.1636 - val_mse: 21383.5840\n",
      "Epoch 102/500\n",
      "1/1 [==============================] - 0s 135ms/step - loss: 18075.8789 - mape: 58.8546 - mae: 134.0459 - mse: 18075.8789 - val_loss: 21169.1836 - val_mape: 60.6429 - val_mae: 145.4283 - val_mse: 21169.1836\n",
      "Epoch 103/500\n",
      "1/1 [==============================] - 0s 122ms/step - loss: 17871.3496 - mape: 58.5218 - mae: 133.2878 - mse: 17871.3496 - val_loss: 20962.9961 - val_mape: 60.3464 - val_mae: 144.7177 - val_mse: 20962.9961\n",
      "Epoch 104/500\n",
      "1/1 [==============================] - 0s 125ms/step - loss: 17493.5254 - mape: 57.8026 - mae: 131.7249 - mse: 17493.5254 - val_loss: 20764.6035 - val_mape: 60.0597 - val_mae: 144.0306 - val_mse: 20764.6035\n",
      "Epoch 105/500\n",
      "1/1 [==============================] - 0s 129ms/step - loss: 17428.5801 - mape: 57.7868 - mae: 131.6165 - mse: 17428.5801 - val_loss: 20570.2559 - val_mape: 59.7775 - val_mae: 143.3543 - val_mse: 20570.2559\n",
      "Epoch 106/500\n",
      "1/1 [==============================] - 0s 127ms/step - loss: 17366.9355 - mape: 57.6375 - mae: 131.3150 - mse: 17366.9355 - val_loss: 20376.4629 - val_mape: 59.4948 - val_mae: 142.6768 - val_mse: 20376.4629\n",
      "Epoch 107/500\n",
      "1/1 [==============================] - 0s 143ms/step - loss: 16856.2949 - mape: 56.7932 - mae: 129.3851 - mse: 16856.2949 - val_loss: 20180.0879 - val_mape: 59.2070 - val_mae: 141.9869 - val_mse: 20180.0879\n",
      "Epoch 108/500\n",
      "1/1 [==============================] - 0s 132ms/step - loss: 17065.7441 - mape: 57.1519 - mae: 130.1992 - mse: 17065.7441 - val_loss: 19977.9023 - val_mape: 58.9092 - val_mae: 141.2731 - val_mse: 19977.9023\n",
      "Epoch 109/500\n",
      "1/1 [==============================] - 0s 117ms/step - loss: 16679.2930 - mape: 56.5103 - mae: 128.7260 - mse: 16679.2930 - val_loss: 19776.3027 - val_mape: 58.6108 - val_mae: 140.5578 - val_mse: 19776.3027\n",
      "Epoch 110/500\n",
      "1/1 [==============================] - 0s 120ms/step - loss: 16470.9258 - mape: 56.1803 - mae: 127.9587 - mse: 16470.9258 - val_loss: 19584.2949 - val_mape: 58.3251 - val_mae: 139.8731 - val_mse: 19584.2949\n",
      "Epoch 111/500\n",
      "1/1 [==============================] - 0s 115ms/step - loss: 16451.9648 - mape: 56.1575 - mae: 127.8960 - mse: 16451.9648 - val_loss: 19395.8945 - val_mape: 58.0434 - val_mae: 139.1980 - val_mse: 19395.8945\n",
      "Epoch 112/500\n",
      "1/1 [==============================] - 0s 132ms/step - loss: 16397.1602 - mape: 56.0530 - mae: 127.6667 - mse: 16397.1602 - val_loss: 19209.3555 - val_mape: 57.7632 - val_mae: 138.5264 - val_mse: 19209.3555\n",
      "Epoch 113/500\n",
      "1/1 [==============================] - 0s 117ms/step - loss: 16225.3057 - mape: 55.6908 - mae: 126.8936 - mse: 16225.3057 - val_loss: 19022.7227 - val_mape: 57.4814 - val_mae: 137.8511 - val_mse: 19022.7227\n",
      "Epoch 114/500\n",
      "1/1 [==============================] - 0s 115ms/step - loss: 15867.3457 - mape: 55.0702 - mae: 125.4835 - mse: 15867.3457 - val_loss: 18834.9902 - val_mape: 57.1966 - val_mae: 137.1685 - val_mse: 18834.9902\n",
      "Epoch 115/500\n",
      "1/1 [==============================] - 0s 119ms/step - loss: 15950.2891 - mape: 55.2023 - mae: 125.7925 - mse: 15950.2891 - val_loss: 18646.2949 - val_mape: 56.9089 - val_mae: 136.4790 - val_mse: 18646.2949\n",
      "Epoch 116/500\n",
      "1/1 [==============================] - 0s 113ms/step - loss: 15432.9863 - mape: 54.3271 - mae: 123.7780 - mse: 15432.9863 - val_loss: 18460.7617 - val_mape: 56.6246 - val_mae: 135.7975 - val_mse: 18460.7617\n",
      "Epoch 117/500\n",
      "1/1 [==============================] - 0s 117ms/step - loss: 15397.1094 - mape: 54.2735 - mae: 123.6468 - mse: 15397.1094 - val_loss: 18280.7168 - val_mape: 56.3473 - val_mae: 135.1330 - val_mse: 18280.7168\n",
      "Epoch 118/500\n",
      "1/1 [==============================] - 0s 113ms/step - loss: 15292.9863 - mape: 54.0482 - mae: 123.1669 - mse: 15292.9863 - val_loss: 18102.3164 - val_mape: 56.0712 - val_mae: 134.4713 - val_mse: 18102.3164\n",
      "Epoch 119/500\n",
      "1/1 [==============================] - 0s 117ms/step - loss: 15103.7734 - mape: 53.7242 - mae: 122.4129 - mse: 15103.7734 - val_loss: 17923.8574 - val_mape: 55.7937 - val_mae: 133.8061 - val_mse: 17923.8574\n",
      "Epoch 120/500\n",
      "1/1 [==============================] - 0s 124ms/step - loss: 14966.2109 - mape: 53.5194 - mae: 121.9250 - mse: 14966.2109 - val_loss: 17747.9805 - val_mape: 55.5188 - val_mae: 133.1472 - val_mse: 17747.9805\n",
      "Epoch 121/500\n",
      "1/1 [==============================] - 0s 119ms/step - loss: 14619.9854 - mape: 52.7994 - mae: 120.3549 - mse: 14619.9854 - val_loss: 17574.5137 - val_mape: 55.2463 - val_mae: 132.4942 - val_mse: 17574.5137\n",
      "Epoch 122/500\n",
      "1/1 [==============================] - 0s 135ms/step - loss: 14388.9355 - mape: 52.4362 - mae: 119.4827 - mse: 14388.9355 - val_loss: 17401.7480 - val_mape: 54.9737 - val_mae: 131.8406 - val_mse: 17401.7480\n",
      "Epoch 123/500\n",
      "1/1 [==============================] - 0s 143ms/step - loss: 14458.7275 - mape: 52.5771 - mae: 119.7949 - mse: 14458.7275 - val_loss: 17229.7676 - val_mape: 54.7008 - val_mae: 131.1868 - val_mse: 17229.7676\n",
      "Epoch 124/500\n",
      "1/1 [==============================] - 0s 126ms/step - loss: 14111.0449 - mape: 51.9219 - mae: 118.3201 - mse: 14111.0449 - val_loss: 17059.1934 - val_mape: 54.4289 - val_mae: 130.5350 - val_mse: 17059.1934\n",
      "Epoch 125/500\n",
      "1/1 [==============================] - 0s 119ms/step - loss: 14250.4736 - mape: 52.1492 - mae: 118.8571 - mse: 14250.4736 - val_loss: 16892.1289 - val_mape: 54.1613 - val_mae: 129.8935 - val_mse: 16892.1289\n",
      "Epoch 126/500\n",
      "1/1 [==============================] - 0s 121ms/step - loss: 13920.2168 - mape: 51.5759 - mae: 117.5262 - mse: 13920.2168 - val_loss: 16726.4961 - val_mape: 53.8946 - val_mae: 129.2544 - val_mse: 16726.4961\n",
      "Epoch 127/500\n",
      "1/1 [==============================] - 0s 158ms/step - loss: 13879.9248 - mape: 51.4113 - mae: 117.2158 - mse: 13879.9248 - val_loss: 16561.4082 - val_mape: 53.6275 - val_mae: 128.6142 - val_mse: 16561.4082\n",
      "Epoch 128/500\n",
      "1/1 [==============================] - 0s 123ms/step - loss: 13617.5850 - mape: 51.0090 - mae: 116.2359 - mse: 13617.5850 - val_loss: 16395.3730 - val_mape: 53.3575 - val_mae: 127.9671 - val_mse: 16395.3730\n",
      "Epoch 129/500\n",
      "1/1 [==============================] - 0s 120ms/step - loss: 13558.8975 - mape: 50.8929 - mae: 115.9746 - mse: 13558.8975 - val_loss: 16230.3311 - val_mape: 53.0877 - val_mae: 127.3206 - val_mse: 16230.3311\n",
      "Epoch 130/500\n",
      "1/1 [==============================] - 0s 115ms/step - loss: 13340.5762 - mape: 50.4545 - mae: 114.9924 - mse: 13340.5762 - val_loss: 16067.4307 - val_mape: 52.8202 - val_mae: 126.6793 - val_mse: 16067.4307\n",
      "Epoch 131/500\n",
      "1/1 [==============================] - 0s 126ms/step - loss: 13205.1250 - mape: 50.2565 - mae: 114.4965 - mse: 13205.1250 - val_loss: 15905.6436 - val_mape: 52.5531 - val_mae: 126.0391 - val_mse: 15905.6436\n",
      "Epoch 132/500\n",
      "1/1 [==============================] - 0s 120ms/step - loss: 12813.9287 - mape: 49.4036 - mae: 112.6328 - mse: 12813.9287 - val_loss: 15744.6670 - val_mape: 52.2859 - val_mae: 125.3989 - val_mse: 15744.6670\n",
      "Epoch 133/500\n",
      "1/1 [==============================] - 0s 316ms/step - loss: 13070.1152 - mape: 49.9269 - mae: 113.8033 - mse: 13070.1152 - val_loss: 15583.5098 - val_mape: 52.0171 - val_mae: 124.7546 - val_mse: 15583.5098\n",
      "Epoch 134/500\n",
      "1/1 [==============================] - 0s 122ms/step - loss: 12614.5303 - mape: 49.0152 - mae: 111.7493 - mse: 12614.5303 - val_loss: 15425.5693 - val_mape: 51.7523 - val_mae: 124.1200 - val_mse: 15425.5693\n",
      "Epoch 135/500\n",
      "1/1 [==============================] - 0s 128ms/step - loss: 12451.4053 - mape: 48.7469 - mae: 111.1015 - mse: 12451.4053 - val_loss: 15270.2432 - val_mape: 51.4906 - val_mae: 123.4927 - val_mse: 15270.2432\n",
      "Epoch 136/500\n",
      "1/1 [==============================] - 0s 113ms/step - loss: 12462.8594 - mape: 48.7490 - mae: 111.1204 - mse: 12462.8594 - val_loss: 15117.5986 - val_mape: 51.2321 - val_mae: 122.8731 - val_mse: 15117.5986\n",
      "Epoch 137/500\n",
      "1/1 [==============================] - 0s 146ms/step - loss: 12344.0537 - mape: 48.5276 - mae: 110.6080 - mse: 12344.0537 - val_loss: 14966.5205 - val_mape: 50.9749 - val_mae: 122.2568 - val_mse: 14966.5205\n",
      "Epoch 138/500\n",
      "1/1 [==============================] - 0s 118ms/step - loss: 12046.8994 - mape: 47.9378 - mae: 109.2652 - mse: 12046.8994 - val_loss: 14815.9268 - val_mape: 50.7173 - val_mae: 121.6393 - val_mse: 14815.9268\n",
      "Epoch 139/500\n",
      "1/1 [==============================] - 0s 120ms/step - loss: 12077.7881 - mape: 47.8910 - mae: 109.2336 - mse: 12077.7881 - val_loss: 14664.2812 - val_mape: 50.4566 - val_mae: 121.0144 - val_mse: 14664.2812\n",
      "Epoch 140/500\n",
      "1/1 [==============================] - 0s 117ms/step - loss: 12290.5781 - mape: 48.4634 - mae: 110.4316 - mse: 12290.5781 - val_loss: 14513.3662 - val_mape: 50.1957 - val_mae: 120.3892 - val_mse: 14513.3662\n",
      "Epoch 141/500\n",
      "1/1 [==============================] - 0s 118ms/step - loss: 11856.0020 - mape: 47.5373 - mae: 108.3657 - mse: 11856.0020 - val_loss: 14364.8545 - val_mape: 49.9377 - val_mae: 119.7708 - val_mse: 14364.8545\n",
      "Epoch 142/500\n",
      "1/1 [==============================] - 0s 114ms/step - loss: 11808.0654 - mape: 47.3988 - mae: 108.0805 - mse: 11808.0654 - val_loss: 14215.7793 - val_mape: 49.6774 - val_mae: 119.1469 - val_mse: 14215.7793\n",
      "Epoch 143/500\n",
      "1/1 [==============================] - 0s 136ms/step - loss: 11568.3076 - mape: 47.0135 - mae: 107.1283 - mse: 11568.3076 - val_loss: 14065.9189 - val_mape: 49.4143 - val_mae: 118.5163 - val_mse: 14065.9189\n",
      "Epoch 144/500\n",
      "1/1 [==============================] - 0s 118ms/step - loss: 11615.0156 - mape: 47.0170 - mae: 107.2009 - mse: 11615.0156 - val_loss: 13919.9531 - val_mape: 49.1567 - val_mae: 117.8989 - val_mse: 13919.9531\n",
      "Epoch 145/500\n",
      "1/1 [==============================] - 0s 122ms/step - loss: 11309.7207 - mape: 46.3968 - mae: 105.7869 - mse: 11309.7207 - val_loss: 13778.0762 - val_mape: 48.9050 - val_mae: 117.2957 - val_mse: 13778.0762\n",
      "Epoch 146/500\n",
      "1/1 [==============================] - 0s 124ms/step - loss: 11336.7656 - mape: 46.4368 - mae: 105.8911 - mse: 11336.7656 - val_loss: 13637.8018 - val_mape: 48.6549 - val_mae: 116.6962 - val_mse: 13637.8018\n",
      "Epoch 147/500\n",
      "1/1 [==============================] - 0s 116ms/step - loss: 10931.3594 - mape: 45.6835 - mae: 104.1075 - mse: 10931.3594 - val_loss: 13498.8750 - val_mape: 48.4059 - val_mae: 116.0994 - val_mse: 13498.8750\n",
      "Epoch 148/500\n",
      "1/1 [==============================] - 0s 116ms/step - loss: 10802.8066 - mape: 45.3195 - mae: 103.3437 - mse: 10802.8066 - val_loss: 13361.2705 - val_mape: 48.1580 - val_mae: 115.5053 - val_mse: 13361.2705\n",
      "Epoch 149/500\n",
      "1/1 [==============================] - 0s 116ms/step - loss: 10659.6982 - mape: 45.0521 - mae: 102.7163 - mse: 10659.6982 - val_loss: 13224.9082 - val_mape: 47.9111 - val_mae: 114.9135 - val_mse: 13224.9082\n",
      "Epoch 150/500\n",
      "1/1 [==============================] - 0s 112ms/step - loss: 10590.3770 - mape: 44.9099 - mae: 102.3835 - mse: 10590.3770 - val_loss: 13089.8096 - val_mape: 47.6652 - val_mae: 114.3241 - val_mse: 13089.8096\n",
      "Epoch 151/500\n",
      "1/1 [==============================] - 0s 115ms/step - loss: 10407.8887 - mape: 44.5418 - mae: 101.5320 - mse: 10407.8887 - val_loss: 12955.9502 - val_mape: 47.4203 - val_mae: 113.7372 - val_mse: 12955.9502\n",
      "Epoch 152/500\n",
      "1/1 [==============================] - 0s 115ms/step - loss: 10608.6094 - mape: 44.9552 - mae: 102.4831 - mse: 10608.6094 - val_loss: 12823.2754 - val_mape: 47.1763 - val_mae: 113.1524 - val_mse: 12823.2754\n",
      "Epoch 153/500\n",
      "1/1 [==============================] - 0s 119ms/step - loss: 10272.3975 - mape: 44.1488 - mae: 100.7038 - mse: 10272.3975 - val_loss: 12691.7676 - val_mape: 46.9332 - val_mae: 112.5698 - val_mse: 12691.7676\n",
      "Epoch 154/500\n",
      "1/1 [==============================] - 0s 132ms/step - loss: 10196.6113 - mape: 44.0763 - mae: 100.4796 - mse: 10196.6113 - val_loss: 12561.2295 - val_mape: 46.6907 - val_mae: 111.9885 - val_mse: 12561.2295\n",
      "Epoch 155/500\n",
      "1/1 [==============================] - 0s 116ms/step - loss: 9919.0312 - mape: 43.4323 - mae: 99.0385 - mse: 9919.0312 - val_loss: 12431.1885 - val_mape: 46.4478 - val_mae: 111.4064 - val_mse: 12431.1885\n",
      "Epoch 156/500\n",
      "1/1 [==============================] - 0s 127ms/step - loss: 9729.0439 - mape: 42.9208 - mae: 97.9347 - mse: 9729.0439 - val_loss: 12302.0020 - val_mape: 46.2053 - val_mae: 110.8251 - val_mse: 12302.0020\n",
      "Epoch 157/500\n",
      "1/1 [==============================] - 0s 158ms/step - loss: 9844.1006 - mape: 43.2781 - mae: 98.6803 - mse: 9844.1006 - val_loss: 12174.6582 - val_mape: 45.9649 - val_mae: 110.2491 - val_mse: 12174.6582\n",
      "Epoch 158/500\n",
      "1/1 [==============================] - 0s 148ms/step - loss: 9800.9082 - mape: 43.1517 - mae: 98.4158 - mse: 9800.9082 - val_loss: 12047.0068 - val_mape: 45.7228 - val_mae: 109.6686 - val_mse: 12047.0068\n",
      "Epoch 159/500\n",
      "1/1 [==============================] - 0s 128ms/step - loss: 9666.0303 - mape: 42.8609 - mae: 97.7445 - mse: 9666.0303 - val_loss: 11918.9863 - val_mape: 45.4786 - val_mae: 109.0834 - val_mse: 11918.9863\n",
      "Epoch 160/500\n",
      "1/1 [==============================] - 0s 125ms/step - loss: 9563.1182 - mape: 42.6217 - mae: 97.2063 - mse: 9563.1182 - val_loss: 11793.8330 - val_mape: 45.2386 - val_mae: 108.5082 - val_mse: 11793.8330\n",
      "Epoch 161/500\n",
      "1/1 [==============================] - 0s 126ms/step - loss: 9388.4668 - mape: 42.1993 - mae: 96.2621 - mse: 9388.4668 - val_loss: 11671.3457 - val_mape: 45.0025 - val_mae: 107.9423 - val_mse: 11671.3457\n",
      "Epoch 162/500\n",
      "1/1 [==============================] - 0s 121ms/step - loss: 9229.3281 - mape: 41.7588 - mae: 95.3064 - mse: 9229.3281 - val_loss: 11550.3379 - val_mape: 44.7680 - val_mae: 107.3803 - val_mse: 11550.3379\n",
      "Epoch 163/500\n",
      "1/1 [==============================] - 0s 116ms/step - loss: 8994.6719 - mape: 41.3370 - mae: 94.2713 - mse: 8994.6719 - val_loss: 11430.4268 - val_mape: 44.5344 - val_mae: 106.8205 - val_mse: 11430.4268\n",
      "Epoch 164/500\n",
      "1/1 [==============================] - 0s 246ms/step - loss: 9079.4434 - mape: 41.4482 - mae: 94.5817 - mse: 9079.4434 - val_loss: 11311.3525 - val_mape: 44.3013 - val_mae: 106.2617 - val_mse: 11311.3525\n",
      "Epoch 165/500\n",
      "1/1 [==============================] - 0s 114ms/step - loss: 8833.7588 - mape: 40.8991 - mae: 93.3164 - mse: 8833.7588 - val_loss: 11192.3447 - val_mape: 44.0670 - val_mae: 105.7003 - val_mse: 11192.3447\n",
      "Epoch 166/500\n",
      "1/1 [==============================] - 0s 117ms/step - loss: 8764.3652 - mape: 40.6515 - mae: 92.8062 - mse: 8764.3652 - val_loss: 11074.3750 - val_mape: 43.8336 - val_mae: 105.1407 - val_mse: 11074.3750\n",
      "Epoch 167/500\n",
      "1/1 [==============================] - 0s 116ms/step - loss: 8634.9561 - mape: 40.4699 - mae: 92.3206 - mse: 8634.9561 - val_loss: 10958.3545 - val_mape: 43.6028 - val_mae: 104.5875 - val_mse: 10958.3545\n",
      "Epoch 168/500\n",
      "1/1 [==============================] - 0s 116ms/step - loss: 8595.1230 - mape: 40.2302 - mae: 91.8546 - mse: 8595.1230 - val_loss: 10841.2197 - val_mape: 43.3685 - val_mae: 104.0261 - val_mse: 10841.2197\n",
      "Epoch 169/500\n",
      "1/1 [==============================] - 0s 120ms/step - loss: 8373.9365 - mape: 39.7954 - mae: 90.8125 - mse: 8373.9365 - val_loss: 10723.1348 - val_mape: 43.1310 - val_mae: 103.4569 - val_mse: 10723.1348\n",
      "Epoch 170/500\n",
      "1/1 [==============================] - 0s 122ms/step - loss: 8324.5879 - mape: 39.6994 - mae: 90.5777 - mse: 8324.5879 - val_loss: 10606.7207 - val_mape: 42.8956 - val_mae: 102.8928 - val_mse: 10606.7207\n",
      "Epoch 171/500\n",
      "1/1 [==============================] - 0s 121ms/step - loss: 8185.7334 - mape: 39.3357 - mae: 89.7697 - mse: 8185.7334 - val_loss: 10493.6221 - val_mape: 42.6657 - val_mae: 102.3417 - val_mse: 10493.6221\n",
      "Epoch 172/500\n",
      "1/1 [==============================] - 0s 117ms/step - loss: 8191.4141 - mape: 39.3341 - mae: 89.7773 - mse: 8191.4141 - val_loss: 10382.0137 - val_mape: 42.4376 - val_mae: 101.7949 - val_mse: 10382.0137\n",
      "Epoch 173/500\n",
      "1/1 [==============================] - 0s 121ms/step - loss: 8185.5352 - mape: 39.3929 - mae: 89.8629 - mse: 8185.5352 - val_loss: 10268.0264 - val_mape: 42.2034 - val_mae: 101.2335 - val_mse: 10268.0264\n",
      "Epoch 174/500\n",
      "1/1 [==============================] - 0s 386ms/step - loss: 8204.9873 - mape: 39.4717 - mae: 90.0236 - mse: 8204.9873 - val_loss: 10154.4131 - val_mape: 41.9686 - val_mae: 100.6708 - val_mse: 10154.4131\n",
      "Epoch 175/500\n",
      "1/1 [==============================] - 0s 118ms/step - loss: 8044.6885 - mape: 39.0456 - mae: 89.0677 - mse: 8044.6885 - val_loss: 10043.6934 - val_mape: 41.7385 - val_mae: 100.1194 - val_mse: 10043.6934\n",
      "Epoch 176/500\n",
      "1/1 [==============================] - 0s 123ms/step - loss: 7905.6841 - mape: 38.6273 - mae: 88.1698 - mse: 7905.6841 - val_loss: 9932.5010 - val_mape: 41.5062 - val_mae: 99.5626 - val_mse: 9932.5010\n",
      "Epoch 177/500\n",
      "1/1 [==============================] - 0s 119ms/step - loss: 7763.4644 - mape: 38.3482 - mae: 87.4985 - mse: 7763.4644 - val_loss: 9821.2002 - val_mape: 41.2723 - val_mae: 99.0020 - val_mse: 9821.2002\n",
      "Epoch 178/500\n",
      "1/1 [==============================] - 0s 119ms/step - loss: 7823.3276 - mape: 38.3551 - mae: 87.5898 - mse: 7823.3276 - val_loss: 9712.0361 - val_mape: 41.0416 - val_mae: 98.4492 - val_mse: 9712.0361\n",
      "Epoch 179/500\n",
      "1/1 [==============================] - 0s 127ms/step - loss: 7815.9609 - mape: 38.3691 - mae: 87.5994 - mse: 7815.9609 - val_loss: 9606.5674 - val_mape: 40.8175 - val_mae: 97.9120 - val_mse: 9606.5674\n",
      "Epoch 180/500\n",
      "1/1 [==============================] - 0s 119ms/step - loss: 7217.7632 - mape: 37.0009 - mae: 84.4023 - mse: 7217.7632 - val_loss: 9502.9268 - val_mape: 40.5961 - val_mae: 97.3813 - val_mse: 9502.9268\n",
      "Epoch 181/500\n",
      "1/1 [==============================] - 0s 113ms/step - loss: 7222.7925 - mape: 36.9176 - mae: 84.2697 - mse: 7222.7925 - val_loss: 9400.2363 - val_mape: 40.3755 - val_mae: 96.8526 - val_mse: 9400.2363\n",
      "Epoch 182/500\n",
      "1/1 [==============================] - 0s 118ms/step - loss: 7162.9717 - mape: 36.8000 - mae: 83.9828 - mse: 7162.9717 - val_loss: 9297.9424 - val_mape: 40.1546 - val_mae: 96.3231 - val_mse: 9297.9424\n",
      "Epoch 183/500\n",
      "1/1 [==============================] - 0s 150ms/step - loss: 7209.5859 - mape: 36.8604 - mae: 84.1553 - mse: 7209.5859 - val_loss: 9195.1973 - val_mape: 39.9314 - val_mae: 95.7883 - val_mse: 9195.1973\n",
      "Epoch 184/500\n",
      "1/1 [==============================] - 0s 125ms/step - loss: 7026.4282 - mape: 36.4998 - mae: 83.2631 - mse: 7026.4282 - val_loss: 9091.4092 - val_mape: 39.7048 - val_mae: 95.2450 - val_mse: 9091.4092\n",
      "Epoch 185/500\n",
      "1/1 [==============================] - 0s 120ms/step - loss: 7347.8940 - mape: 37.1506 - mae: 84.8409 - mse: 7347.8940 - val_loss: 8987.3799 - val_mape: 39.4762 - val_mae: 94.6973 - val_mse: 8987.3799\n",
      "Epoch 186/500\n",
      "1/1 [==============================] - 0s 124ms/step - loss: 6766.9751 - mape: 35.6900 - mae: 81.4936 - mse: 6766.9751 - val_loss: 8886.1094 - val_mape: 39.2525 - val_mae: 94.1611 - val_mse: 8886.1094\n",
      "Epoch 187/500\n",
      "1/1 [==============================] - 0s 125ms/step - loss: 6466.2788 - mape: 34.9154 - mae: 79.7065 - mse: 6466.2788 - val_loss: 8787.6426 - val_mape: 39.0337 - val_mae: 93.6368 - val_mse: 8787.6426\n",
      "Epoch 188/500\n",
      "1/1 [==============================] - 0s 126ms/step - loss: 6584.3896 - mape: 35.1808 - mae: 80.3426 - mse: 6584.3896 - val_loss: 8689.1152 - val_mape: 38.8136 - val_mae: 93.1092 - val_mse: 8689.1152\n",
      "Epoch 189/500\n",
      "1/1 [==============================] - 0s 130ms/step - loss: 6523.1743 - mape: 35.0984 - mae: 80.1054 - mse: 6523.1743 - val_loss: 8592.3389 - val_mape: 38.5962 - val_mae: 92.5880 - val_mse: 8592.3389\n",
      "Epoch 190/500\n",
      "1/1 [==============================] - 0s 125ms/step - loss: 6603.2969 - mape: 35.2649 - mae: 80.5127 - mse: 6603.2969 - val_loss: 8496.8154 - val_mape: 38.3803 - val_mae: 92.0707 - val_mse: 8496.8154\n",
      "Epoch 191/500\n",
      "1/1 [==============================] - 0s 128ms/step - loss: 6582.7021 - mape: 35.1876 - mae: 80.3454 - mse: 6582.7021 - val_loss: 8401.7070 - val_mape: 38.1642 - val_mae: 91.5527 - val_mse: 8401.7070\n",
      "Epoch 192/500\n",
      "1/1 [==============================] - 0s 123ms/step - loss: 6374.6821 - mape: 34.7228 - mae: 79.2354 - mse: 6374.6821 - val_loss: 8307.7676 - val_mape: 37.9496 - val_mae: 91.0383 - val_mse: 8307.7676\n",
      "Epoch 193/500\n",
      "1/1 [==============================] - 0s 165ms/step - loss: 6192.3174 - mape: 34.1147 - mae: 77.9066 - mse: 6192.3174 - val_loss: 8214.1934 - val_mape: 37.7345 - val_mae: 90.5229 - val_mse: 8214.1934\n",
      "Epoch 194/500\n",
      "1/1 [==============================] - 0s 130ms/step - loss: 6238.5664 - mape: 34.2195 - mae: 78.1571 - mse: 6238.5664 - val_loss: 8123.1294 - val_mape: 37.5241 - val_mae: 90.0185 - val_mse: 8123.1294\n",
      "Epoch 195/500\n",
      "1/1 [==============================] - 0s 132ms/step - loss: 6129.4854 - mape: 34.0596 - mae: 77.7189 - mse: 6129.4854 - val_loss: 8033.0166 - val_mape: 37.3146 - val_mae: 89.5166 - val_mse: 8033.0166\n",
      "Epoch 196/500\n",
      "1/1 [==============================] - 0s 130ms/step - loss: 6146.9585 - mape: 34.0459 - mae: 77.7159 - mse: 6146.9585 - val_loss: 7942.8174 - val_mape: 37.1038 - val_mae: 89.0113 - val_mse: 7942.8174\n",
      "Epoch 197/500\n",
      "1/1 [==============================] - 0s 120ms/step - loss: 6100.9927 - mape: 33.9291 - mae: 77.4438 - mse: 6100.9927 - val_loss: 7851.0190 - val_mape: 36.8881 - val_mae: 88.4942 - val_mse: 7851.0190\n",
      "Epoch 198/500\n",
      "1/1 [==============================] - 0s 117ms/step - loss: 5968.7451 - mape: 33.5235 - mae: 76.5407 - mse: 5968.7451 - val_loss: 7758.5811 - val_mape: 36.6695 - val_mae: 87.9704 - val_mse: 7758.5811\n",
      "Epoch 199/500\n",
      "1/1 [==============================] - 0s 119ms/step - loss: 6101.6475 - mape: 33.8131 - mae: 77.2422 - mse: 6101.6475 - val_loss: 7669.7310 - val_mape: 36.4582 - val_mae: 87.4639 - val_mse: 7669.7310\n",
      "Epoch 200/500\n",
      "1/1 [==============================] - 0s 195ms/step - loss: 5618.9185 - mape: 32.4550 - mae: 74.1345 - mse: 5618.9185 - val_loss: 7583.5415 - val_mape: 36.2520 - val_mae: 86.9698 - val_mse: 7583.5415\n",
      "Epoch 201/500\n",
      "1/1 [==============================] - 0s 126ms/step - loss: 5880.4185 - mape: 33.2742 - mae: 75.9644 - mse: 5880.4185 - val_loss: 7498.3843 - val_mape: 36.0472 - val_mae: 86.4788 - val_mse: 7498.3843\n",
      "Epoch 202/500\n",
      "1/1 [==============================] - 0s 127ms/step - loss: 5590.8970 - mape: 32.4447 - mae: 74.0779 - mse: 5590.8970 - val_loss: 7413.9897 - val_mape: 35.8430 - val_mae: 85.9895 - val_mse: 7413.9897\n",
      "Epoch 203/500\n",
      "1/1 [==============================] - 0s 323ms/step - loss: 5629.6499 - mape: 32.5380 - mae: 74.3014 - mse: 5629.6499 - val_loss: 7330.0366 - val_mape: 35.6388 - val_mae: 85.4999 - val_mse: 7330.0366\n",
      "Epoch 204/500\n",
      "1/1 [==============================] - 0s 121ms/step - loss: 5462.3462 - mape: 31.9130 - mae: 72.9390 - mse: 5462.3462 - val_loss: 7246.1641 - val_mape: 35.4335 - val_mae: 85.0080 - val_mse: 7246.1641\n",
      "Epoch 205/500\n",
      "1/1 [==============================] - 0s 114ms/step - loss: 5357.9868 - mape: 31.7186 - mae: 72.4280 - mse: 5357.9868 - val_loss: 7162.5078 - val_mape: 35.2276 - val_mae: 84.5145 - val_mse: 7162.5078\n",
      "Epoch 206/500\n",
      "1/1 [==============================] - 0s 116ms/step - loss: 5489.1416 - mape: 32.0595 - mae: 73.2420 - mse: 5489.1416 - val_loss: 7080.3823 - val_mape: 35.0243 - val_mae: 84.0273 - val_mse: 7080.3823\n",
      "Epoch 207/500\n",
      "1/1 [==============================] - 0s 118ms/step - loss: 5237.0552 - mape: 31.3755 - mae: 71.6508 - mse: 5237.0552 - val_loss: 6999.7222 - val_mape: 34.8235 - val_mae: 83.5459 - val_mse: 6999.7222\n",
      "Epoch 208/500\n",
      "1/1 [==============================] - 0s 115ms/step - loss: 5255.4834 - mape: 31.4293 - mae: 71.7751 - mse: 5255.4834 - val_loss: 6919.3428 - val_mape: 34.6222 - val_mae: 83.0635 - val_mse: 6919.3428\n",
      "Epoch 209/500\n",
      "1/1 [==============================] - 0s 122ms/step - loss: 5079.8794 - mape: 30.8316 - mae: 70.4363 - mse: 5079.8794 - val_loss: 6838.7085 - val_mape: 34.4191 - val_mae: 82.5767 - val_mse: 6838.7085\n",
      "Epoch 210/500\n",
      "1/1 [==============================] - 0s 118ms/step - loss: 5077.1616 - mape: 30.8687 - mae: 70.5057 - mse: 5077.1616 - val_loss: 6756.4175 - val_mape: 34.2106 - val_mae: 82.0770 - val_mse: 6756.4175\n",
      "Epoch 211/500\n",
      "1/1 [==============================] - 0s 129ms/step - loss: 4996.1069 - mape: 30.6086 - mae: 69.9169 - mse: 4996.1069 - val_loss: 6670.9146 - val_mape: 33.9926 - val_mae: 81.5545 - val_mse: 6670.9146\n",
      "Epoch 212/500\n",
      "1/1 [==============================] - 0s 166ms/step - loss: 4881.6553 - mape: 30.1846 - mae: 68.9810 - mse: 4881.6553 - val_loss: 6588.0571 - val_mape: 33.7800 - val_mae: 81.0448 - val_mse: 6588.0571\n",
      "Epoch 213/500\n",
      "1/1 [==============================] - 0s 118ms/step - loss: 4749.9019 - mape: 29.8425 - mae: 68.1661 - mse: 4749.9019 - val_loss: 6508.5303 - val_mape: 33.5746 - val_mae: 80.5527 - val_mse: 6508.5303\n",
      "Epoch 214/500\n",
      "1/1 [==============================] - 0s 122ms/step - loss: 4650.6157 - mape: 29.5282 - mae: 67.4481 - mse: 4650.6157 - val_loss: 6432.5903 - val_mape: 33.3774 - val_mae: 80.0799 - val_mse: 6432.5903\n",
      "Epoch 215/500\n",
      "1/1 [==============================] - 0s 117ms/step - loss: 4660.9702 - mape: 29.4489 - mae: 67.3262 - mse: 4660.9702 - val_loss: 6358.1562 - val_mape: 33.1829 - val_mae: 79.6138 - val_mse: 6358.1562\n",
      "Epoch 216/500\n",
      "1/1 [==============================] - 0s 121ms/step - loss: 4559.6401 - mape: 29.1955 - mae: 66.7105 - mse: 4559.6401 - val_loss: 6284.5889 - val_mape: 32.9895 - val_mae: 79.1504 - val_mse: 6284.5889\n",
      "Epoch 217/500\n",
      "1/1 [==============================] - 0s 118ms/step - loss: 4592.2500 - mape: 29.4066 - mae: 67.1427 - mse: 4592.2500 - val_loss: 6211.4097 - val_mape: 32.7961 - val_mae: 78.6868 - val_mse: 6211.4097\n",
      "Epoch 218/500\n",
      "1/1 [==============================] - 0s 127ms/step - loss: 4344.9702 - mape: 28.4442 - mae: 65.0232 - mse: 4344.9702 - val_loss: 6137.6431 - val_mape: 32.6000 - val_mae: 78.2167 - val_mse: 6137.6431\n",
      "Epoch 219/500\n",
      "1/1 [==============================] - 0s 117ms/step - loss: 4501.7070 - mape: 28.9636 - mae: 66.2075 - mse: 4501.7070 - val_loss: 6061.9429 - val_mape: 32.3974 - val_mae: 77.7313 - val_mse: 6061.9429\n",
      "Epoch 220/500\n",
      "1/1 [==============================] - 0s 117ms/step - loss: 4320.3774 - mape: 28.3483 - mae: 64.8147 - mse: 4320.3774 - val_loss: 5987.6196 - val_mape: 32.1973 - val_mae: 77.2517 - val_mse: 5987.6196\n",
      "Epoch 221/500\n",
      "1/1 [==============================] - 0s 118ms/step - loss: 4198.0249 - mape: 28.0263 - mae: 64.0339 - mse: 4198.0249 - val_loss: 5915.9209 - val_mape: 32.0031 - val_mae: 76.7862 - val_mse: 5915.9209\n",
      "Epoch 222/500\n",
      "1/1 [==============================] - 0s 119ms/step - loss: 4194.5283 - mape: 27.8759 - mae: 63.7517 - mse: 4194.5283 - val_loss: 5846.2446 - val_mape: 31.8132 - val_mae: 76.3311 - val_mse: 5846.2446\n",
      "Epoch 223/500\n",
      "1/1 [==============================] - 0s 153ms/step - loss: 4198.7168 - mape: 28.0534 - mae: 64.0897 - mse: 4198.7168 - val_loss: 5777.1260 - val_mape: 31.6238 - val_mae: 75.8770 - val_mse: 5777.1260\n",
      "Epoch 224/500\n",
      "1/1 [==============================] - 0s 119ms/step - loss: 4306.4150 - mape: 28.3804 - mae: 64.8503 - mse: 4306.4150 - val_loss: 5707.6597 - val_mape: 31.4322 - val_mae: 75.4179 - val_mse: 5707.6597\n",
      "Epoch 225/500\n",
      "1/1 [==============================] - 0s 122ms/step - loss: 4264.1338 - mape: 28.0425 - mae: 64.1684 - mse: 4264.1338 - val_loss: 5639.1650 - val_mape: 31.2422 - val_mae: 74.9624 - val_mse: 5639.1650\n",
      "Epoch 226/500\n",
      "1/1 [==============================] - 0s 130ms/step - loss: 3924.6445 - mape: 27.0093 - mae: 61.7462 - mse: 3924.6445 - val_loss: 5570.7666 - val_mape: 31.0512 - val_mae: 74.5048 - val_mse: 5570.7666\n",
      "Epoch 227/500\n",
      "1/1 [==============================] - 0s 112ms/step - loss: 4034.7434 - mape: 27.2363 - mae: 62.3435 - mse: 4034.7434 - val_loss: 5503.7280 - val_mape: 30.8630 - val_mae: 74.0535 - val_mse: 5503.7280\n",
      "Epoch 228/500\n",
      "1/1 [==============================] - 0s 114ms/step - loss: 3916.9146 - mape: 26.9855 - mae: 61.6905 - mse: 3916.9146 - val_loss: 5438.1875 - val_mape: 30.6778 - val_mae: 73.6097 - val_mse: 5438.1875\n",
      "Epoch 229/500\n",
      "1/1 [==============================] - 0s 122ms/step - loss: 3767.5933 - mape: 26.4068 - mae: 60.4049 - mse: 3767.5933 - val_loss: 5373.4653 - val_mape: 30.4938 - val_mae: 73.1687 - val_mse: 5373.4653\n",
      "Epoch 230/500\n",
      "1/1 [==============================] - 0s 114ms/step - loss: 3802.0312 - mape: 26.3824 - mae: 60.4100 - mse: 3802.0312 - val_loss: 5309.4336 - val_mape: 30.3107 - val_mae: 72.7299 - val_mse: 5309.4336\n",
      "Epoch 231/500\n",
      "1/1 [==============================] - 0s 117ms/step - loss: 3872.3342 - mape: 26.6457 - mae: 60.9867 - mse: 3872.3342 - val_loss: 5246.0132 - val_mape: 30.1282 - val_mae: 72.2925 - val_mse: 5246.0132\n",
      "Epoch 232/500\n",
      "1/1 [==============================] - 0s 140ms/step - loss: 3660.0000 - mape: 26.0863 - mae: 59.6476 - mse: 3660.0000 - val_loss: 5182.9854 - val_mape: 29.9458 - val_mae: 71.8553 - val_mse: 5182.9854\n",
      "Epoch 233/500\n",
      "1/1 [==============================] - 0s 217ms/step - loss: 3585.8972 - mape: 25.6993 - mae: 58.7949 - mse: 3585.8972 - val_loss: 5119.4990 - val_mape: 29.7609 - val_mae: 71.4122 - val_mse: 5119.4990\n",
      "Epoch 234/500\n",
      "1/1 [==============================] - 0s 173ms/step - loss: 3613.5168 - mape: 25.8692 - mae: 59.1564 - mse: 3613.5168 - val_loss: 5055.4604 - val_mape: 29.5732 - val_mae: 70.9624 - val_mse: 5055.4604\n",
      "Epoch 235/500\n",
      "1/1 [==============================] - 0s 121ms/step - loss: 3664.5000 - mape: 26.0213 - mae: 59.5303 - mse: 3664.5000 - val_loss: 4993.8037 - val_mape: 29.3914 - val_mae: 70.5266 - val_mse: 4993.8037\n",
      "Epoch 236/500\n",
      "1/1 [==============================] - 0s 116ms/step - loss: 3485.0413 - mape: 25.3386 - mae: 57.9856 - mse: 3485.0413 - val_loss: 4933.6709 - val_mape: 29.2130 - val_mae: 70.0990 - val_mse: 4933.6709\n",
      "Epoch 237/500\n",
      "1/1 [==============================] - 0s 144ms/step - loss: 3435.8633 - mape: 25.1568 - mae: 57.5681 - mse: 3435.8633 - val_loss: 4874.0737 - val_mape: 29.0351 - val_mae: 69.6726 - val_mse: 4874.0737\n",
      "Epoch 238/500\n",
      "1/1 [==============================] - 0s 118ms/step - loss: 3292.4019 - mape: 24.8221 - mae: 56.7105 - mse: 3292.4019 - val_loss: 4814.3169 - val_mape: 28.8556 - val_mae: 69.2425 - val_mse: 4814.3169\n",
      "Epoch 239/500\n",
      "1/1 [==============================] - 0s 117ms/step - loss: 3321.9548 - mape: 24.6747 - mae: 56.4882 - mse: 3321.9548 - val_loss: 4753.8872 - val_mape: 28.6730 - val_mae: 68.8047 - val_mse: 4753.8872\n",
      "Epoch 240/500\n",
      "1/1 [==============================] - 0s 139ms/step - loss: 3390.7935 - mape: 24.9568 - mae: 57.1239 - mse: 3390.7935 - val_loss: 4694.8022 - val_mape: 28.4933 - val_mae: 68.3740 - val_mse: 4694.8022\n",
      "Epoch 241/500\n",
      "1/1 [==============================] - 0s 113ms/step - loss: 3153.8538 - mape: 24.0957 - mae: 55.1404 - mse: 3153.8538 - val_loss: 4636.9287 - val_mape: 28.3161 - val_mae: 67.9495 - val_mse: 4636.9287\n",
      "Epoch 242/500\n",
      "1/1 [==============================] - 0s 114ms/step - loss: 3358.9375 - mape: 25.0137 - mae: 57.1803 - mse: 3358.9375 - val_loss: 4578.5220 - val_mape: 28.1362 - val_mae: 67.5183 - val_mse: 4578.5220\n",
      "Epoch 243/500\n",
      "1/1 [==============================] - 0s 335ms/step - loss: 3265.0859 - mape: 24.3393 - mae: 55.7612 - mse: 3265.0859 - val_loss: 4521.4380 - val_mape: 27.9593 - val_mae: 67.0942 - val_mse: 4521.4380\n",
      "Epoch 244/500\n",
      "1/1 [==============================] - 0s 122ms/step - loss: 3072.8984 - mape: 23.6816 - mae: 54.2175 - mse: 3072.8984 - val_loss: 4465.5347 - val_mape: 27.7849 - val_mae: 66.6763 - val_mse: 4465.5347\n",
      "Epoch 245/500\n",
      "1/1 [==============================] - 0s 122ms/step - loss: 3040.6499 - mape: 23.6087 - mae: 54.0506 - mse: 3040.6499 - val_loss: 4410.3257 - val_mape: 27.6117 - val_mae: 66.2610 - val_mse: 4410.3257\n",
      "Epoch 246/500\n",
      "1/1 [==============================] - 0s 120ms/step - loss: 2947.0095 - mape: 23.2201 - mae: 53.1670 - mse: 2947.0095 - val_loss: 4355.9751 - val_mape: 27.4400 - val_mae: 65.8496 - val_mse: 4355.9751\n",
      "Epoch 247/500\n",
      "1/1 [==============================] - 0s 127ms/step - loss: 3002.1736 - mape: 23.5489 - mae: 53.8763 - mse: 3002.1736 - val_loss: 4302.0352 - val_mape: 27.2686 - val_mae: 65.4388 - val_mse: 4302.0352\n",
      "Epoch 248/500\n",
      "1/1 [==============================] - 0s 124ms/step - loss: 3079.6277 - mape: 23.7141 - mae: 54.3076 - mse: 3079.6277 - val_loss: 4247.6641 - val_mape: 27.0947 - val_mae: 65.0220 - val_mse: 4247.6641\n",
      "Epoch 249/500\n",
      "1/1 [==============================] - 0s 122ms/step - loss: 2941.0894 - mape: 23.1872 - mae: 53.0910 - mse: 2941.0894 - val_loss: 4193.4487 - val_mape: 26.9202 - val_mae: 64.6038 - val_mse: 4193.4487\n",
      "Epoch 250/500\n",
      "1/1 [==============================] - 0s 121ms/step - loss: 2914.3801 - mape: 23.1223 - mae: 52.9305 - mse: 2914.3801 - val_loss: 4140.2251 - val_mape: 26.7478 - val_mae: 64.1905 - val_mse: 4140.2251\n",
      "Epoch 251/500\n",
      "1/1 [==============================] - 0s 120ms/step - loss: 2960.3276 - mape: 23.1599 - mae: 53.0735 - mse: 2960.3276 - val_loss: 4088.6501 - val_mape: 26.5796 - val_mae: 63.7875 - val_mse: 4088.6501\n",
      "Epoch 252/500\n",
      "1/1 [==============================] - 0s 155ms/step - loss: 2939.0833 - mape: 23.1688 - mae: 53.0618 - mse: 2939.0833 - val_loss: 4037.7712 - val_mape: 26.4127 - val_mae: 63.3875 - val_mse: 4037.7712\n",
      "Epoch 253/500\n",
      "1/1 [==============================] - 0s 117ms/step - loss: 2768.6560 - mape: 22.4732 - mae: 51.4710 - mse: 2768.6560 - val_loss: 3987.5054 - val_mape: 26.2468 - val_mae: 62.9897 - val_mse: 3987.5054\n",
      "Epoch 254/500\n",
      "1/1 [==============================] - 0s 120ms/step - loss: 2643.9980 - mape: 21.8693 - mae: 50.1210 - mse: 2643.9980 - val_loss: 3937.8528 - val_mape: 26.0818 - val_mae: 62.5943 - val_mse: 3937.8528\n",
      "Epoch 255/500\n",
      "1/1 [==============================] - 0s 117ms/step - loss: 2722.2036 - mape: 22.3787 - mae: 51.2158 - mse: 2722.2036 - val_loss: 3888.6355 - val_mape: 25.9172 - val_mae: 62.2000 - val_mse: 3888.6355\n",
      "Epoch 256/500\n",
      "1/1 [==============================] - 0s 117ms/step - loss: 2553.7209 - mape: 21.4930 - mae: 49.2624 - mse: 2553.7209 - val_loss: 3839.7324 - val_mape: 25.7527 - val_mae: 61.8056 - val_mse: 3839.7324\n",
      "Epoch 257/500\n",
      "1/1 [==============================] - 0s 148ms/step - loss: 2548.7766 - mape: 21.4656 - mae: 49.2039 - mse: 2548.7766 - val_loss: 3791.5916 - val_mape: 25.5897 - val_mae: 61.4149 - val_mse: 3791.5916\n",
      "Epoch 258/500\n",
      "1/1 [==============================] - 0s 124ms/step - loss: 2565.6802 - mape: 21.6275 - mae: 49.5337 - mse: 2565.6802 - val_loss: 3744.1082 - val_mape: 25.4279 - val_mae: 61.0271 - val_mse: 3744.1082\n",
      "Epoch 259/500\n",
      "1/1 [==============================] - 0s 118ms/step - loss: 2679.1340 - mape: 22.2120 - mae: 50.8283 - mse: 2679.1340 - val_loss: 3696.5708 - val_mape: 25.2649 - val_mae: 60.6364 - val_mse: 3696.5708\n",
      "Epoch 260/500\n",
      "1/1 [==============================] - 0s 122ms/step - loss: 2393.7222 - mape: 20.8479 - mae: 47.7575 - mse: 2393.7222 - val_loss: 3648.8540 - val_mape: 25.1002 - val_mae: 60.2416 - val_mse: 3648.8540\n",
      "Epoch 261/500\n",
      "1/1 [==============================] - 0s 136ms/step - loss: 2473.4241 - mape: 20.8750 - mae: 47.9451 - mse: 2473.4241 - val_loss: 3601.8342 - val_mape: 24.9368 - val_mae: 59.8501 - val_mse: 3601.8342\n",
      "Epoch 262/500\n",
      "1/1 [==============================] - 0s 160ms/step - loss: 2366.5364 - mape: 20.6312 - mae: 47.3083 - mse: 2366.5364 - val_loss: 3556.3088 - val_mape: 24.7776 - val_mae: 59.4685 - val_mse: 3556.3088\n",
      "Epoch 263/500\n",
      "1/1 [==============================] - 0s 127ms/step - loss: 2287.8381 - mape: 20.4231 - mae: 46.7638 - mse: 2287.8381 - val_loss: 3511.8816 - val_mape: 24.6213 - val_mae: 59.0938 - val_mse: 3511.8816\n",
      "Epoch 264/500\n",
      "1/1 [==============================] - 0s 129ms/step - loss: 2282.6638 - mape: 20.4188 - mae: 46.7507 - mse: 2282.6638 - val_loss: 3468.1257 - val_mape: 24.4663 - val_mae: 58.7224 - val_mse: 3468.1257\n",
      "Epoch 265/500\n",
      "1/1 [==============================] - 0s 120ms/step - loss: 2178.6653 - mape: 19.8546 - mae: 45.5023 - mse: 2178.6653 - val_loss: 3424.9954 - val_mape: 24.3126 - val_mae: 58.3540 - val_mse: 3424.9954\n",
      "Epoch 266/500\n",
      "1/1 [==============================] - 0s 129ms/step - loss: 2106.0791 - mape: 19.2687 - mae: 44.2521 - mse: 2106.0791 - val_loss: 3382.5481 - val_mape: 24.1604 - val_mae: 57.9892 - val_mse: 3382.5481\n",
      "Epoch 267/500\n",
      "1/1 [==============================] - 0s 116ms/step - loss: 2228.3184 - mape: 19.8679 - mae: 45.6046 - mse: 2228.3184 - val_loss: 3340.6614 - val_mape: 24.0092 - val_mae: 57.6269 - val_mse: 3340.6614\n",
      "Epoch 268/500\n",
      "1/1 [==============================] - 0s 119ms/step - loss: 2208.8357 - mape: 19.9839 - mae: 45.8010 - mse: 2208.8357 - val_loss: 3299.2571 - val_mape: 23.8589 - val_mae: 57.2665 - val_mse: 3299.2571\n",
      "Epoch 269/500\n",
      "1/1 [==============================] - 0s 122ms/step - loss: 2138.5496 - mape: 19.5867 - mae: 44.9133 - mse: 2138.5496 - val_loss: 3258.3521 - val_mape: 23.7094 - val_mae: 56.9083 - val_mse: 3258.3521\n",
      "Epoch 270/500\n",
      "1/1 [==============================] - 0s 128ms/step - loss: 2096.3391 - mape: 19.5936 - mae: 44.8611 - mse: 2096.3391 - val_loss: 3217.9355 - val_mape: 23.5607 - val_mae: 56.5520 - val_mse: 3217.9355\n",
      "Epoch 271/500\n",
      "1/1 [==============================] - 0s 122ms/step - loss: 1912.3409 - mape: 18.5607 - mae: 42.5417 - mse: 1912.3409 - val_loss: 3178.0447 - val_mape: 23.4131 - val_mae: 56.1982 - val_mse: 3178.0447\n",
      "Epoch 272/500\n",
      "1/1 [==============================] - 0s 125ms/step - loss: 2020.8438 - mape: 18.9096 - mae: 43.4068 - mse: 2020.8438 - val_loss: 3138.1523 - val_mape: 23.2646 - val_mae: 55.8422 - val_mse: 3138.1523\n",
      "Epoch 273/500\n",
      "1/1 [==============================] - 0s 212ms/step - loss: 1975.9353 - mape: 18.9591 - mae: 43.4261 - mse: 1975.9353 - val_loss: 3096.2202 - val_mape: 23.1074 - val_mae: 55.4654 - val_mse: 3096.2202\n",
      "Epoch 274/500\n",
      "1/1 [==============================] - 0s 121ms/step - loss: 1963.5502 - mape: 18.7991 - mae: 43.0977 - mse: 1963.5502 - val_loss: 3055.4358 - val_mape: 22.9535 - val_mae: 55.0966 - val_mse: 3055.4358\n",
      "Epoch 275/500\n",
      "1/1 [==============================] - 0s 119ms/step - loss: 1902.8555 - mape: 18.3157 - mae: 42.0590 - mse: 1902.8555 - val_loss: 3017.2319 - val_mape: 22.8084 - val_mae: 54.7488 - val_mse: 3017.2319\n",
      "Epoch 276/500\n",
      "1/1 [==============================] - 0s 116ms/step - loss: 1927.6608 - mape: 18.5106 - mae: 42.4846 - mse: 1927.6608 - val_loss: 2979.6365 - val_mape: 22.6647 - val_mae: 54.4044 - val_mse: 2979.6365\n",
      "Epoch 277/500\n",
      "1/1 [==============================] - 0s 126ms/step - loss: 1952.9083 - mape: 18.5516 - mae: 42.6013 - mse: 1952.9083 - val_loss: 2942.4741 - val_mape: 22.5217 - val_mae: 54.0617 - val_mse: 2942.4741\n",
      "Epoch 278/500\n",
      "1/1 [==============================] - 0s 126ms/step - loss: 1926.8650 - mape: 18.7887 - mae: 43.0158 - mse: 1926.8650 - val_loss: 2905.6658 - val_mape: 22.3792 - val_mae: 53.7202 - val_mse: 2905.6658\n",
      "Epoch 279/500\n",
      "1/1 [==============================] - 0s 126ms/step - loss: 1798.0729 - mape: 17.7889 - mae: 40.8504 - mse: 1798.0729 - val_loss: 2869.3240 - val_mape: 22.2376 - val_mae: 53.3809 - val_mse: 2869.3240\n",
      "Epoch 280/500\n",
      "1/1 [==============================] - 0s 127ms/step - loss: 1836.7489 - mape: 17.8694 - mae: 41.0668 - mse: 1836.7489 - val_loss: 2833.3655 - val_mape: 22.0967 - val_mae: 53.0430 - val_mse: 2833.3655\n",
      "Epoch 281/500\n",
      "1/1 [==============================] - 0s 127ms/step - loss: 1842.8983 - mape: 18.1851 - mae: 41.6987 - mse: 1842.8983 - val_loss: 2797.6292 - val_mape: 21.9557 - val_mae: 52.7051 - val_mse: 2797.6292\n",
      "Epoch 282/500\n",
      "1/1 [==============================] - 0s 120ms/step - loss: 1767.3778 - mape: 17.5806 - mae: 40.4025 - mse: 1767.3778 - val_loss: 2761.9924 - val_mape: 21.8142 - val_mae: 52.3659 - val_mse: 2761.9924\n",
      "Epoch 283/500\n",
      "1/1 [==============================] - 0s 369ms/step - loss: 1864.7274 - mape: 18.1640 - mae: 41.6951 - mse: 1864.7274 - val_loss: 2726.7422 - val_mape: 21.6733 - val_mae: 52.0283 - val_mse: 2726.7422\n",
      "Epoch 284/500\n",
      "1/1 [==============================] - 0s 122ms/step - loss: 1647.1455 - mape: 16.9582 - mae: 38.9671 - mse: 1647.1455 - val_loss: 2692.5044 - val_mape: 21.5356 - val_mae: 51.6982 - val_mse: 2692.5044\n",
      "Epoch 285/500\n",
      "1/1 [==============================] - 0s 123ms/step - loss: 1749.9381 - mape: 17.5626 - mae: 40.3252 - mse: 1749.9381 - val_loss: 2658.6912 - val_mape: 21.3987 - val_mae: 51.3701 - val_mse: 2658.6912\n",
      "Epoch 286/500\n",
      "1/1 [==============================] - 0s 119ms/step - loss: 1712.8248 - mape: 17.3747 - mae: 39.8817 - mse: 1712.8248 - val_loss: 2625.1770 - val_mape: 21.2621 - val_mae: 51.0429 - val_mse: 2625.1770\n",
      "Epoch 287/500\n",
      "1/1 [==============================] - 0s 118ms/step - loss: 1600.7820 - mape: 16.7867 - mae: 38.5450 - mse: 1600.7820 - val_loss: 2591.8101 - val_mape: 21.1253 - val_mae: 50.7150 - val_mse: 2591.8101\n",
      "Epoch 288/500\n",
      "1/1 [==============================] - 0s 117ms/step - loss: 1474.8265 - mape: 16.1250 - mae: 37.0349 - mse: 1474.8265 - val_loss: 2558.9314 - val_mape: 20.9897 - val_mae: 50.3898 - val_mse: 2558.9314\n",
      "Epoch 289/500\n",
      "1/1 [==============================] - 0s 120ms/step - loss: 1566.4375 - mape: 16.6018 - mae: 38.1208 - mse: 1566.4375 - val_loss: 2526.1394 - val_mape: 20.8535 - val_mae: 50.0634 - val_mse: 2526.1394\n",
      "Epoch 290/500\n",
      "1/1 [==============================] - 0s 125ms/step - loss: 1447.8271 - mape: 16.1175 - mae: 36.9581 - mse: 1447.8271 - val_loss: 2493.0972 - val_mape: 20.7153 - val_mae: 49.7323 - val_mse: 2493.0972\n",
      "Epoch 291/500\n",
      "1/1 [==============================] - 0s 120ms/step - loss: 1544.0604 - mape: 16.5492 - mae: 37.9767 - mse: 1544.0604 - val_loss: 2460.2500 - val_mape: 20.5770 - val_mae: 49.4009 - val_mse: 2460.2500\n",
      "Epoch 292/500\n",
      "1/1 [==============================] - 0s 145ms/step - loss: 1507.7372 - mape: 16.2258 - mae: 37.2777 - mse: 1507.7372 - val_loss: 2427.9060 - val_mape: 20.4400 - val_mae: 49.0724 - val_mse: 2427.9060\n",
      "Epoch 293/500\n",
      "1/1 [==============================] - 0s 121ms/step - loss: 1448.8453 - mape: 15.8693 - mae: 36.4777 - mse: 1448.8453 - val_loss: 2396.5190 - val_mape: 20.3061 - val_mae: 48.7516 - val_mse: 2396.5190\n",
      "Epoch 294/500\n",
      "1/1 [==============================] - 0s 122ms/step - loss: 1561.4188 - mape: 16.4984 - mae: 37.9161 - mse: 1561.4188 - val_loss: 2366.1838 - val_mape: 20.1759 - val_mae: 48.4395 - val_mse: 2366.1838\n",
      "Epoch 295/500\n",
      "1/1 [==============================] - 0s 122ms/step - loss: 1413.7422 - mape: 15.6653 - mae: 36.0005 - mse: 1413.7422 - val_loss: 2336.2622 - val_mape: 20.0466 - val_mae: 48.1296 - val_mse: 2336.2622\n",
      "Epoch 296/500\n",
      "1/1 [==============================] - 0s 116ms/step - loss: 1357.1490 - mape: 15.3180 - mae: 35.2189 - mse: 1357.1490 - val_loss: 2306.3435 - val_mape: 19.9166 - val_mae: 47.8178 - val_mse: 2306.3435\n",
      "Epoch 297/500\n",
      "1/1 [==============================] - 0s 122ms/step - loss: 1369.3535 - mape: 15.3961 - mae: 35.3744 - mse: 1369.3535 - val_loss: 2274.8687 - val_mape: 19.7788 - val_mae: 47.4876 - val_mse: 2274.8687\n",
      "Epoch 298/500\n",
      "1/1 [==============================] - 0s 126ms/step - loss: 1346.2302 - mape: 15.4025 - mae: 35.3692 - mse: 1346.2302 - val_loss: 2243.7866 - val_mape: 19.6418 - val_mae: 47.1592 - val_mse: 2243.7866\n",
      "Epoch 299/500\n",
      "1/1 [==============================] - 0s 145ms/step - loss: 1352.7194 - mape: 15.1874 - mae: 34.9570 - mse: 1352.7194 - val_loss: 2212.8423 - val_mape: 19.5044 - val_mae: 46.8301 - val_mse: 2212.8423\n",
      "Epoch 300/500\n",
      "1/1 [==============================] - 0s 118ms/step - loss: 1274.2350 - mape: 14.7431 - mae: 33.9264 - mse: 1274.2350 - val_loss: 2180.6997 - val_mape: 19.3606 - val_mae: 46.4855 - val_mse: 2180.6997\n",
      "Epoch 301/500\n",
      "1/1 [==============================] - 0s 125ms/step - loss: 1417.6980 - mape: 15.4486 - mae: 35.5814 - mse: 1417.6980 - val_loss: 2151.4968 - val_mape: 19.2292 - val_mae: 46.1703 - val_mse: 2151.4968\n",
      "Epoch 302/500\n",
      "1/1 [==============================] - 0s 148ms/step - loss: 1237.3024 - mape: 14.2774 - mae: 32.9154 - mse: 1237.3024 - val_loss: 2122.6147 - val_mape: 19.0982 - val_mae: 45.8565 - val_mse: 2122.6147\n",
      "Epoch 303/500\n",
      "1/1 [==============================] - 0s 116ms/step - loss: 1282.6823 - mape: 14.9051 - mae: 34.2708 - mse: 1282.6823 - val_loss: 2094.2744 - val_mape: 18.9688 - val_mae: 45.5464 - val_mse: 2094.2744\n",
      "Epoch 304/500\n",
      "1/1 [==============================] - 0s 126ms/step - loss: 1152.0320 - mape: 13.9704 - mae: 32.1613 - mse: 1152.0320 - val_loss: 2066.2729 - val_mape: 18.8401 - val_mae: 45.2380 - val_mse: 2066.2729\n",
      "Epoch 305/500\n",
      "1/1 [==============================] - 0s 133ms/step - loss: 1231.6075 - mape: 14.4605 - mae: 33.2776 - mse: 1231.6075 - val_loss: 2039.0245 - val_mape: 18.7141 - val_mae: 44.9358 - val_mse: 2039.0245\n",
      "Epoch 306/500\n",
      "1/1 [==============================] - 0s 124ms/step - loss: 1193.3639 - mape: 14.3902 - mae: 33.0794 - mse: 1193.3639 - val_loss: 2012.1910 - val_mape: 18.5891 - val_mae: 44.6362 - val_mse: 2012.1910\n",
      "Epoch 307/500\n",
      "1/1 [==============================] - 0s 119ms/step - loss: 1224.6222 - mape: 14.3662 - mae: 33.0837 - mse: 1224.6222 - val_loss: 1985.5438 - val_mape: 18.4641 - val_mae: 44.3367 - val_mse: 1985.5438\n",
      "Epoch 308/500\n",
      "1/1 [==============================] - 0s 120ms/step - loss: 1128.7657 - mape: 13.6292 - mae: 31.4261 - mse: 1128.7657 - val_loss: 1959.4202 - val_mape: 18.3408 - val_mae: 44.0411 - val_mse: 1959.4202\n",
      "Epoch 309/500\n",
      "1/1 [==============================] - 0s 122ms/step - loss: 1188.5938 - mape: 14.0696 - mae: 32.4280 - mse: 1188.5938 - val_loss: 1933.8302 - val_mape: 18.2191 - val_mae: 43.7496 - val_mse: 1933.8302\n",
      "Epoch 310/500\n",
      "1/1 [==============================] - 0s 127ms/step - loss: 1169.4763 - mape: 13.9036 - mae: 32.0532 - mse: 1169.4763 - val_loss: 1908.5758 - val_mape: 18.0983 - val_mae: 43.4600 - val_mse: 1908.5758\n",
      "Epoch 311/500\n",
      "1/1 [==============================] - 0s 127ms/step - loss: 939.4804 - mape: 12.4330 - mae: 28.6741 - mse: 939.4804 - val_loss: 1883.6530 - val_mape: 17.9783 - val_mae: 43.1723 - val_mse: 1883.6530\n",
      "Epoch 312/500\n",
      "1/1 [==============================] - 0s 118ms/step - loss: 1131.0735 - mape: 13.7943 - mae: 31.7685 - mse: 1131.0735 - val_loss: 1858.9393 - val_mape: 17.8585 - val_mae: 42.8852 - val_mse: 1858.9393\n",
      "Epoch 313/500\n",
      "1/1 [==============================] - 0s 121ms/step - loss: 994.2321 - mape: 13.0035 - mae: 29.9345 - mse: 994.2321 - val_loss: 1834.7982 - val_mape: 17.7407 - val_mae: 42.6028 - val_mse: 1834.7982\n",
      "Epoch 314/500\n",
      "1/1 [==============================] - 0s 121ms/step - loss: 1122.2170 - mape: 13.7060 - mae: 31.5593 - mse: 1122.2170 - val_loss: 1810.7776 - val_mape: 17.6226 - val_mae: 42.3199 - val_mse: 1810.7776\n",
      "Epoch 315/500\n",
      "1/1 [==============================] - 0s 128ms/step - loss: 1088.0514 - mape: 13.4812 - mae: 31.0509 - mse: 1088.0514 - val_loss: 1786.8738 - val_mape: 17.5044 - val_mae: 42.0366 - val_mse: 1786.8738\n",
      "Epoch 316/500\n",
      "1/1 [==============================] - 0s 111ms/step - loss: 1020.8350 - mape: 12.7764 - mae: 29.5156 - mse: 1020.8350 - val_loss: 1763.3186 - val_mape: 17.3871 - val_mae: 41.7555 - val_mse: 1763.3186\n",
      "Epoch 317/500\n",
      "1/1 [==============================] - 0s 119ms/step - loss: 965.5350 - mape: 12.5990 - mae: 29.0526 - mse: 965.5350 - val_loss: 1739.6473 - val_mape: 17.2685 - val_mae: 41.4711 - val_mse: 1739.6473\n",
      "Epoch 318/500\n",
      "1/1 [==============================] - 0s 115ms/step - loss: 880.3183 - mape: 12.2707 - mae: 28.2128 - mse: 880.3183 - val_loss: 1716.1012 - val_mape: 17.1496 - val_mae: 41.1862 - val_mse: 1716.1012\n",
      "Epoch 319/500\n",
      "1/1 [==============================] - 0s 114ms/step - loss: 960.7855 - mape: 12.2746 - mae: 28.3792 - mse: 960.7855 - val_loss: 1693.4066 - val_mape: 17.0343 - val_mae: 40.9097 - val_mse: 1693.4066\n",
      "Epoch 320/500\n",
      "1/1 [==============================] - 0s 120ms/step - loss: 971.0932 - mape: 12.7437 - mae: 29.3545 - mse: 971.0932 - val_loss: 1671.4149 - val_mape: 16.9217 - val_mae: 40.6400 - val_mse: 1671.4149\n",
      "Epoch 321/500\n",
      "1/1 [==============================] - 0s 112ms/step - loss: 862.9736 - mape: 12.2776 - mae: 28.1875 - mse: 862.9736 - val_loss: 1649.7725 - val_mape: 16.8103 - val_mae: 40.3729 - val_mse: 1649.7725\n",
      "Epoch 322/500\n",
      "1/1 [==============================] - 0s 119ms/step - loss: 822.8318 - mape: 11.5163 - mae: 26.5816 - mse: 822.8318 - val_loss: 1628.4866 - val_mape: 16.6999 - val_mae: 40.1084 - val_mse: 1628.4866\n",
      "Epoch 323/500\n",
      "1/1 [==============================] - 0s 116ms/step - loss: 807.6844 - mape: 11.7538 - mae: 27.0396 - mse: 807.6844 - val_loss: 1607.4054 - val_mape: 16.5899 - val_mae: 39.8447 - val_mse: 1607.4054\n",
      "Epoch 324/500\n",
      "1/1 [==============================] - 0s 383ms/step - loss: 892.6359 - mape: 12.2190 - mae: 28.1442 - mse: 892.6359 - val_loss: 1586.3138 - val_mape: 16.4791 - val_mae: 39.5792 - val_mse: 1586.3138\n",
      "Epoch 325/500\n",
      "1/1 [==============================] - 0s 144ms/step - loss: 829.2267 - mape: 11.4145 - mae: 26.3897 - mse: 829.2267 - val_loss: 1565.5916 - val_mape: 16.3695 - val_mae: 39.3165 - val_mse: 1565.5916\n",
      "Epoch 326/500\n",
      "1/1 [==============================] - 0s 141ms/step - loss: 842.5885 - mape: 11.5890 - mae: 26.7541 - mse: 842.5885 - val_loss: 1545.4470 - val_mape: 16.2623 - val_mae: 39.0595 - val_mse: 1545.4470\n",
      "Epoch 327/500\n",
      "1/1 [==============================] - 0s 153ms/step - loss: 916.5262 - mape: 11.8132 - mae: 27.3626 - mse: 916.5262 - val_loss: 1525.5686 - val_mape: 16.1558 - val_mae: 38.8042 - val_mse: 1525.5686\n",
      "Epoch 328/500\n",
      "1/1 [==============================] - 0s 152ms/step - loss: 781.2581 - mape: 11.3140 - mae: 26.1078 - mse: 781.2581 - val_loss: 1505.9807 - val_mape: 16.0501 - val_mae: 38.5510 - val_mse: 1505.9807\n",
      "Epoch 329/500\n",
      "1/1 [==============================] - 0s 155ms/step - loss: 850.0415 - mape: 11.8210 - mae: 27.2484 - mse: 850.0415 - val_loss: 1486.6165 - val_mape: 15.9450 - val_mae: 38.2990 - val_mse: 1486.6165\n",
      "Epoch 330/500\n",
      "1/1 [==============================] - 0s 140ms/step - loss: 774.2953 - mape: 11.1074 - mae: 25.6493 - mse: 774.2953 - val_loss: 1467.5535 - val_mape: 15.8408 - val_mae: 38.0493 - val_mse: 1467.5535\n",
      "Epoch 331/500\n",
      "1/1 [==============================] - 0s 213ms/step - loss: 751.6891 - mape: 11.1309 - mae: 25.6397 - mse: 751.6891 - val_loss: 1448.7717 - val_mape: 15.7375 - val_mae: 37.8017 - val_mse: 1448.7717\n",
      "Epoch 332/500\n",
      "1/1 [==============================] - 0s 137ms/step - loss: 722.6807 - mape: 10.6620 - mae: 24.6388 - mse: 722.6807 - val_loss: 1430.3186 - val_mape: 15.6353 - val_mae: 37.5568 - val_mse: 1430.3186\n",
      "Epoch 333/500\n",
      "1/1 [==============================] - 0s 136ms/step - loss: 805.1857 - mape: 11.2559 - mae: 26.0161 - mse: 805.1857 - val_loss: 1412.0809 - val_mape: 15.5337 - val_mae: 37.3132 - val_mse: 1412.0809\n",
      "Epoch 334/500\n",
      "1/1 [==============================] - 0s 154ms/step - loss: 684.0098 - mape: 10.4079 - mae: 24.0462 - mse: 684.0098 - val_loss: 1394.1445 - val_mape: 15.4331 - val_mae: 37.0721 - val_mse: 1394.1445\n",
      "Epoch 335/500\n",
      "1/1 [==============================] - 0s 138ms/step - loss: 700.7860 - mape: 10.3320 - mae: 23.9241 - mse: 700.7860 - val_loss: 1376.5128 - val_mape: 15.3335 - val_mae: 36.8335 - val_mse: 1376.5128\n",
      "Epoch 336/500\n",
      "1/1 [==============================] - 0s 143ms/step - loss: 750.1083 - mape: 10.7884 - mae: 24.9529 - mse: 750.1083 - val_loss: 1359.1005 - val_mape: 15.2346 - val_mae: 36.5964 - val_mse: 1359.1005\n",
      "Epoch 337/500\n",
      "1/1 [==============================] - 0s 151ms/step - loss: 663.3572 - mape: 10.0612 - mae: 23.2968 - mse: 663.3572 - val_loss: 1341.9913 - val_mape: 15.1368 - val_mae: 36.3619 - val_mse: 1341.9913\n",
      "Epoch 338/500\n",
      "1/1 [==============================] - 0s 134ms/step - loss: 722.2563 - mape: 10.6513 - mae: 24.6215 - mse: 722.2563 - val_loss: 1325.0714 - val_mape: 15.0394 - val_mae: 36.1285 - val_mse: 1325.0714\n",
      "Epoch 339/500\n",
      "1/1 [==============================] - 0s 139ms/step - loss: 671.3168 - mape: 10.3527 - mae: 23.9097 - mse: 671.3168 - val_loss: 1308.3298 - val_mape: 14.9424 - val_mae: 35.8961 - val_mse: 1308.3298\n",
      "Epoch 340/500\n",
      "1/1 [==============================] - 0s 171ms/step - loss: 714.9618 - mape: 10.4303 - mae: 24.1366 - mse: 714.9618 - val_loss: 1291.6252 - val_mape: 14.8450 - val_mae: 35.6626 - val_mse: 1291.6252\n",
      "Epoch 341/500\n",
      "1/1 [==============================] - 0s 134ms/step - loss: 788.5189 - mape: 10.8358 - mae: 25.1256 - mse: 788.5189 - val_loss: 1274.7520 - val_mape: 14.7460 - val_mae: 35.4253 - val_mse: 1274.7520\n",
      "Epoch 342/500\n",
      "1/1 [==============================] - 0s 149ms/step - loss: 717.4898 - mape: 10.2145 - mae: 23.7100 - mse: 717.4898 - val_loss: 1257.8564 - val_mape: 14.6461 - val_mae: 35.1860 - val_mse: 1257.8564\n",
      "Epoch 343/500\n",
      "1/1 [==============================] - 0s 148ms/step - loss: 649.4743 - mape: 10.1042 - mae: 23.3513 - mse: 649.4743 - val_loss: 1241.4709 - val_mape: 14.5487 - val_mae: 34.9524 - val_mse: 1241.4709\n",
      "Epoch 344/500\n",
      "1/1 [==============================] - 0s 173ms/step - loss: 675.6041 - mape: 9.7953 - mae: 22.7588 - mse: 675.6041 - val_loss: 1225.6373 - val_mape: 14.4538 - val_mae: 34.7251 - val_mse: 1225.6373\n",
      "Epoch 345/500\n",
      "1/1 [==============================] - 0s 153ms/step - loss: 696.6353 - mape: 10.1725 - mae: 23.5744 - mse: 696.6353 - val_loss: 1210.0754 - val_mape: 14.3600 - val_mae: 34.5003 - val_mse: 1210.0754\n",
      "Epoch 346/500\n",
      "1/1 [==============================] - 0s 116ms/step - loss: 608.6053 - mape: 9.3987 - mae: 21.7953 - mse: 608.6053 - val_loss: 1194.7952 - val_mape: 14.2673 - val_mae: 34.2782 - val_mse: 1194.7952\n",
      "Epoch 347/500\n",
      "1/1 [==============================] - 0s 127ms/step - loss: 615.3345 - mape: 9.5371 - mae: 22.1071 - mse: 615.3345 - val_loss: 1179.7430 - val_mape: 14.1754 - val_mae: 34.0579 - val_mse: 1179.7430\n",
      "Epoch 348/500\n",
      "1/1 [==============================] - 0s 146ms/step - loss: 631.3955 - mape: 9.6428 - mae: 22.3678 - mse: 631.3955 - val_loss: 1164.8278 - val_mape: 14.0838 - val_mae: 33.8382 - val_mse: 1164.8278\n",
      "Epoch 349/500\n",
      "1/1 [==============================] - 0s 338ms/step - loss: 608.4717 - mape: 9.8068 - mae: 22.6684 - mse: 608.4717 - val_loss: 1149.7135 - val_mape: 13.9903 - val_mae: 33.6142 - val_mse: 1149.7135\n",
      "Epoch 350/500\n",
      "1/1 [==============================] - 0s 122ms/step - loss: 664.1661 - mape: 9.8006 - mae: 22.7411 - mse: 664.1661 - val_loss: 1134.7861 - val_mape: 13.8973 - val_mae: 33.3914 - val_mse: 1134.7861\n",
      "Epoch 351/500\n",
      "1/1 [==============================] - 0s 125ms/step - loss: 520.2755 - mape: 8.7073 - mae: 20.1934 - mse: 520.2755 - val_loss: 1120.4974 - val_mape: 13.8078 - val_mae: 33.1767 - val_mse: 1120.4974\n",
      "Epoch 352/500\n",
      "1/1 [==============================] - 0s 119ms/step - loss: 543.9726 - mape: 8.9584 - mae: 20.7574 - mse: 543.9726 - val_loss: 1106.4364 - val_mape: 13.7191 - val_mae: 32.9641 - val_mse: 1106.4364\n",
      "Epoch 353/500\n",
      "1/1 [==============================] - 0s 129ms/step - loss: 579.6915 - mape: 8.9935 - mae: 20.9078 - mse: 579.6915 - val_loss: 1092.5778 - val_mape: 13.6311 - val_mae: 32.7532 - val_mse: 1092.5778\n",
      "Epoch 354/500\n",
      "1/1 [==============================] - 0s 115ms/step - loss: 502.2640 - mape: 8.5722 - mae: 19.8812 - mse: 502.2640 - val_loss: 1078.9548 - val_mape: 13.5441 - val_mae: 32.5446 - val_mse: 1078.9548\n",
      "Epoch 355/500\n",
      "1/1 [==============================] - 0s 119ms/step - loss: 455.6873 - mape: 7.9336 - mae: 18.4434 - mse: 455.6873 - val_loss: 1065.6101 - val_mape: 13.4582 - val_mae: 32.3390 - val_mse: 1065.6101\n",
      "Epoch 356/500\n",
      "1/1 [==============================] - 0s 120ms/step - loss: 524.4523 - mape: 8.8427 - mae: 20.4754 - mse: 524.4523 - val_loss: 1052.3124 - val_mape: 13.3722 - val_mae: 32.1327 - val_mse: 1052.3124\n",
      "Epoch 357/500\n",
      "1/1 [==============================] - 0s 133ms/step - loss: 537.6460 - mape: 8.8418 - mae: 20.5133 - mse: 537.6460 - val_loss: 1038.7865 - val_mape: 13.2841 - val_mae: 31.9216 - val_mse: 1038.7865\n",
      "Epoch 358/500\n",
      "1/1 [==============================] - 0s 212ms/step - loss: 531.7209 - mape: 8.8115 - mae: 20.4429 - mse: 531.7209 - val_loss: 1024.9600 - val_mape: 13.1934 - val_mae: 31.7043 - val_mse: 1024.9600\n",
      "Epoch 359/500\n",
      "1/1 [==============================] - 0s 174ms/step - loss: 463.7571 - mape: 7.6490 - mae: 17.8436 - mse: 463.7571 - val_loss: 1011.6901 - val_mape: 13.1058 - val_mae: 31.4943 - val_mse: 1011.6901\n",
      "Epoch 360/500\n",
      "1/1 [==============================] - 0s 138ms/step - loss: 442.2884 - mape: 7.9917 - mae: 18.5376 - mse: 442.2884 - val_loss: 999.1213 - val_mape: 13.0223 - val_mae: 31.2941 - val_mse: 999.1213\n",
      "Epoch 361/500\n",
      "1/1 [==============================] - 0s 142ms/step - loss: 445.3805 - mape: 7.7246 - mae: 17.9607 - mse: 445.3805 - val_loss: 986.9487 - val_mape: 12.9409 - val_mae: 31.0990 - val_mse: 986.9487\n",
      "Epoch 362/500\n",
      "1/1 [==============================] - 0s 157ms/step - loss: 446.7288 - mape: 7.6953 - mae: 17.9351 - mse: 446.7288 - val_loss: 974.9911 - val_mape: 12.8604 - val_mae: 30.9061 - val_mse: 974.9911\n",
      "Epoch 363/500\n",
      "1/1 [==============================] - 0s 128ms/step - loss: 417.0062 - mape: 7.7157 - mae: 17.9066 - mse: 417.0062 - val_loss: 963.0806 - val_mape: 12.7798 - val_mae: 30.7129 - val_mse: 963.0806\n",
      "Epoch 364/500\n",
      "1/1 [==============================] - 0s 136ms/step - loss: 457.5911 - mape: 7.3075 - mae: 17.1322 - mse: 457.5911 - val_loss: 950.7872 - val_mape: 12.6961 - val_mae: 30.5122 - val_mse: 950.7872\n",
      "Epoch 365/500\n",
      "1/1 [==============================] - 0s 126ms/step - loss: 471.9986 - mape: 7.8651 - mae: 18.3130 - mse: 471.9986 - val_loss: 938.4142 - val_mape: 12.6111 - val_mae: 30.3087 - val_mse: 938.4142\n",
      "Epoch 366/500\n",
      "1/1 [==============================] - 0s 127ms/step - loss: 525.5513 - mape: 8.4072 - mae: 19.5602 - mse: 525.5513 - val_loss: 926.7115 - val_mape: 12.5303 - val_mae: 30.1150 - val_mse: 926.7115\n",
      "Epoch 367/500\n",
      "1/1 [==============================] - 0s 157ms/step - loss: 513.6939 - mape: 8.3143 - mae: 19.3535 - mse: 513.6939 - val_loss: 914.6915 - val_mape: 12.4468 - val_mae: 29.9148 - val_mse: 914.6915\n",
      "Epoch 368/500\n",
      "1/1 [==============================] - 0s 129ms/step - loss: 431.3013 - mape: 7.7736 - mae: 18.0695 - mse: 431.3013 - val_loss: 903.0054 - val_mape: 12.3650 - val_mae: 29.7188 - val_mse: 903.0054\n",
      "Epoch 369/500\n",
      "1/1 [==============================] - 0s 132ms/step - loss: 444.3634 - mape: 7.2579 - mae: 16.9828 - mse: 444.3634 - val_loss: 891.1634 - val_mape: 12.2816 - val_mae: 29.5189 - val_mse: 891.1634\n",
      "Epoch 370/500\n",
      "1/1 [==============================] - 0s 136ms/step - loss: 430.0127 - mape: 7.7782 - mae: 18.0708 - mse: 430.0127 - val_loss: 878.6735 - val_mape: 12.1930 - val_mae: 29.3066 - val_mse: 878.6735\n",
      "Epoch 371/500\n",
      "1/1 [==============================] - 0s 139ms/step - loss: 413.8929 - mape: 7.0958 - mae: 16.5909 - mse: 413.8929 - val_loss: 866.9111 - val_mape: 12.1090 - val_mae: 29.1052 - val_mse: 866.9111\n",
      "Epoch 372/500\n",
      "1/1 [==============================] - 0s 135ms/step - loss: 418.7517 - mape: 7.1196 - mae: 16.6555 - mse: 418.7517 - val_loss: 855.8404 - val_mape: 12.0294 - val_mae: 28.9143 - val_mse: 855.8404\n",
      "Epoch 373/500\n",
      "1/1 [==============================] - 0s 132ms/step - loss: 451.4937 - mape: 7.9210 - mae: 18.4183 - mse: 451.4937 - val_loss: 845.1666 - val_mape: 11.9521 - val_mae: 28.7292 - val_mse: 845.1666\n",
      "Epoch 374/500\n",
      "1/1 [==============================] - 0s 128ms/step - loss: 329.0374 - mape: 6.9026 - mae: 16.0167 - mse: 329.0374 - val_loss: 834.7882 - val_mape: 11.8765 - val_mae: 28.5480 - val_mse: 834.7882\n",
      "Epoch 375/500\n",
      "1/1 [==============================] - 0s 138ms/step - loss: 406.5168 - mape: 7.1406 - mae: 16.6841 - mse: 406.5168 - val_loss: 824.5768 - val_mape: 11.8017 - val_mae: 28.3685 - val_mse: 824.5768\n",
      "Epoch 376/500\n",
      "1/1 [==============================] - 0s 360ms/step - loss: 388.7991 - mape: 7.0343 - mae: 16.3996 - mse: 388.7991 - val_loss: 814.5150 - val_mape: 11.7274 - val_mae: 28.1906 - val_mse: 814.5150\n",
      "Epoch 377/500\n",
      "1/1 [==============================] - 0s 167ms/step - loss: 358.0847 - mape: 6.4708 - mae: 15.1517 - mse: 358.0847 - val_loss: 804.6459 - val_mape: 11.6542 - val_mae: 28.0151 - val_mse: 804.6459\n",
      "Epoch 378/500\n",
      "1/1 [==============================] - 0s 143ms/step - loss: 385.5615 - mape: 6.7704 - mae: 15.8572 - mse: 385.5615 - val_loss: 794.9172 - val_mape: 11.5815 - val_mae: 27.8409 - val_mse: 794.9172\n",
      "Epoch 379/500\n",
      "1/1 [==============================] - 0s 190ms/step - loss: 382.1308 - mape: 7.0052 - mae: 16.3476 - mse: 382.1308 - val_loss: 785.2962 - val_mape: 11.5092 - val_mae: 27.6676 - val_mse: 785.2962\n",
      "Epoch 380/500\n",
      "1/1 [==============================] - 0s 143ms/step - loss: 424.2260 - mape: 7.2698 - mae: 16.9755 - mse: 424.2260 - val_loss: 775.7352 - val_mape: 11.4369 - val_mae: 27.4942 - val_mse: 775.7352\n",
      "Epoch 381/500\n",
      "1/1 [==============================] - 0s 145ms/step - loss: 389.5366 - mape: 6.9833 - mae: 16.3019 - mse: 389.5366 - val_loss: 766.2489 - val_mape: 11.3647 - val_mae: 27.3212 - val_mse: 766.2489\n",
      "Epoch 382/500\n",
      "1/1 [==============================] - 0s 128ms/step - loss: 387.5718 - mape: 7.1598 - mae: 16.6823 - mse: 387.5718 - val_loss: 756.7508 - val_mape: 11.2919 - val_mae: 27.1468 - val_mse: 756.7508\n",
      "Epoch 383/500\n",
      "1/1 [==============================] - 0s 133ms/step - loss: 380.6438 - mape: 7.1926 - mae: 16.7427 - mse: 380.6438 - val_loss: 747.1543 - val_mape: 11.2179 - val_mae: 26.9695 - val_mse: 747.1543\n",
      "Epoch 384/500\n",
      "1/1 [==============================] - 0s 362ms/step - loss: 318.3032 - mape: 6.2304 - mae: 14.5667 - mse: 318.3032 - val_loss: 737.4982 - val_mape: 11.1430 - val_mae: 26.7899 - val_mse: 737.4982\n",
      "Epoch 385/500\n",
      "1/1 [==============================] - 0s 141ms/step - loss: 437.7507 - mape: 7.1601 - mae: 16.7712 - mse: 437.7507 - val_loss: 727.8792 - val_mape: 11.0678 - val_mae: 26.6097 - val_mse: 727.8792\n",
      "Epoch 386/500\n",
      "1/1 [==============================] - 0s 130ms/step - loss: 297.2328 - mape: 6.0494 - mae: 14.1294 - mse: 297.2328 - val_loss: 718.7722 - val_mape: 10.9962 - val_mae: 26.4380 - val_mse: 718.7722\n",
      "Epoch 387/500\n",
      "1/1 [==============================] - 0s 140ms/step - loss: 310.9124 - mape: 5.9185 - mae: 13.8776 - mse: 310.9124 - val_loss: 710.0357 - val_mape: 10.9270 - val_mae: 26.2723 - val_mse: 710.0357\n",
      "Epoch 388/500\n",
      "1/1 [==============================] - 0s 131ms/step - loss: 317.0677 - mape: 6.2076 - mae: 14.5218 - mse: 317.0677 - val_loss: 701.4672 - val_mape: 10.8588 - val_mae: 26.1087 - val_mse: 701.4672\n",
      "Epoch 389/500\n",
      "1/1 [==============================] - 0s 124ms/step - loss: 287.9001 - mape: 5.4819 - mae: 12.9063 - mse: 287.9001 - val_loss: 693.0605 - val_mape: 10.7914 - val_mae: 25.9472 - val_mse: 693.0605\n",
      "Epoch 390/500\n",
      "1/1 [==============================] - 0s 131ms/step - loss: 379.5131 - mape: 6.5250 - mae: 15.3196 - mse: 379.5131 - val_loss: 684.5903 - val_mape: 10.7231 - val_mae: 25.7836 - val_mse: 684.5903\n",
      "Epoch 391/500\n",
      "1/1 [==============================] - 0s 139ms/step - loss: 296.4669 - mape: 5.3126 - mae: 12.5465 - mse: 296.4669 - val_loss: 675.7042 - val_mape: 10.6510 - val_mae: 25.6108 - val_mse: 675.7042\n",
      "Epoch 392/500\n",
      "1/1 [==============================] - 0s 165ms/step - loss: 269.6461 - mape: 5.6098 - mae: 13.1330 - mse: 269.6461 - val_loss: 666.7363 - val_mape: 10.5777 - val_mae: 25.4350 - val_mse: 666.7363\n",
      "Epoch 393/500\n",
      "1/1 [==============================] - 0s 132ms/step - loss: 266.2302 - mape: 5.4394 - mae: 12.7663 - mse: 266.2302 - val_loss: 658.6657 - val_mape: 10.5113 - val_mae: 25.2758 - val_mse: 658.6657\n",
      "Epoch 394/500\n",
      "1/1 [==============================] - 0s 152ms/step - loss: 269.7029 - mape: 5.7054 - mae: 13.3531 - mse: 269.7029 - val_loss: 650.9290 - val_mape: 10.4472 - val_mae: 25.1222 - val_mse: 650.9290\n",
      "Epoch 395/500\n",
      "1/1 [==============================] - 0s 138ms/step - loss: 267.8639 - mape: 5.3953 - mae: 12.6642 - mse: 267.8639 - val_loss: 643.3887 - val_mape: 10.3844 - val_mae: 24.9717 - val_mse: 643.3887\n",
      "Epoch 396/500\n",
      "1/1 [==============================] - 0s 132ms/step - loss: 330.9975 - mape: 5.5776 - mae: 13.1598 - mse: 330.9975 - val_loss: 635.9664 - val_mape: 10.3222 - val_mae: 24.8226 - val_mse: 635.9664\n",
      "Epoch 397/500\n",
      "1/1 [==============================] - 0s 138ms/step - loss: 286.3131 - mape: 5.8415 - mae: 13.6623 - mse: 286.3131 - val_loss: 628.6041 - val_mape: 10.2601 - val_mae: 24.6739 - val_mse: 628.6041\n",
      "Epoch 398/500\n",
      "1/1 [==============================] - 0s 133ms/step - loss: 300.0921 - mape: 5.2355 - mae: 12.3841 - mse: 300.0921 - val_loss: 621.3640 - val_mape: 10.1987 - val_mae: 24.5268 - val_mse: 621.3640\n",
      "Epoch 399/500\n",
      "1/1 [==============================] - 0s 132ms/step - loss: 345.3437 - mape: 6.0498 - mae: 14.2316 - mse: 345.3437 - val_loss: 614.1331 - val_mape: 10.1371 - val_mae: 24.3789 - val_mse: 614.1331\n",
      "Epoch 400/500\n",
      "1/1 [==============================] - 0s 126ms/step - loss: 265.3945 - mape: 5.3229 - mae: 12.5186 - mse: 265.3945 - val_loss: 606.7399 - val_mape: 10.0736 - val_mae: 24.2269 - val_mse: 606.7399\n",
      "Epoch 401/500\n",
      "1/1 [==============================] - 0s 224ms/step - loss: 266.1941 - mape: 5.2706 - mae: 12.3952 - mse: 266.1941 - val_loss: 599.3344 - val_mape: 10.0096 - val_mae: 24.0735 - val_mse: 599.3344\n",
      "Epoch 402/500\n",
      "1/1 [==============================] - 0s 144ms/step - loss: 241.8130 - mape: 4.8797 - mae: 11.5037 - mse: 241.8130 - val_loss: 592.3967 - val_mape: 9.9493 - val_mae: 23.9290 - val_mse: 592.3967\n",
      "Epoch 403/500\n",
      "1/1 [==============================] - 0s 132ms/step - loss: 286.7145 - mape: 5.1477 - mae: 12.1763 - mse: 286.7145 - val_loss: 585.4454 - val_mape: 9.8885 - val_mae: 23.7833 - val_mse: 585.4454\n",
      "Epoch 404/500\n",
      "1/1 [==============================] - 0s 124ms/step - loss: 261.1191 - mape: 5.0826 - mae: 11.9906 - mse: 261.1191 - val_loss: 578.6964 - val_mape: 9.8291 - val_mae: 23.6409 - val_mse: 578.6964\n",
      "Epoch 405/500\n",
      "1/1 [==============================] - 0s 122ms/step - loss: 243.4461 - mape: 4.8053 - mae: 11.3455 - mse: 243.4461 - val_loss: 572.2318 - val_mape: 9.7719 - val_mae: 23.5038 - val_mse: 572.2318\n",
      "Epoch 406/500\n",
      "1/1 [==============================] - 0s 113ms/step - loss: 298.2712 - mape: 5.2820 - mae: 12.4778 - mse: 298.2712 - val_loss: 565.8303 - val_mape: 9.7149 - val_mae: 23.3672 - val_mse: 565.8303\n",
      "Epoch 407/500\n",
      "1/1 [==============================] - 0s 117ms/step - loss: 218.4759 - mape: 4.9127 - mae: 11.5219 - mse: 218.4759 - val_loss: 559.5112 - val_mape: 9.6584 - val_mae: 23.2316 - val_mse: 559.5112\n",
      "Epoch 408/500\n",
      "1/1 [==============================] - 0s 121ms/step - loss: 265.3503 - mape: 5.0825 - mae: 11.9790 - mse: 265.3503 - val_loss: 553.2354 - val_mape: 9.6018 - val_mae: 23.0962 - val_mse: 553.2354\n",
      "Epoch 409/500\n",
      "1/1 [==============================] - 0s 114ms/step - loss: 284.3814 - mape: 5.5022 - mae: 12.9434 - mse: 284.3814 - val_loss: 547.0074 - val_mape: 9.5454 - val_mae: 22.9609 - val_mse: 547.0074\n",
      "Epoch 410/500\n",
      "1/1 [==============================] - 0s 116ms/step - loss: 270.2514 - mape: 5.5464 - mae: 13.0130 - mse: 270.2514 - val_loss: 540.7682 - val_mape: 9.4886 - val_mae: 22.8246 - val_mse: 540.7682\n",
      "Epoch 411/500\n",
      "1/1 [==============================] - 0s 175ms/step - loss: 257.4701 - mape: 5.1193 - mae: 12.0470 - mse: 257.4701 - val_loss: 534.5018 - val_mape: 9.4311 - val_mae: 22.6870 - val_mse: 534.5018\n",
      "Epoch 412/500\n",
      "1/1 [==============================] - 0s 136ms/step - loss: 190.5992 - mape: 4.4943 - mae: 10.5571 - mse: 190.5992 - val_loss: 528.4008 - val_mape: 9.3748 - val_mae: 22.5521 - val_mse: 528.4008\n",
      "Epoch 413/500\n",
      "1/1 [==============================] - 0s 180ms/step - loss: 197.8356 - mape: 4.4292 - mae: 10.4468 - mse: 197.8356 - val_loss: 522.5551 - val_mape: 9.3206 - val_mae: 22.4221 - val_mse: 522.5551\n",
      "Epoch 414/500\n",
      "1/1 [==============================] - 0s 117ms/step - loss: 237.7525 - mape: 4.0977 - mae: 9.7856 - mse: 237.7525 - val_loss: 516.9472 - val_mape: 9.2683 - val_mae: 22.2967 - val_mse: 516.9472\n",
      "Epoch 415/500\n",
      "1/1 [==============================] - 0s 116ms/step - loss: 214.5423 - mape: 4.5120 - mae: 10.6543 - mse: 214.5423 - val_loss: 511.4719 - val_mape: 9.2169 - val_mae: 22.1736 - val_mse: 511.4719\n",
      "Epoch 416/500\n",
      "1/1 [==============================] - 0s 114ms/step - loss: 225.7691 - mape: 4.5024 - mae: 10.6570 - mse: 225.7691 - val_loss: 506.0862 - val_mape: 9.1661 - val_mae: 22.0518 - val_mse: 506.0862\n",
      "Epoch 417/500\n",
      "1/1 [==============================] - 0s 116ms/step - loss: 250.8836 - mape: 4.6526 - mae: 11.0319 - mse: 250.8836 - val_loss: 500.8001 - val_mape: 9.1160 - val_mae: 21.9317 - val_mse: 500.8001\n",
      "Epoch 418/500\n",
      "1/1 [==============================] - 0s 122ms/step - loss: 212.4931 - mape: 4.3602 - mae: 10.3180 - mse: 212.4931 - val_loss: 495.6225 - val_mape: 9.0666 - val_mae: 21.8133 - val_mse: 495.6225\n",
      "Epoch 419/500\n",
      "1/1 [==============================] - 0s 120ms/step - loss: 237.5168 - mape: 4.5025 - mae: 10.6491 - mse: 237.5168 - val_loss: 490.4934 - val_mape: 9.0174 - val_mae: 21.6954 - val_mse: 490.4934\n",
      "Epoch 420/500\n",
      "1/1 [==============================] - 0s 122ms/step - loss: 215.0244 - mape: 4.3549 - mae: 10.3166 - mse: 215.0244 - val_loss: 485.4520 - val_mape: 8.9688 - val_mae: 21.5789 - val_mse: 485.4520\n",
      "Epoch 421/500\n",
      "1/1 [==============================] - 0s 328ms/step - loss: 259.9334 - mape: 4.9183 - mae: 11.6194 - mse: 259.9334 - val_loss: 480.4217 - val_mape: 8.9200 - val_mae: 21.4620 - val_mse: 480.4217\n",
      "Epoch 422/500\n",
      "1/1 [==============================] - 0s 125ms/step - loss: 169.1736 - mape: 3.7663 - mae: 8.9427 - mse: 169.1736 - val_loss: 475.4556 - val_mape: 8.8716 - val_mae: 21.3461 - val_mse: 475.4556\n",
      "Epoch 423/500\n",
      "1/1 [==============================] - 0s 119ms/step - loss: 170.5825 - mape: 3.6663 - mae: 8.7109 - mse: 170.5825 - val_loss: 469.9997 - val_mape: 8.8182 - val_mae: 21.2180 - val_mse: 469.9997\n",
      "Epoch 424/500\n",
      "1/1 [==============================] - 0s 116ms/step - loss: 177.1892 - mape: 3.3562 - mae: 8.0440 - mse: 177.1892 - val_loss: 463.7298 - val_mape: 8.7563 - val_mae: 21.0696 - val_mse: 463.7298\n",
      "Epoch 425/500\n",
      "1/1 [==============================] - 0s 112ms/step - loss: 231.5010 - mape: 4.1832 - mae: 9.9735 - mse: 231.5010 - val_loss: 458.8856 - val_mape: 8.7082 - val_mae: 20.9544 - val_mse: 458.8856\n",
      "Epoch 426/500\n",
      "1/1 [==============================] - 0s 120ms/step - loss: 191.3959 - mape: 4.0040 - mae: 9.4920 - mse: 191.3959 - val_loss: 453.9392 - val_mape: 8.6589 - val_mae: 20.8361 - val_mse: 453.9392\n",
      "Epoch 427/500\n",
      "1/1 [==============================] - 0s 114ms/step - loss: 210.7490 - mape: 3.6482 - mae: 8.7468 - mse: 210.7490 - val_loss: 448.8484 - val_mape: 8.6078 - val_mae: 20.7136 - val_mse: 448.8484\n",
      "Epoch 428/500\n",
      "1/1 [==============================] - 0s 113ms/step - loss: 203.2202 - mape: 4.3263 - mae: 10.2131 - mse: 203.2202 - val_loss: 443.8122 - val_mape: 8.5569 - val_mae: 20.5916 - val_mse: 443.8122\n",
      "Epoch 429/500\n",
      "1/1 [==============================] - 0s 115ms/step - loss: 187.3195 - mape: 3.7228 - mae: 8.8678 - mse: 187.3195 - val_loss: 439.0330 - val_mape: 8.5083 - val_mae: 20.4752 - val_mse: 439.0330\n",
      "Epoch 430/500\n",
      "1/1 [==============================] - 0s 128ms/step - loss: 190.8806 - mape: 3.5608 - mae: 8.5229 - mse: 190.8806 - val_loss: 434.4484 - val_mape: 8.4614 - val_mae: 20.3629 - val_mse: 434.4484\n",
      "Epoch 431/500\n",
      "1/1 [==============================] - 0s 191ms/step - loss: 162.7948 - mape: 3.8460 - mae: 9.0963 - mse: 162.7948 - val_loss: 430.0612 - val_mape: 8.4164 - val_mae: 20.2548 - val_mse: 430.0612\n",
      "Epoch 432/500\n",
      "1/1 [==============================] - 0s 121ms/step - loss: 150.0818 - mape: 3.2821 - mae: 7.8195 - mse: 150.0818 - val_loss: 425.7602 - val_mape: 8.3719 - val_mae: 20.1484 - val_mse: 425.7602\n",
      "Epoch 433/500\n",
      "1/1 [==============================] - 0s 125ms/step - loss: 194.4143 - mape: 3.6309 - mae: 8.6874 - mse: 194.4143 - val_loss: 421.5254 - val_mape: 8.3280 - val_mae: 20.0430 - val_mse: 421.5254\n",
      "Epoch 434/500\n",
      "1/1 [==============================] - 0s 133ms/step - loss: 185.8043 - mape: 3.7842 - mae: 9.0060 - mse: 185.8043 - val_loss: 417.3408 - val_mape: 8.2843 - val_mae: 19.9384 - val_mse: 417.3408\n",
      "Epoch 435/500\n",
      "1/1 [==============================] - 0s 127ms/step - loss: 197.1155 - mape: 4.3740 - mae: 10.3114 - mse: 197.1155 - val_loss: 413.1662 - val_mape: 8.2405 - val_mae: 19.8334 - val_mse: 413.1662\n",
      "Epoch 436/500\n",
      "1/1 [==============================] - 0s 133ms/step - loss: 196.8138 - mape: 3.9760 - mae: 9.4411 - mse: 196.8138 - val_loss: 409.0277 - val_mape: 8.1969 - val_mae: 19.7288 - val_mse: 409.0277\n",
      "Epoch 437/500\n",
      "1/1 [==============================] - 0s 141ms/step - loss: 189.0876 - mape: 4.0539 - mae: 9.6057 - mse: 189.0876 - val_loss: 404.8838 - val_mape: 8.1529 - val_mae: 19.6235 - val_mse: 404.8838\n",
      "Epoch 438/500\n",
      "1/1 [==============================] - 0s 146ms/step - loss: 192.5447 - mape: 3.9876 - mae: 9.4538 - mse: 192.5447 - val_loss: 400.7531 - val_mape: 8.1089 - val_mae: 19.5180 - val_mse: 400.7531\n",
      "Epoch 439/500\n",
      "1/1 [==============================] - 0s 119ms/step - loss: 159.1410 - mape: 3.8203 - mae: 9.0050 - mse: 159.1410 - val_loss: 396.7498 - val_mape: 8.0660 - val_mae: 19.4151 - val_mse: 396.7498\n",
      "Epoch 440/500\n",
      "1/1 [==============================] - 0s 119ms/step - loss: 77.1529 - mape: 2.4078 - mae: 5.7290 - mse: 77.1529 - val_loss: 392.8846 - val_mape: 8.0244 - val_mae: 19.3153 - val_mse: 392.8846\n",
      "Epoch 441/500\n",
      "1/1 [==============================] - 0s 123ms/step - loss: 189.1308 - mape: 3.7163 - mae: 8.8578 - mse: 189.1308 - val_loss: 389.0357 - val_mape: 7.9827 - val_mae: 19.2155 - val_mse: 389.0357\n",
      "Epoch 442/500\n",
      "1/1 [==============================] - 0s 119ms/step - loss: 179.3251 - mape: 3.3506 - mae: 8.0174 - mse: 179.3251 - val_loss: 385.2048 - val_mape: 7.9410 - val_mae: 19.1156 - val_mse: 385.2048\n",
      "Epoch 443/500\n",
      "1/1 [==============================] - 0s 126ms/step - loss: 193.5828 - mape: 3.4582 - mae: 8.2770 - mse: 193.5828 - val_loss: 381.2423 - val_mape: 7.8976 - val_mae: 19.0116 - val_mse: 381.2423\n",
      "Epoch 444/500\n",
      "1/1 [==============================] - 0s 117ms/step - loss: 199.8578 - mape: 3.9472 - mae: 9.3852 - mse: 199.8578 - val_loss: 377.4105 - val_mape: 7.8555 - val_mae: 18.9105 - val_mse: 377.4105\n",
      "Epoch 445/500\n",
      "1/1 [==============================] - 0s 121ms/step - loss: 143.6561 - mape: 3.3741 - mae: 8.0001 - mse: 143.6561 - val_loss: 373.8032 - val_mape: 7.8156 - val_mae: 18.8149 - val_mse: 373.8032\n",
      "Epoch 446/500\n",
      "1/1 [==============================] - 0s 121ms/step - loss: 170.9012 - mape: 3.6240 - mae: 8.6251 - mse: 170.9012 - val_loss: 370.2637 - val_mape: 7.7762 - val_mae: 18.7206 - val_mse: 370.2637\n",
      "Epoch 447/500\n",
      "1/1 [==============================] - 0s 139ms/step - loss: 138.8534 - mape: 3.4818 - mae: 8.2278 - mse: 138.8534 - val_loss: 366.7968 - val_mape: 7.7375 - val_mae: 18.6278 - val_mse: 366.7968\n",
      "Epoch 448/500\n",
      "1/1 [==============================] - 0s 120ms/step - loss: 144.4002 - mape: 3.2809 - mae: 7.8018 - mse: 144.4002 - val_loss: 363.4169 - val_mape: 7.6995 - val_mae: 18.5368 - val_mse: 363.4169\n",
      "Epoch 449/500\n",
      "1/1 [==============================] - 0s 117ms/step - loss: 172.3000 - mape: 3.5861 - mae: 8.5311 - mse: 172.3000 - val_loss: 360.1021 - val_mape: 7.6621 - val_mae: 18.4472 - val_mse: 360.1021\n",
      "Epoch 450/500\n",
      "1/1 [==============================] - 0s 117ms/step - loss: 162.8617 - mape: 3.7991 - mae: 8.9815 - mse: 162.8617 - val_loss: 356.7945 - val_mape: 7.6247 - val_mae: 18.3573 - val_mse: 356.7945\n",
      "Epoch 451/500\n",
      "1/1 [==============================] - 0s 158ms/step - loss: 170.1607 - mape: 3.3490 - mae: 7.9916 - mse: 170.1607 - val_loss: 353.5930 - val_mape: 7.5882 - val_mae: 18.2699 - val_mse: 353.5930\n",
      "Epoch 452/500\n",
      "1/1 [==============================] - 0s 128ms/step - loss: 168.1794 - mape: 3.3174 - mae: 7.9423 - mse: 168.1794 - val_loss: 350.3945 - val_mape: 7.5516 - val_mae: 18.1822 - val_mse: 350.3945\n",
      "Epoch 453/500\n",
      "1/1 [==============================] - 0s 117ms/step - loss: 169.5843 - mape: 3.7585 - mae: 8.8987 - mse: 169.5843 - val_loss: 347.1973 - val_mape: 7.5148 - val_mae: 18.0941 - val_mse: 347.1973\n",
      "Epoch 454/500\n",
      "1/1 [==============================] - 0s 202ms/step - loss: 123.1225 - mape: 2.9181 - mae: 6.9606 - mse: 123.1225 - val_loss: 344.1037 - val_mape: 7.4791 - val_mae: 18.0084 - val_mse: 344.1037\n",
      "Epoch 455/500\n",
      "1/1 [==============================] - 0s 134ms/step - loss: 180.3032 - mape: 3.5469 - mae: 8.4511 - mse: 180.3032 - val_loss: 341.0018 - val_mape: 7.4431 - val_mae: 17.9221 - val_mse: 341.0018\n",
      "Epoch 456/500\n",
      "1/1 [==============================] - 0s 130ms/step - loss: 187.0991 - mape: 4.4475 - mae: 10.3975 - mse: 187.0991 - val_loss: 337.8575 - val_mape: 7.4064 - val_mae: 17.8342 - val_mse: 337.8575\n",
      "Epoch 457/500\n",
      "1/1 [==============================] - 0s 136ms/step - loss: 132.8251 - mape: 3.1961 - mae: 7.5811 - mse: 132.8251 - val_loss: 334.7322 - val_mape: 7.3697 - val_mae: 17.7464 - val_mse: 334.7322\n",
      "Epoch 458/500\n",
      "1/1 [==============================] - 0s 144ms/step - loss: 175.2375 - mape: 3.9060 - mae: 9.2533 - mse: 175.2375 - val_loss: 331.7310 - val_mape: 7.3343 - val_mae: 17.6615 - val_mse: 331.7310\n",
      "Epoch 459/500\n",
      "1/1 [==============================] - 0s 146ms/step - loss: 191.8248 - mape: 3.3163 - mae: 7.9603 - mse: 191.8248 - val_loss: 328.9638 - val_mape: 7.3016 - val_mae: 17.5830 - val_mse: 328.9638\n",
      "Epoch 460/500\n",
      "1/1 [==============================] - 0s 338ms/step - loss: 160.2866 - mape: 3.3258 - mae: 7.9045 - mse: 160.2866 - val_loss: 326.2992 - val_mape: 7.2699 - val_mae: 17.5070 - val_mse: 326.2992\n",
      "Epoch 461/500\n",
      "1/1 [==============================] - 0s 137ms/step - loss: 152.1550 - mape: 3.3288 - mae: 7.9276 - mse: 152.1550 - val_loss: 323.6751 - val_mape: 7.2385 - val_mae: 17.4319 - val_mse: 323.6751\n",
      "Epoch 462/500\n",
      "1/1 [==============================] - 0s 133ms/step - loss: 161.6063 - mape: 3.3723 - mae: 8.0399 - mse: 161.6063 - val_loss: 321.0910 - val_mape: 7.2076 - val_mae: 17.3577 - val_mse: 321.0910\n",
      "Epoch 463/500\n",
      "1/1 [==============================] - 0s 187ms/step - loss: 121.7713 - mape: 2.7175 - mae: 6.5283 - mse: 121.7713 - val_loss: 318.6017 - val_mape: 7.1776 - val_mae: 17.2858 - val_mse: 318.6017\n",
      "Epoch 464/500\n",
      "1/1 [==============================] - 0s 159ms/step - loss: 135.4470 - mape: 3.3269 - mae: 7.8521 - mse: 135.4470 - val_loss: 316.2024 - val_mape: 7.1486 - val_mae: 17.2163 - val_mse: 316.2024\n",
      "Epoch 465/500\n",
      "1/1 [==============================] - 0s 150ms/step - loss: 148.4248 - mape: 3.4735 - mae: 8.2092 - mse: 148.4248 - val_loss: 313.8145 - val_mape: 7.1196 - val_mae: 17.1468 - val_mse: 313.8145\n",
      "Epoch 466/500\n",
      "1/1 [==============================] - 0s 138ms/step - loss: 160.0898 - mape: 3.6146 - mae: 8.5688 - mse: 160.0898 - val_loss: 311.3655 - val_mape: 7.0897 - val_mae: 17.0752 - val_mse: 311.3655\n",
      "Epoch 467/500\n",
      "1/1 [==============================] - 0s 156ms/step - loss: 190.5672 - mape: 3.6610 - mae: 8.6747 - mse: 190.5672 - val_loss: 309.0404 - val_mape: 7.0612 - val_mae: 17.0070 - val_mse: 309.0404\n",
      "Epoch 468/500\n",
      "1/1 [==============================] - 0s 189ms/step - loss: 127.2883 - mape: 2.9361 - mae: 7.0135 - mse: 127.2883 - val_loss: 306.7607 - val_mape: 7.0332 - val_mae: 16.9398 - val_mse: 306.7607\n",
      "Epoch 469/500\n",
      "1/1 [==============================] - 0s 150ms/step - loss: 105.7281 - mape: 3.0142 - mae: 7.1261 - mse: 105.7281 - val_loss: 304.5934 - val_mape: 7.0065 - val_mae: 16.8758 - val_mse: 304.5934\n",
      "Epoch 470/500\n",
      "1/1 [==============================] - 0s 146ms/step - loss: 132.2237 - mape: 3.2360 - mae: 7.6560 - mse: 132.2237 - val_loss: 302.3873 - val_mape: 6.9792 - val_mae: 16.8103 - val_mse: 302.3873\n",
      "Epoch 471/500\n",
      "1/1 [==============================] - 0s 138ms/step - loss: 133.3155 - mape: 3.0840 - mae: 7.3498 - mse: 133.3155 - val_loss: 300.1029 - val_mape: 6.9508 - val_mae: 16.7422 - val_mse: 300.1029\n",
      "Epoch 472/500\n",
      "1/1 [==============================] - 0s 158ms/step - loss: 144.4272 - mape: 3.7662 - mae: 8.8682 - mse: 144.4272 - val_loss: 297.8758 - val_mape: 6.9229 - val_mae: 16.6755 - val_mse: 297.8758\n",
      "Epoch 473/500\n",
      "1/1 [==============================] - 0s 161ms/step - loss: 110.1741 - mape: 2.8797 - mae: 6.8392 - mse: 110.1741 - val_loss: 295.7592 - val_mape: 6.8964 - val_mae: 16.6119 - val_mse: 295.7592\n",
      "Epoch 474/500\n",
      "1/1 [==============================] - 0s 185ms/step - loss: 147.0538 - mape: 3.4017 - mae: 8.0302 - mse: 147.0538 - val_loss: 293.7343 - val_mape: 6.8709 - val_mae: 16.5509 - val_mse: 293.7343\n",
      "Epoch 475/500\n",
      "1/1 [==============================] - 0s 211ms/step - loss: 168.7700 - mape: 4.2198 - mae: 9.8839 - mse: 168.7700 - val_loss: 291.7172 - val_mape: 6.8455 - val_mae: 16.4898 - val_mse: 291.7172\n",
      "Epoch 476/500\n",
      "1/1 [==============================] - 0s 164ms/step - loss: 116.3751 - mape: 3.1303 - mae: 7.4066 - mse: 116.3751 - val_loss: 289.6855 - val_mape: 6.8197 - val_mae: 16.4281 - val_mse: 289.6855\n",
      "Epoch 477/500\n",
      "1/1 [==============================] - 0s 133ms/step - loss: 137.0668 - mape: 3.8182 - mae: 8.9090 - mse: 137.0668 - val_loss: 287.7636 - val_mape: 6.7953 - val_mae: 16.3695 - val_mse: 287.7636\n",
      "Epoch 478/500\n",
      "1/1 [==============================] - 0s 138ms/step - loss: 113.5062 - mape: 3.2023 - mae: 7.5304 - mse: 113.5062 - val_loss: 285.8846 - val_mape: 6.7713 - val_mae: 16.3120 - val_mse: 285.8846\n",
      "Epoch 479/500\n",
      "1/1 [==============================] - 0s 132ms/step - loss: 182.2854 - mape: 4.1184 - mae: 9.6952 - mse: 182.2854 - val_loss: 284.0388 - val_mape: 6.7476 - val_mae: 16.2553 - val_mse: 284.0388\n",
      "Epoch 480/500\n",
      "1/1 [==============================] - 0s 131ms/step - loss: 101.9891 - mape: 2.3985 - mae: 5.7382 - mse: 101.9891 - val_loss: 282.2684 - val_mape: 6.7249 - val_mae: 16.2008 - val_mse: 282.2684\n",
      "Epoch 481/500\n",
      "1/1 [==============================] - 0s 120ms/step - loss: 124.0856 - mape: 3.4806 - mae: 8.1537 - mse: 124.0856 - val_loss: 280.5826 - val_mape: 6.7031 - val_mae: 16.1487 - val_mse: 280.5826\n",
      "Epoch 482/500\n",
      "1/1 [==============================] - 0s 121ms/step - loss: 105.1625 - mape: 2.5982 - mae: 6.2107 - mse: 105.1625 - val_loss: 278.8871 - val_mape: 6.6812 - val_mae: 16.0961 - val_mse: 278.8871\n",
      "Epoch 483/500\n",
      "1/1 [==============================] - 1s 1s/step - loss: 119.3042 - mape: 3.6015 - mae: 8.4016 - mse: 119.3042 - val_loss: 277.2567 - val_mape: 6.6600 - val_mae: 16.0454 - val_mse: 277.2567\n",
      "Epoch 484/500\n",
      "1/1 [==============================] - 0s 117ms/step - loss: 150.5912 - mape: 3.6184 - mae: 8.5326 - mse: 150.5912 - val_loss: 275.5928 - val_mape: 6.6384 - val_mae: 15.9934 - val_mse: 275.5928\n",
      "Epoch 485/500\n",
      "1/1 [==============================] - 0s 122ms/step - loss: 81.7348 - mape: 2.7237 - mae: 6.4073 - mse: 81.7348 - val_loss: 274.0078 - val_mape: 6.6177 - val_mae: 15.9438 - val_mse: 274.0078\n",
      "Epoch 486/500\n",
      "1/1 [==============================] - 0s 120ms/step - loss: 163.0148 - mape: 3.6418 - mae: 8.5970 - mse: 163.0148 - val_loss: 272.4707 - val_mape: 6.5975 - val_mae: 15.8956 - val_mse: 272.4707\n",
      "Epoch 487/500\n",
      "1/1 [==============================] - 0s 367ms/step - loss: 147.0837 - mape: 3.3248 - mae: 7.9020 - mse: 147.0837 - val_loss: 270.8546 - val_mape: 6.5763 - val_mae: 15.8446 - val_mse: 270.8546\n",
      "Epoch 488/500\n",
      "1/1 [==============================] - 0s 125ms/step - loss: 142.0300 - mape: 3.4795 - mae: 8.2142 - mse: 142.0300 - val_loss: 269.1957 - val_mape: 6.5544 - val_mae: 15.7922 - val_mse: 269.1957\n",
      "Epoch 489/500\n",
      "1/1 [==============================] - 0s 135ms/step - loss: 109.3522 - mape: 2.9119 - mae: 6.8854 - mse: 109.3522 - val_loss: 267.5141 - val_mape: 6.5321 - val_mae: 15.7389 - val_mse: 267.5141\n",
      "Epoch 490/500\n",
      "1/1 [==============================] - 0s 133ms/step - loss: 139.8612 - mape: 3.7309 - mae: 8.7272 - mse: 139.8612 - val_loss: 265.8879 - val_mape: 6.5105 - val_mae: 15.6871 - val_mse: 265.8879\n",
      "Epoch 491/500\n",
      "1/1 [==============================] - 0s 126ms/step - loss: 230.3432 - mape: 3.7539 - mae: 8.9620 - mse: 230.3432 - val_loss: 264.3840 - val_mape: 6.4905 - val_mae: 15.6391 - val_mse: 264.3840\n",
      "Epoch 492/500\n",
      "1/1 [==============================] - 0s 122ms/step - loss: 128.7255 - mape: 3.4094 - mae: 8.0289 - mse: 128.7255 - val_loss: 262.9611 - val_mape: 6.4715 - val_mae: 15.5935 - val_mse: 262.9611\n",
      "Epoch 493/500\n",
      "1/1 [==============================] - 0s 142ms/step - loss: 129.4567 - mape: 3.6027 - mae: 8.4197 - mse: 129.4567 - val_loss: 261.5534 - val_mape: 6.4526 - val_mae: 15.5483 - val_mse: 261.5534\n",
      "Epoch 494/500\n",
      "1/1 [==============================] - 0s 149ms/step - loss: 186.1883 - mape: 3.6994 - mae: 8.7420 - mse: 186.1883 - val_loss: 260.1748 - val_mape: 6.4341 - val_mae: 15.5039 - val_mse: 260.1748\n",
      "Epoch 495/500\n",
      "1/1 [==============================] - 0s 118ms/step - loss: 102.5524 - mape: 2.6303 - mae: 6.2670 - mse: 102.5524 - val_loss: 258.7821 - val_mape: 6.4154 - val_mae: 15.4590 - val_mse: 258.7821\n",
      "Epoch 496/500\n",
      "1/1 [==============================] - 0s 164ms/step - loss: 118.5093 - mape: 3.0300 - mae: 7.1683 - mse: 118.5093 - val_loss: 257.3927 - val_mape: 6.3966 - val_mae: 15.4140 - val_mse: 257.3927\n",
      "Epoch 497/500\n",
      "1/1 [==============================] - 0s 114ms/step - loss: 115.8606 - mape: 2.9604 - mae: 6.9694 - mse: 115.8606 - val_loss: 256.0918 - val_mape: 6.3789 - val_mae: 15.3717 - val_mse: 256.0918\n",
      "Epoch 498/500\n",
      "1/1 [==============================] - 0s 124ms/step - loss: 141.6544 - mape: 3.4855 - mae: 8.2502 - mse: 141.6544 - val_loss: 254.7526 - val_mape: 6.3607 - val_mae: 15.3281 - val_mse: 254.7526\n",
      "Epoch 499/500\n",
      "1/1 [==============================] - 0s 117ms/step - loss: 188.6387 - mape: 3.0345 - mae: 7.3463 - mse: 188.6387 - val_loss: 253.3929 - val_mape: 6.3422 - val_mae: 15.2837 - val_mse: 253.3929\n",
      "Epoch 500/500\n",
      "1/1 [==============================] - 0s 117ms/step - loss: 121.1271 - mape: 3.1887 - mae: 7.5400 - mse: 121.1271 - val_loss: 252.0361 - val_mape: 6.3237 - val_mae: 15.2392 - val_mse: 252.0361\n"
     ]
    }
   ],
   "source": [
    "model_type = 'LSTM'\n",
    "model_lstm, history_lstm = create_and_train_model(model_type, neurons, dropout_rate, batch_size,\n",
    "                                                  X_train_rnn, y_train, X_val_rnn, y_val)"
   ]
  },
  {
   "cell_type": "code",
   "execution_count": 132,
   "metadata": {},
   "outputs": [
    {
     "data": {
      "image/png": "[encoded data removed]",
      "text/plain": [
       "<Figure size 800x400 with 1 Axes>"
      ]
     },
     "metadata": {},
     "output_type": "display_data"
    },
    {
     "data": {
      "image/png": "[encoded data removed]",
      "text/plain": [
       "<Figure size 800x400 with 1 Axes>"
      ]
     },
     "metadata": {},
     "output_type": "display_data"
    }
   ],
   "source": [
    "import matplotlib.pyplot as plt\n",
    "\n",
    "def plot_training_history(history):\n",
    "    # Métricas disponibles en history.history\n",
    "    metrics = ['loss', 'mae']\n",
    "    for metric in metrics:\n",
    "        plt.figure(figsize=(8, 4))\n",
    "        plt.plot(history.history[metric], label=f'Train {metric}')\n",
    "        plt.plot(history.history[f'val_{metric}'], label=f'Val {metric}')\n",
    "        plt.title(f'Model {metric}')\n",
    "        plt.ylabel(metric)\n",
    "        plt.xlabel('Epoch')\n",
    "        plt.legend()\n",
    "        plt.show()\n",
    "\n",
    "# Ejemplo para el modelo LSTM\n",
    "plot_training_history(history_lstm)\n"
   ]
  },
  {
   "cell_type": "code",
   "execution_count": 133,
   "metadata": {},
   "outputs": [
    {
     "name": "stdout",
     "output_type": "stream",
     "text": [
      "1/1 [==============================] - 0s 298ms/step\n",
      "Resultados de las métricas:\n",
      "MAPE: 0.07181816978864013\n",
      "MAE: 17.596387154715405\n",
      "RMSE: 19.115734077856814\n",
      "MSE: 365.4112893353363\n",
      "R2: -5.551129169172268\n"
     ]
    }
   ],
   "source": [
    "# Seleccionar el modelo y los datos correspondientes\n",
    "model = model_lstm  # o model_mlp, model_rnn\n",
    "X_test_model = X_test if model_type == 'MLP' else X_test_rnn\n",
    "\n",
    "# Realizar predicciones\n",
    "y_pred = model.predict(X_test_model)\n",
    "y_true = y_test\n",
    "\n",
    "# Calcular métricas\n",
    "metrics = calculate_metrics(y_true, y_pred)\n",
    "print(\"Resultados de las métricas:\")\n",
    "for metric_name, metric_value in metrics.items():\n",
    "    print(f\"{metric_name}: {metric_value}\")\n"
   ]
  },
  {
   "cell_type": "code",
   "execution_count": 134,
   "metadata": {},
   "outputs": [],
   "source": [
    "\n",
    "# Hiperparámetros a explorar\n",
    "dropout_rates = [0.2, 0.4, 0.6, 0.8]\n",
    "neurons_list = [10, 100, 1000, 10000]\n",
    "batch_sizes = [16, 32, 64, 128]\n",
    "\n",
    "results = []\n",
    "\n"
   ]
  }
 ],
 "metadata": {
  "kernelspec": {
   "display_name": "tf-ml",
   "language": "python",
   "name": "python3"
  },
  "language_info": {
   "codemirror_mode": {
    "name": "ipython",
    "version": 3
   },
   "file_extension": ".py",
   "mimetype": "text/x-python",
   "name": "python",
   "nbconvert_exporter": "python",
   "pygments_lexer": "ipython3",
   "version": "3.10.15"
  }
 },
 "nbformat": 4,
 "nbformat_minor": 2
}